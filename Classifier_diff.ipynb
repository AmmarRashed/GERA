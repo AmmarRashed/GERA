{
 "cells": [
  {
   "cell_type": "code",
   "execution_count": 1,
   "metadata": {},
   "outputs": [],
   "source": [
    "import pickle\n",
    "\n",
    "from metabolitics.preprocessing import MetaboliticsPipeline\n",
    "\n",
    "from sklearn.pipeline import Pipeline\n",
    "from sklearn.model_selection import train_test_split\n",
    "from sklearn.model_selection import GridSearchCV\n",
    "\n",
    "from sklearn.svm import SVC\n",
    "from sklearn.linear_model import LogisticRegression, SGDClassifier\n",
    "from sklearn.ensemble import RandomForestClassifier\n",
    "from sklearn.neural_network import MLPClassifier\n",
    "from sklearn.preprocessing import StandardScaler\n",
    "from sklearn.feature_selection import VarianceThreshold, SelectKBest\n",
    "\n",
    "from sklearn.metrics import precision_score, recall_score, accuracy_score, f1_score, confusion_matrix\n",
    "from imblearn.over_sampling import RandomOverSampler\n",
    "\n",
    "import numpy as np, pandas as pd\n",
    "from collections import defaultdict\n",
    "from itertools import chain, starmap"
   ]
  },
  {
   "cell_type": "code",
   "execution_count": 2,
   "metadata": {},
   "outputs": [],
   "source": [
    "results = pickle.load(open('results/breast_cancer2.results','rb'))\n",
    "labels = pickle.load(open('datasets/breast_cancer2_y','rb'))"
   ]
  },
  {
   "cell_type": "code",
   "execution_count": 3,
   "metadata": {},
   "outputs": [],
   "source": [
    "pipe = MetaboliticsPipeline(['reaction-diff',\n",
    "                             'pathway_transformer'])\n",
    "\n",
    "pre_processed_results = pipe.fit_transform(results, labels)"
   ]
  },
  {
   "cell_type": "code",
   "execution_count": 4,
   "metadata": {},
   "outputs": [],
   "source": [
    "samples = defaultdict(lambda : [])\n",
    "[\n",
    " samples[key].append(value) for key, value in \n",
    " chain(*map(lambda sample: sample.items(), pre_processed_results))\n",
    "]\n",
    "\n",
    "dataset = pd.DataFrame(samples, index=labels)"
   ]
  },
  {
   "cell_type": "code",
   "execution_count": 5,
   "metadata": {
    "scrolled": true
   },
   "outputs": [
    {
     "data": {
      "text/html": [
       "<div>\n",
       "<style scoped>\n",
       "    .dataframe tbody tr th:only-of-type {\n",
       "        vertical-align: middle;\n",
       "    }\n",
       "\n",
       "    .dataframe tbody tr th {\n",
       "        vertical-align: top;\n",
       "    }\n",
       "\n",
       "    .dataframe thead th {\n",
       "        text-align: right;\n",
       "    }\n",
       "</style>\n",
       "<table border=\"1\" class=\"dataframe\">\n",
       "  <thead>\n",
       "    <tr style=\"text-align: right;\">\n",
       "      <th></th>\n",
       "      <th>unhealthy</th>\n",
       "      <th>unhealthy</th>\n",
       "      <th>unhealthy</th>\n",
       "      <th>healthy</th>\n",
       "      <th>unhealthy</th>\n",
       "      <th>unhealthy</th>\n",
       "      <th>unhealthy</th>\n",
       "      <th>unhealthy</th>\n",
       "      <th>healthy</th>\n",
       "      <th>healthy</th>\n",
       "      <th>...</th>\n",
       "      <th>unhealthy</th>\n",
       "      <th>healthy</th>\n",
       "      <th>healthy</th>\n",
       "      <th>unhealthy</th>\n",
       "      <th>unhealthy</th>\n",
       "      <th>unhealthy</th>\n",
       "      <th>unhealthy</th>\n",
       "      <th>unhealthy</th>\n",
       "      <th>healthy</th>\n",
       "      <th>unhealthy</th>\n",
       "    </tr>\n",
       "  </thead>\n",
       "  <tbody>\n",
       "    <tr>\n",
       "      <th></th>\n",
       "      <td>-25.490606</td>\n",
       "      <td>-21.389085</td>\n",
       "      <td>-29.843938</td>\n",
       "      <td>-1.452688e+01</td>\n",
       "      <td>-12.184960</td>\n",
       "      <td>4.338045</td>\n",
       "      <td>-7.707883</td>\n",
       "      <td>7.645137</td>\n",
       "      <td>99.308536</td>\n",
       "      <td>31.907804</td>\n",
       "      <td>...</td>\n",
       "      <td>-13.039948</td>\n",
       "      <td>-90.031445</td>\n",
       "      <td>-32.690873</td>\n",
       "      <td>-26.580457</td>\n",
       "      <td>-62.169126</td>\n",
       "      <td>-2.229793</td>\n",
       "      <td>-12.184928</td>\n",
       "      <td>-36.717150</td>\n",
       "      <td>-42.234431</td>\n",
       "      <td>42.581163</td>\n",
       "    </tr>\n",
       "    <tr>\n",
       "      <th>Alanine and aspartate metabolism</th>\n",
       "      <td>-100.777030</td>\n",
       "      <td>96.445184</td>\n",
       "      <td>38.294390</td>\n",
       "      <td>-1.007770e+02</td>\n",
       "      <td>6.018669</td>\n",
       "      <td>62.624693</td>\n",
       "      <td>24.222962</td>\n",
       "      <td>-100.777038</td>\n",
       "      <td>147.239393</td>\n",
       "      <td>-100.777038</td>\n",
       "      <td>...</td>\n",
       "      <td>-58.700946</td>\n",
       "      <td>24.222962</td>\n",
       "      <td>35.878663</td>\n",
       "      <td>24.222962</td>\n",
       "      <td>24.222962</td>\n",
       "      <td>24.222962</td>\n",
       "      <td>-100.777000</td>\n",
       "      <td>274.222962</td>\n",
       "      <td>-205.961401</td>\n",
       "      <td>15.846673</td>\n",
       "    </tr>\n",
       "    <tr>\n",
       "      <th>Alkaloid synthesis</th>\n",
       "      <td>0.000007</td>\n",
       "      <td>-0.000001</td>\n",
       "      <td>-0.000001</td>\n",
       "      <td>5.131799e-07</td>\n",
       "      <td>0.000006</td>\n",
       "      <td>-0.000001</td>\n",
       "      <td>-0.000001</td>\n",
       "      <td>-0.000001</td>\n",
       "      <td>-0.000001</td>\n",
       "      <td>-0.000001</td>\n",
       "      <td>...</td>\n",
       "      <td>0.000002</td>\n",
       "      <td>-0.000001</td>\n",
       "      <td>-0.000001</td>\n",
       "      <td>-0.000001</td>\n",
       "      <td>-0.000001</td>\n",
       "      <td>-0.000001</td>\n",
       "      <td>0.000038</td>\n",
       "      <td>-0.000001</td>\n",
       "      <td>-0.000001</td>\n",
       "      <td>-0.000001</td>\n",
       "    </tr>\n",
       "    <tr>\n",
       "      <th>Aminosugar metabolism</th>\n",
       "      <td>-55.414072</td>\n",
       "      <td>73.618178</td>\n",
       "      <td>256.413877</td>\n",
       "      <td>-4.466139e+01</td>\n",
       "      <td>-55.414075</td>\n",
       "      <td>-12.403328</td>\n",
       "      <td>-12.403328</td>\n",
       "      <td>-12.403328</td>\n",
       "      <td>-33.908704</td>\n",
       "      <td>116.628930</td>\n",
       "      <td>...</td>\n",
       "      <td>-55.414077</td>\n",
       "      <td>-55.414080</td>\n",
       "      <td>-12.403328</td>\n",
       "      <td>-55.414080</td>\n",
       "      <td>154.263339</td>\n",
       "      <td>84.370866</td>\n",
       "      <td>-55.414042</td>\n",
       "      <td>-55.414080</td>\n",
       "      <td>-33.908704</td>\n",
       "      <td>-33.908704</td>\n",
       "    </tr>\n",
       "    <tr>\n",
       "      <th>Androgen and estrogen synthesis and metabolism</th>\n",
       "      <td>0.000007</td>\n",
       "      <td>-0.000001</td>\n",
       "      <td>-0.000001</td>\n",
       "      <td>1.983698e-06</td>\n",
       "      <td>0.000006</td>\n",
       "      <td>-0.000001</td>\n",
       "      <td>-0.000001</td>\n",
       "      <td>-0.000001</td>\n",
       "      <td>-0.000001</td>\n",
       "      <td>-0.000001</td>\n",
       "      <td>...</td>\n",
       "      <td>0.000004</td>\n",
       "      <td>-0.000001</td>\n",
       "      <td>-0.000001</td>\n",
       "      <td>-0.000001</td>\n",
       "      <td>-0.000001</td>\n",
       "      <td>-0.000001</td>\n",
       "      <td>0.000038</td>\n",
       "      <td>-0.000001</td>\n",
       "      <td>-0.000001</td>\n",
       "      <td>-0.000001</td>\n",
       "    </tr>\n",
       "  </tbody>\n",
       "</table>\n",
       "<p>5 rows × 88 columns</p>\n",
       "</div>"
      ],
      "text/plain": [
       "                                                 unhealthy  unhealthy  \\\n",
       "                                                -25.490606 -21.389085   \n",
       "Alanine and aspartate metabolism               -100.777030  96.445184   \n",
       "Alkaloid synthesis                                0.000007  -0.000001   \n",
       "Aminosugar metabolism                           -55.414072  73.618178   \n",
       "Androgen and estrogen synthesis and metabolism    0.000007  -0.000001   \n",
       "\n",
       "                                                 unhealthy       healthy  \\\n",
       "                                                -29.843938 -1.452688e+01   \n",
       "Alanine and aspartate metabolism                 38.294390 -1.007770e+02   \n",
       "Alkaloid synthesis                               -0.000001  5.131799e-07   \n",
       "Aminosugar metabolism                           256.413877 -4.466139e+01   \n",
       "Androgen and estrogen synthesis and metabolism   -0.000001  1.983698e-06   \n",
       "\n",
       "                                                unhealthy  unhealthy  \\\n",
       "                                               -12.184960   4.338045   \n",
       "Alanine and aspartate metabolism                 6.018669  62.624693   \n",
       "Alkaloid synthesis                               0.000006  -0.000001   \n",
       "Aminosugar metabolism                          -55.414075 -12.403328   \n",
       "Androgen and estrogen synthesis and metabolism   0.000006  -0.000001   \n",
       "\n",
       "                                                unhealthy   unhealthy  \\\n",
       "                                                -7.707883    7.645137   \n",
       "Alanine and aspartate metabolism                24.222962 -100.777038   \n",
       "Alkaloid synthesis                              -0.000001   -0.000001   \n",
       "Aminosugar metabolism                          -12.403328  -12.403328   \n",
       "Androgen and estrogen synthesis and metabolism  -0.000001   -0.000001   \n",
       "\n",
       "                                                   healthy     healthy  \\\n",
       "                                                 99.308536   31.907804   \n",
       "Alanine and aspartate metabolism                147.239393 -100.777038   \n",
       "Alkaloid synthesis                               -0.000001   -0.000001   \n",
       "Aminosugar metabolism                           -33.908704  116.628930   \n",
       "Androgen and estrogen synthesis and metabolism   -0.000001   -0.000001   \n",
       "\n",
       "                                                  ...      unhealthy  \\\n",
       "                                                  ...     -13.039948   \n",
       "Alanine and aspartate metabolism                  ...     -58.700946   \n",
       "Alkaloid synthesis                                ...       0.000002   \n",
       "Aminosugar metabolism                             ...     -55.414077   \n",
       "Androgen and estrogen synthesis and metabolism    ...       0.000004   \n",
       "\n",
       "                                                  healthy    healthy  \\\n",
       "                                               -90.031445 -32.690873   \n",
       "Alanine and aspartate metabolism                24.222962  35.878663   \n",
       "Alkaloid synthesis                              -0.000001  -0.000001   \n",
       "Aminosugar metabolism                          -55.414080 -12.403328   \n",
       "Androgen and estrogen synthesis and metabolism  -0.000001  -0.000001   \n",
       "\n",
       "                                                unhealthy   unhealthy  \\\n",
       "                                               -26.580457  -62.169126   \n",
       "Alanine and aspartate metabolism                24.222962   24.222962   \n",
       "Alkaloid synthesis                              -0.000001   -0.000001   \n",
       "Aminosugar metabolism                          -55.414080  154.263339   \n",
       "Androgen and estrogen synthesis and metabolism  -0.000001   -0.000001   \n",
       "\n",
       "                                                unhealthy   unhealthy  \\\n",
       "                                                -2.229793  -12.184928   \n",
       "Alanine and aspartate metabolism                24.222962 -100.777000   \n",
       "Alkaloid synthesis                              -0.000001    0.000038   \n",
       "Aminosugar metabolism                           84.370866  -55.414042   \n",
       "Androgen and estrogen synthesis and metabolism  -0.000001    0.000038   \n",
       "\n",
       "                                                 unhealthy     healthy  \\\n",
       "                                                -36.717150  -42.234431   \n",
       "Alanine and aspartate metabolism                274.222962 -205.961401   \n",
       "Alkaloid synthesis                               -0.000001   -0.000001   \n",
       "Aminosugar metabolism                           -55.414080  -33.908704   \n",
       "Androgen and estrogen synthesis and metabolism   -0.000001   -0.000001   \n",
       "\n",
       "                                                unhealthy  \n",
       "                                                42.581163  \n",
       "Alanine and aspartate metabolism                15.846673  \n",
       "Alkaloid synthesis                              -0.000001  \n",
       "Aminosugar metabolism                          -33.908704  \n",
       "Androgen and estrogen synthesis and metabolism  -0.000001  \n",
       "\n",
       "[5 rows x 88 columns]"
      ]
     },
     "execution_count": 5,
     "metadata": {},
     "output_type": "execute_result"
    }
   ],
   "source": [
    "dataset.T.head()"
   ]
  },
  {
   "cell_type": "code",
   "execution_count": 6,
   "metadata": {},
   "outputs": [
    {
     "name": "stdout",
     "output_type": "stream",
     "text": [
      "0.6477272727272727\n"
     ]
    }
   ],
   "source": [
    "balance = labels.count('unhealthy') / len(labels)\n",
    "\n",
    "print(balance)"
   ]
  },
  {
   "cell_type": "markdown",
   "metadata": {},
   "source": [
    "### Standard scaling"
   ]
  },
  {
   "cell_type": "code",
   "execution_count": 7,
   "metadata": {},
   "outputs": [],
   "source": [
    "std_scalar = StandardScaler().fit(dataset, dataset.index)\n",
    "X, y = std_scalar.transform(dataset), dataset.index"
   ]
  },
  {
   "cell_type": "markdown",
   "metadata": {},
   "source": [
    "### Train\\Test split"
   ]
  },
  {
   "cell_type": "code",
   "execution_count": 8,
   "metadata": {},
   "outputs": [],
   "source": [
    "X_train, X_test, y_train, y_test = train_test_split(X, y, test_size=0.10, stratify=y, random_state=42)"
   ]
  },
  {
   "cell_type": "code",
   "execution_count": 9,
   "metadata": {},
   "outputs": [
    {
     "data": {
      "text/plain": [
       "(88, 100)"
      ]
     },
     "execution_count": 9,
     "metadata": {},
     "output_type": "execute_result"
    }
   ],
   "source": [
    "dataset.shape"
   ]
  },
  {
   "cell_type": "markdown",
   "metadata": {},
   "source": [
    "### <del>Feature selection </del>and random oversampling on training dataset"
   ]
  },
  {
   "cell_type": "code",
   "execution_count": 10,
   "metadata": {},
   "outputs": [],
   "source": [
    "feature_selection = Pipeline([('select_k_best', SelectKBest(k=100))]).fit(X_train, y_train)\n",
    "\n",
    "X_train_f, y_train_f = RandomOverSampler(random_state=42).\\\n",
    "                       fit_sample(feature_selection.transform(X_train), y_train)\n",
    "\n",
    "X_test_f = feature_selection.transform(X_test)"
   ]
  },
  {
   "cell_type": "code",
   "execution_count": 11,
   "metadata": {},
   "outputs": [],
   "source": [
    "models = [\n",
    "\n",
    "  (RandomForestClassifier, {\n",
    "    'max_depth': range(5, 20),\n",
    "    'n_estimators': range(1, 8)\n",
    "  }),\n",
    "\n",
    "  (LogisticRegression, {\n",
    "    'C': np.geomspace(1e-4, 1e3, num = 10),\n",
    "    'max_iter': range(100, 1000 + 1, 1000)\n",
    "  }),\n",
    "\n",
    "  (SVC, {\n",
    "    'C': np.geomspace(1e-4, 1e2, num = 10),\n",
    "    'degree': range(1, 5),\n",
    "\n",
    "    'max_iter': range(50000, 100000 + 1, 10000),\n",
    "    'kernel': ['rbf', 'linear']\n",
    "  }),\n",
    "\n",
    "  (SGDClassifier, {\n",
    "    'penalty': ['l1', 'l2', 'elasticnet'],\n",
    "    'alpha': np.geomspace(1e-4, 1.0, num = 10),\n",
    "    'max_iter': range(200, 1000 + 1, 100)\n",
    "  })\n",
    "]\n",
    "\n",
    "cv_estimators = []\n",
    "for model, params in models:\n",
    "    cv_model = GridSearchCV(model(random_state=42), params, n_jobs=-1).fit(X_train_f, y_train_f)\n",
    "    cv_estimators.append(cv_model)"
   ]
  },
  {
   "cell_type": "code",
   "execution_count": 12,
   "metadata": {},
   "outputs": [],
   "source": [
    "f1_scores = []\n",
    "binarize = lambda ls: [1 if l == 'unhealthy' else 0 for l in ls]\n",
    "\n",
    "for estimator in cv_estimators:\n",
    "    score = f1_score(binarize(estimator.predict(X_test_f)), binarize(y_test))\n",
    "    f1_scores.append(score)"
   ]
  },
  {
   "cell_type": "markdown",
   "metadata": {},
   "source": [
    "## best estimator"
   ]
  },
  {
   "cell_type": "code",
   "execution_count": 13,
   "metadata": {},
   "outputs": [
    {
     "data": {
      "text/plain": [
       "LogisticRegression(C=0.12915496650148839, class_weight=None, dual=False,\n",
       "          fit_intercept=True, intercept_scaling=1, max_iter=100,\n",
       "          multi_class='ovr', n_jobs=1, penalty='l2', random_state=42,\n",
       "          solver='liblinear', tol=0.0001, verbose=0, warm_start=False)"
      ]
     },
     "execution_count": 13,
     "metadata": {},
     "output_type": "execute_result"
    }
   ],
   "source": [
    "best_estimator = cv_estimators[np.argmax(f1_scores)].best_estimator_\n",
    "best_estimator"
   ]
  },
  {
   "cell_type": "code",
   "execution_count": 14,
   "metadata": {},
   "outputs": [
    {
     "data": {
      "text/plain": [
       "[0.61538461538461531,\n",
       " 0.83333333333333337,\n",
       " 0.61538461538461531,\n",
       " 0.7142857142857143]"
      ]
     },
     "execution_count": 14,
     "metadata": {},
     "output_type": "execute_result"
    }
   ],
   "source": [
    "f1_scores"
   ]
  },
  {
   "cell_type": "markdown",
   "metadata": {},
   "source": [
    "### Scores"
   ]
  },
  {
   "cell_type": "code",
   "execution_count": 15,
   "metadata": {},
   "outputs": [
    {
     "name": "stdout",
     "output_type": "stream",
     "text": [
      "f1 0.833333333333 \n",
      "\n",
      "accuracy 0.777777777778 \n",
      "\n",
      "recall 0.833333333333 \n",
      "\n",
      "precision 0.833333333333 \n",
      "\n"
     ]
    }
   ],
   "source": [
    "metrics = {'recall': recall_score, 'precision': precision_score, 'f1':f1_score,\n",
    "           'accuracy':accuracy_score}\n",
    "\n",
    "x_predicted = binarize(best_estimator.predict(X_test_f))\n",
    "y_test_b    = binarize(y_test)\n",
    "\n",
    "for metric, f in metrics.items():\n",
    "    print(metric, f(x_predicted, y_test_b), '\\n')"
   ]
  }
 ],
 "metadata": {
  "kernelspec": {
   "display_name": "Python 3",
   "language": "python",
   "name": "python3"
  },
  "language_info": {
   "codemirror_mode": {
    "name": "ipython",
    "version": 3
   },
   "file_extension": ".py",
   "mimetype": "text/x-python",
   "name": "python",
   "nbconvert_exporter": "python",
   "pygments_lexer": "ipython3",
   "version": "3.5.2"
  }
 },
 "nbformat": 4,
 "nbformat_minor": 2
}
