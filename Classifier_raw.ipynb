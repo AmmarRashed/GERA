{
 "cells": [
  {
   "cell_type": "code",
   "execution_count": 2,
   "metadata": {},
   "outputs": [],
   "source": [
    "import pickle\n",
    "\n",
    "from metabolitics.preprocessing import MetaboliticsPipeline\n",
    "\n",
    "from sklearn.pipeline import Pipeline\n",
    "from sklearn.model_selection import train_test_split\n",
    "from sklearn.model_selection import GridSearchCV\n",
    "\n",
    "from sklearn.svm import SVC\n",
    "from sklearn.linear_model import LogisticRegression, SGDClassifier\n",
    "from sklearn.ensemble import RandomForestClassifier\n",
    "from sklearn.neural_network import MLPClassifier\n",
    "from sklearn.preprocessing import StandardScaler\n",
    "from sklearn.feature_selection import VarianceThreshold, SelectKBest\n",
    "\n",
    "from sklearn.metrics import precision_score, recall_score, accuracy_score, f1_score, confusion_matrix\n",
    "from imblearn.over_sampling import RandomOverSampler\n",
    "\n",
    "import numpy as np, pandas as pd\n",
    "from collections import defaultdict\n",
    "from itertools import chain, starmap"
   ]
  },
  {
   "cell_type": "code",
   "execution_count": 3,
   "metadata": {},
   "outputs": [],
   "source": [
    "results = pickle.load(open('results/breast_cancer2.results','rb'))\n",
    "labels = pickle.load(open('datasets/breast_cancer2_y','rb'))"
   ]
  },
  {
   "cell_type": "code",
   "execution_count": 16,
   "metadata": {},
   "outputs": [],
   "source": [
    "samples = defaultdict(lambda : [])\n",
    "[\n",
    " samples[key].append(value) for key, value in \n",
    " chain(*map(lambda sample: sample.items(), results))\n",
    "]\n",
    "\n",
    "dataset = pd.DataFrame(samples, index=labels)"
   ]
  },
  {
   "cell_type": "code",
   "execution_count": 17,
   "metadata": {
    "scrolled": true
   },
   "outputs": [
    {
     "data": {
      "text/html": [
       "<div>\n",
       "<style scoped>\n",
       "    .dataframe tbody tr th:only-of-type {\n",
       "        vertical-align: middle;\n",
       "    }\n",
       "\n",
       "    .dataframe tbody tr th {\n",
       "        vertical-align: top;\n",
       "    }\n",
       "\n",
       "    .dataframe thead th {\n",
       "        text-align: right;\n",
       "    }\n",
       "</style>\n",
       "<table border=\"1\" class=\"dataframe\">\n",
       "  <thead>\n",
       "    <tr style=\"text-align: right;\">\n",
       "      <th></th>\n",
       "      <th>unhealthy</th>\n",
       "      <th>unhealthy</th>\n",
       "      <th>unhealthy</th>\n",
       "      <th>healthy</th>\n",
       "      <th>unhealthy</th>\n",
       "      <th>unhealthy</th>\n",
       "      <th>unhealthy</th>\n",
       "      <th>unhealthy</th>\n",
       "      <th>healthy</th>\n",
       "      <th>healthy</th>\n",
       "      <th>...</th>\n",
       "      <th>unhealthy</th>\n",
       "      <th>healthy</th>\n",
       "      <th>healthy</th>\n",
       "      <th>unhealthy</th>\n",
       "      <th>unhealthy</th>\n",
       "      <th>unhealthy</th>\n",
       "      <th>unhealthy</th>\n",
       "      <th>unhealthy</th>\n",
       "      <th>healthy</th>\n",
       "      <th>unhealthy</th>\n",
       "    </tr>\n",
       "  </thead>\n",
       "  <tbody>\n",
       "    <tr>\n",
       "      <th>10FTHF5GLUtl_max</th>\n",
       "      <td>8.135672e-06</td>\n",
       "      <td>2.500000e+02</td>\n",
       "      <td>-8.643610e-10</td>\n",
       "      <td>0.000002</td>\n",
       "      <td>0.000003</td>\n",
       "      <td>1.854232e-10</td>\n",
       "      <td>-6.618848e-10</td>\n",
       "      <td>-9.646897e-10</td>\n",
       "      <td>-2.165166e-10</td>\n",
       "      <td>2.045454e-09</td>\n",
       "      <td>...</td>\n",
       "      <td>0.000003</td>\n",
       "      <td>7.955769e-10</td>\n",
       "      <td>1.114131e-11</td>\n",
       "      <td>4.504841e-10</td>\n",
       "      <td>1.008991e+02</td>\n",
       "      <td>-5.263701e-11</td>\n",
       "      <td>0.000019</td>\n",
       "      <td>-8.662937e-11</td>\n",
       "      <td>-8.585199e-10</td>\n",
       "      <td>4.531557e-10</td>\n",
       "    </tr>\n",
       "    <tr>\n",
       "      <th>10FTHF5GLUtl_min</th>\n",
       "      <td>1.135106e-09</td>\n",
       "      <td>0.000000e+00</td>\n",
       "      <td>6.664891e-10</td>\n",
       "      <td>0.000002</td>\n",
       "      <td>0.000003</td>\n",
       "      <td>-1.815300e-10</td>\n",
       "      <td>7.204335e-10</td>\n",
       "      <td>0.000000e+00</td>\n",
       "      <td>2.136199e-10</td>\n",
       "      <td>-1.568131e-09</td>\n",
       "      <td>...</td>\n",
       "      <td>0.000003</td>\n",
       "      <td>-9.416681e-10</td>\n",
       "      <td>-5.885461e-11</td>\n",
       "      <td>-3.834657e-10</td>\n",
       "      <td>0.000000e+00</td>\n",
       "      <td>2.228262e-11</td>\n",
       "      <td>0.000019</td>\n",
       "      <td>6.821210e-11</td>\n",
       "      <td>8.677779e-10</td>\n",
       "      <td>-3.458615e-10</td>\n",
       "    </tr>\n",
       "    <tr>\n",
       "      <th>10FTHF5GLUtm_max</th>\n",
       "      <td>8.135672e-06</td>\n",
       "      <td>2.500000e+02</td>\n",
       "      <td>-8.643610e-10</td>\n",
       "      <td>0.000002</td>\n",
       "      <td>0.000003</td>\n",
       "      <td>1.485887e-10</td>\n",
       "      <td>-6.618848e-10</td>\n",
       "      <td>-9.646897e-10</td>\n",
       "      <td>-1.638686e-10</td>\n",
       "      <td>2.045454e-09</td>\n",
       "      <td>...</td>\n",
       "      <td>0.000003</td>\n",
       "      <td>7.955769e-10</td>\n",
       "      <td>1.000444e-11</td>\n",
       "      <td>4.504841e-10</td>\n",
       "      <td>1.008991e+02</td>\n",
       "      <td>-1.534772e-11</td>\n",
       "      <td>0.000019</td>\n",
       "      <td>-8.662937e-11</td>\n",
       "      <td>-3.811351e-10</td>\n",
       "      <td>4.531557e-10</td>\n",
       "    </tr>\n",
       "    <tr>\n",
       "      <th>10FTHF5GLUtm_min</th>\n",
       "      <td>1.135106e-09</td>\n",
       "      <td>0.000000e+00</td>\n",
       "      <td>6.664891e-10</td>\n",
       "      <td>0.000002</td>\n",
       "      <td>0.000003</td>\n",
       "      <td>-1.815300e-10</td>\n",
       "      <td>7.204335e-10</td>\n",
       "      <td>1.307399e-10</td>\n",
       "      <td>2.106533e-10</td>\n",
       "      <td>-1.568131e-09</td>\n",
       "      <td>...</td>\n",
       "      <td>0.000003</td>\n",
       "      <td>-9.416681e-10</td>\n",
       "      <td>-5.885461e-11</td>\n",
       "      <td>-3.834657e-10</td>\n",
       "      <td>1.212186e-11</td>\n",
       "      <td>0.000000e+00</td>\n",
       "      <td>0.000019</td>\n",
       "      <td>6.821210e-11</td>\n",
       "      <td>6.842384e-10</td>\n",
       "      <td>-3.458615e-10</td>\n",
       "    </tr>\n",
       "    <tr>\n",
       "      <th>10FTHF6GLUtl_max</th>\n",
       "      <td>8.135672e-06</td>\n",
       "      <td>6.647269e-10</td>\n",
       "      <td>-7.013412e-10</td>\n",
       "      <td>0.000002</td>\n",
       "      <td>0.000003</td>\n",
       "      <td>1.884928e-10</td>\n",
       "      <td>-6.858158e-10</td>\n",
       "      <td>-2.514753e-10</td>\n",
       "      <td>-1.141984e-10</td>\n",
       "      <td>1.608118e-09</td>\n",
       "      <td>...</td>\n",
       "      <td>0.000003</td>\n",
       "      <td>8.740528e-10</td>\n",
       "      <td>1.142763e-11</td>\n",
       "      <td>4.482672e-10</td>\n",
       "      <td>-8.736833e-11</td>\n",
       "      <td>-5.263701e-11</td>\n",
       "      <td>0.000019</td>\n",
       "      <td>-6.457412e-11</td>\n",
       "      <td>-8.587185e-10</td>\n",
       "      <td>4.483674e-10</td>\n",
       "    </tr>\n",
       "  </tbody>\n",
       "</table>\n",
       "<p>5 rows × 88 columns</p>\n",
       "</div>"
      ],
      "text/plain": [
       "                     unhealthy     unhealthy     unhealthy   healthy  \\\n",
       "10FTHF5GLUtl_max  8.135672e-06  2.500000e+02 -8.643610e-10  0.000002   \n",
       "10FTHF5GLUtl_min  1.135106e-09  0.000000e+00  6.664891e-10  0.000002   \n",
       "10FTHF5GLUtm_max  8.135672e-06  2.500000e+02 -8.643610e-10  0.000002   \n",
       "10FTHF5GLUtm_min  1.135106e-09  0.000000e+00  6.664891e-10  0.000002   \n",
       "10FTHF6GLUtl_max  8.135672e-06  6.647269e-10 -7.013412e-10  0.000002   \n",
       "\n",
       "                  unhealthy     unhealthy     unhealthy     unhealthy  \\\n",
       "10FTHF5GLUtl_max   0.000003  1.854232e-10 -6.618848e-10 -9.646897e-10   \n",
       "10FTHF5GLUtl_min   0.000003 -1.815300e-10  7.204335e-10  0.000000e+00   \n",
       "10FTHF5GLUtm_max   0.000003  1.485887e-10 -6.618848e-10 -9.646897e-10   \n",
       "10FTHF5GLUtm_min   0.000003 -1.815300e-10  7.204335e-10  1.307399e-10   \n",
       "10FTHF6GLUtl_max   0.000003  1.884928e-10 -6.858158e-10 -2.514753e-10   \n",
       "\n",
       "                       healthy       healthy      ...       unhealthy  \\\n",
       "10FTHF5GLUtl_max -2.165166e-10  2.045454e-09      ...        0.000003   \n",
       "10FTHF5GLUtl_min  2.136199e-10 -1.568131e-09      ...        0.000003   \n",
       "10FTHF5GLUtm_max -1.638686e-10  2.045454e-09      ...        0.000003   \n",
       "10FTHF5GLUtm_min  2.106533e-10 -1.568131e-09      ...        0.000003   \n",
       "10FTHF6GLUtl_max -1.141984e-10  1.608118e-09      ...        0.000003   \n",
       "\n",
       "                       healthy       healthy     unhealthy     unhealthy  \\\n",
       "10FTHF5GLUtl_max  7.955769e-10  1.114131e-11  4.504841e-10  1.008991e+02   \n",
       "10FTHF5GLUtl_min -9.416681e-10 -5.885461e-11 -3.834657e-10  0.000000e+00   \n",
       "10FTHF5GLUtm_max  7.955769e-10  1.000444e-11  4.504841e-10  1.008991e+02   \n",
       "10FTHF5GLUtm_min -9.416681e-10 -5.885461e-11 -3.834657e-10  1.212186e-11   \n",
       "10FTHF6GLUtl_max  8.740528e-10  1.142763e-11  4.482672e-10 -8.736833e-11   \n",
       "\n",
       "                     unhealthy  unhealthy     unhealthy       healthy  \\\n",
       "10FTHF5GLUtl_max -5.263701e-11   0.000019 -8.662937e-11 -8.585199e-10   \n",
       "10FTHF5GLUtl_min  2.228262e-11   0.000019  6.821210e-11  8.677779e-10   \n",
       "10FTHF5GLUtm_max -1.534772e-11   0.000019 -8.662937e-11 -3.811351e-10   \n",
       "10FTHF5GLUtm_min  0.000000e+00   0.000019  6.821210e-11  6.842384e-10   \n",
       "10FTHF6GLUtl_max -5.263701e-11   0.000019 -6.457412e-11 -8.587185e-10   \n",
       "\n",
       "                     unhealthy  \n",
       "10FTHF5GLUtl_max  4.531557e-10  \n",
       "10FTHF5GLUtl_min -3.458615e-10  \n",
       "10FTHF5GLUtm_max  4.531557e-10  \n",
       "10FTHF5GLUtm_min -3.458615e-10  \n",
       "10FTHF6GLUtl_max  4.483674e-10  \n",
       "\n",
       "[5 rows x 88 columns]"
      ]
     },
     "execution_count": 17,
     "metadata": {},
     "output_type": "execute_result"
    }
   ],
   "source": [
    "dataset.T.head()"
   ]
  },
  {
   "cell_type": "code",
   "execution_count": 18,
   "metadata": {},
   "outputs": [
    {
     "name": "stdout",
     "output_type": "stream",
     "text": [
      "0.6477272727272727\n"
     ]
    }
   ],
   "source": [
    "balance = labels.count('unhealthy') / len(labels)\n",
    "\n",
    "print(balance)"
   ]
  },
  {
   "cell_type": "markdown",
   "metadata": {},
   "source": [
    "### Standard scaling"
   ]
  },
  {
   "cell_type": "code",
   "execution_count": 19,
   "metadata": {},
   "outputs": [],
   "source": [
    "std_scalar = StandardScaler().fit(dataset, dataset.index)\n",
    "X, y = std_scalar.transform(dataset), dataset.index"
   ]
  },
  {
   "cell_type": "markdown",
   "metadata": {},
   "source": [
    "### Train\\Test split"
   ]
  },
  {
   "cell_type": "code",
   "execution_count": 20,
   "metadata": {},
   "outputs": [],
   "source": [
    "X_train, X_test, y_train, y_test = train_test_split(X, y, test_size=0.30, stratify=y, random_state=42)"
   ]
  },
  {
   "cell_type": "code",
   "execution_count": 21,
   "metadata": {},
   "outputs": [
    {
     "data": {
      "text/plain": [
       "(88, 15570)"
      ]
     },
     "execution_count": 21,
     "metadata": {},
     "output_type": "execute_result"
    }
   ],
   "source": [
    "dataset.shape"
   ]
  },
  {
   "cell_type": "markdown",
   "metadata": {},
   "source": [
    "### Feature selection and random oversampling on training dataset"
   ]
  },
  {
   "cell_type": "code",
   "execution_count": 28,
   "metadata": {},
   "outputs": [
    {
     "name": "stderr",
     "output_type": "stream",
     "text": [
      "/home/abdu/Desktop/virtualenv/GERA/lib/python3.5/site-packages/sklearn/feature_selection/univariate_selection.py:113 \u001b[1;31mUserWarning\u001b[0m: Features [ 41 107 111 113 115 117 129 131 143 145] are constant.\n",
      "/home/abdu/Desktop/virtualenv/GERA/lib/python3.5/site-packages/sklearn/feature_selection/univariate_selection.py:114 \u001b[1;31mRuntimeWarning\u001b[0m: invalid value encountered in true_divide\n"
     ]
    }
   ],
   "source": [
    "feature_selection = Pipeline([('select_k_best', SelectKBest(k=100))]).fit(X_train, y_train)\n",
    "\n",
    "X_train_f, y_train_f = RandomOverSampler(random_state=42).\\\n",
    "                       fit_sample(feature_selection.transform(X_train), y_train)\n",
    "\n",
    "X_test_f = feature_selection.transform(X_test)"
   ]
  },
  {
   "cell_type": "code",
   "execution_count": 23,
   "metadata": {},
   "outputs": [],
   "source": [
    "models = [\n",
    "\n",
    "  (RandomForestClassifier, {\n",
    "    'max_depth': range(5, 20),\n",
    "    'n_estimators': range(1, 8)\n",
    "  }),\n",
    "\n",
    "  (LogisticRegression, {\n",
    "    'C': np.geomspace(1e-4, 1e3, num = 10),\n",
    "    'max_iter': range(100, 1000 + 1, 1000)\n",
    "  }),\n",
    "\n",
    "  (SVC, {\n",
    "    'C': np.geomspace(1e-4, 1e2, num = 10),\n",
    "    'degree': range(1, 5),\n",
    "\n",
    "    'max_iter': range(50000, 100000 + 1, 10000),\n",
    "    'kernel': ['rbf', 'linear']\n",
    "  }),\n",
    "\n",
    "  (SGDClassifier, {\n",
    "    'penalty': ['l1', 'l2', 'elasticnet'],\n",
    "    'alpha': np.geomspace(1e-4, 1.0, num = 10),\n",
    "    'max_iter': range(200, 1000 + 1, 100)\n",
    "  })\n",
    "]\n",
    "\n",
    "cv_estimators = []\n",
    "for model, params in models:\n",
    "    cv_model = GridSearchCV(model(random_state=42), params, n_jobs=-1).fit(X_train_f, y_train_f)\n",
    "    cv_estimators.append(cv_model)"
   ]
  },
  {
   "cell_type": "code",
   "execution_count": 24,
   "metadata": {},
   "outputs": [],
   "source": [
    "f1_scores = []\n",
    "binarize = lambda ls: [1 if l == 'unhealthy' else 0 for l in ls]\n",
    "\n",
    "for estimator in cv_estimators:\n",
    "    score = f1_score(binarize(estimator.predict(X_test_f)), binarize(y_test))\n",
    "    f1_scores.append(score)"
   ]
  },
  {
   "cell_type": "markdown",
   "metadata": {},
   "source": [
    "## best estimator"
   ]
  },
  {
   "cell_type": "code",
   "execution_count": 25,
   "metadata": {},
   "outputs": [
    {
     "data": {
      "text/plain": [
       "RandomForestClassifier(bootstrap=True, class_weight=None, criterion='gini',\n",
       "            max_depth=7, max_features='auto', max_leaf_nodes=None,\n",
       "            min_impurity_decrease=0.0, min_impurity_split=None,\n",
       "            min_samples_leaf=1, min_samples_split=2,\n",
       "            min_weight_fraction_leaf=0.0, n_estimators=5, n_jobs=1,\n",
       "            oob_score=False, random_state=42, verbose=0, warm_start=False)"
      ]
     },
     "execution_count": 25,
     "metadata": {},
     "output_type": "execute_result"
    }
   ],
   "source": [
    "best_estimator = cv_estimators[np.argmax(f1_scores)].best_estimator_\n",
    "best_estimator"
   ]
  },
  {
   "cell_type": "code",
   "execution_count": 26,
   "metadata": {},
   "outputs": [
    {
     "data": {
      "text/plain": [
       "[0.74285714285714277,\n",
       " 0.5714285714285714,\n",
       " 0.66666666666666674,\n",
       " 0.71794871794871795]"
      ]
     },
     "execution_count": 26,
     "metadata": {},
     "output_type": "execute_result"
    }
   ],
   "source": [
    "f1_scores"
   ]
  },
  {
   "cell_type": "markdown",
   "metadata": {},
   "source": [
    "### Scores"
   ]
  },
  {
   "cell_type": "code",
   "execution_count": 27,
   "metadata": {},
   "outputs": [
    {
     "name": "stdout",
     "output_type": "stream",
     "text": [
      "precision 0.764705882353 \n",
      "\n",
      "f1 0.742857142857 \n",
      "\n",
      "recall 0.722222222222 \n",
      "\n",
      "accuracy 0.666666666667 \n",
      "\n"
     ]
    }
   ],
   "source": [
    "metrics = {'recall': recall_score, 'precision': precision_score, 'f1':f1_score,\n",
    "           'accuracy':accuracy_score}\n",
    "\n",
    "x_predicted = binarize(best_estimator.predict(X_test_f))\n",
    "y_test_b    = binarize(y_test)\n",
    "\n",
    "for metric, f in metrics.items():\n",
    "    print(metric, f(x_predicted, y_test_b), '\\n')"
   ]
  }
 ],
 "metadata": {
  "kernelspec": {
   "display_name": "Python 3",
   "language": "python",
   "name": "python3"
  },
  "language_info": {
   "codemirror_mode": {
    "name": "ipython",
    "version": 3
   },
   "file_extension": ".py",
   "mimetype": "text/x-python",
   "name": "python",
   "nbconvert_exporter": "python",
   "pygments_lexer": "ipython3",
   "version": "3.5.2"
  }
 },
 "nbformat": 4,
 "nbformat_minor": 2
}
