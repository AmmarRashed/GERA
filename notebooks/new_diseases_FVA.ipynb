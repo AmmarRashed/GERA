{
 "cells": [
  {
   "cell_type": "code",
   "execution_count": 1,
   "metadata": {},
   "outputs": [],
   "source": [
    "import sys\n",
    "sys.path.append(\"../classes\")"
   ]
  },
  {
   "cell_type": "code",
   "execution_count": 3,
   "metadata": {},
   "outputs": [],
   "source": [
    "import pickle\n",
    "from sklearn.svm import SVC\n",
    "\n",
    "import numpy as np, pandas as pd\n",
    "from geno_classifier import *\n",
    "from itertools import starmap\n",
    "import time"
   ]
  },
  {
   "cell_type": "code",
   "execution_count": null,
   "metadata": {},
   "outputs": [],
   "source": [
    "diseases = [\"pancreatic_cancer\", \"HBV\", \"diabetes\", \"renal_carcinoma\", \"glioma\", \"esophageal_carcinoma\", \"H1N1\"]\n",
    "for disease in diseases:\n",
    "    start = time.time()\n",
    "    disease_xy = pickle.load(open(disease+\"_Xy\", \"rb\"))\n",
    "    X = disease_xy[\"X\"]\n",
    "    y = disease_xy[\"y\"]\n",
    "    results = flux_variance_analysis(X, y)\n",
    "    pickle.dump(results, open(disease\".results\", \"wb\"))\n",
    "    print(\"%s with %d samples took\"%(disease, len(y)), time.time()-start)\n",
    "    print(\"-\"*10)"
   ]
  }
 ],
 "metadata": {
  "kernelspec": {
   "display_name": "Python 3",
   "language": "python",
   "name": "python3"
  },
  "language_info": {
   "codemirror_mode": {
    "name": "ipython",
    "version": 3
   },
   "file_extension": ".py",
   "mimetype": "text/x-python",
   "name": "python",
   "nbconvert_exporter": "python",
   "pygments_lexer": "ipython3",
   "version": "3.5.2"
  }
 },
 "nbformat": 4,
 "nbformat_minor": 2
}
