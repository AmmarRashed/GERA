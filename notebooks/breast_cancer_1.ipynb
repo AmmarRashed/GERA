{
 "cells": [
  {
   "cell_type": "code",
   "execution_count": 1,
   "metadata": {},
   "outputs": [],
   "source": [
    "import sys\n",
    "sys.path.append(\"../classes\")"
   ]
  },
  {
   "cell_type": "code",
   "execution_count": 2,
   "metadata": {},
   "outputs": [],
   "source": [
    "import numpy as np\n",
    "from sklearn.pipeline import Pipeline\n",
    "\n",
    "import GEOparse\n",
    "from genobolitics import *\n",
    "from geno_utils import *\n",
    "\n",
    "import pickle"
   ]
  },
  {
   "cell_type": "code",
   "execution_count": 3,
   "metadata": {},
   "outputs": [
    {
     "name": "stderr",
     "output_type": "stream",
     "text": [
      "20-Jan-2018 04:04:31 INFO GEOparse - File already exist: using local version.\n",
      "20-Jan-2018 04:04:31 INFO GEOparse - Parsing ./GDS5819.soft.gz: \n",
      "20-Jan-2018 04:04:31 DEBUG GEOparse - DATABASE: Geo\n",
      "20-Jan-2018 04:04:31 DEBUG GEOparse - DATASET: GDS5819\n",
      "20-Jan-2018 04:04:31 DEBUG GEOparse - SUBSET: GDS5819_1\n",
      "20-Jan-2018 04:04:31 DEBUG GEOparse - SUBSET: GDS5819_2\n",
      "20-Jan-2018 04:04:31 DEBUG GEOparse - SUBSET: GDS5819_3\n",
      "20-Jan-2018 04:04:31 DEBUG GEOparse - SUBSET: GDS5819_4\n",
      "20-Jan-2018 04:04:31 DEBUG GEOparse - DATASET: GDS5819\n",
      "/home/abdu/Desktop/virtualenv/GERA/lib/python3.5/site-packages/GEOparse/GEOparse.py:332 \u001b[1;31mFutureWarning\u001b[0m: from_csv is deprecated. Please use read_csv(...) instead. Note that some of the default arguments are different, so please refer to the documentation for from_csv when changing your function calls\n"
     ]
    }
   ],
   "source": [
    "breast_cancer_dataset = GEOparse.get_GEO('GDS5819').table"
   ]
  },
  {
   "cell_type": "code",
   "execution_count": 4,
   "metadata": {},
   "outputs": [],
   "source": [
    "unhealthy_raw='\\\n",
    "#GSM1599177 = Value for GSM1599177: Primary human monocytes from patient with metastatic breast cancer #1; src: Primary human monocytes\\\n",
    "#GSM1599178 = Value for GSM1599178: Primary human monocytes from patient with metastatic breast cancer #2; src: Primary human monocytes\\\n",
    "#GSM1599179 = Value for GSM1599179: Primary human monocytes from patient with metastatic breast cancer #3; src: Primary human monocytes\\\n",
    "#GSM1599180 = Value for GSM1599180: Primary human monocytes from patient with metastatic breast cancer #4; src: Primary human monocytes'"
   ]
  },
  {
   "cell_type": "code",
   "execution_count": 5,
   "metadata": {},
   "outputs": [],
   "source": [
    "healthy_raw='\\\n",
    "#GSM1599181 = Value for GSM1599181: Primary human monocytes from healthy control #1; src: Primary human monocytes\\\n",
    "#GSM1599182 = Value for GSM1599182: Primary human monocytes from healthy control #2; src: Primary human monocytes\\\n",
    "#GSM1599183 = Value for GSM1599183: Primary human monocytes from healthy control #3; src: Primary human monocytes'"
   ]
  },
  {
   "cell_type": "code",
   "execution_count": 6,
   "metadata": {},
   "outputs": [],
   "source": [
    "clean = lambda string: string.replace(':', '').split()\n",
    "predicate = lambda word: word.startswith('GSM')\n",
    "\n",
    "healthy = set(filter(predicate, clean(healthy_raw)))\n",
    "unhealthy = set(filter(predicate, clean(unhealthy_raw)))"
   ]
  },
  {
   "cell_type": "code",
   "execution_count": 7,
   "metadata": {},
   "outputs": [
    {
     "name": "stdout",
     "output_type": "stream",
     "text": [
      "3 4\n"
     ]
    }
   ],
   "source": [
    "print(len(healthy), len(unhealthy))"
   ]
  },
  {
   "cell_type": "code",
   "execution_count": 8,
   "metadata": {},
   "outputs": [
    {
     "data": {
      "text/plain": [
       "set()"
      ]
     },
     "execution_count": 8,
     "metadata": {},
     "output_type": "execute_result"
    }
   ],
   "source": [
    "healthy & unhealthy"
   ]
  },
  {
   "cell_type": "code",
   "execution_count": 9,
   "metadata": {},
   "outputs": [
    {
     "data": {
      "text/html": [
       "<div>\n",
       "<style scoped>\n",
       "    .dataframe tbody tr th:only-of-type {\n",
       "        vertical-align: middle;\n",
       "    }\n",
       "\n",
       "    .dataframe tbody tr th {\n",
       "        vertical-align: top;\n",
       "    }\n",
       "\n",
       "    .dataframe thead th {\n",
       "        text-align: right;\n",
       "    }\n",
       "</style>\n",
       "<table border=\"1\" class=\"dataframe\">\n",
       "  <thead>\n",
       "    <tr style=\"text-align: right;\">\n",
       "      <th></th>\n",
       "      <th>ID_REF</th>\n",
       "      <th>IDENTIFIER</th>\n",
       "      <th>GSM1599177</th>\n",
       "      <th>GSM1599178</th>\n",
       "      <th>GSM1599179</th>\n",
       "    </tr>\n",
       "  </thead>\n",
       "  <tbody>\n",
       "    <tr>\n",
       "      <th>0</th>\n",
       "      <td>ILMN_1343048</td>\n",
       "      <td>ILMN_1343048</td>\n",
       "      <td>NaN</td>\n",
       "      <td>NaN</td>\n",
       "      <td>NaN</td>\n",
       "    </tr>\n",
       "    <tr>\n",
       "      <th>1</th>\n",
       "      <td>ILMN_1343049</td>\n",
       "      <td>ILMN_1343049</td>\n",
       "      <td>NaN</td>\n",
       "      <td>NaN</td>\n",
       "      <td>NaN</td>\n",
       "    </tr>\n",
       "    <tr>\n",
       "      <th>2</th>\n",
       "      <td>ILMN_1343050</td>\n",
       "      <td>ILMN_1343050</td>\n",
       "      <td>NaN</td>\n",
       "      <td>NaN</td>\n",
       "      <td>NaN</td>\n",
       "    </tr>\n",
       "    <tr>\n",
       "      <th>3</th>\n",
       "      <td>ILMN_1343052</td>\n",
       "      <td>ILMN_1343052</td>\n",
       "      <td>NaN</td>\n",
       "      <td>NaN</td>\n",
       "      <td>NaN</td>\n",
       "    </tr>\n",
       "    <tr>\n",
       "      <th>4</th>\n",
       "      <td>ILMN_1343059</td>\n",
       "      <td>ILMN_1343059</td>\n",
       "      <td>NaN</td>\n",
       "      <td>NaN</td>\n",
       "      <td>NaN</td>\n",
       "    </tr>\n",
       "  </tbody>\n",
       "</table>\n",
       "</div>"
      ],
      "text/plain": [
       "         ID_REF    IDENTIFIER  GSM1599177  GSM1599178  GSM1599179\n",
       "0  ILMN_1343048  ILMN_1343048         NaN         NaN         NaN\n",
       "1  ILMN_1343049  ILMN_1343049         NaN         NaN         NaN\n",
       "2  ILMN_1343050  ILMN_1343050         NaN         NaN         NaN\n",
       "3  ILMN_1343052  ILMN_1343052         NaN         NaN         NaN\n",
       "4  ILMN_1343059  ILMN_1343059         NaN         NaN         NaN"
      ]
     },
     "execution_count": 9,
     "metadata": {},
     "output_type": "execute_result"
    }
   ],
   "source": [
    "breast_cancer_dataset[breast_cancer_dataset.columns[:5]].head()"
   ]
  },
  {
   "cell_type": "code",
   "execution_count": 10,
   "metadata": {},
   "outputs": [],
   "source": [
    "labels_ = [(h, 'healthy') for h in healthy] + [(d, 'unhealthy') for d in unhealthy]"
   ]
  },
  {
   "cell_type": "code",
   "execution_count": 14,
   "metadata": {
    "scrolled": true
   },
   "outputs": [
    {
     "name": "stderr",
     "output_type": "stream",
     "text": [
      "[Parallel(n_jobs=-1)]: Done   1 tasks      | elapsed:  4.4min\n",
      "[Parallel(n_jobs=-1)]: Done   2 out of   7 | elapsed:  4.4min remaining: 11.1min\n",
      "[Parallel(n_jobs=-1)]: Done   3 out of   7 | elapsed:  4.5min remaining:  6.0min\n",
      "[Parallel(n_jobs=-1)]: Done   4 out of   7 | elapsed:  4.5min remaining:  3.4min\n",
      "[Parallel(n_jobs=-1)]: Done   5 out of   7 | elapsed:  4.5min remaining:  1.8min\n"
     ]
    },
    {
     "name": "stdout",
     "output_type": "stream",
     "text": [
      "GSM1599179 added with length 9745\n",
      "GSM1599178 added with length 9745\n",
      "GSM1599180 added with length 9745\n",
      "GSM1599182 added with length 9745\n",
      "GSM1599177 added with length 9745\n",
      "GSM1599181 added with length 9745\n",
      "GSM1599183 added with length 9745\n"
     ]
    },
    {
     "name": "stderr",
     "output_type": "stream",
     "text": [
      "[Parallel(n_jobs=-1)]: Done   7 out of   7 | elapsed:  4.6min remaining:    0.0s\n",
      "[Parallel(n_jobs=-1)]: Done   7 out of   7 | elapsed:  4.6min finished\n"
     ]
    }
   ],
   "source": [
    "X_, y_ = parse_database(breast_cancer_dataset, labels=dict(labels_), n_jobs=-1)"
   ]
  },
  {
   "cell_type": "code",
   "execution_count": 13,
   "metadata": {},
   "outputs": [],
   "source": [
    "pickle.dump(X, open(\"../datasets/breast_cancer_1_X\",\"wb\"))\n",
    "pickle.dump(y, open(\"../datasets/breast_cancer_1_y\",\"wb\"))"
   ]
  },
  {
   "cell_type": "code",
   "execution_count": 13,
   "metadata": {},
   "outputs": [],
   "source": [
    "# X = pickle.load(open(\"../datasets/breast_cancer_1_X\",\"rb\"))\n",
    "# y = pickle.load(open(\"../datasets/breast_cancer_1_y\",\"rb\"))"
   ]
  },
  {
   "cell_type": "code",
   "execution_count": 4,
   "metadata": {},
   "outputs": [
    {
     "name": "stderr",
     "output_type": "stream",
     "text": [
      "/home/abdu/Desktop/GERA/Genobolitics.py:35 \u001b[1;31mUserWarning\u001b[0m: some operands are missing from logical expression!\n",
      "/home/abdu/Desktop/GERA/Genobolitics.py:53 \u001b[1;31mUserWarning\u001b[0m: could not evaluate boolean expression, objective-coeff is set to ZERO!\n",
      "/home/abdu/Desktop/GERA/Genobolitics.py:69 \u001b[1;31mUserWarning\u001b[0m: model returned the empty string as reaction rule!\n",
      "/home/abdu/Desktop/GERA/Genobolitics.py:35 \u001b[1;31mUserWarning\u001b[0m: some operands are missing from logical expression!\n",
      "/home/abdu/Desktop/GERA/Genobolitics.py:53 \u001b[1;31mUserWarning\u001b[0m: could not evaluate boolean expression, objective-coeff is set to ZERO!\n",
      "/home/abdu/Desktop/GERA/Genobolitics.py:69 \u001b[1;31mUserWarning\u001b[0m: model returned the empty string as reaction rule!\n",
      "/home/abdu/Desktop/GERA/Genobolitics.py:35 \u001b[1;31mUserWarning\u001b[0m: some operands are missing from logical expression!\n",
      "/home/abdu/Desktop/GERA/Genobolitics.py:53 \u001b[1;31mUserWarning\u001b[0m: could not evaluate boolean expression, objective-coeff is set to ZERO!\n",
      "/home/abdu/Desktop/GERA/Genobolitics.py:69 \u001b[1;31mUserWarning\u001b[0m: model returned the empty string as reaction rule!\n",
      "/home/abdu/Desktop/GERA/Genobolitics.py:35 \u001b[1;31mUserWarning\u001b[0m: some operands are missing from logical expression!\n",
      "/home/abdu/Desktop/GERA/Genobolitics.py:53 \u001b[1;31mUserWarning\u001b[0m: could not evaluate boolean expression, objective-coeff is set to ZERO!\n",
      "/home/abdu/Desktop/GERA/Genobolitics.py:69 \u001b[1;31mUserWarning\u001b[0m: model returned the empty string as reaction rule!\n",
      "/home/abdu/Desktop/GERA/Genobolitics.py:35 \u001b[1;31mUserWarning\u001b[0m: some operands are missing from logical expression!\n",
      "/home/abdu/Desktop/GERA/Genobolitics.py:53 \u001b[1;31mUserWarning\u001b[0m: could not evaluate boolean expression, objective-coeff is set to ZERO!\n",
      "/home/abdu/Desktop/GERA/Genobolitics.py:69 \u001b[1;31mUserWarning\u001b[0m: model returned the empty string as reaction rule!\n",
      "/home/abdu/Desktop/GERA/Genobolitics.py:35 \u001b[1;31mUserWarning\u001b[0m: some operands are missing from logical expression!\n",
      "/home/abdu/Desktop/GERA/Genobolitics.py:53 \u001b[1;31mUserWarning\u001b[0m: could not evaluate boolean expression, objective-coeff is set to ZERO!\n",
      "/home/abdu/Desktop/GERA/Genobolitics.py:69 \u001b[1;31mUserWarning\u001b[0m: model returned the empty string as reaction rule!\n",
      "/home/abdu/Desktop/GERA/Genobolitics.py:35 \u001b[1;31mUserWarning\u001b[0m: some operands are missing from logical expression!\n",
      "/home/abdu/Desktop/GERA/Genobolitics.py:53 \u001b[1;31mUserWarning\u001b[0m: could not evaluate boolean expression, objective-coeff is set to ZERO!\n",
      "/home/abdu/Desktop/GERA/Genobolitics.py:69 \u001b[1;31mUserWarning\u001b[0m: model returned the empty string as reaction rule!\n"
     ]
    }
   ],
   "source": [
    "results = flux_variance_analysis(X_, y_)\n",
    "pickle.dump(results, open(\"../results/breast_cancer_1.results\", \"wb\"))"
   ]
  }
 ],
 "metadata": {
  "kernelspec": {
   "display_name": "Python 3",
   "language": "python",
   "name": "python3"
  },
  "language_info": {
   "codemirror_mode": {
    "name": "ipython",
    "version": 3
   },
   "file_extension": ".py",
   "mimetype": "text/x-python",
   "name": "python",
   "nbconvert_exporter": "python",
   "pygments_lexer": "ipython3",
   "version": "3.5.2"
  }
 },
 "nbformat": 4,
 "nbformat_minor": 2
}
