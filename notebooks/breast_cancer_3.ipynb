{
 "cells": [
  {
   "cell_type": "code",
   "execution_count": 3,
   "metadata": {},
   "outputs": [],
   "source": [
    "import sys\n",
    "sys.path.append(\"../classes\")"
   ]
  },
  {
   "cell_type": "code",
   "execution_count": 4,
   "metadata": {},
   "outputs": [],
   "source": [
    "import pickle\n",
    "from sklearn.svm import SVC\n",
    "\n",
    "from sklearn.feature_selection import SelectKBest\n",
    "from sklearn.decomposition import PCA\n",
    "\n",
    "import numpy as np, pandas as pd\n",
    "from geno_classifier import *\n",
    "from itertools import starmap\n",
    "\n",
    "import GEOparse"
   ]
  },
  {
   "cell_type": "markdown",
   "metadata": {},
   "source": [
    "### sample types"
   ]
  },
  {
   "cell_type": "markdown",
   "metadata": {},
   "source": [
    "01\tPrimary Solid Tumor\tTP<br />\n",
    "02\tRecurrent Solid Tumor\tTR<br />\n",
    "03\tPrimary Blood Derived Cancer - Peripheral Blood\tTB<br />\n",
    "04\tRecurrent Blood Derived Cancer - Bone Marrow\tTRBM<br />\n",
    "05\tAdditional - New Primary\tTAP<br />\n",
    "06\tMetastatic\tTM<br />\n",
    "07\tAdditional Metastatic\tTAM<br />\n",
    "08\tHuman Tumor Original Cells\tTHOC<br />\n",
    "09\tPrimary Blood Derived Cancer - Bone Marrow\tTBM<br />\n",
    "10\tBlood Derived Normal\tNB<br />\n",
    "11\tSolid Tissue Normal\tNT<br />\n",
    "12\tBuccal Cell Normal\tNBC<br />\n",
    "13\tEBV Immortalized Normal\tNEBV<br />\n",
    "14\tBone Marrow Normal\tNBM<br />\n",
    "15\tsample type 15\t15SH<br />\n",
    "16\tsample type 16\t16SH<br />\n",
    "20\tControl Analyte\tCELLC<br />\n",
    "40\tRecurrent Blood Derived Cancer - Peripheral Blood\tTRB<br />\n",
    "50\tCell Lines\tCELL<br />\n",
    "60\tPrimary Xenograft Tissue\tXP<br />\n",
    "61\tCell Line Derived Xenograft Tissue\tXCL<br />\n",
    "99\tsample type 99\t99SH<br />\n",
    "\n",
    "#### https://gdc.cancer.gov/resources-tcga-users/tcga-code-tables/sample-type-codes"
   ]
  },
  {
   "cell_type": "code",
   "execution_count": 8,
   "metadata": {},
   "outputs": [],
   "source": [
    "healthy_suffix = ('11')\n",
    "unhealthy_suffix = ('01', '06')"
   ]
  },
  {
   "cell_type": "code",
   "execution_count": 7,
   "metadata": {},
   "outputs": [
    {
     "data": {
      "text/html": [
       "<div>\n",
       "<style scoped>\n",
       "    .dataframe tbody tr th:only-of-type {\n",
       "        vertical-align: middle;\n",
       "    }\n",
       "\n",
       "    .dataframe tbody tr th {\n",
       "        vertical-align: top;\n",
       "    }\n",
       "\n",
       "    .dataframe thead th {\n",
       "        text-align: right;\n",
       "    }\n",
       "</style>\n",
       "<table border=\"1\" class=\"dataframe\">\n",
       "  <thead>\n",
       "    <tr style=\"text-align: right;\">\n",
       "      <th></th>\n",
       "      <th>sample</th>\n",
       "      <th>TCGA-A8-A0A7-01</th>\n",
       "      <th>TCGA-A8-A07G-01</th>\n",
       "      <th>TCGA-A8-A08R-01</th>\n",
       "      <th>TCGA-A8-A06Y-01</th>\n",
       "    </tr>\n",
       "  </thead>\n",
       "  <tbody>\n",
       "    <tr>\n",
       "      <th>0</th>\n",
       "      <td>RNF14</td>\n",
       "      <td>0.496583</td>\n",
       "      <td>1.004500</td>\n",
       "      <td>-0.149417</td>\n",
       "      <td>1.045250</td>\n",
       "    </tr>\n",
       "    <tr>\n",
       "      <th>1</th>\n",
       "      <td>DUOXA1</td>\n",
       "      <td>0.578000</td>\n",
       "      <td>1.695500</td>\n",
       "      <td>0.790000</td>\n",
       "      <td>2.308000</td>\n",
       "    </tr>\n",
       "    <tr>\n",
       "      <th>2</th>\n",
       "      <td>UBE2Q2</td>\n",
       "      <td>0.279500</td>\n",
       "      <td>0.795167</td>\n",
       "      <td>0.829667</td>\n",
       "      <td>0.479333</td>\n",
       "    </tr>\n",
       "    <tr>\n",
       "      <th>3</th>\n",
       "      <td>RNF10</td>\n",
       "      <td>-0.222250</td>\n",
       "      <td>0.632000</td>\n",
       "      <td>-0.017750</td>\n",
       "      <td>1.457750</td>\n",
       "    </tr>\n",
       "    <tr>\n",
       "      <th>4</th>\n",
       "      <td>RNF11</td>\n",
       "      <td>1.131750</td>\n",
       "      <td>0.857750</td>\n",
       "      <td>-0.155500</td>\n",
       "      <td>-0.016500</td>\n",
       "    </tr>\n",
       "  </tbody>\n",
       "</table>\n",
       "</div>"
      ],
      "text/plain": [
       "   sample  TCGA-A8-A0A7-01  TCGA-A8-A07G-01  TCGA-A8-A08R-01  TCGA-A8-A06Y-01\n",
       "0   RNF14         0.496583         1.004500        -0.149417         1.045250\n",
       "1  DUOXA1         0.578000         1.695500         0.790000         2.308000\n",
       "2  UBE2Q2         0.279500         0.795167         0.829667         0.479333\n",
       "3   RNF10        -0.222250         0.632000        -0.017750         1.457750\n",
       "4   RNF11         1.131750         0.857750        -0.155500        -0.016500"
      ]
     },
     "execution_count": 7,
     "metadata": {},
     "output_type": "execute_result"
    }
   ],
   "source": [
    "breast_cancer_dataset = pd.read_csv(\"../datasets/AgilentG4502A_07_3\", sep=\"\\t\")\n",
    "breast_cancer_dataset[breast_cancer_dataset.columns[:5]].head()"
   ]
  },
  {
   "cell_type": "code",
   "execution_count": 9,
   "metadata": {},
   "outputs": [],
   "source": [
    "columns = breast_cancer_dataset.columns\n",
    "\n",
    "healthy = set(filter(lambda column: column.endswith(healthy_suffix), columns))\n",
    "unhealthy = set(filter(lambda column: column.endswith(unhealthy_suffix), columns))"
   ]
  },
  {
   "cell_type": "markdown",
   "metadata": {},
   "source": [
    "### number of samples"
   ]
  },
  {
   "cell_type": "code",
   "execution_count": 35,
   "metadata": {},
   "outputs": [
    {
     "name": "stdout",
     "output_type": "stream",
     "text": [
      "63 534\n"
     ]
    }
   ],
   "source": [
    "print(len(healthy), len(unhealthy))"
   ]
  },
  {
   "cell_type": "code",
   "execution_count": 37,
   "metadata": {},
   "outputs": [
    {
     "data": {
      "text/plain": [
       "set()"
      ]
     },
     "execution_count": 37,
     "metadata": {},
     "output_type": "execute_result"
    }
   ],
   "source": [
    "healthy & unhealthy"
   ]
  },
  {
   "cell_type": "code",
   "execution_count": 10,
   "metadata": {},
   "outputs": [],
   "source": [
    "labels_ = [(h, 'healthy') for h in healthy] + [(d, 'unhealthy') for d in unhealthy]"
   ]
  },
  {
   "cell_type": "code",
   "execution_count": null,
   "metadata": {},
   "outputs": [],
   "source": [
    "X, y = parse_database(breast_cancer_dataset, labels=dict(labels_), n_jobs=-1)"
   ]
  },
  {
   "cell_type": "markdown",
   "metadata": {},
   "source": [
    "### Flux variability analysis"
   ]
  },
  {
   "cell_type": "code",
   "execution_count": null,
   "metadata": {},
   "outputs": [],
   "source": []
  }
 ],
 "metadata": {
  "kernelspec": {
   "display_name": "Python 3",
   "language": "python",
   "name": "python3"
  },
  "language_info": {
   "codemirror_mode": {
    "name": "ipython",
    "version": 3
   },
   "file_extension": ".py",
   "mimetype": "text/x-python",
   "name": "python",
   "nbconvert_exporter": "python",
   "pygments_lexer": "ipython3",
   "version": "3.5.2"
  }
 },
 "nbformat": 4,
 "nbformat_minor": 2
}
