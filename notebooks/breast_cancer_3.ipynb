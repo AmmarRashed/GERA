{
 "cells": [
  {
   "cell_type": "code",
   "execution_count": 1,
   "metadata": {},
   "outputs": [],
   "source": [
    "import sys\n",
    "sys.path.append(\"../classes\")"
   ]
  },
  {
   "cell_type": "code",
   "execution_count": 2,
   "metadata": {},
   "outputs": [],
   "source": [
    "import pickle\n",
    "from sklearn.svm import SVC\n",
    "\n",
    "from sklearn.feature_selection import SelectKBest\n",
    "from sklearn.decomposition import PCA\n",
    "\n",
    "from statsmodels.sandbox.stats.multicomp import multipletests\n",
    "from imblearn.over_sampling import RandomOverSampler\n",
    "\n",
    "import numpy as np, pandas as pd\n",
    "from geno_classifier import *\n",
    "from geno_utils import *\n",
    "from itertools import starmap\n",
    "\n",
    "import GEOparse"
   ]
  },
  {
   "cell_type": "markdown",
   "metadata": {},
   "source": [
    "### sample types"
   ]
  },
  {
   "cell_type": "markdown",
   "metadata": {},
   "source": [
    "01\tPrimary Solid Tumor\tTP<br />\n",
    "02\tRecurrent Solid Tumor\tTR<br />\n",
    "03\tPrimary Blood Derived Cancer - Peripheral Blood\tTB<br />\n",
    "04\tRecurrent Blood Derived Cancer - Bone Marrow\tTRBM<br />\n",
    "05\tAdditional - New Primary\tTAP<br />\n",
    "06\tMetastatic\tTM<br />\n",
    "07\tAdditional Metastatic\tTAM<br />\n",
    "08\tHuman Tumor Original Cells\tTHOC<br />\n",
    "09\tPrimary Blood Derived Cancer - Bone Marrow\tTBM<br />\n",
    "10\tBlood Derived Normal\tNB<br />\n",
    "11\tSolid Tissue Normal\tNT<br />\n",
    "12\tBuccal Cell Normal\tNBC<br />\n",
    "13\tEBV Immortalized Normal\tNEBV<br />\n",
    "14\tBone Marrow Normal\tNBM<br />\n",
    "15\tsample type 15\t15SH<br />\n",
    "16\tsample type 16\t16SH<br />\n",
    "20\tControl Analyte\tCELLC<br />\n",
    "40\tRecurrent Blood Derived Cancer - Peripheral Blood\tTRB<br />\n",
    "50\tCell Lines\tCELL<br />\n",
    "60\tPrimary Xenograft Tissue\tXP<br />\n",
    "61\tCell Line Derived Xenograft Tissue\tXCL<br />\n",
    "99\tsample type 99\t99SH<br />\n",
    "\n",
    "#### https://gdc.cancer.gov/resources-tcga-users/tcga-code-tables/sample-type-codes"
   ]
  },
  {
   "cell_type": "code",
   "execution_count": 4,
   "metadata": {},
   "outputs": [],
   "source": [
    "healthy_suffix = ('11')\n",
    "unhealthy_suffix = ('01', '06')"
   ]
  },
  {
   "cell_type": "code",
   "execution_count": 5,
   "metadata": {},
   "outputs": [
    {
     "data": {
      "text/html": [
       "<div>\n",
       "<style scoped>\n",
       "    .dataframe tbody tr th:only-of-type {\n",
       "        vertical-align: middle;\n",
       "    }\n",
       "\n",
       "    .dataframe tbody tr th {\n",
       "        vertical-align: top;\n",
       "    }\n",
       "\n",
       "    .dataframe thead th {\n",
       "        text-align: right;\n",
       "    }\n",
       "</style>\n",
       "<table border=\"1\" class=\"dataframe\">\n",
       "  <thead>\n",
       "    <tr style=\"text-align: right;\">\n",
       "      <th></th>\n",
       "      <th>sample</th>\n",
       "      <th>TCGA-A8-A0A7-01</th>\n",
       "      <th>TCGA-A8-A07G-01</th>\n",
       "      <th>TCGA-A8-A08R-01</th>\n",
       "      <th>TCGA-A8-A06Y-01</th>\n",
       "    </tr>\n",
       "  </thead>\n",
       "  <tbody>\n",
       "    <tr>\n",
       "      <th>0</th>\n",
       "      <td>RNF14</td>\n",
       "      <td>0.496583</td>\n",
       "      <td>1.004500</td>\n",
       "      <td>-0.149417</td>\n",
       "      <td>1.045250</td>\n",
       "    </tr>\n",
       "    <tr>\n",
       "      <th>1</th>\n",
       "      <td>DUOXA1</td>\n",
       "      <td>0.578000</td>\n",
       "      <td>1.695500</td>\n",
       "      <td>0.790000</td>\n",
       "      <td>2.308000</td>\n",
       "    </tr>\n",
       "    <tr>\n",
       "      <th>2</th>\n",
       "      <td>UBE2Q2</td>\n",
       "      <td>0.279500</td>\n",
       "      <td>0.795167</td>\n",
       "      <td>0.829667</td>\n",
       "      <td>0.479333</td>\n",
       "    </tr>\n",
       "    <tr>\n",
       "      <th>3</th>\n",
       "      <td>RNF10</td>\n",
       "      <td>-0.222250</td>\n",
       "      <td>0.632000</td>\n",
       "      <td>-0.017750</td>\n",
       "      <td>1.457750</td>\n",
       "    </tr>\n",
       "    <tr>\n",
       "      <th>4</th>\n",
       "      <td>RNF11</td>\n",
       "      <td>1.131750</td>\n",
       "      <td>0.857750</td>\n",
       "      <td>-0.155500</td>\n",
       "      <td>-0.016500</td>\n",
       "    </tr>\n",
       "  </tbody>\n",
       "</table>\n",
       "</div>"
      ],
      "text/plain": [
       "   sample  TCGA-A8-A0A7-01  TCGA-A8-A07G-01  TCGA-A8-A08R-01  TCGA-A8-A06Y-01\n",
       "0   RNF14         0.496583         1.004500        -0.149417         1.045250\n",
       "1  DUOXA1         0.578000         1.695500         0.790000         2.308000\n",
       "2  UBE2Q2         0.279500         0.795167         0.829667         0.479333\n",
       "3   RNF10        -0.222250         0.632000        -0.017750         1.457750\n",
       "4   RNF11         1.131750         0.857750        -0.155500        -0.016500"
      ]
     },
     "execution_count": 5,
     "metadata": {},
     "output_type": "execute_result"
    }
   ],
   "source": [
    "breast_cancer_dataset = pd.read_csv(\"../datasets/AgilentG4502A_07_3\", sep=\"\\t\")\n",
    "breast_cancer_dataset[breast_cancer_dataset.columns[:5]].head()"
   ]
  },
  {
   "cell_type": "code",
   "execution_count": 6,
   "metadata": {},
   "outputs": [],
   "source": [
    "columns = breast_cancer_dataset.columns\n",
    "\n",
    "healthy = set(filter(lambda column: column.endswith(healthy_suffix), columns))\n",
    "unhealthy = set(filter(lambda column: column.endswith(unhealthy_suffix), columns))"
   ]
  },
  {
   "cell_type": "markdown",
   "metadata": {},
   "source": [
    "### number of samples"
   ]
  },
  {
   "cell_type": "code",
   "execution_count": 6,
   "metadata": {},
   "outputs": [
    {
     "name": "stdout",
     "output_type": "stream",
     "text": [
      "63 534\n"
     ]
    }
   ],
   "source": [
    "print(len(healthy), len(unhealthy))"
   ]
  },
  {
   "cell_type": "code",
   "execution_count": 7,
   "metadata": {},
   "outputs": [
    {
     "data": {
      "text/plain": [
       "set()"
      ]
     },
     "execution_count": 7,
     "metadata": {},
     "output_type": "execute_result"
    }
   ],
   "source": [
    "healthy & unhealthy"
   ]
  },
  {
   "cell_type": "code",
   "execution_count": 20,
   "metadata": {},
   "outputs": [],
   "source": [
    "labels_ = [(h, 'healthy') for h in healthy] + [(d, 'unhealthy') for d in unhealthy]"
   ]
  },
  {
   "cell_type": "code",
   "execution_count": null,
   "metadata": {},
   "outputs": [],
   "source": [
    "X, y = parse_database(breast_cancer_dataset, labels=dict(labels_), n_jobs=-1)"
   ]
  },
  {
   "cell_type": "markdown",
   "metadata": {},
   "source": [
    "### Flux variability analysis"
   ]
  },
  {
   "cell_type": "code",
   "execution_count": 3,
   "metadata": {},
   "outputs": [],
   "source": [
    "results = pickle.load(open('../results/breast_cancer3.results','rb'))\n",
    "labels = pickle.load(open('../datasets/breast_cancer3_y','rb'))\n",
    "\n",
    "X_diff, y = preprocess_results(results, labels, use_diff_score=True, use_pathways=True)"
   ]
  },
  {
   "cell_type": "markdown",
   "metadata": {},
   "source": [
    "### nested-cross validation over best pipeline (using diff-values)"
   ]
  },
  {
   "cell_type": "code",
   "execution_count": 4,
   "metadata": {},
   "outputs": [],
   "source": [
    "classifiers = [\n",
    "    (SVC, {\n",
    "        'C': np.geomspace(1e-6, 1e6, num=10),\n",
    "        'class_weight' : ['balanced']\n",
    "    })\n",
    "]\n",
    "\n",
    "feature_selection = [\n",
    "    (PCA, {\n",
    "    'n_components': range(3, 81+1, 6)\n",
    "  })\n",
    "]"
   ]
  },
  {
   "cell_type": "code",
   "execution_count": 5,
   "metadata": {},
   "outputs": [
    {
     "name": "stdout",
     "output_type": "stream",
     "text": [
      "Fitting 10 folds for each of 140 candidates, totalling 1400 fits\n"
     ]
    },
    {
     "name": "stderr",
     "output_type": "stream",
     "text": [
      "[Parallel(n_jobs=-1)]: Done  52 tasks      | elapsed:    2.1s\n",
      "[Parallel(n_jobs=-1)]: Done 230 tasks      | elapsed:   52.2s\n",
      "[Parallel(n_jobs=-1)]: Done 484 tasks      | elapsed:  2.5min\n",
      "[Parallel(n_jobs=-1)]: Done 834 tasks      | elapsed:  6.5min\n",
      "[Parallel(n_jobs=-1)]: Done 1284 tasks      | elapsed: 14.8min\n",
      "[Parallel(n_jobs=-1)]: Done 1400 out of 1400 | elapsed: 15.2min finished\n"
     ]
    },
    {
     "name": "stdout",
     "output_type": "stream",
     "text": [
      "1 trial done\n",
      "----------\n",
      "Fitting 10 folds for each of 140 candidates, totalling 1400 fits\n"
     ]
    },
    {
     "name": "stderr",
     "output_type": "stream",
     "text": [
      "[Parallel(n_jobs=-1)]: Done  52 tasks      | elapsed:    1.9s\n",
      "[Parallel(n_jobs=-1)]: Done 234 tasks      | elapsed:   48.9s\n",
      "[Parallel(n_jobs=-1)]: Done 486 tasks      | elapsed:  2.4min\n",
      "[Parallel(n_jobs=-1)]: Done 836 tasks      | elapsed:  6.2min\n",
      "[Parallel(n_jobs=-1)]: Done 1286 tasks      | elapsed: 14.4min\n",
      "[Parallel(n_jobs=-1)]: Done 1400 out of 1400 | elapsed: 14.7min finished\n"
     ]
    },
    {
     "name": "stdout",
     "output_type": "stream",
     "text": [
      "2 trial done\n",
      "----------\n",
      "Fitting 10 folds for each of 140 candidates, totalling 1400 fits\n"
     ]
    },
    {
     "name": "stderr",
     "output_type": "stream",
     "text": [
      "[Parallel(n_jobs=-1)]: Done  52 tasks      | elapsed:    2.5s\n",
      "[Parallel(n_jobs=-1)]: Done 234 tasks      | elapsed:   48.5s\n",
      "[Parallel(n_jobs=-1)]: Done 486 tasks      | elapsed:  2.4min\n",
      "[Parallel(n_jobs=-1)]: Done 836 tasks      | elapsed:  6.3min\n",
      "[Parallel(n_jobs=-1)]: Done 1286 tasks      | elapsed: 14.3min\n",
      "[Parallel(n_jobs=-1)]: Done 1400 out of 1400 | elapsed: 14.6min finished\n"
     ]
    },
    {
     "name": "stdout",
     "output_type": "stream",
     "text": [
      "3 trial done\n",
      "----------\n",
      "Fitting 10 folds for each of 140 candidates, totalling 1400 fits\n"
     ]
    },
    {
     "name": "stderr",
     "output_type": "stream",
     "text": [
      "[Parallel(n_jobs=-1)]: Done  52 tasks      | elapsed:    1.8s\n",
      "[Parallel(n_jobs=-1)]: Done 234 tasks      | elapsed:   47.6s\n",
      "[Parallel(n_jobs=-1)]: Done 486 tasks      | elapsed:  2.4min\n",
      "[Parallel(n_jobs=-1)]: Done 836 tasks      | elapsed:  6.2min\n",
      "[Parallel(n_jobs=-1)]: Done 1286 tasks      | elapsed: 14.3min\n",
      "[Parallel(n_jobs=-1)]: Done 1400 out of 1400 | elapsed: 14.5min finished\n"
     ]
    },
    {
     "name": "stdout",
     "output_type": "stream",
     "text": [
      "4 trial done\n",
      "----------\n",
      "Fitting 10 folds for each of 140 candidates, totalling 1400 fits\n"
     ]
    },
    {
     "name": "stderr",
     "output_type": "stream",
     "text": [
      "[Parallel(n_jobs=-1)]: Done  52 tasks      | elapsed:    1.8s\n",
      "[Parallel(n_jobs=-1)]: Done 230 tasks      | elapsed:   55.6s\n",
      "[Parallel(n_jobs=-1)]: Done 485 tasks      | elapsed:  2.5min\n",
      "[Parallel(n_jobs=-1)]: Done 835 tasks      | elapsed:  6.4min\n",
      "[Parallel(n_jobs=-1)]: Done 1285 tasks      | elapsed: 14.4min\n",
      "[Parallel(n_jobs=-1)]: Done 1400 out of 1400 | elapsed: 14.7min finished\n"
     ]
    },
    {
     "name": "stdout",
     "output_type": "stream",
     "text": [
      "5 trial done\n",
      "----------\n",
      "Fitting 10 folds for each of 140 candidates, totalling 1400 fits\n"
     ]
    },
    {
     "name": "stderr",
     "output_type": "stream",
     "text": [
      "[Parallel(n_jobs=-1)]: Done  52 tasks      | elapsed:    2.3s\n",
      "[Parallel(n_jobs=-1)]: Done 234 tasks      | elapsed:   50.2s\n",
      "[Parallel(n_jobs=-1)]: Done 486 tasks      | elapsed:  2.5min\n",
      "[Parallel(n_jobs=-1)]: Done 836 tasks      | elapsed:  6.4min\n",
      "[Parallel(n_jobs=-1)]: Done 1286 tasks      | elapsed: 14.4min\n",
      "[Parallel(n_jobs=-1)]: Done 1400 out of 1400 | elapsed: 14.7min finished\n"
     ]
    },
    {
     "name": "stdout",
     "output_type": "stream",
     "text": [
      "6 trial done\n",
      "----------\n",
      "Fitting 10 folds for each of 140 candidates, totalling 1400 fits\n"
     ]
    },
    {
     "name": "stderr",
     "output_type": "stream",
     "text": [
      "[Parallel(n_jobs=-1)]: Done  52 tasks      | elapsed:    2.1s\n",
      "[Parallel(n_jobs=-1)]: Done 231 tasks      | elapsed:   51.1s\n",
      "[Parallel(n_jobs=-1)]: Done 485 tasks      | elapsed:  2.7min\n",
      "[Parallel(n_jobs=-1)]: Done 835 tasks      | elapsed:  6.5min\n",
      "[Parallel(n_jobs=-1)]: Done 1285 tasks      | elapsed: 14.5min\n",
      "[Parallel(n_jobs=-1)]: Done 1400 out of 1400 | elapsed: 14.9min finished\n"
     ]
    },
    {
     "name": "stdout",
     "output_type": "stream",
     "text": [
      "7 trial done\n",
      "----------\n",
      "Fitting 10 folds for each of 140 candidates, totalling 1400 fits\n"
     ]
    },
    {
     "name": "stderr",
     "output_type": "stream",
     "text": [
      "[Parallel(n_jobs=-1)]: Done  52 tasks      | elapsed:    3.0s\n",
      "[Parallel(n_jobs=-1)]: Done 232 tasks      | elapsed:   48.5s\n",
      "[Parallel(n_jobs=-1)]: Done 484 tasks      | elapsed:  2.4min\n",
      "[Parallel(n_jobs=-1)]: Done 834 tasks      | elapsed:  6.3min\n",
      "[Parallel(n_jobs=-1)]: Done 1284 tasks      | elapsed: 14.3min\n",
      "[Parallel(n_jobs=-1)]: Done 1400 out of 1400 | elapsed: 14.6min finished\n"
     ]
    },
    {
     "name": "stdout",
     "output_type": "stream",
     "text": [
      "8 trial done\n",
      "----------\n",
      "Fitting 10 folds for each of 140 candidates, totalling 1400 fits\n"
     ]
    },
    {
     "name": "stderr",
     "output_type": "stream",
     "text": [
      "[Parallel(n_jobs=-1)]: Done  52 tasks      | elapsed:    2.8s\n",
      "[Parallel(n_jobs=-1)]: Done 231 tasks      | elapsed:   49.3s\n",
      "[Parallel(n_jobs=-1)]: Done 484 tasks      | elapsed:  2.5min\n",
      "[Parallel(n_jobs=-1)]: Done 834 tasks      | elapsed:  6.4min\n",
      "[Parallel(n_jobs=-1)]: Done 1284 tasks      | elapsed: 14.3min\n",
      "[Parallel(n_jobs=-1)]: Done 1400 out of 1400 | elapsed: 14.7min finished\n"
     ]
    },
    {
     "name": "stdout",
     "output_type": "stream",
     "text": [
      "9 trial done\n",
      "----------\n",
      "Fitting 10 folds for each of 140 candidates, totalling 1400 fits\n"
     ]
    },
    {
     "name": "stderr",
     "output_type": "stream",
     "text": [
      "[Parallel(n_jobs=-1)]: Done  52 tasks      | elapsed:    2.7s\n",
      "[Parallel(n_jobs=-1)]: Done 232 tasks      | elapsed:   47.5s\n",
      "[Parallel(n_jobs=-1)]: Done 483 tasks      | elapsed:  2.5min\n",
      "[Parallel(n_jobs=-1)]: Done 834 tasks      | elapsed:  6.4min\n",
      "[Parallel(n_jobs=-1)]: Done 1284 tasks      | elapsed: 14.4min\n",
      "[Parallel(n_jobs=-1)]: Done 1400 out of 1400 | elapsed: 14.8min finished\n"
     ]
    },
    {
     "name": "stdout",
     "output_type": "stream",
     "text": [
      "10 trial done\n",
      "----------\n"
     ]
    }
   ],
   "source": [
    "trials, stats = nested_cross_validation(X_diff, y, build_pipelines(feature_selection, classifiers))"
   ]
  },
  {
   "cell_type": "code",
   "execution_count": 6,
   "metadata": {},
   "outputs": [
    {
     "data": {
      "text/html": [
       "<div>\n",
       "<style scoped>\n",
       "    .dataframe tbody tr th:only-of-type {\n",
       "        vertical-align: middle;\n",
       "    }\n",
       "\n",
       "    .dataframe tbody tr th {\n",
       "        vertical-align: top;\n",
       "    }\n",
       "\n",
       "    .dataframe thead th {\n",
       "        text-align: right;\n",
       "    }\n",
       "</style>\n",
       "<table border=\"1\" class=\"dataframe\">\n",
       "  <thead>\n",
       "    <tr style=\"text-align: right;\">\n",
       "      <th></th>\n",
       "      <th>fit_time</th>\n",
       "      <th>score_time</th>\n",
       "      <th>test_accuracy</th>\n",
       "      <th>test_f1</th>\n",
       "      <th>test_precision</th>\n",
       "      <th>test_recall</th>\n",
       "    </tr>\n",
       "  </thead>\n",
       "  <tbody>\n",
       "    <tr>\n",
       "      <th>count</th>\n",
       "      <td>10.000000</td>\n",
       "      <td>10.000000</td>\n",
       "      <td>10.000000</td>\n",
       "      <td>10.000000</td>\n",
       "      <td>10.000000</td>\n",
       "      <td>10.000000</td>\n",
       "    </tr>\n",
       "    <tr>\n",
       "      <th>mean</th>\n",
       "      <td>0.027360</td>\n",
       "      <td>0.005827</td>\n",
       "      <td>0.907263</td>\n",
       "      <td>0.947750</td>\n",
       "      <td>0.952113</td>\n",
       "      <td>0.944375</td>\n",
       "    </tr>\n",
       "    <tr>\n",
       "      <th>std</th>\n",
       "      <td>0.001517</td>\n",
       "      <td>0.001068</td>\n",
       "      <td>0.005368</td>\n",
       "      <td>0.003069</td>\n",
       "      <td>0.002683</td>\n",
       "      <td>0.004738</td>\n",
       "    </tr>\n",
       "    <tr>\n",
       "      <th>min</th>\n",
       "      <td>0.025272</td>\n",
       "      <td>0.004658</td>\n",
       "      <td>0.901254</td>\n",
       "      <td>0.944038</td>\n",
       "      <td>0.948457</td>\n",
       "      <td>0.936373</td>\n",
       "    </tr>\n",
       "    <tr>\n",
       "      <th>25%</th>\n",
       "      <td>0.026450</td>\n",
       "      <td>0.004967</td>\n",
       "      <td>0.902843</td>\n",
       "      <td>0.945329</td>\n",
       "      <td>0.950382</td>\n",
       "      <td>0.941929</td>\n",
       "    </tr>\n",
       "    <tr>\n",
       "      <th>50%</th>\n",
       "      <td>0.026987</td>\n",
       "      <td>0.005595</td>\n",
       "      <td>0.906241</td>\n",
       "      <td>0.947312</td>\n",
       "      <td>0.951827</td>\n",
       "      <td>0.944654</td>\n",
       "    </tr>\n",
       "    <tr>\n",
       "      <th>75%</th>\n",
       "      <td>0.028754</td>\n",
       "      <td>0.006378</td>\n",
       "      <td>0.912138</td>\n",
       "      <td>0.950291</td>\n",
       "      <td>0.953689</td>\n",
       "      <td>0.945790</td>\n",
       "    </tr>\n",
       "    <tr>\n",
       "      <th>max</th>\n",
       "      <td>0.029552</td>\n",
       "      <td>0.007678</td>\n",
       "      <td>0.914785</td>\n",
       "      <td>0.952230</td>\n",
       "      <td>0.957194</td>\n",
       "      <td>0.953075</td>\n",
       "    </tr>\n",
       "  </tbody>\n",
       "</table>\n",
       "</div>"
      ],
      "text/plain": [
       "        fit_time  score_time  test_accuracy    test_f1  test_precision  \\\n",
       "count  10.000000   10.000000      10.000000  10.000000       10.000000   \n",
       "mean    0.027360    0.005827       0.907263   0.947750        0.952113   \n",
       "std     0.001517    0.001068       0.005368   0.003069        0.002683   \n",
       "min     0.025272    0.004658       0.901254   0.944038        0.948457   \n",
       "25%     0.026450    0.004967       0.902843   0.945329        0.950382   \n",
       "50%     0.026987    0.005595       0.906241   0.947312        0.951827   \n",
       "75%     0.028754    0.006378       0.912138   0.950291        0.953689   \n",
       "max     0.029552    0.007678       0.914785   0.952230        0.957194   \n",
       "\n",
       "       test_recall  \n",
       "count    10.000000  \n",
       "mean      0.944375  \n",
       "std       0.004738  \n",
       "min       0.936373  \n",
       "25%       0.941929  \n",
       "50%       0.944654  \n",
       "75%       0.945790  \n",
       "max       0.953075  "
      ]
     },
     "execution_count": 6,
     "metadata": {},
     "output_type": "execute_result"
    }
   ],
   "source": [
    "stats.describe()"
   ]
  },
  {
   "cell_type": "code",
   "execution_count": 9,
   "metadata": {},
   "outputs": [],
   "source": [
    "kbest = SelectKBest().fit(X_diff, y)\n",
    "df, _ = preprocess_results(results, labels, *[True, True, False, False])"
   ]
  },
  {
   "cell_type": "code",
   "execution_count": 10,
   "metadata": {},
   "outputs": [],
   "source": [
    "corrected_p_values = multipletests(kbest.pvalues_, method='bonferroni')"
   ]
  },
  {
   "cell_type": "markdown",
   "metadata": {},
   "source": [
    "### most significant pathways for breast-cancer"
   ]
  },
  {
   "cell_type": "code",
   "execution_count": 11,
   "metadata": {},
   "outputs": [
    {
     "data": {
      "text/plain": [
       "array([], shape=(0, 1), dtype=int64)"
      ]
     },
     "execution_count": 11,
     "metadata": {},
     "output_type": "execute_result"
    }
   ],
   "source": [
    "np.argwhere(corrected_p_values[0] == True)"
   ]
  }
 ],
 "metadata": {
  "kernelspec": {
   "display_name": "Python 3",
   "language": "python",
   "name": "python3"
  },
  "language_info": {
   "codemirror_mode": {
    "name": "ipython",
    "version": 3
   },
   "file_extension": ".py",
   "mimetype": "text/x-python",
   "name": "python",
   "nbconvert_exporter": "python",
   "pygments_lexer": "ipython3",
   "version": "3.5.2"
  }
 },
 "nbformat": 4,
 "nbformat_minor": 2
}
