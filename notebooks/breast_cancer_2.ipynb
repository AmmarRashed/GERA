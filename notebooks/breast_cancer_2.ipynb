{
 "cells": [
  {
   "cell_type": "code",
   "execution_count": 1,
   "metadata": {},
   "outputs": [],
   "source": [
    "import sys\n",
    "sys.path.append(\"../classes\")"
   ]
  },
  {
   "cell_type": "code",
   "execution_count": 2,
   "metadata": {},
   "outputs": [],
   "source": [
    "import pickle\n",
    "from sklearn.svm import SVC\n",
    "\n",
    "from sklearn.feature_selection import SelectKBest\n",
    "from sklearn.decomposition import PCA\n",
    "\n",
    "import numpy as np, pandas as pd\n",
    "from geno_classifier import *\n",
    "from itertools import starmap\n",
    "\n",
    "import GEOparse"
   ]
  },
  {
   "cell_type": "markdown",
   "metadata": {},
   "source": [
    "## GDS3952"
   ]
  },
  {
   "cell_type": "code",
   "execution_count": 3,
   "metadata": {},
   "outputs": [
    {
     "name": "stderr",
     "output_type": "stream",
     "text": [
      "20-Jan-2018 15:15:07 INFO GEOparse - File already exist: using local version.\n",
      "20-Jan-2018 15:15:07 INFO GEOparse - Parsing ./GDS3952.soft.gz: \n",
      "20-Jan-2018 15:15:07 DEBUG GEOparse - DATABASE: Geo\n",
      "20-Jan-2018 15:15:07 DEBUG GEOparse - DATASET: GDS3952\n",
      "20-Jan-2018 15:15:07 DEBUG GEOparse - SUBSET: GDS3952_1\n",
      "20-Jan-2018 15:15:07 DEBUG GEOparse - SUBSET: GDS3952_2\n",
      "20-Jan-2018 15:15:07 DEBUG GEOparse - SUBSET: GDS3952_3\n",
      "20-Jan-2018 15:15:07 DEBUG GEOparse - SUBSET: GDS3952_4\n",
      "20-Jan-2018 15:15:07 DEBUG GEOparse - SUBSET: GDS3952_5\n",
      "20-Jan-2018 15:15:07 DEBUG GEOparse - SUBSET: GDS3952_6\n",
      "20-Jan-2018 15:15:07 DEBUG GEOparse - SUBSET: GDS3952_7\n",
      "20-Jan-2018 15:15:07 DEBUG GEOparse - SUBSET: GDS3952_8\n",
      "20-Jan-2018 15:15:07 DEBUG GEOparse - DATASET: GDS3952\n",
      "/home/abdu/Desktop/virtualenv/GERA/lib/python3.5/site-packages/GEOparse/GEOparse.py:332 \u001b[1;31mFutureWarning\u001b[0m: from_csv is deprecated. Please use read_csv(...) instead. Note that some of the default arguments are different, so please refer to the documentation for from_csv when changing your function calls\n"
     ]
    }
   ],
   "source": [
    "breast_cancer_dataset = GEOparse.get_GEO('GDS3952').table"
   ]
  },
  {
   "cell_type": "markdown",
   "metadata": {},
   "source": [
    "## sample types"
   ]
  },
  {
   "cell_type": "markdown",
   "metadata": {},
   "source": [
    "#### unhealthy"
   ]
  },
  {
   "cell_type": "code",
   "execution_count": 4,
   "metadata": {},
   "outputs": [],
   "source": [
    "unhealthy_raw = '\\\n",
    "#GSM681992 = Value for GSM681992: PBMC_malignant_training_1; src: PBMCs from patients with diagnosis of invasive breast cancer, confirmed by diagnostic biopsy\\\n",
    "#GSM681993 = Value for GSM681993: PBMC_malignant_training_2; src: PBMCs from patients with diagnosis of invasive breast cancer, confirmed by diagnostic biopsy\\\n",
    "#GSM681994 = Value for GSM681994: PBMC_malignant_training_3; src: PBMCs from patients with diagnosis of invasive breast cancer, confirmed by diagnostic biopsy\\\n",
    "#GSM681995 = Value for GSM681995: PBMC_malignant_training_4; src: PBMCs from patients with diagnosis of invasive breast cancer, confirmed by diagnostic biopsy\\\n",
    "#GSM681996 = Value for GSM681996: PBMC_malignant_training_5; src: PBMCs from patients with diagnosis of invasive breast cancer, confirmed by diagnostic biopsy\\\n",
    "#GSM681997 = Value for GSM681997: PBMC_malignant_training_6; src: PBMCs from patients with diagnosis of invasive breast cancer, confirmed by diagnostic biopsy\\\n",
    "#GSM681998 = Value for GSM681998: PBMC_malignant_training_7; src: PBMCs from patients with diagnosis of invasive breast cancer, confirmed by diagnostic biopsy\\\n",
    "#GSM681999 = Value for GSM681999: PBMC_malignant_training_8; src: PBMCs from patients with diagnosis of invasive breast cancer, confirmed by diagnostic biopsy\\\n",
    "#GSM682000 = Value for GSM682000: PBMC_malignant_training_9; src: PBMCs from patients with diagnosis of invasive breast cancer, confirmed by diagnostic biopsy\\\n",
    "#GSM682001 = Value for GSM682001: PBMC_malignant_training_10; src: PBMCs from patients with diagnosis of invasive breast cancer, confirmed by diagnostic biopsy\\\n",
    "#GSM682055 = Value for GSM682055: PBMC_malignant_validation_1; src: PBMCs from patients with diagnosis of invasive breast cancer, confirmed by diagnostic biopsy\\\n",
    "#GSM682056 = Value for GSM682056: PBMC_malignant_validation_2; src: PBMCs from patients with diagnosis of invasive breast cancer, confirmed by diagnostic biopsy\\\n",
    "#GSM682057 = Value for GSM682057: PBMC_malignant_validation_3; src: PBMCs from patients with diagnosis of invasive breast cancer, confirmed by diagnostic biopsy\\\n",
    "#GSM682058 = Value for GSM682058: PBMC_malignant_validation_4; src: PBMCs from patients with diagnosis of invasive breast cancer, confirmed by diagnostic biopsy\\\n",
    "#GSM682059 = Value for GSM682059: PBMC_malignant_validation_5; src: PBMCs from patients with diagnosis of invasive breast cancer, confirmed by diagnostic biopsy\\\n",
    "#GSM682060 = Value for GSM682060: PBMC_malignant_validation_6; src: PBMCs from patients with diagnosis of invasive breast cancer, confirmed by diagnostic biopsy\\\n",
    "#GSM682061 = Value for GSM682061: PBMC_malignant_validation_7; src: PBMCs from patients with diagnosis of invasive breast cancer, confirmed by diagnostic biopsy\\\n",
    "#GSM682062 = Value for GSM682062: PBMC_malignant_validation_8; src: PBMCs from patients with diagnosis of invasive breast cancer, confirmed by diagnostic biopsy\\\n",
    "#GSM682063 = Value for GSM682063: PBMC_malignant_validation_9; src: PBMCs from patients with diagnosis of invasive breast cancer, confirmed by diagnostic biopsy\\\n",
    "#GSM682064 = Value for GSM682064: PBMC_malignant_validation_10; src: PBMCs from patients with diagnosis of invasive breast cancer, confirmed by diagnostic biopsy\\\n",
    "#GSM682065 = Value for GSM682065: PBMC_malignant_validation_11; src: PBMCs from patients with diagnosis of invasive breast cancer, confirmed by diagnostic biopsy\\\n",
    "#GSM682066 = Value for GSM682066: PBMC_malignant_validation_12; src: PBMCs from patients with diagnosis of invasive breast cancer, confirmed by diagnostic biopsy\\\n",
    "#GSM682067 = Value for GSM682067: PBMC_malignant_validation_13; src: PBMCs from patients with diagnosis of invasive breast cancer, confirmed by diagnostic biopsy\\\n",
    "#GSM682068 = Value for GSM682068: PBMC_malignant_validation_14; src: PBMCs from patients with diagnosis of invasive breast cancer, confirmed by diagnostic biopsy\\\n",
    "#GSM682069 = Value for GSM682069: PBMC_malignant_validation_15; src: PBMCs from patients with diagnosis of invasive breast cancer, confirmed by diagnostic biopsy\\\n",
    "#GSM682070 = Value for GSM682070: PBMC_malignant_validation_16; src: PBMCs from patients with diagnosis of invasive breast cancer, confirmed by diagnostic biopsy\\\n",
    "#GSM682071 = Value for GSM682071: PBMC_malignant_validation_17; src: PBMCs from patients with diagnosis of invasive breast cancer, confirmed by diagnostic biopsy\\\n",
    "#GSM682072 = Value for GSM682072: PBMC_malignant_validation_18; src: PBMCs from patients with diagnosis of invasive breast cancer, confirmed by diagnostic biopsy\\\n",
    "#GSM682073 = Value for GSM682073: PBMC_malignant_validation_19; src: PBMCs from patients with diagnosis of invasive breast cancer, confirmed by diagnostic biopsy\\\n",
    "#GSM682074 = Value for GSM682074: PBMC_malignant_validation_20; src: PBMCs from patients with diagnosis of invasive breast cancer, confirmed by diagnostic biopsy\\\n",
    "#GSM682075 = Value for GSM682075: PBMC_malignant_validation_21; src: PBMCs from patients with diagnosis of invasive breast cancer, confirmed by diagnostic biopsy\\\n",
    "#GSM682076 = Value for GSM682076: PBMC_malignant_validation_22; src: PBMCs from patients with diagnosis of invasive breast cancer, confirmed by diagnostic biopsy\\\n",
    "#GSM682077 = Value for GSM682077: PBMC_malignant_validation_23; src: PBMCs from patients with diagnosis of invasive breast cancer, confirmed by diagnostic biopsy\\\n",
    "#GSM682078 = Value for GSM682078: PBMC_malignant_validation_24; src: PBMCs from patients with diagnosis of invasive breast cancer, confirmed by diagnostic biopsy\\\n",
    "#GSM682079 = Value for GSM682079: PBMC_malignant_validation_25; src: PBMCs from patients with diagnosis of invasive breast cancer, confirmed by diagnostic biopsy\\\n",
    "#GSM682080 = Value for GSM682080: PBMC_malignant_validation_26; src: PBMCs from patients with diagnosis of invasive breast cancer, confirmed by diagnostic biopsy\\\n",
    "#GSM682081 = Value for GSM682081: PBMC_malignant_validation_27; src: PBMCs from patients with diagnosis of invasive breast cancer, confirmed by diagnostic biopsy\\\n",
    "#GSM682082 = Value for GSM682082: PBMC_malignant_validation_28; src: PBMCs from patients with diagnosis of invasive breast cancer, confirmed by diagnostic biopsy\\\n",
    "#GSM682083 = Value for GSM682083: PBMC_malignant_validation_29; src: PBMCs from patients with diagnosis of invasive breast cancer, confirmed by diagnostic biopsy\\\n",
    "#GSM682084 = Value for GSM682084: PBMC_malignant_validation_30; src: PBMCs from patients with diagnosis of invasive breast cancer, confirmed by diagnostic biopsy\\\n",
    "#GSM682085 = Value for GSM682085: PBMC_malignant_validation_31; src: PBMCs from patients with diagnosis of invasive breast cancer, confirmed by diagnostic biopsy\\\n",
    "#GSM682086 = Value for GSM682086: PBMC_malignant_validation_32; src: PBMCs from patients with diagnosis of invasive breast cancer, confirmed by diagnostic biopsy\\\n",
    "#GSM682087 = Value for GSM682087: PBMC_malignant_validation_33; src: PBMCs from patients with diagnosis of invasive breast cancer, confirmed by diagnostic biopsy\\\n",
    "#GSM682088 = Value for GSM682088: PBMC_malignant_validation_34; src: PBMCs from patients with diagnosis of invasive breast cancer, confirmed by diagnostic biopsy\\\n",
    "#GSM682089 = Value for GSM682089: PBMC_malignant_validation_35; src: PBMCs from patients with diagnosis of invasive breast cancer, confirmed by diagnostic biopsy\\\n",
    "#GSM682090 = Value for GSM682090: PBMC_malignant_validation_36; src: PBMCs from patients with diagnosis of invasive breast cancer, confirmed by diagnostic biopsy\\\n",
    "#GSM682091 = Value for GSM682091: PBMC_malignant_validation_37; src: PBMCs from patients with diagnosis of invasive breast cancer, confirmed by diagnostic biopsy\\\n",
    "#GSM682092 = Value for GSM682092: PBMC_malignant_validation_38; src: PBMCs from patients with diagnosis of invasive breast cancer, confirmed by diagnostic biopsy\\\n",
    "#GSM682093 = Value for GSM682093: PBMC_malignant_validation_39; src: PBMCs from patients with diagnosis of invasive breast cancer, confirmed by diagnostic biopsy\\\n",
    "#GSM682094 = Value for GSM682094: PBMC_malignant_validation_40; src: PBMCs from patients with diagnosis of invasive breast cancer, confirmed by diagnostic biopsy\\\n",
    "#GSM682095 = Value for GSM682095: PBMC_malignant_validation_41; src: PBMCs from patients with diagnosis of invasive breast cancer, confirmed by diagnostic biopsy\\\n",
    "#GSM682123 = Value for GSM682123: PBMC_malignant_validation_42; src: PBMCs from patients with diagnosis of invasive breast cancer, confirmed by diagnostic biopsy\\\n",
    "#GSM682124 = Value for GSM682124: PBMC_malignant_validation_43; src: PBMCs from patients with diagnosis of invasive breast cancer, confirmed by diagnostic biopsy\\\n",
    "#GSM682125 = Value for GSM682125: PBMC_malignant_validation_44; src: PBMCs from patients with diagnosis of invasive breast cancer, confirmed by diagnostic biopsy\\\n",
    "#GSM682126 = Value for GSM682126: PBMC_malignant_validation_45; src: PBMCs from patients with diagnosis of invasive breast cancer, confirmed by diagnostic biopsy\\\n",
    "#GSM682127 = Value for GSM682127: PBMC_malignant_validation_46; src: PBMCs from patients with diagnosis of invasive breast cancer, confirmed by diagnostic biopsy\\\n",
    "#GSM682128 = Value for GSM682128: PBMC_malignant_validation_47; src: PBMCs from patients with diagnosis of invasive breast cancer, confirmed by diagnostic biopsy'"
   ]
  },
  {
   "cell_type": "markdown",
   "metadata": {},
   "source": [
    "#### healthy"
   ]
  },
  {
   "cell_type": "code",
   "execution_count": 5,
   "metadata": {},
   "outputs": [],
   "source": [
    "healthy_raw = '\\\n",
    "#GSM681982 = Value for GSM681982: PBMC_normal_training_1; src: PBMCs from patients with normal mammogram\\\n",
    "#GSM681983 = Value for GSM681983: PBMC_normal_training_2; src: PBMCs from patients with normal mammogram\\\n",
    "#GSM681984 = Value for GSM681984: PBMC_normal_training_3; src: PBMCs from patients with normal mammogram\\\n",
    "#GSM681985 = Value for GSM681985: PBMC_normal_training_4; src: PBMCs from patients with normal mammogram\\\n",
    "#GSM681986 = Value for GSM681986: PBMC_normal_training_5; src: PBMCs from patients with normal mammogram\\\n",
    "#GSM681987 = Value for GSM681987: PBMC_normal_training_6; src: PBMCs from patients with normal mammogram\\\n",
    "#GSM681988 = Value for GSM681988: PBMC_normal_training_7; src: PBMCs from patients with normal mammogram\\\n",
    "#GSM681989 = Value for GSM681989: PBMC_normal_training_8; src: PBMCs from patients with normal mammogram\\\n",
    "#GSM681990 = Value for GSM681990: PBMC_normal_training_9; src: PBMCs from patients with normal mammogram\\\n",
    "#GSM681991 = Value for GSM681991: PBMC_normal_training_10; src: PBMCs from patients with normal mammogram\\\n",
    "#GSM682034 = Value for GSM682034: PBMC_normal_validation_1; src: PBMCs from patients with normal mammogram\\\n",
    "#GSM682035 = Value for GSM682035: PBMC_normal_validation_2; src: PBMCs from patients with normal mammogram\\\n",
    "#GSM682036 = Value for GSM682036: PBMC_normal_validation_3; src: PBMCs from patients with normal mammogram\\\n",
    "#GSM682037 = Value for GSM682037: PBMC_normal_validation_4; src: PBMCs from patients with normal mammogram\\\n",
    "#GSM682038 = Value for GSM682038: PBMC_normal_validation_5; src: PBMCs from patients with normal mammogram\\\n",
    "#GSM682039 = Value for GSM682039: PBMC_normal_validation_6; src: PBMCs from patients with normal mammogram\\\n",
    "#GSM682040 = Value for GSM682040: PBMC_normal_validation_7; src: PBMCs from patients with normal mammogram\\\n",
    "#GSM682041 = Value for GSM682041: PBMC_normal_validation_8; src: PBMCs from patients with normal mammogram\\\n",
    "#GSM682042 = Value for GSM682042: PBMC_normal_validation_9; src: PBMCs from patients with normal mammogram\\\n",
    "#GSM682043 = Value for GSM682043: PBMC_normal_validation_10; src: PBMCs from patients with normal mammogram\\\n",
    "#GSM682044 = Value for GSM682044: PBMC_normal_validation_11; src: PBMCs from patients with normal mammogram\\\n",
    "#GSM682045 = Value for GSM682045: PBMC_normal_validation_12; src: PBMCs from patients with normal mammogram\\\n",
    "#GSM682046 = Value for GSM682046: PBMC_normal_validation_13; src: PBMCs from patients with normal mammogram\\\n",
    "#GSM682047 = Value for GSM682047: PBMC_normal_validation_14; src: PBMCs from patients with normal mammogram\\\n",
    "#GSM682048 = Value for GSM682048: PBMC_normal_validation_15; src: PBMCs from patients with normal mammogram\\\n",
    "#GSM682049 = Value for GSM682049: PBMC_normal_validation_16; src: PBMCs from patients with normal mammogram\\\n",
    "#GSM682050 = Value for GSM682050: PBMC_normal_validation_17; src: PBMCs from patients with normal mammogram\\\n",
    "#GSM682051 = Value for GSM682051: PBMC_normal_validation_18; src: PBMCs from patients with normal mammogram\\\n",
    "#GSM682052 = Value for GSM682052: PBMC_normal_validation_19; src: PBMCs from patients with normal mammogram\\\n",
    "#GSM682053 = Value for GSM682053: PBMC_normal_validation_20; src: PBMCs from patients with normal mammogram\\\n",
    "#GSM682054 = Value for GSM682054: PBMC_normal_validation_21; src: PBMCs from patients with normal mammogram'"
   ]
  },
  {
   "cell_type": "code",
   "execution_count": 6,
   "metadata": {},
   "outputs": [],
   "source": [
    "clean = lambda string: string.replace(':', '').split()\n",
    "predicate = lambda word: word.startswith('GSM')\n",
    "\n",
    "healthy = set(filter(predicate, clean(healthy_raw)))\n",
    "unhealthy = set(filter(predicate, clean(unhealthy_raw)))"
   ]
  },
  {
   "cell_type": "markdown",
   "metadata": {},
   "source": [
    "### number of samples"
   ]
  },
  {
   "cell_type": "code",
   "execution_count": 7,
   "metadata": {},
   "outputs": [
    {
     "name": "stdout",
     "output_type": "stream",
     "text": [
      "31 57\n"
     ]
    }
   ],
   "source": [
    "print(len(healthy), len(unhealthy))"
   ]
  },
  {
   "cell_type": "code",
   "execution_count": 8,
   "metadata": {},
   "outputs": [
    {
     "data": {
      "text/plain": [
       "set()"
      ]
     },
     "execution_count": 8,
     "metadata": {},
     "output_type": "execute_result"
    }
   ],
   "source": [
    "healthy & unhealthy"
   ]
  },
  {
   "cell_type": "code",
   "execution_count": 9,
   "metadata": {},
   "outputs": [
    {
     "data": {
      "text/html": [
       "<div>\n",
       "<style scoped>\n",
       "    .dataframe tbody tr th:only-of-type {\n",
       "        vertical-align: middle;\n",
       "    }\n",
       "\n",
       "    .dataframe tbody tr th {\n",
       "        vertical-align: top;\n",
       "    }\n",
       "\n",
       "    .dataframe thead th {\n",
       "        text-align: right;\n",
       "    }\n",
       "</style>\n",
       "<table border=\"1\" class=\"dataframe\">\n",
       "  <thead>\n",
       "    <tr style=\"text-align: right;\">\n",
       "      <th></th>\n",
       "      <th>ID_REF</th>\n",
       "      <th>IDENTIFIER</th>\n",
       "      <th>GSM682002</th>\n",
       "      <th>GSM682003</th>\n",
       "      <th>GSM682004</th>\n",
       "    </tr>\n",
       "  </thead>\n",
       "  <tbody>\n",
       "    <tr>\n",
       "      <th>0</th>\n",
       "      <td>1007_s_at</td>\n",
       "      <td>MIR4640</td>\n",
       "      <td>5.66</td>\n",
       "      <td>5.43</td>\n",
       "      <td>5.88</td>\n",
       "    </tr>\n",
       "    <tr>\n",
       "      <th>1</th>\n",
       "      <td>1053_at</td>\n",
       "      <td>RFC2</td>\n",
       "      <td>7.01</td>\n",
       "      <td>6.37</td>\n",
       "      <td>6.20</td>\n",
       "    </tr>\n",
       "    <tr>\n",
       "      <th>2</th>\n",
       "      <td>117_at</td>\n",
       "      <td>HSPA6</td>\n",
       "      <td>6.13</td>\n",
       "      <td>6.51</td>\n",
       "      <td>6.41</td>\n",
       "    </tr>\n",
       "    <tr>\n",
       "      <th>3</th>\n",
       "      <td>121_at</td>\n",
       "      <td>PAX8</td>\n",
       "      <td>6.79</td>\n",
       "      <td>6.93</td>\n",
       "      <td>6.40</td>\n",
       "    </tr>\n",
       "    <tr>\n",
       "      <th>4</th>\n",
       "      <td>1255_g_at</td>\n",
       "      <td>GUCA1A</td>\n",
       "      <td>2.11</td>\n",
       "      <td>2.11</td>\n",
       "      <td>2.07</td>\n",
       "    </tr>\n",
       "  </tbody>\n",
       "</table>\n",
       "</div>"
      ],
      "text/plain": [
       "      ID_REF IDENTIFIER  GSM682002  GSM682003  GSM682004\n",
       "0  1007_s_at    MIR4640       5.66       5.43       5.88\n",
       "1    1053_at       RFC2       7.01       6.37       6.20\n",
       "2     117_at      HSPA6       6.13       6.51       6.41\n",
       "3     121_at       PAX8       6.79       6.93       6.40\n",
       "4  1255_g_at     GUCA1A       2.11       2.11       2.07"
      ]
     },
     "execution_count": 9,
     "metadata": {},
     "output_type": "execute_result"
    }
   ],
   "source": [
    "breast_cancer_dataset[breast_cancer_dataset.columns[:5]].head()"
   ]
  },
  {
   "cell_type": "code",
   "execution_count": 10,
   "metadata": {},
   "outputs": [],
   "source": [
    "labels_ = [(h, 'healthy') for h in healthy] + [(d, 'unhealthy') for d in unhealthy]"
   ]
  },
  {
   "cell_type": "code",
   "execution_count": null,
   "metadata": {
    "scrolled": true
   },
   "outputs": [],
   "source": [
    "X, y = parse_database('GDS3952', labels=dict(labels_), n_jobs=-1)"
   ]
  },
  {
   "cell_type": "markdown",
   "metadata": {},
   "source": [
    "### Flux variability analysis"
   ]
  },
  {
   "cell_type": "code",
   "execution_count": null,
   "metadata": {},
   "outputs": [],
   "source": [
    "results = flux_variance_analysis(X_, y_)\n",
    "pickle.dump(results, open(\"../results/breast_cancer_2.results\", \"wb\"))"
   ]
  },
  {
   "cell_type": "code",
   "execution_count": 19,
   "metadata": {},
   "outputs": [],
   "source": [
    "results = pickle.load(open('../results/breast_cancer_2.results','rb'))\n",
    "labels = pickle.load(open('../datasets/breast_cancer_2_y','rb'))\n",
    "\n",
    "X_diff, y = preprocess_results(results, labels, use_diff_score=True, use_pathways=True)"
   ]
  },
  {
   "cell_type": "markdown",
   "metadata": {},
   "source": [
    "### nested-cross validation over best pipeline (using diff-values)"
   ]
  },
  {
   "cell_type": "code",
   "execution_count": 32,
   "metadata": {},
   "outputs": [],
   "source": [
    "classifiers = [\n",
    "    (SVC, {\n",
    "        'C': np.geomspace(1e-6, 1e6, num=10),\n",
    "    })\n",
    "]\n",
    "\n",
    "feature_selection = [\n",
    "    (PCA, {\n",
    "    'n_components': range(3, 81+1, 6)\n",
    "  })\n",
    "]"
   ]
  },
  {
   "cell_type": "code",
   "execution_count": 33,
   "metadata": {
    "scrolled": false
   },
   "outputs": [
    {
     "name": "stdout",
     "output_type": "stream",
     "text": [
      "Fitting 10 folds for each of 140 candidates, totalling 1400 fits\n"
     ]
    },
    {
     "name": "stderr",
     "output_type": "stream",
     "text": [
      "[Parallel(n_jobs=-1)]: Done 232 tasks      | elapsed:    2.9s\n",
      "[Parallel(n_jobs=-1)]: Done 1400 out of 1400 | elapsed:   11.1s finished\n"
     ]
    },
    {
     "name": "stdout",
     "output_type": "stream",
     "text": [
      "1 trial done\n",
      "----------\n",
      "Fitting 10 folds for each of 140 candidates, totalling 1400 fits\n"
     ]
    },
    {
     "name": "stderr",
     "output_type": "stream",
     "text": [
      "[Parallel(n_jobs=-1)]: Done 196 tasks      | elapsed:    2.7s\n",
      "[Parallel(n_jobs=-1)]: Done 1400 out of 1400 | elapsed:   10.5s finished\n"
     ]
    },
    {
     "name": "stdout",
     "output_type": "stream",
     "text": [
      "2 trial done\n",
      "----------\n",
      "Fitting 10 folds for each of 140 candidates, totalling 1400 fits\n"
     ]
    },
    {
     "name": "stderr",
     "output_type": "stream",
     "text": [
      "[Parallel(n_jobs=-1)]: Done 196 tasks      | elapsed:    2.4s\n",
      "[Parallel(n_jobs=-1)]: Done 1400 out of 1400 | elapsed:   10.4s finished\n"
     ]
    },
    {
     "name": "stdout",
     "output_type": "stream",
     "text": [
      "3 trial done\n",
      "----------\n",
      "Fitting 10 folds for each of 140 candidates, totalling 1400 fits\n"
     ]
    },
    {
     "name": "stderr",
     "output_type": "stream",
     "text": [
      "[Parallel(n_jobs=-1)]: Done 232 tasks      | elapsed:    3.6s\n",
      "[Parallel(n_jobs=-1)]: Done 1400 out of 1400 | elapsed:   11.5s finished\n"
     ]
    },
    {
     "name": "stdout",
     "output_type": "stream",
     "text": [
      "4 trial done\n",
      "----------\n",
      "Fitting 10 folds for each of 140 candidates, totalling 1400 fits\n"
     ]
    },
    {
     "name": "stderr",
     "output_type": "stream",
     "text": [
      "[Parallel(n_jobs=-1)]: Done 232 tasks      | elapsed:    2.8s\n",
      "[Parallel(n_jobs=-1)]: Done 1400 out of 1400 | elapsed:    9.8s finished\n"
     ]
    },
    {
     "name": "stdout",
     "output_type": "stream",
     "text": [
      "5 trial done\n",
      "----------\n",
      "Fitting 10 folds for each of 140 candidates, totalling 1400 fits\n"
     ]
    },
    {
     "name": "stderr",
     "output_type": "stream",
     "text": [
      "[Parallel(n_jobs=-1)]: Done 196 tasks      | elapsed:    2.4s\n",
      "[Parallel(n_jobs=-1)]: Done 1400 out of 1400 | elapsed:   10.3s finished\n"
     ]
    },
    {
     "name": "stdout",
     "output_type": "stream",
     "text": [
      "6 trial done\n",
      "----------\n",
      "Fitting 10 folds for each of 140 candidates, totalling 1400 fits\n"
     ]
    },
    {
     "name": "stderr",
     "output_type": "stream",
     "text": [
      "[Parallel(n_jobs=-1)]: Done 232 tasks      | elapsed:    2.9s\n",
      "[Parallel(n_jobs=-1)]: Done 1400 out of 1400 | elapsed:   10.3s finished\n"
     ]
    },
    {
     "name": "stdout",
     "output_type": "stream",
     "text": [
      "7 trial done\n",
      "----------\n",
      "Fitting 10 folds for each of 140 candidates, totalling 1400 fits\n"
     ]
    },
    {
     "name": "stderr",
     "output_type": "stream",
     "text": [
      "[Parallel(n_jobs=-1)]: Done 232 tasks      | elapsed:    3.4s\n",
      "[Parallel(n_jobs=-1)]: Done 1400 out of 1400 | elapsed:   11.9s finished\n"
     ]
    },
    {
     "name": "stdout",
     "output_type": "stream",
     "text": [
      "8 trial done\n",
      "----------\n",
      "Fitting 10 folds for each of 140 candidates, totalling 1400 fits\n"
     ]
    },
    {
     "name": "stderr",
     "output_type": "stream",
     "text": [
      "[Parallel(n_jobs=-1)]: Done 196 tasks      | elapsed:    2.2s\n",
      "[Parallel(n_jobs=-1)]: Done 1400 out of 1400 | elapsed:   10.0s finished\n"
     ]
    },
    {
     "name": "stdout",
     "output_type": "stream",
     "text": [
      "9 trial done\n",
      "----------\n",
      "Fitting 10 folds for each of 140 candidates, totalling 1400 fits\n"
     ]
    },
    {
     "name": "stderr",
     "output_type": "stream",
     "text": [
      "[Parallel(n_jobs=-1)]: Done 160 tasks      | elapsed:    2.1s\n",
      "[Parallel(n_jobs=-1)]: Done 1400 out of 1400 | elapsed:   11.4s finished\n"
     ]
    },
    {
     "name": "stdout",
     "output_type": "stream",
     "text": [
      "10 trial done\n",
      "----------\n"
     ]
    }
   ],
   "source": [
    "trials, stats = nested_cross_validation(X_diff, y, build_pipelines(feature_selection, classifiers))"
   ]
  },
  {
   "cell_type": "code",
   "execution_count": 37,
   "metadata": {},
   "outputs": [
    {
     "data": {
      "text/html": [
       "<div>\n",
       "<style scoped>\n",
       "    .dataframe tbody tr th:only-of-type {\n",
       "        vertical-align: middle;\n",
       "    }\n",
       "\n",
       "    .dataframe tbody tr th {\n",
       "        vertical-align: top;\n",
       "    }\n",
       "\n",
       "    .dataframe thead th {\n",
       "        text-align: right;\n",
       "    }\n",
       "</style>\n",
       "<table border=\"1\" class=\"dataframe\">\n",
       "  <thead>\n",
       "    <tr style=\"text-align: right;\">\n",
       "      <th></th>\n",
       "      <th>fit_time</th>\n",
       "      <th>score_time</th>\n",
       "      <th>test_accuracy</th>\n",
       "      <th>test_f1</th>\n",
       "      <th>test_precision</th>\n",
       "      <th>test_recall</th>\n",
       "    </tr>\n",
       "  </thead>\n",
       "  <tbody>\n",
       "    <tr>\n",
       "      <th>count</th>\n",
       "      <td>10.000000</td>\n",
       "      <td>10.000000</td>\n",
       "      <td>10.000000</td>\n",
       "      <td>10.000000</td>\n",
       "      <td>10.000000</td>\n",
       "      <td>10.000000</td>\n",
       "    </tr>\n",
       "    <tr>\n",
       "      <th>mean</th>\n",
       "      <td>0.005337</td>\n",
       "      <td>0.002048</td>\n",
       "      <td>0.747306</td>\n",
       "      <td>0.829951</td>\n",
       "      <td>0.746036</td>\n",
       "      <td>0.945333</td>\n",
       "    </tr>\n",
       "    <tr>\n",
       "      <th>std</th>\n",
       "      <td>0.002588</td>\n",
       "      <td>0.000195</td>\n",
       "      <td>0.018718</td>\n",
       "      <td>0.011179</td>\n",
       "      <td>0.020226</td>\n",
       "      <td>0.014841</td>\n",
       "    </tr>\n",
       "    <tr>\n",
       "      <th>min</th>\n",
       "      <td>0.003749</td>\n",
       "      <td>0.001810</td>\n",
       "      <td>0.711944</td>\n",
       "      <td>0.813114</td>\n",
       "      <td>0.707738</td>\n",
       "      <td>0.926667</td>\n",
       "    </tr>\n",
       "    <tr>\n",
       "      <th>25%</th>\n",
       "      <td>0.003893</td>\n",
       "      <td>0.001936</td>\n",
       "      <td>0.737153</td>\n",
       "      <td>0.821292</td>\n",
       "      <td>0.740268</td>\n",
       "      <td>0.933333</td>\n",
       "    </tr>\n",
       "    <tr>\n",
       "      <th>50%</th>\n",
       "      <td>0.004096</td>\n",
       "      <td>0.002003</td>\n",
       "      <td>0.745000</td>\n",
       "      <td>0.829073</td>\n",
       "      <td>0.743155</td>\n",
       "      <td>0.945000</td>\n",
       "    </tr>\n",
       "    <tr>\n",
       "      <th>75%</th>\n",
       "      <td>0.004867</td>\n",
       "      <td>0.002144</td>\n",
       "      <td>0.758194</td>\n",
       "      <td>0.837443</td>\n",
       "      <td>0.752708</td>\n",
       "      <td>0.959167</td>\n",
       "    </tr>\n",
       "    <tr>\n",
       "      <th>max</th>\n",
       "      <td>0.011162</td>\n",
       "      <td>0.002419</td>\n",
       "      <td>0.775278</td>\n",
       "      <td>0.847429</td>\n",
       "      <td>0.779762</td>\n",
       "      <td>0.966667</td>\n",
       "    </tr>\n",
       "  </tbody>\n",
       "</table>\n",
       "</div>"
      ],
      "text/plain": [
       "        fit_time  score_time  test_accuracy    test_f1  test_precision  \\\n",
       "count  10.000000   10.000000      10.000000  10.000000       10.000000   \n",
       "mean    0.005337    0.002048       0.747306   0.829951        0.746036   \n",
       "std     0.002588    0.000195       0.018718   0.011179        0.020226   \n",
       "min     0.003749    0.001810       0.711944   0.813114        0.707738   \n",
       "25%     0.003893    0.001936       0.737153   0.821292        0.740268   \n",
       "50%     0.004096    0.002003       0.745000   0.829073        0.743155   \n",
       "75%     0.004867    0.002144       0.758194   0.837443        0.752708   \n",
       "max     0.011162    0.002419       0.775278   0.847429        0.779762   \n",
       "\n",
       "       test_recall  \n",
       "count    10.000000  \n",
       "mean      0.945333  \n",
       "std       0.014841  \n",
       "min       0.926667  \n",
       "25%       0.933333  \n",
       "50%       0.945000  \n",
       "75%       0.959167  \n",
       "max       0.966667  "
      ]
     },
     "execution_count": 37,
     "metadata": {},
     "output_type": "execute_result"
    }
   ],
   "source": [
    "stats.describe()"
   ]
  }
 ],
 "metadata": {
  "kernelspec": {
   "display_name": "Python 3",
   "language": "python",
   "name": "python3"
  },
  "language_info": {
   "codemirror_mode": {
    "name": "ipython",
    "version": 3
   },
   "file_extension": ".py",
   "mimetype": "text/x-python",
   "name": "python",
   "nbconvert_exporter": "python",
   "pygments_lexer": "ipython3",
   "version": "3.5.2"
  }
 },
 "nbformat": 4,
 "nbformat_minor": 2
}
