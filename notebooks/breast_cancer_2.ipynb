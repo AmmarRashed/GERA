{
 "cells": [
  {
   "cell_type": "code",
   "execution_count": 2,
   "metadata": {},
   "outputs": [],
   "source": [
    "import sys\n",
    "sys.path.append(\"../classes\")"
   ]
  },
  {
   "cell_type": "code",
   "execution_count": 55,
   "metadata": {},
   "outputs": [],
   "source": [
    "import pickle\n",
    "from functools import reduce\n",
    "\n",
    "from sklearn.svm import SVC\n",
    "\n",
    "from sklearn.feature_selection import SelectKBest\n",
    "from sklearn.decomposition import PCA\n",
    "\n",
    "from statsmodels.sandbox.stats.multicomp import multipletests\n",
    "from imblearn.over_sampling import RandomOverSampler\n",
    "\n",
    "import numpy as np, pandas as pd\n",
    "from geno_classifier import *\n",
    "from geno_utils import *\n",
    "from itertools import starmap\n",
    "\n",
    "from metabolitics.utils import load_network_model\n",
    "import GEOparse\n",
    "\n",
    "from cobra import Model"
   ]
  },
  {
   "cell_type": "markdown",
   "metadata": {},
   "source": [
    "## GDS3952"
   ]
  },
  {
   "cell_type": "code",
   "execution_count": 3,
   "metadata": {},
   "outputs": [
    {
     "name": "stderr",
     "output_type": "stream",
     "text": [
      "21-Jan-2018 21:00:03 INFO GEOparse - File already exist: using local version.\n",
      "21-Jan-2018 21:00:03 INFO GEOparse - Parsing ./GDS3952.soft.gz: \n",
      "21-Jan-2018 21:00:03 DEBUG GEOparse - DATABASE: Geo\n",
      "21-Jan-2018 21:00:03 DEBUG GEOparse - DATASET: GDS3952\n",
      "21-Jan-2018 21:00:03 DEBUG GEOparse - SUBSET: GDS3952_1\n",
      "21-Jan-2018 21:00:03 DEBUG GEOparse - SUBSET: GDS3952_2\n",
      "21-Jan-2018 21:00:03 DEBUG GEOparse - SUBSET: GDS3952_3\n",
      "21-Jan-2018 21:00:03 DEBUG GEOparse - SUBSET: GDS3952_4\n",
      "21-Jan-2018 21:00:03 DEBUG GEOparse - SUBSET: GDS3952_5\n",
      "21-Jan-2018 21:00:03 DEBUG GEOparse - SUBSET: GDS3952_6\n",
      "21-Jan-2018 21:00:03 DEBUG GEOparse - SUBSET: GDS3952_7\n",
      "21-Jan-2018 21:00:03 DEBUG GEOparse - SUBSET: GDS3952_8\n",
      "21-Jan-2018 21:00:03 DEBUG GEOparse - DATASET: GDS3952\n",
      "/usr/local/lib/python3.5/dist-packages/GEOparse/GEOparse.py:330 \u001b[1;31mFutureWarning\u001b[0m: from_csv is deprecated. Please use read_csv(...) instead. Note that some of the default arguments are different, so please refer to the documentation for from_csv when changing your function calls\n"
     ]
    }
   ],
   "source": [
    "breast_cancer_dataset = GEOparse.get_GEO('GDS3952').table"
   ]
  },
  {
   "cell_type": "markdown",
   "metadata": {},
   "source": [
    "## sample types"
   ]
  },
  {
   "cell_type": "markdown",
   "metadata": {},
   "source": [
    "#### unhealthy"
   ]
  },
  {
   "cell_type": "code",
   "execution_count": 4,
   "metadata": {},
   "outputs": [],
   "source": [
    "unhealthy_raw = '\\\n",
    "#GSM681992 = Value for GSM681992: PBMC_malignant_training_1; src: PBMCs from patients with diagnosis of invasive breast cancer, confirmed by diagnostic biopsy\\\n",
    "#GSM681993 = Value for GSM681993: PBMC_malignant_training_2; src: PBMCs from patients with diagnosis of invasive breast cancer, confirmed by diagnostic biopsy\\\n",
    "#GSM681994 = Value for GSM681994: PBMC_malignant_training_3; src: PBMCs from patients with diagnosis of invasive breast cancer, confirmed by diagnostic biopsy\\\n",
    "#GSM681995 = Value for GSM681995: PBMC_malignant_training_4; src: PBMCs from patients with diagnosis of invasive breast cancer, confirmed by diagnostic biopsy\\\n",
    "#GSM681996 = Value for GSM681996: PBMC_malignant_training_5; src: PBMCs from patients with diagnosis of invasive breast cancer, confirmed by diagnostic biopsy\\\n",
    "#GSM681997 = Value for GSM681997: PBMC_malignant_training_6; src: PBMCs from patients with diagnosis of invasive breast cancer, confirmed by diagnostic biopsy\\\n",
    "#GSM681998 = Value for GSM681998: PBMC_malignant_training_7; src: PBMCs from patients with diagnosis of invasive breast cancer, confirmed by diagnostic biopsy\\\n",
    "#GSM681999 = Value for GSM681999: PBMC_malignant_training_8; src: PBMCs from patients with diagnosis of invasive breast cancer, confirmed by diagnostic biopsy\\\n",
    "#GSM682000 = Value for GSM682000: PBMC_malignant_training_9; src: PBMCs from patients with diagnosis of invasive breast cancer, confirmed by diagnostic biopsy\\\n",
    "#GSM682001 = Value for GSM682001: PBMC_malignant_training_10; src: PBMCs from patients with diagnosis of invasive breast cancer, confirmed by diagnostic biopsy\\\n",
    "#GSM682055 = Value for GSM682055: PBMC_malignant_validation_1; src: PBMCs from patients with diagnosis of invasive breast cancer, confirmed by diagnostic biopsy\\\n",
    "#GSM682056 = Value for GSM682056: PBMC_malignant_validation_2; src: PBMCs from patients with diagnosis of invasive breast cancer, confirmed by diagnostic biopsy\\\n",
    "#GSM682057 = Value for GSM682057: PBMC_malignant_validation_3; src: PBMCs from patients with diagnosis of invasive breast cancer, confirmed by diagnostic biopsy\\\n",
    "#GSM682058 = Value for GSM682058: PBMC_malignant_validation_4; src: PBMCs from patients with diagnosis of invasive breast cancer, confirmed by diagnostic biopsy\\\n",
    "#GSM682059 = Value for GSM682059: PBMC_malignant_validation_5; src: PBMCs from patients with diagnosis of invasive breast cancer, confirmed by diagnostic biopsy\\\n",
    "#GSM682060 = Value for GSM682060: PBMC_malignant_validation_6; src: PBMCs from patients with diagnosis of invasive breast cancer, confirmed by diagnostic biopsy\\\n",
    "#GSM682061 = Value for GSM682061: PBMC_malignant_validation_7; src: PBMCs from patients with diagnosis of invasive breast cancer, confirmed by diagnostic biopsy\\\n",
    "#GSM682062 = Value for GSM682062: PBMC_malignant_validation_8; src: PBMCs from patients with diagnosis of invasive breast cancer, confirmed by diagnostic biopsy\\\n",
    "#GSM682063 = Value for GSM682063: PBMC_malignant_validation_9; src: PBMCs from patients with diagnosis of invasive breast cancer, confirmed by diagnostic biopsy\\\n",
    "#GSM682064 = Value for GSM682064: PBMC_malignant_validation_10; src: PBMCs from patients with diagnosis of invasive breast cancer, confirmed by diagnostic biopsy\\\n",
    "#GSM682065 = Value for GSM682065: PBMC_malignant_validation_11; src: PBMCs from patients with diagnosis of invasive breast cancer, confirmed by diagnostic biopsy\\\n",
    "#GSM682066 = Value for GSM682066: PBMC_malignant_validation_12; src: PBMCs from patients with diagnosis of invasive breast cancer, confirmed by diagnostic biopsy\\\n",
    "#GSM682067 = Value for GSM682067: PBMC_malignant_validation_13; src: PBMCs from patients with diagnosis of invasive breast cancer, confirmed by diagnostic biopsy\\\n",
    "#GSM682068 = Value for GSM682068: PBMC_malignant_validation_14; src: PBMCs from patients with diagnosis of invasive breast cancer, confirmed by diagnostic biopsy\\\n",
    "#GSM682069 = Value for GSM682069: PBMC_malignant_validation_15; src: PBMCs from patients with diagnosis of invasive breast cancer, confirmed by diagnostic biopsy\\\n",
    "#GSM682070 = Value for GSM682070: PBMC_malignant_validation_16; src: PBMCs from patients with diagnosis of invasive breast cancer, confirmed by diagnostic biopsy\\\n",
    "#GSM682071 = Value for GSM682071: PBMC_malignant_validation_17; src: PBMCs from patients with diagnosis of invasive breast cancer, confirmed by diagnostic biopsy\\\n",
    "#GSM682072 = Value for GSM682072: PBMC_malignant_validation_18; src: PBMCs from patients with diagnosis of invasive breast cancer, confirmed by diagnostic biopsy\\\n",
    "#GSM682073 = Value for GSM682073: PBMC_malignant_validation_19; src: PBMCs from patients with diagnosis of invasive breast cancer, confirmed by diagnostic biopsy\\\n",
    "#GSM682074 = Value for GSM682074: PBMC_malignant_validation_20; src: PBMCs from patients with diagnosis of invasive breast cancer, confirmed by diagnostic biopsy\\\n",
    "#GSM682075 = Value for GSM682075: PBMC_malignant_validation_21; src: PBMCs from patients with diagnosis of invasive breast cancer, confirmed by diagnostic biopsy\\\n",
    "#GSM682076 = Value for GSM682076: PBMC_malignant_validation_22; src: PBMCs from patients with diagnosis of invasive breast cancer, confirmed by diagnostic biopsy\\\n",
    "#GSM682077 = Value for GSM682077: PBMC_malignant_validation_23; src: PBMCs from patients with diagnosis of invasive breast cancer, confirmed by diagnostic biopsy\\\n",
    "#GSM682078 = Value for GSM682078: PBMC_malignant_validation_24; src: PBMCs from patients with diagnosis of invasive breast cancer, confirmed by diagnostic biopsy\\\n",
    "#GSM682079 = Value for GSM682079: PBMC_malignant_validation_25; src: PBMCs from patients with diagnosis of invasive breast cancer, confirmed by diagnostic biopsy\\\n",
    "#GSM682080 = Value for GSM682080: PBMC_malignant_validation_26; src: PBMCs from patients with diagnosis of invasive breast cancer, confirmed by diagnostic biopsy\\\n",
    "#GSM682081 = Value for GSM682081: PBMC_malignant_validation_27; src: PBMCs from patients with diagnosis of invasive breast cancer, confirmed by diagnostic biopsy\\\n",
    "#GSM682082 = Value for GSM682082: PBMC_malignant_validation_28; src: PBMCs from patients with diagnosis of invasive breast cancer, confirmed by diagnostic biopsy\\\n",
    "#GSM682083 = Value for GSM682083: PBMC_malignant_validation_29; src: PBMCs from patients with diagnosis of invasive breast cancer, confirmed by diagnostic biopsy\\\n",
    "#GSM682084 = Value for GSM682084: PBMC_malignant_validation_30; src: PBMCs from patients with diagnosis of invasive breast cancer, confirmed by diagnostic biopsy\\\n",
    "#GSM682085 = Value for GSM682085: PBMC_malignant_validation_31; src: PBMCs from patients with diagnosis of invasive breast cancer, confirmed by diagnostic biopsy\\\n",
    "#GSM682086 = Value for GSM682086: PBMC_malignant_validation_32; src: PBMCs from patients with diagnosis of invasive breast cancer, confirmed by diagnostic biopsy\\\n",
    "#GSM682087 = Value for GSM682087: PBMC_malignant_validation_33; src: PBMCs from patients with diagnosis of invasive breast cancer, confirmed by diagnostic biopsy\\\n",
    "#GSM682088 = Value for GSM682088: PBMC_malignant_validation_34; src: PBMCs from patients with diagnosis of invasive breast cancer, confirmed by diagnostic biopsy\\\n",
    "#GSM682089 = Value for GSM682089: PBMC_malignant_validation_35; src: PBMCs from patients with diagnosis of invasive breast cancer, confirmed by diagnostic biopsy\\\n",
    "#GSM682090 = Value for GSM682090: PBMC_malignant_validation_36; src: PBMCs from patients with diagnosis of invasive breast cancer, confirmed by diagnostic biopsy\\\n",
    "#GSM682091 = Value for GSM682091: PBMC_malignant_validation_37; src: PBMCs from patients with diagnosis of invasive breast cancer, confirmed by diagnostic biopsy\\\n",
    "#GSM682092 = Value for GSM682092: PBMC_malignant_validation_38; src: PBMCs from patients with diagnosis of invasive breast cancer, confirmed by diagnostic biopsy\\\n",
    "#GSM682093 = Value for GSM682093: PBMC_malignant_validation_39; src: PBMCs from patients with diagnosis of invasive breast cancer, confirmed by diagnostic biopsy\\\n",
    "#GSM682094 = Value for GSM682094: PBMC_malignant_validation_40; src: PBMCs from patients with diagnosis of invasive breast cancer, confirmed by diagnostic biopsy\\\n",
    "#GSM682095 = Value for GSM682095: PBMC_malignant_validation_41; src: PBMCs from patients with diagnosis of invasive breast cancer, confirmed by diagnostic biopsy\\\n",
    "#GSM682123 = Value for GSM682123: PBMC_malignant_validation_42; src: PBMCs from patients with diagnosis of invasive breast cancer, confirmed by diagnostic biopsy\\\n",
    "#GSM682124 = Value for GSM682124: PBMC_malignant_validation_43; src: PBMCs from patients with diagnosis of invasive breast cancer, confirmed by diagnostic biopsy\\\n",
    "#GSM682125 = Value for GSM682125: PBMC_malignant_validation_44; src: PBMCs from patients with diagnosis of invasive breast cancer, confirmed by diagnostic biopsy\\\n",
    "#GSM682126 = Value for GSM682126: PBMC_malignant_validation_45; src: PBMCs from patients with diagnosis of invasive breast cancer, confirmed by diagnostic biopsy\\\n",
    "#GSM682127 = Value for GSM682127: PBMC_malignant_validation_46; src: PBMCs from patients with diagnosis of invasive breast cancer, confirmed by diagnostic biopsy\\\n",
    "#GSM682128 = Value for GSM682128: PBMC_malignant_validation_47; src: PBMCs from patients with diagnosis of invasive breast cancer, confirmed by diagnostic biopsy'"
   ]
  },
  {
   "cell_type": "markdown",
   "metadata": {},
   "source": [
    "#### healthy"
   ]
  },
  {
   "cell_type": "code",
   "execution_count": 6,
   "metadata": {},
   "outputs": [],
   "source": [
    "healthy_raw = '\\\n",
    "#GSM681982 = Value for GSM681982: PBMC_normal_training_1; src: PBMCs from patients with normal mammogram\\\n",
    "#GSM681983 = Value for GSM681983: PBMC_normal_training_2; src: PBMCs from patients with normal mammogram\\\n",
    "#GSM681984 = Value for GSM681984: PBMC_normal_training_3; src: PBMCs from patients with normal mammogram\\\n",
    "#GSM681985 = Value for GSM681985: PBMC_normal_training_4; src: PBMCs from patients with normal mammogram\\\n",
    "#GSM681986 = Value for GSM681986: PBMC_normal_training_5; src: PBMCs from patients with normal mammogram\\\n",
    "#GSM681987 = Value for GSM681987: PBMC_normal_training_6; src: PBMCs from patients with normal mammogram\\\n",
    "#GSM681988 = Value for GSM681988: PBMC_normal_training_7; src: PBMCs from patients with normal mammogram\\\n",
    "#GSM681989 = Value for GSM681989: PBMC_normal_training_8; src: PBMCs from patients with normal mammogram\\\n",
    "#GSM681990 = Value for GSM681990: PBMC_normal_training_9; src: PBMCs from patients with normal mammogram\\\n",
    "#GSM681991 = Value for GSM681991: PBMC_normal_training_10; src: PBMCs from patients with normal mammogram\\\n",
    "#GSM682034 = Value for GSM682034: PBMC_normal_validation_1; src: PBMCs from patients with normal mammogram\\\n",
    "#GSM682035 = Value for GSM682035: PBMC_normal_validation_2; src: PBMCs from patients with normal mammogram\\\n",
    "#GSM682036 = Value for GSM682036: PBMC_normal_validation_3; src: PBMCs from patients with normal mammogram\\\n",
    "#GSM682037 = Value for GSM682037: PBMC_normal_validation_4; src: PBMCs from patients with normal mammogram\\\n",
    "#GSM682038 = Value for GSM682038: PBMC_normal_validation_5; src: PBMCs from patients with normal mammogram\\\n",
    "#GSM682039 = Value for GSM682039: PBMC_normal_validation_6; src: PBMCs from patients with normal mammogram\\\n",
    "#GSM682040 = Value for GSM682040: PBMC_normal_validation_7; src: PBMCs from patients with normal mammogram\\\n",
    "#GSM682041 = Value for GSM682041: PBMC_normal_validation_8; src: PBMCs from patients with normal mammogram\\\n",
    "#GSM682042 = Value for GSM682042: PBMC_normal_validation_9; src: PBMCs from patients with normal mammogram\\\n",
    "#GSM682043 = Value for GSM682043: PBMC_normal_validation_10; src: PBMCs from patients with normal mammogram\\\n",
    "#GSM682044 = Value for GSM682044: PBMC_normal_validation_11; src: PBMCs from patients with normal mammogram\\\n",
    "#GSM682045 = Value for GSM682045: PBMC_normal_validation_12; src: PBMCs from patients with normal mammogram\\\n",
    "#GSM682046 = Value for GSM682046: PBMC_normal_validation_13; src: PBMCs from patients with normal mammogram\\\n",
    "#GSM682047 = Value for GSM682047: PBMC_normal_validation_14; src: PBMCs from patients with normal mammogram\\\n",
    "#GSM682048 = Value for GSM682048: PBMC_normal_validation_15; src: PBMCs from patients with normal mammogram\\\n",
    "#GSM682049 = Value for GSM682049: PBMC_normal_validation_16; src: PBMCs from patients with normal mammogram\\\n",
    "#GSM682050 = Value for GSM682050: PBMC_normal_validation_17; src: PBMCs from patients with normal mammogram\\\n",
    "#GSM682051 = Value for GSM682051: PBMC_normal_validation_18; src: PBMCs from patients with normal mammogram\\\n",
    "#GSM682052 = Value for GSM682052: PBMC_normal_validation_19; src: PBMCs from patients with normal mammogram\\\n",
    "#GSM682053 = Value for GSM682053: PBMC_normal_validation_20; src: PBMCs from patients with normal mammogram\\\n",
    "#GSM682054 = Value for GSM682054: PBMC_normal_validation_21; src: PBMCs from patients with normal mammogram'"
   ]
  },
  {
   "cell_type": "code",
   "execution_count": 7,
   "metadata": {},
   "outputs": [],
   "source": [
    "clean = lambda string: string.replace(':', '').split()\n",
    "predicate = lambda word: word.startswith('GSM')\n",
    "\n",
    "healthy = set(filter(predicate, clean(healthy_raw)))\n",
    "unhealthy = set(filter(predicate, clean(unhealthy_raw)))"
   ]
  },
  {
   "cell_type": "markdown",
   "metadata": {},
   "source": [
    "### number of samples"
   ]
  },
  {
   "cell_type": "code",
   "execution_count": 8,
   "metadata": {},
   "outputs": [
    {
     "name": "stdout",
     "output_type": "stream",
     "text": [
      "31 57\n"
     ]
    }
   ],
   "source": [
    "print(len(healthy), len(unhealthy))"
   ]
  },
  {
   "cell_type": "code",
   "execution_count": 9,
   "metadata": {},
   "outputs": [
    {
     "data": {
      "text/plain": [
       "set()"
      ]
     },
     "execution_count": 9,
     "metadata": {},
     "output_type": "execute_result"
    }
   ],
   "source": [
    "healthy & unhealthy"
   ]
  },
  {
   "cell_type": "code",
   "execution_count": 10,
   "metadata": {},
   "outputs": [
    {
     "data": {
      "text/html": [
       "<div>\n",
       "<style scoped>\n",
       "    .dataframe tbody tr th:only-of-type {\n",
       "        vertical-align: middle;\n",
       "    }\n",
       "\n",
       "    .dataframe tbody tr th {\n",
       "        vertical-align: top;\n",
       "    }\n",
       "\n",
       "    .dataframe thead th {\n",
       "        text-align: right;\n",
       "    }\n",
       "</style>\n",
       "<table border=\"1\" class=\"dataframe\">\n",
       "  <thead>\n",
       "    <tr style=\"text-align: right;\">\n",
       "      <th></th>\n",
       "      <th>ID_REF</th>\n",
       "      <th>IDENTIFIER</th>\n",
       "      <th>GSM682002</th>\n",
       "      <th>GSM682003</th>\n",
       "      <th>GSM682004</th>\n",
       "    </tr>\n",
       "  </thead>\n",
       "  <tbody>\n",
       "    <tr>\n",
       "      <th>0</th>\n",
       "      <td>1007_s_at</td>\n",
       "      <td>MIR4640</td>\n",
       "      <td>5.66</td>\n",
       "      <td>5.43</td>\n",
       "      <td>5.88</td>\n",
       "    </tr>\n",
       "    <tr>\n",
       "      <th>1</th>\n",
       "      <td>1053_at</td>\n",
       "      <td>RFC2</td>\n",
       "      <td>7.01</td>\n",
       "      <td>6.37</td>\n",
       "      <td>6.20</td>\n",
       "    </tr>\n",
       "    <tr>\n",
       "      <th>2</th>\n",
       "      <td>117_at</td>\n",
       "      <td>HSPA6</td>\n",
       "      <td>6.13</td>\n",
       "      <td>6.51</td>\n",
       "      <td>6.41</td>\n",
       "    </tr>\n",
       "    <tr>\n",
       "      <th>3</th>\n",
       "      <td>121_at</td>\n",
       "      <td>PAX8</td>\n",
       "      <td>6.79</td>\n",
       "      <td>6.93</td>\n",
       "      <td>6.40</td>\n",
       "    </tr>\n",
       "    <tr>\n",
       "      <th>4</th>\n",
       "      <td>1255_g_at</td>\n",
       "      <td>GUCA1A</td>\n",
       "      <td>2.11</td>\n",
       "      <td>2.11</td>\n",
       "      <td>2.07</td>\n",
       "    </tr>\n",
       "  </tbody>\n",
       "</table>\n",
       "</div>"
      ],
      "text/plain": [
       "      ID_REF IDENTIFIER  GSM682002  GSM682003  GSM682004\n",
       "0  1007_s_at    MIR4640       5.66       5.43       5.88\n",
       "1    1053_at       RFC2       7.01       6.37       6.20\n",
       "2     117_at      HSPA6       6.13       6.51       6.41\n",
       "3     121_at       PAX8       6.79       6.93       6.40\n",
       "4  1255_g_at     GUCA1A       2.11       2.11       2.07"
      ]
     },
     "execution_count": 10,
     "metadata": {},
     "output_type": "execute_result"
    }
   ],
   "source": [
    "breast_cancer_dataset[breast_cancer_dataset.columns[:5]].head()"
   ]
  },
  {
   "cell_type": "code",
   "execution_count": 11,
   "metadata": {},
   "outputs": [],
   "source": [
    "labels_ = [(h, 'healthy') for h in healthy] + [(d, 'unhealthy') for d in unhealthy]"
   ]
  },
  {
   "cell_type": "code",
   "execution_count": null,
   "metadata": {
    "scrolled": true
   },
   "outputs": [
    {
     "name": "stderr",
     "output_type": "stream",
     "text": [
      "21-Jan-2018 20:54:12 INFO GEOparse - File already exist: using local version.\n",
      "21-Jan-2018 20:54:12 INFO GEOparse - Parsing ./GDS3952.soft.gz: \n",
      "21-Jan-2018 20:54:12 DEBUG GEOparse - DATABASE: Geo\n",
      "21-Jan-2018 20:54:12 DEBUG GEOparse - DATASET: GDS3952\n",
      "21-Jan-2018 20:54:12 DEBUG GEOparse - SUBSET: GDS3952_1\n",
      "21-Jan-2018 20:54:12 DEBUG GEOparse - SUBSET: GDS3952_2\n",
      "21-Jan-2018 20:54:12 DEBUG GEOparse - SUBSET: GDS3952_3\n",
      "21-Jan-2018 20:54:12 DEBUG GEOparse - SUBSET: GDS3952_4\n",
      "21-Jan-2018 20:54:12 DEBUG GEOparse - SUBSET: GDS3952_5\n",
      "21-Jan-2018 20:54:12 DEBUG GEOparse - SUBSET: GDS3952_6\n",
      "21-Jan-2018 20:54:12 DEBUG GEOparse - SUBSET: GDS3952_7\n",
      "21-Jan-2018 20:54:12 DEBUG GEOparse - SUBSET: GDS3952_8\n",
      "21-Jan-2018 20:54:12 DEBUG GEOparse - DATASET: GDS3952\n",
      "/usr/local/lib/python3.5/dist-packages/GEOparse/GEOparse.py:330 \u001b[1;31mFutureWarning\u001b[0m: from_csv is deprecated. Please use read_csv(...) instead. Note that some of the default arguments are different, so please refer to the documentation for from_csv when changing your function calls\n"
     ]
    }
   ],
   "source": [
    "X, y = parse_database('GDS3952', labels=dict(labels_), n_jobs=-1)"
   ]
  },
  {
   "cell_type": "markdown",
   "metadata": {},
   "source": [
    "### Flux variability analysis"
   ]
  },
  {
   "cell_type": "code",
   "execution_count": null,
   "metadata": {},
   "outputs": [],
   "source": [
    "# results = flux_variance_analysis(X_, y_)\n",
    "# pickle.dump(results, open(\"../results/breast_cancer_2.results\", \"wb\"))"
   ]
  },
  {
   "cell_type": "code",
   "execution_count": 4,
   "metadata": {},
   "outputs": [],
   "source": [
    "results = pickle.load(open('../results/breast_cancer_2.results','rb'))\n",
    "labels = pickle.load(open('../datasets/breast_cancer_2_y','rb'))\n",
    "\n",
    "X_diff, y = preprocess_results(results, labels, use_diff_score=True, use_pathways=True)"
   ]
  },
  {
   "cell_type": "markdown",
   "metadata": {},
   "source": [
    "### nested-cross validation over best pipeline (using diff-values)"
   ]
  },
  {
   "cell_type": "code",
   "execution_count": 6,
   "metadata": {},
   "outputs": [],
   "source": [
    "classifiers = [\n",
    "    (SVC, {\n",
    "        'C': np.geomspace(1e-6, 1e6, num=10),\n",
    "        'class_weight' : ['balanced']\n",
    "    })\n",
    "]\n",
    "\n",
    "feature_selection = [\n",
    "    (PCA, {\n",
    "    'n_components': range(3, 81+1, 6)\n",
    "  })\n",
    "]"
   ]
  },
  {
   "cell_type": "code",
   "execution_count": 7,
   "metadata": {
    "scrolled": false
   },
   "outputs": [
    {
     "name": "stdout",
     "output_type": "stream",
     "text": [
      "Fitting 10 folds for each of 140 candidates, totalling 1400 fits\n"
     ]
    },
    {
     "name": "stderr",
     "output_type": "stream",
     "text": [
      "[Parallel(n_jobs=-1)]: Done 160 tasks      | elapsed:    1.9s\n",
      "[Parallel(n_jobs=-1)]: Done 1400 out of 1400 | elapsed:   10.0s finished\n"
     ]
    },
    {
     "name": "stdout",
     "output_type": "stream",
     "text": [
      "1 trial done\n",
      "----------\n",
      "Fitting 10 folds for each of 140 candidates, totalling 1400 fits\n"
     ]
    },
    {
     "name": "stderr",
     "output_type": "stream",
     "text": [
      "[Parallel(n_jobs=-1)]: Done 232 tasks      | elapsed:    3.2s\n",
      "[Parallel(n_jobs=-1)]: Done 1400 out of 1400 | elapsed:   10.5s finished\n"
     ]
    },
    {
     "name": "stdout",
     "output_type": "stream",
     "text": [
      "2 trial done\n",
      "----------\n",
      "Fitting 10 folds for each of 140 candidates, totalling 1400 fits\n"
     ]
    },
    {
     "name": "stderr",
     "output_type": "stream",
     "text": [
      "[Parallel(n_jobs=-1)]: Done 160 tasks      | elapsed:    2.0s\n",
      "[Parallel(n_jobs=-1)]: Done 1400 out of 1400 | elapsed:   10.7s finished\n"
     ]
    },
    {
     "name": "stdout",
     "output_type": "stream",
     "text": [
      "3 trial done\n",
      "----------\n",
      "Fitting 10 folds for each of 140 candidates, totalling 1400 fits\n"
     ]
    },
    {
     "name": "stderr",
     "output_type": "stream",
     "text": [
      "[Parallel(n_jobs=-1)]: Done 340 tasks      | elapsed:    4.2s\n",
      "[Parallel(n_jobs=-1)]: Done 1400 out of 1400 | elapsed:   12.7s finished\n"
     ]
    },
    {
     "name": "stdout",
     "output_type": "stream",
     "text": [
      "4 trial done\n",
      "----------\n",
      "Fitting 10 folds for each of 140 candidates, totalling 1400 fits\n"
     ]
    },
    {
     "name": "stderr",
     "output_type": "stream",
     "text": [
      "[Parallel(n_jobs=-1)]: Done 160 tasks      | elapsed:    2.7s\n",
      "[Parallel(n_jobs=-1)]: Done 1400 out of 1400 | elapsed:   11.1s finished\n"
     ]
    },
    {
     "name": "stdout",
     "output_type": "stream",
     "text": [
      "5 trial done\n",
      "----------\n",
      "Fitting 10 folds for each of 140 candidates, totalling 1400 fits\n"
     ]
    },
    {
     "name": "stderr",
     "output_type": "stream",
     "text": [
      "[Parallel(n_jobs=-1)]: Done 160 tasks      | elapsed:    2.0s\n",
      "[Parallel(n_jobs=-1)]: Done 1400 out of 1400 | elapsed:   11.6s finished\n"
     ]
    },
    {
     "name": "stdout",
     "output_type": "stream",
     "text": [
      "6 trial done\n",
      "----------\n",
      "Fitting 10 folds for each of 140 candidates, totalling 1400 fits\n"
     ]
    },
    {
     "name": "stderr",
     "output_type": "stream",
     "text": [
      "[Parallel(n_jobs=-1)]: Done 160 tasks      | elapsed:    2.6s\n",
      "[Parallel(n_jobs=-1)]: Done 1400 out of 1400 | elapsed:   11.8s finished\n"
     ]
    },
    {
     "name": "stdout",
     "output_type": "stream",
     "text": [
      "7 trial done\n",
      "----------\n",
      "Fitting 10 folds for each of 140 candidates, totalling 1400 fits\n"
     ]
    },
    {
     "name": "stderr",
     "output_type": "stream",
     "text": [
      "[Parallel(n_jobs=-1)]: Done 268 tasks      | elapsed:    3.2s\n",
      "[Parallel(n_jobs=-1)]: Done 1400 out of 1400 | elapsed:   10.0s finished\n"
     ]
    },
    {
     "name": "stdout",
     "output_type": "stream",
     "text": [
      "8 trial done\n",
      "----------\n",
      "Fitting 10 folds for each of 140 candidates, totalling 1400 fits\n"
     ]
    },
    {
     "name": "stderr",
     "output_type": "stream",
     "text": [
      "[Parallel(n_jobs=-1)]: Done 268 tasks      | elapsed:    3.5s\n",
      "[Parallel(n_jobs=-1)]: Done 1400 out of 1400 | elapsed:   11.1s finished\n"
     ]
    },
    {
     "name": "stdout",
     "output_type": "stream",
     "text": [
      "9 trial done\n",
      "----------\n",
      "Fitting 10 folds for each of 140 candidates, totalling 1400 fits\n"
     ]
    },
    {
     "name": "stderr",
     "output_type": "stream",
     "text": [
      "[Parallel(n_jobs=-1)]: Done 232 tasks      | elapsed:    2.8s\n"
     ]
    },
    {
     "name": "stdout",
     "output_type": "stream",
     "text": [
      "10 trial done\n",
      "----------\n"
     ]
    },
    {
     "name": "stderr",
     "output_type": "stream",
     "text": [
      "[Parallel(n_jobs=-1)]: Done 1400 out of 1400 | elapsed:   10.5s finished\n"
     ]
    }
   ],
   "source": [
    "trials, stats = nested_cross_validation(X_diff, y, build_pipelines(feature_selection, classifiers))"
   ]
  },
  {
   "cell_type": "code",
   "execution_count": 8,
   "metadata": {},
   "outputs": [
    {
     "data": {
      "text/html": [
       "<div>\n",
       "<style scoped>\n",
       "    .dataframe tbody tr th:only-of-type {\n",
       "        vertical-align: middle;\n",
       "    }\n",
       "\n",
       "    .dataframe tbody tr th {\n",
       "        vertical-align: top;\n",
       "    }\n",
       "\n",
       "    .dataframe thead th {\n",
       "        text-align: right;\n",
       "    }\n",
       "</style>\n",
       "<table border=\"1\" class=\"dataframe\">\n",
       "  <thead>\n",
       "    <tr style=\"text-align: right;\">\n",
       "      <th></th>\n",
       "      <th>fit_time</th>\n",
       "      <th>score_time</th>\n",
       "      <th>test_accuracy</th>\n",
       "      <th>test_f1</th>\n",
       "      <th>test_precision</th>\n",
       "      <th>test_recall</th>\n",
       "    </tr>\n",
       "  </thead>\n",
       "  <tbody>\n",
       "    <tr>\n",
       "      <th>count</th>\n",
       "      <td>10.000000</td>\n",
       "      <td>10.000000</td>\n",
       "      <td>10.000000</td>\n",
       "      <td>10.000000</td>\n",
       "      <td>10.000000</td>\n",
       "      <td>10.000000</td>\n",
       "    </tr>\n",
       "    <tr>\n",
       "      <th>mean</th>\n",
       "      <td>0.005147</td>\n",
       "      <td>0.002195</td>\n",
       "      <td>0.736750</td>\n",
       "      <td>0.820307</td>\n",
       "      <td>0.744472</td>\n",
       "      <td>0.923667</td>\n",
       "    </tr>\n",
       "    <tr>\n",
       "      <th>std</th>\n",
       "      <td>0.002340</td>\n",
       "      <td>0.000593</td>\n",
       "      <td>0.022716</td>\n",
       "      <td>0.015016</td>\n",
       "      <td>0.019627</td>\n",
       "      <td>0.014778</td>\n",
       "    </tr>\n",
       "    <tr>\n",
       "      <th>min</th>\n",
       "      <td>0.003878</td>\n",
       "      <td>0.001877</td>\n",
       "      <td>0.699444</td>\n",
       "      <td>0.799431</td>\n",
       "      <td>0.707738</td>\n",
       "      <td>0.896667</td>\n",
       "    </tr>\n",
       "    <tr>\n",
       "      <th>25%</th>\n",
       "      <td>0.003987</td>\n",
       "      <td>0.001940</td>\n",
       "      <td>0.725000</td>\n",
       "      <td>0.811627</td>\n",
       "      <td>0.737411</td>\n",
       "      <td>0.914167</td>\n",
       "    </tr>\n",
       "    <tr>\n",
       "      <th>50%</th>\n",
       "      <td>0.004263</td>\n",
       "      <td>0.002060</td>\n",
       "      <td>0.732361</td>\n",
       "      <td>0.817685</td>\n",
       "      <td>0.740357</td>\n",
       "      <td>0.925000</td>\n",
       "    </tr>\n",
       "    <tr>\n",
       "      <th>75%</th>\n",
       "      <td>0.005152</td>\n",
       "      <td>0.002092</td>\n",
       "      <td>0.754444</td>\n",
       "      <td>0.831450</td>\n",
       "      <td>0.751815</td>\n",
       "      <td>0.929167</td>\n",
       "    </tr>\n",
       "    <tr>\n",
       "      <th>max</th>\n",
       "      <td>0.011626</td>\n",
       "      <td>0.003862</td>\n",
       "      <td>0.775278</td>\n",
       "      <td>0.847429</td>\n",
       "      <td>0.775595</td>\n",
       "      <td>0.946667</td>\n",
       "    </tr>\n",
       "  </tbody>\n",
       "</table>\n",
       "</div>"
      ],
      "text/plain": [
       "        fit_time  score_time  test_accuracy    test_f1  test_precision  \\\n",
       "count  10.000000   10.000000      10.000000  10.000000       10.000000   \n",
       "mean    0.005147    0.002195       0.736750   0.820307        0.744472   \n",
       "std     0.002340    0.000593       0.022716   0.015016        0.019627   \n",
       "min     0.003878    0.001877       0.699444   0.799431        0.707738   \n",
       "25%     0.003987    0.001940       0.725000   0.811627        0.737411   \n",
       "50%     0.004263    0.002060       0.732361   0.817685        0.740357   \n",
       "75%     0.005152    0.002092       0.754444   0.831450        0.751815   \n",
       "max     0.011626    0.003862       0.775278   0.847429        0.775595   \n",
       "\n",
       "       test_recall  \n",
       "count    10.000000  \n",
       "mean      0.923667  \n",
       "std       0.014778  \n",
       "min       0.896667  \n",
       "25%       0.914167  \n",
       "50%       0.925000  \n",
       "75%       0.929167  \n",
       "max       0.946667  "
      ]
     },
     "execution_count": 8,
     "metadata": {},
     "output_type": "execute_result"
    }
   ],
   "source": [
    "stats.describe()"
   ]
  },
  {
   "cell_type": "markdown",
   "metadata": {},
   "source": [
    "### most significant pathways for breast-cancer"
   ]
  },
  {
   "cell_type": "code",
   "execution_count": 6,
   "metadata": {},
   "outputs": [],
   "source": [
    "kbest = SelectKBest().fit(X_diff, y)\n",
    "df, _ = preprocess_results(results, labels, *[True, True, False, False])"
   ]
  },
  {
   "cell_type": "code",
   "execution_count": 10,
   "metadata": {},
   "outputs": [],
   "source": [
    "SIGNIFICANCE_THRESHOLD = 0.05"
   ]
  },
  {
   "cell_type": "code",
   "execution_count": 11,
   "metadata": {},
   "outputs": [
    {
     "data": {
      "text/html": [
       "<div>\n",
       "<style scoped>\n",
       "    .dataframe tbody tr th:only-of-type {\n",
       "        vertical-align: middle;\n",
       "    }\n",
       "\n",
       "    .dataframe tbody tr th {\n",
       "        vertical-align: top;\n",
       "    }\n",
       "\n",
       "    .dataframe thead th {\n",
       "        text-align: right;\n",
       "    }\n",
       "</style>\n",
       "<table border=\"1\" class=\"dataframe\">\n",
       "  <thead>\n",
       "    <tr style=\"text-align: right;\">\n",
       "      <th></th>\n",
       "      <th>healthy_mean</th>\n",
       "      <th>unhealthy_mean</th>\n",
       "      <th>healthy_median</th>\n",
       "      <th>unhealthy_median</th>\n",
       "      <th>P-val</th>\n",
       "    </tr>\n",
       "    <tr>\n",
       "      <th>Pathway</th>\n",
       "      <th></th>\n",
       "      <th></th>\n",
       "      <th></th>\n",
       "      <th></th>\n",
       "      <th></th>\n",
       "    </tr>\n",
       "  </thead>\n",
       "  <tbody>\n",
       "    <tr>\n",
       "      <th>Pyrimidine synthesis</th>\n",
       "      <td>2.658805e-14</td>\n",
       "      <td>80.159983</td>\n",
       "      <td>-23.266364</td>\n",
       "      <td>83.667481</td>\n",
       "      <td>0.000213</td>\n",
       "    </tr>\n",
       "    <tr>\n",
       "      <th>Glycolysis/gluconeogenesis</th>\n",
       "      <td>1.696134e-14</td>\n",
       "      <td>-90.341946</td>\n",
       "      <td>-14.750790</td>\n",
       "      <td>-113.189020</td>\n",
       "      <td>0.002633</td>\n",
       "    </tr>\n",
       "    <tr>\n",
       "      <th>Fatty acid synthesis</th>\n",
       "      <td>7.334635e-15</td>\n",
       "      <td>-16.163777</td>\n",
       "      <td>-5.119789</td>\n",
       "      <td>-24.159283</td>\n",
       "      <td>0.003926</td>\n",
       "    </tr>\n",
       "    <tr>\n",
       "      <th>Vitamin C metabolism</th>\n",
       "      <td>-5.042561e-15</td>\n",
       "      <td>-42.873643</td>\n",
       "      <td>2.288581</td>\n",
       "      <td>-60.211380</td>\n",
       "      <td>0.004268</td>\n",
       "    </tr>\n",
       "    <tr>\n",
       "      <th>Glycosphingolipid metabolism</th>\n",
       "      <td>-4.354939e-15</td>\n",
       "      <td>-37.513624</td>\n",
       "      <td>-4.690913</td>\n",
       "      <td>-81.613951</td>\n",
       "      <td>0.005823</td>\n",
       "    </tr>\n",
       "    <tr>\n",
       "      <th>Butanoate metabolism</th>\n",
       "      <td>-3.117220e-14</td>\n",
       "      <td>-193.546083</td>\n",
       "      <td>-353.019337</td>\n",
       "      <td>-353.019337</td>\n",
       "      <td>0.013505</td>\n",
       "    </tr>\n",
       "    <tr>\n",
       "      <th>Thiamine metabolism</th>\n",
       "      <td>-1.466927e-14</td>\n",
       "      <td>158.743487</td>\n",
       "      <td>-161.737362</td>\n",
       "      <td>49.473790</td>\n",
       "      <td>0.014789</td>\n",
       "    </tr>\n",
       "    <tr>\n",
       "      <th>Histidine metabolism</th>\n",
       "      <td>-2.292073e-15</td>\n",
       "      <td>-68.526318</td>\n",
       "      <td>-113.125583</td>\n",
       "      <td>-113.125591</td>\n",
       "      <td>0.017857</td>\n",
       "    </tr>\n",
       "    <tr>\n",
       "      <th>Transport, endoplasmic reticular</th>\n",
       "      <td>1.375244e-14</td>\n",
       "      <td>-37.192206</td>\n",
       "      <td>14.815600</td>\n",
       "      <td>-18.053268</td>\n",
       "      <td>0.019059</td>\n",
       "    </tr>\n",
       "    <tr>\n",
       "      <th>Valine, leucine, and isoleucine metabolism</th>\n",
       "      <td>1.398165e-14</td>\n",
       "      <td>59.890382</td>\n",
       "      <td>-6.061045</td>\n",
       "      <td>21.945343</td>\n",
       "      <td>0.040942</td>\n",
       "    </tr>\n",
       "    <tr>\n",
       "      <th>D-alanine metabolism</th>\n",
       "      <td>1.466927e-14</td>\n",
       "      <td>162.194796</td>\n",
       "      <td>314.241577</td>\n",
       "      <td>314.241577</td>\n",
       "      <td>0.041156</td>\n",
       "    </tr>\n",
       "  </tbody>\n",
       "</table>\n",
       "</div>"
      ],
      "text/plain": [
       "                                            healthy_mean  unhealthy_mean  \\\n",
       "Pathway                                                                    \n",
       "Pyrimidine synthesis                        2.658805e-14       80.159983   \n",
       "Glycolysis/gluconeogenesis                  1.696134e-14      -90.341946   \n",
       "Fatty acid synthesis                        7.334635e-15      -16.163777   \n",
       "Vitamin C metabolism                       -5.042561e-15      -42.873643   \n",
       "Glycosphingolipid metabolism               -4.354939e-15      -37.513624   \n",
       "Butanoate metabolism                       -3.117220e-14     -193.546083   \n",
       "Thiamine metabolism                        -1.466927e-14      158.743487   \n",
       "Histidine metabolism                       -2.292073e-15      -68.526318   \n",
       "Transport, endoplasmic reticular            1.375244e-14      -37.192206   \n",
       "Valine, leucine, and isoleucine metabolism  1.398165e-14       59.890382   \n",
       "D-alanine metabolism                        1.466927e-14      162.194796   \n",
       "\n",
       "                                            healthy_median  unhealthy_median  \\\n",
       "Pathway                                                                        \n",
       "Pyrimidine synthesis                            -23.266364         83.667481   \n",
       "Glycolysis/gluconeogenesis                      -14.750790       -113.189020   \n",
       "Fatty acid synthesis                             -5.119789        -24.159283   \n",
       "Vitamin C metabolism                              2.288581        -60.211380   \n",
       "Glycosphingolipid metabolism                     -4.690913        -81.613951   \n",
       "Butanoate metabolism                           -353.019337       -353.019337   \n",
       "Thiamine metabolism                            -161.737362         49.473790   \n",
       "Histidine metabolism                           -113.125583       -113.125591   \n",
       "Transport, endoplasmic reticular                 14.815600        -18.053268   \n",
       "Valine, leucine, and isoleucine metabolism       -6.061045         21.945343   \n",
       "D-alanine metabolism                            314.241577        314.241577   \n",
       "\n",
       "                                               P-val  \n",
       "Pathway                                               \n",
       "Pyrimidine synthesis                        0.000213  \n",
       "Glycolysis/gluconeogenesis                  0.002633  \n",
       "Fatty acid synthesis                        0.003926  \n",
       "Vitamin C metabolism                        0.004268  \n",
       "Glycosphingolipid metabolism                0.005823  \n",
       "Butanoate metabolism                        0.013505  \n",
       "Thiamine metabolism                         0.014789  \n",
       "Histidine metabolism                        0.017857  \n",
       "Transport, endoplasmic reticular            0.019059  \n",
       "Valine, leucine, and isoleucine metabolism  0.040942  \n",
       "D-alanine metabolism                        0.041156  "
      ]
     },
     "execution_count": 11,
     "metadata": {},
     "output_type": "execute_result"
    }
   ],
   "source": [
    "significant_pathways_indices = np.argwhere(kbest.pvalues_< SIGNIFICANCE_THRESHOLD)\n",
    "significant_pathways = df[df.columns[kbest.pvalues_ < SIGNIFICANCE_THRESHOLD]].groupby(df.index)\n",
    "means = significant_pathways.mean().T\n",
    "means.reset_index(inplace=True)\n",
    "means.rename(columns={\"index\":\"Pathway\",\"healthy\":\"healthy_mean\", \"unhealthy\":\"unhealthy_mean\"}, inplace=True)\n",
    "medians = significant_pathways.median().T\n",
    "medians.reset_index(inplace=True)\n",
    "medians.rename(columns={\"index\":\"Pathway\",\"healthy\":\"healthy_median\", \"unhealthy\":\"unhealthy_median\"}, inplace=True)\n",
    "medians[\"P-val\"] = kbest.pvalues_[np.argwhere(kbest.pvalues_< SIGNIFICANCE_THRESHOLD)]\n",
    "singificance_stats = means.merge(medians, left_on=means.Pathway, right_on=medians.Pathway)\\\n",
    "                            .drop(\"Pathway_y\", axis=1)\\\n",
    "                            .rename(columns={\"Pathway_x\":\"Pathway\"})\\\n",
    "                            .set_index(\"Pathway\")\\\n",
    "                            .sort_values(\"P-val\")\n",
    "singificance_stats"
   ]
  },
  {
   "cell_type": "markdown",
   "metadata": {},
   "source": [
    "### after p-value correction"
   ]
  },
  {
   "cell_type": "code",
   "execution_count": 21,
   "metadata": {},
   "outputs": [],
   "source": [
    "corrected_p_values = multipletests(kbest.pvalues_, method='bonferroni')\n",
    "corrected_pathways = df.columns[corrected_p_values[0]]"
   ]
  },
  {
   "cell_type": "code",
   "execution_count": 36,
   "metadata": {},
   "outputs": [],
   "source": [
    "metabolitics_pathways = np.array([\n",
    "'Alanine and aspartate metabolism_dif',\n",
    "'Arginine and Proline Metabolism_dif',\n",
    "'Methionine and cysteine metabolism_dif',\n",
    "'Taurine and hypotaurine metabolism_dif',\n",
    "'CoA catabolism_dif',\n",
    "'Fatty acid oxidation_dif',\n",
    "'Nucleotide interconversion_dif',\n",
    "'Eicosanoid metabolism_dif',\n",
    "'Butanoate metabolism_dif',\n",
    "'Glycolysis/gluconeogenesis_dif',\n",
    "'Pentose phosphate pathway_dif',\n",
    "'Urea cycle_dif',\n",
    "'Glycine, serine, alanine and threonine metabolism_dif',\n",
    "'Folate metabolism_dif',\n",
    "'Glutamate metabolism_dif',\n",
    "'Sphingolipid metabolism_dif',\n",
    "'Glycerophospholipid metabolism_dif',\n",
    "'Fatty acid synthesis_dif',\n",
    "'ROS detoxification_dif',\n",
    "'Aminosugar metabolism_dif',\n",
    "'Citric acid cycle_dif',\n",
    "'CoA synthesis_dif',\n",
    "'Pyrimidine catabolism_dif',\n",
    "'Pyruvate metabolism_dif'])"
   ]
  },
  {
   "cell_type": "code",
   "execution_count": 43,
   "metadata": {},
   "outputs": [
    {
     "data": {
      "text/plain": [
       "Index(['Pyrimidine synthesis'], dtype='object')"
      ]
     },
     "execution_count": 43,
     "metadata": {},
     "output_type": "execute_result"
    }
   ],
   "source": [
    "corrected_pathways"
   ]
  },
  {
   "cell_type": "markdown",
   "metadata": {},
   "source": [
    "## without diff values"
   ]
  },
  {
   "cell_type": "code",
   "execution_count": 69,
   "metadata": {},
   "outputs": [
    {
     "name": "stderr",
     "output_type": "stream",
     "text": [
      "/home/abdu/Desktop/virtualenv/GERA/lib/python3.5/site-packages/sklearn/feature_selection/univariate_selection.py:113 \u001b[1;31mUserWarning\u001b[0m: Features [ 41 107 111 113 115 117 129 131 143 145] are constant.\n",
      "/home/abdu/Desktop/virtualenv/GERA/lib/python3.5/site-packages/sklearn/feature_selection/univariate_selection.py:114 \u001b[1;31mRuntimeWarning\u001b[0m: invalid value encountered in true_divide\n",
      "/home/abdu/Desktop/virtualenv/GERA/lib/python3.5/site-packages/statsmodels/stats/multitest.py:147 \u001b[1;31mRuntimeWarning\u001b[0m: invalid value encountered in less_equal\n",
      "/home/abdu/Desktop/virtualenv/GERA/lib/python3.5/site-packages/statsmodels/stats/multitest.py:251 \u001b[1;31mRuntimeWarning\u001b[0m: invalid value encountered in greater\n"
     ]
    }
   ],
   "source": [
    "df_, y_ = preprocess_results(results, labels, *[False, False, False, False])\n",
    "kbest_ = SelectKBest().fit(df_, y_)\n",
    "\n",
    "corrected_p_values_ = multipletests(kbest_.pvalues_, method='bonferroni')\n",
    "corrected_pathways_ = df_.columns[corrected_p_values_[0]]"
   ]
  },
  {
   "cell_type": "code",
   "execution_count": 70,
   "metadata": {},
   "outputs": [],
   "source": [
    "significant_reactions = df_.columns[corrected_p_values_[0]]\n",
    "\n",
    "template = ('_max', ''), ('_min', '')\n",
    "reactions = set(map(lambda reaction: reduce(lambda a, kv: a.replace(*kv), template, reaction), \n",
    "                significant_reactions))\n",
    "\n",
    "model = load_network_model('recon2')\n",
    "\n",
    "pathways = set(filter(lambda name : 'Transport' not in name and name != '', \n",
    "               [\n",
    "                model.reactions.get_by_any(reaction)[0].subsystem\n",
    "                for reaction in reactions \n",
    "               ]))"
   ]
  },
  {
   "cell_type": "code",
   "execution_count": 71,
   "metadata": {},
   "outputs": [
    {
     "data": {
      "text/plain": [
       "array(['Glycine, serine, alanine and threonine metabolism'], dtype='<U49')"
      ]
     },
     "execution_count": 71,
     "metadata": {},
     "output_type": "execute_result"
    }
   ],
   "source": [
    "common = [pathway + '_dif' in metabolitics_pathways for pathway in pathways]\n",
    "\n",
    "np.array(list(pathways))[common]"
   ]
  }
 ],
 "metadata": {
  "kernelspec": {
   "display_name": "Python 3",
   "language": "python",
   "name": "python3"
  },
  "language_info": {
   "codemirror_mode": {
    "name": "ipython",
    "version": 3
   },
   "file_extension": ".py",
   "mimetype": "text/x-python",
   "name": "python",
   "nbconvert_exporter": "python",
   "pygments_lexer": "ipython3",
   "version": "3.5.2"
  }
 },
 "nbformat": 4,
 "nbformat_minor": 2
}
