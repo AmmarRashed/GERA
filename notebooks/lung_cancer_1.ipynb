{
 "cells": [
  {
   "cell_type": "code",
   "execution_count": 2,
   "metadata": {},
   "outputs": [],
   "source": [
    "import sys\n",
    "sys.path.append(\"../classes\")"
   ]
  },
  {
   "cell_type": "code",
   "execution_count": 5,
   "metadata": {},
   "outputs": [],
   "source": [
    "import pickle\n",
    "from sklearn.svm import SVC\n",
    "\n",
    "from sklearn.feature_selection import SelectKBest\n",
    "from sklearn.decomposition import PCA\n",
    "\n",
    "import numpy as np, pandas as pd\n",
    "from geno_classifier import *\n",
    "from itertools import starmap\n",
    "\n",
    "import GEOparse"
   ]
  },
  {
   "cell_type": "markdown",
   "metadata": {},
   "source": [
    "## GDS3257"
   ]
  },
  {
   "cell_type": "code",
   "execution_count": 2,
   "metadata": {},
   "outputs": [
    {
     "name": "stderr",
     "output_type": "stream",
     "text": [
      "04-Jan-2018 22:07:51 INFO GEOparse - File already exist: using local version.\n",
      "04-Jan-2018 22:07:51 INFO GEOparse - Parsing ./GDS3257.soft.gz: \n",
      "04-Jan-2018 22:07:51 DEBUG GEOparse - DATABASE: Geo\n",
      "04-Jan-2018 22:07:51 DEBUG GEOparse - DATASET: GDS3257\n",
      "04-Jan-2018 22:07:51 DEBUG GEOparse - SUBSET: GDS3257_1\n",
      "04-Jan-2018 22:07:51 DEBUG GEOparse - SUBSET: GDS3257_2\n",
      "04-Jan-2018 22:07:51 DEBUG GEOparse - SUBSET: GDS3257_3\n",
      "04-Jan-2018 22:07:51 DEBUG GEOparse - SUBSET: GDS3257_4\n",
      "04-Jan-2018 22:07:51 DEBUG GEOparse - SUBSET: GDS3257_5\n",
      "04-Jan-2018 22:07:51 DEBUG GEOparse - SUBSET: GDS3257_6\n",
      "04-Jan-2018 22:07:51 DEBUG GEOparse - SUBSET: GDS3257_7\n",
      "04-Jan-2018 22:07:51 DEBUG GEOparse - SUBSET: GDS3257_8\n",
      "04-Jan-2018 22:07:51 DEBUG GEOparse - SUBSET: GDS3257_9\n",
      "04-Jan-2018 22:07:51 DEBUG GEOparse - SUBSET: GDS3257_10\n",
      "04-Jan-2018 22:07:51 DEBUG GEOparse - SUBSET: GDS3257_11\n",
      "04-Jan-2018 22:07:51 DEBUG GEOparse - SUBSET: GDS3257_12\n",
      "04-Jan-2018 22:07:51 DEBUG GEOparse - SUBSET: GDS3257_13\n",
      "04-Jan-2018 22:07:51 DEBUG GEOparse - DATASET: GDS3257\n",
      "/usr/local/lib/python3.5/dist-packages/GEOparse/GEOparse.py:330 \u001b[1;31mFutureWarning\u001b[0m: from_csv is deprecated. Please use read_csv(...) instead. Note that some of the default arguments are different, so please refer to the documentation for from_csv when changing your function calls\n"
     ]
    }
   ],
   "source": [
    "lung_cancer_dataset = GEOparse.get_GEO('GDS3257').table"
   ]
  },
  {
   "cell_type": "markdown",
   "metadata": {},
   "source": [
    "## sample types"
   ]
  },
  {
   "cell_type": "markdown",
   "metadata": {},
   "source": [
    "#### unhealthy"
   ]
  },
  {
   "cell_type": "code",
   "execution_count": 3,
   "metadata": {},
   "outputs": [],
   "source": [
    "unhealthy_raw = '\\\n",
    "#GSM254629 = Value for GSM254629: Lung Tumor_GT00022; src: Adenocarcinoma of the Lung\\\n",
    "#GSM254648 = Value for GSM254648: Lung Tumor_GT01036; src: Adenocarcinoma of the Lung\\\n",
    "#GSM254694 = Value for GSM254694: Lung Tumor_GT01130; src: Adenocarcinoma of the Lung\\\n",
    "#GSM254701 = Value for GSM254701: Lung Tumor_GT01182; src: Adenocarcinoma of the Lung\\\n",
    "#GSM254728 = Value for GSM254728: Lung Tumor_GT01425; src: Adenocarcinoma of the Lung\\\n",
    "#GSM254726 = Value for GSM254726: Lung Tumor_GT01421; src: Adenocarcinoma of the Lung\\\n",
    "#GSM254639 = Value for GSM254639: Lung Tumor_GT01011; src: Adenocarcinoma of the Lung\\\n",
    "#GSM254652 = Value for GSM254652: Lung Tumor_GT01040; src: Adenocarcinoma of the Lung\\\n",
    "#GSM254700 = Value for GSM254700: Lung Tumor_GT01175; src: Adenocarcinoma of the Lung\\\n",
    "#GSM254625 = Value for GSM254625: Lung Tumor_GT00006; src: Adenocarcinoma of the Lung\\\n",
    "#GSM254636 = Value for GSM254636: Lung Tumor_GT01001; src: Adenocarcinoma of the Lung\\\n",
    "#GSM254659 = Value for GSM254659: Lung Tumor_GT01061; src: Adenocarcinoma of the Lung\\\n",
    "#GSM254680 = Value for GSM254680: Lung Tumor_GT01119; src: Adenocarcinoma of the Lung\\\n",
    "#GSM254686 = Value for GSM254686: Lung Tumor_GT01124; src: Adenocarcinoma of the Lung\\\n",
    "#GSM254718 = Value for GSM254718: Lung Tumor_GT01247; src: Adenocarcinoma of the Lung\\\n",
    "#GSM254674 = Value for GSM254674: Lung Tumor_GT01105; src: Adenocarcinoma of the Lung\\\n",
    "#GSM254668 = Value for GSM254668: Lung Tumor_GT01099; src: Adenocarcinoma of the Lung\\\n",
    "#GSM254697 = Value for GSM254697: Lung Tumor_GT01148; src: Adenocarcinoma of the Lung\\\n",
    "#GSM254704 = Value for GSM254704: Lung Tumor_GT01194; src: Adenocarcinoma of the Lung\\\n",
    "#GSM254707 = Value for GSM254707: Lung Tumor_GT01232; src: Adenocarcinoma of the Lung\\\n",
    "#GSM254714 = Value for GSM254714: Lung Tumor_GT01243; src: Adenocarcinoma of the Lung\\\n",
    "#GSM254722 = Value for GSM254722: Lung Tumor_GT01279; src: Adenocarcinoma of the Lung\\\n",
    "#GSM254627 = Value for GSM254627: Lung Tumor_GT00007; src: Adenocarcinoma of the Lung\\\n",
    "#GSM254630 = Value for GSM254630: Lung Tumor_GT00042; src: Adenocarcinoma of the Lung\\\n",
    "#GSM254633 = Value for GSM254633: Lung Tumor_GT00146; src: Adenocarcinoma of the Lung\\\n",
    "#GSM254670 = Value for GSM254670: Lung Tumor_GT01100; src: Adenocarcinoma of the Lung\\\n",
    "#GSM254716 = Value for GSM254716: Lung Tumor_GT01246; src: Adenocarcinoma of the Lung\\\n",
    "#GSM254720 = Value for GSM254720: Lung Tumor_GT01274; src: Adenocarcinoma of the Lung\\\n",
    "#GSM254729 = Value for GSM254729: Lung Tumor_GT01445; src: Adenocarcinoma of the Lung\\\n",
    "#GSM254654 = Value for GSM254654: Lung Tumor_GT01049; src: Adenocarcinoma of the Lung\\\n",
    "#GSM254656 = Value for GSM254656: Lung Tumor_GT01052; src: Adenocarcinoma of the Lung\\\n",
    "#GSM254631 = Value for GSM254631: Lung Tumor_GT00059; src: Adenocarcinoma of the Lung\\\n",
    "#GSM254657 = Value for GSM254657: Lung Tumor_GT01054; src: Adenocarcinoma of the Lung\\\n",
    "#GSM254664 = Value for GSM254664: Lung Tumor_GT01089; src: Adenocarcinoma of the Lung\\\n",
    "#GSM254672 = Value for GSM254672: Lung Tumor_GT01103; src: Adenocarcinoma of the Lung\\\n",
    "#GSM254692 = Value for GSM254692: Lung Tumor_GT01129; src: Adenocarcinoma of the Lung\\\n",
    "#GSM254645 = Value for GSM254645: Lung Tumor_GT01025; src: Adenocarcinoma of the Lung\\\n",
    "#GSM254666 = Value for GSM254666: Lung Tumor_GT01097; src: Adenocarcinoma of the Lung\\\n",
    "#GSM254675 = Value for GSM254675: Lung Tumor_GT01107; src: Adenocarcinoma of the Lung\\\n",
    "#GSM254678 = Value for GSM254678: Lung Tumor_GT01117; src: Adenocarcinoma of the Lung\\\n",
    "#GSM254688 = Value for GSM254688: Lung Tumor_GT01127; src: Adenocarcinoma of the Lung\\\n",
    "#GSM254690 = Value for GSM254690: Lung Tumor_GT01128; src: Adenocarcinoma of the Lung\\\n",
    "#GSM254696 = Value for GSM254696: Lung Tumor_GT01135; src: Adenocarcinoma of the Lung\\\n",
    "#GSM254705 = Value for GSM254705: Lung Tumor_GT01222; src: Adenocarcinoma of the Lung\\\n",
    "#GSM254642 = Value for GSM254642: Lung Tumor_GT01019; src: Adenocarcinoma of the Lung\\\n",
    "#GSM254661 = Value for GSM254661: Lung Tumor_GT01077; src: Adenocarcinoma of the Lung\\\n",
    "#GSM254698 = Value for GSM254698: Lung Tumor_GT01151; src: Adenocarcinoma of the Lung\\\n",
    "#GSM254641 = Value for GSM254641: Lung Tumor_GT01017; src: Adenocarcinoma of the Lung\\\n",
    "#GSM254647 = Value for GSM254647: Lung Tumor_GT01034; src: Adenocarcinoma of the Lung\\\n",
    "#GSM254663 = Value for GSM254663: Lung Tumor_GT01087; src: Adenocarcinoma of the Lung\\\n",
    "#GSM254682 = Value for GSM254682: Lung Tumor_GT01120; src: Adenocarcinoma of the Lung\\\n",
    "#GSM254709 = Value for GSM254709: Lung Tumor_GT01233; src: Adenocarcinoma of the Lung\\\n",
    "#GSM254721 = Value for GSM254721: Lung Tumor_GT01276; src: Adenocarcinoma of the Lung\\\n",
    "#GSM254724 = Value for GSM254724: Lung Tumor_GT01411; src: Adenocarcinoma of the Lung\\\n",
    "#GSM254650 = Value for GSM254650: Lung Tumor_GT01038; src: Adenocarcinoma of the Lung\\\n",
    "#GSM254687 = Value for GSM254687: Lung Tumor_GT01126; src: Adenocarcinoma of the Lung\\\n",
    "#GSM254637 = Value for GSM254637: Lung Tumor_GT01003; src: Adenocarcinoma of the Lung\\\n",
    "#GSM254684 = Value for GSM254684: Lung Tumor_GT01121; src: Adenocarcinoma of the Lung'"
   ]
  },
  {
   "cell_type": "markdown",
   "metadata": {},
   "source": [
    "#### healthy"
   ]
  },
  {
   "cell_type": "code",
   "execution_count": 4,
   "metadata": {},
   "outputs": [],
   "source": [
    "healthy_raw = '\\\n",
    "#GSM254649 = Value for GSM254649: Normal Lung_GT01036; src: Normal Lung Tissue\\\n",
    "#GSM254660 = Value for GSM254660: Normal Lung_GT01064; src: Normal Lung Tissue\\\n",
    "#GSM254693 = Value for GSM254693: Normal Lung_GT01130; src: Normal Lung Tissue\\\n",
    "#GSM254695 = Value for GSM254695: Normal Lung_GT01131; src: Normal Lung Tissue\\\n",
    "#GSM254702 = Value for GSM254702: Normal Lung_GT01182; src: Normal Lung Tissue\\\n",
    "#GSM254643 = Value for GSM254643: Normal Lung_GT01024; src: Normal Lung Tissue\\\n",
    "#GSM254727 = Value for GSM254727: Normal Lung_GT01421; src: Normal Lung Tissue\\\n",
    "#GSM254640 = Value for GSM254640: Normal Lung_GT01011; src: Normal Lung Tissue\\\n",
    "#GSM254626 = Value for GSM254626: Normal Lung_GT00006; src: Normal Lung Tissue\\\n",
    "#GSM254635 = Value for GSM254635: Normal Lung_GT01001; src: Normal Lung Tissue\\\n",
    "#GSM254653 = Value for GSM254653: Normal Lung_GT01047; src: Normal Lung Tissue\\\n",
    "#GSM254658 = Value for GSM254658: Normal Lung_GT01061; src: Normal Lung Tissue\\\n",
    "#GSM254681 = Value for GSM254681: Normal Lung_GT01119; src: Normal Lung Tissue\\\n",
    "#GSM254719 = Value for GSM254719: Normal Lung_GT01247; src: Normal Lung Tissue\\\n",
    "#GSM254673 = Value for GSM254673: Normal Lung_GT01105; src: Normal Lung Tissue\\\n",
    "#GSM254655 = Value for GSM254655: Normal Lung_GT01051; src: Normal Lung Tissue\\\n",
    "#GSM254669 = Value for GSM254669: Normal Lung_GT01099; src: Normal Lung Tissue\\\n",
    "#GSM254699 = Value for GSM254699: Normal Lung_GT01156; src: Normal Lung Tissue\\\n",
    "#GSM254703 = Value for GSM254703: Normal Lung_GT01194; src: Normal Lung Tissue\\\n",
    "#GSM254708 = Value for GSM254708: Normal Lung_GT01232; src: Normal Lung Tissue\\\n",
    "#GSM254715 = Value for GSM254715: Normal Lung_GT01243; src: Normal Lung Tissue\\\n",
    "#GSM254628 = Value for GSM254628: Normal Lung_GT00007; src: Normal Lung Tissue\\\n",
    "#GSM254634 = Value for GSM254634: Normal Lung_GT00146; src: Normal Lung Tissue\\\n",
    "#GSM254646 = Value for GSM254646: Normal Lung_GT01033; src: Normal Lung Tissue\\\n",
    "#GSM254671 = Value for GSM254671: Normal Lung_GT01100; src: Normal Lung Tissue\\\n",
    "#GSM254711 = Value for GSM254711: Normal Lung_GT01237; src: Normal Lung Tissue\\\n",
    "#GSM254717 = Value for GSM254717: Normal Lung_GT01246; src: Normal Lung Tissue\\\n",
    "#GSM254723 = Value for GSM254723: Normal Lung_GT01283; src: Normal Lung Tissue\\\n",
    "#GSM254730 = Value for GSM254730: Normal Lung_GT01445; src: Normal Lung Tissue\\\n",
    "#GSM254731 = Value for GSM254731: Normal Lung_GT01479; src: Normal Lung Tissue\\\n",
    "#GSM254632 = Value for GSM254632: Normal Lung_GT00059; src: Normal Lung Tissue\\\n",
    "#GSM254662 = Value for GSM254662: Normal Lung_GT01085; src: Normal Lung Tissue\\\n",
    "#GSM254677 = Value for GSM254677: Normal Lung_GT01113; src: Normal Lung Tissue\\\n",
    "#GSM254665 = Value for GSM254665: Normal Lung_GT01095; src: Normal Lung Tissue\\\n",
    "#GSM254691 = Value for GSM254691: Normal Lung_GT01129; src: Normal Lung Tissue\\\n",
    "#GSM254644 = Value for GSM254644: Normal Lung_GT01025; src: Normal Lung Tissue\\\n",
    "#GSM254667 = Value for GSM254667: Normal Lung_GT01097; src: Normal Lung Tissue\\\n",
    "#GSM254676 = Value for GSM254676: Normal Lung_GT01107; src: Normal Lung Tissue\\\n",
    "#GSM254679 = Value for GSM254679: Normal Lung_GT01117; src: Normal Lung Tissue\\\n",
    "#GSM254689 = Value for GSM254689: Normal Lung_GT01128; src: Normal Lung Tissue\\\n",
    "#GSM254706 = Value for GSM254706: Normal Lung_GT01222; src: Normal Lung Tissue\\\n",
    "#GSM254712 = Value for GSM254712: Normal Lung_GT01239; src: Normal Lung Tissue\\\n",
    "#GSM254713 = Value for GSM254713: Normal Lung_GT01240; src: Normal Lung Tissue\\\n",
    "#GSM254683 = Value for GSM254683: Normal Lung_GT01120; src: Normal Lung Tissue\\\n",
    "#GSM254710 = Value for GSM254710: Normal Lung_GT01233; src: Normal Lung Tissue\\\n",
    "#GSM254725 = Value for GSM254725: Normal Lung_GT01417; src: Normal Lung Tissue\\\n",
    "#GSM254651 = Value for GSM254651: Normal Lung_GT01038; src: Normal Lung Tissue\\\n",
    "#GSM254638 = Value for GSM254638: Normal Lung_GT01003; src: Normal Lung Tissue\\\n",
    "#GSM254685 = Value for GSM254685: Normal Lung_GT01121; src: Normal Lung Tissue'"
   ]
  },
  {
   "cell_type": "code",
   "execution_count": 5,
   "metadata": {},
   "outputs": [],
   "source": [
    "clean = lambda string: string.replace(':', '').split()\n",
    "predicate = lambda word: word.startswith('GSM')\n",
    "\n",
    "healthy = set(filter(predicate, clean(healthy_raw)))\n",
    "unhealthy = set(filter(predicate, clean(unhealthy_raw)))"
   ]
  },
  {
   "cell_type": "markdown",
   "metadata": {},
   "source": [
    "### number of samples"
   ]
  },
  {
   "cell_type": "code",
   "execution_count": 6,
   "metadata": {},
   "outputs": [
    {
     "name": "stdout",
     "output_type": "stream",
     "text": [
      "49 58\n"
     ]
    }
   ],
   "source": [
    "print(len(healthy), len(unhealthy))"
   ]
  },
  {
   "cell_type": "code",
   "execution_count": 7,
   "metadata": {},
   "outputs": [
    {
     "data": {
      "text/plain": [
       "set()"
      ]
     },
     "execution_count": 7,
     "metadata": {},
     "output_type": "execute_result"
    }
   ],
   "source": [
    "healthy & unhealthy"
   ]
  },
  {
   "cell_type": "code",
   "execution_count": 8,
   "metadata": {},
   "outputs": [
    {
     "data": {
      "text/html": [
       "<div>\n",
       "<style scoped>\n",
       "    .dataframe tbody tr th:only-of-type {\n",
       "        vertical-align: middle;\n",
       "    }\n",
       "\n",
       "    .dataframe tbody tr th {\n",
       "        vertical-align: top;\n",
       "    }\n",
       "\n",
       "    .dataframe thead th {\n",
       "        text-align: right;\n",
       "    }\n",
       "</style>\n",
       "<table border=\"1\" class=\"dataframe\">\n",
       "  <thead>\n",
       "    <tr style=\"text-align: right;\">\n",
       "      <th></th>\n",
       "      <th>ID_REF</th>\n",
       "      <th>IDENTIFIER</th>\n",
       "      <th>GSM254629</th>\n",
       "      <th>GSM254648</th>\n",
       "      <th>GSM254694</th>\n",
       "    </tr>\n",
       "  </thead>\n",
       "  <tbody>\n",
       "    <tr>\n",
       "      <th>0</th>\n",
       "      <td>1007_s_at</td>\n",
       "      <td>MIR4640</td>\n",
       "      <td>10.98850</td>\n",
       "      <td>10.69190</td>\n",
       "      <td>10.89780</td>\n",
       "    </tr>\n",
       "    <tr>\n",
       "      <th>1</th>\n",
       "      <td>1053_at</td>\n",
       "      <td>RFC2</td>\n",
       "      <td>6.82603</td>\n",
       "      <td>6.90960</td>\n",
       "      <td>6.80295</td>\n",
       "    </tr>\n",
       "    <tr>\n",
       "      <th>2</th>\n",
       "      <td>117_at</td>\n",
       "      <td>HSPA6</td>\n",
       "      <td>7.77559</td>\n",
       "      <td>7.68374</td>\n",
       "      <td>7.88498</td>\n",
       "    </tr>\n",
       "    <tr>\n",
       "      <th>3</th>\n",
       "      <td>121_at</td>\n",
       "      <td>PAX8</td>\n",
       "      <td>9.85506</td>\n",
       "      <td>10.13210</td>\n",
       "      <td>9.84110</td>\n",
       "    </tr>\n",
       "    <tr>\n",
       "      <th>4</th>\n",
       "      <td>1255_g_at</td>\n",
       "      <td>GUCA1A</td>\n",
       "      <td>4.82396</td>\n",
       "      <td>4.98489</td>\n",
       "      <td>4.87689</td>\n",
       "    </tr>\n",
       "  </tbody>\n",
       "</table>\n",
       "</div>"
      ],
      "text/plain": [
       "      ID_REF IDENTIFIER  GSM254629  GSM254648  GSM254694\n",
       "0  1007_s_at    MIR4640   10.98850   10.69190   10.89780\n",
       "1    1053_at       RFC2    6.82603    6.90960    6.80295\n",
       "2     117_at      HSPA6    7.77559    7.68374    7.88498\n",
       "3     121_at       PAX8    9.85506   10.13210    9.84110\n",
       "4  1255_g_at     GUCA1A    4.82396    4.98489    4.87689"
      ]
     },
     "execution_count": 8,
     "metadata": {},
     "output_type": "execute_result"
    }
   ],
   "source": [
    "lung_cancer_dataset[lung_cancer_dataset.columns[:5]].head()"
   ]
  },
  {
   "cell_type": "code",
   "execution_count": 9,
   "metadata": {},
   "outputs": [],
   "source": [
    "labels_ = [(h, 'healthy') for h in healthy] + [(d, 'unhealthy') for d in unhealthy]"
   ]
  },
  {
   "cell_type": "code",
   "execution_count": 10,
   "metadata": {},
   "outputs": [
    {
     "name": "stderr",
     "output_type": "stream",
     "text": [
      "04-Jan-2018 22:08:12 INFO GEOparse - File already exist: using local version.\n",
      "04-Jan-2018 22:08:12 INFO GEOparse - Parsing ./GDS3257.soft.gz: \n",
      "04-Jan-2018 22:08:12 DEBUG GEOparse - DATABASE: Geo\n",
      "04-Jan-2018 22:08:12 DEBUG GEOparse - DATASET: GDS3257\n",
      "04-Jan-2018 22:08:12 DEBUG GEOparse - SUBSET: GDS3257_1\n",
      "04-Jan-2018 22:08:12 DEBUG GEOparse - SUBSET: GDS3257_2\n",
      "04-Jan-2018 22:08:12 DEBUG GEOparse - SUBSET: GDS3257_3\n",
      "04-Jan-2018 22:08:12 DEBUG GEOparse - SUBSET: GDS3257_4\n",
      "04-Jan-2018 22:08:12 DEBUG GEOparse - SUBSET: GDS3257_5\n",
      "04-Jan-2018 22:08:12 DEBUG GEOparse - SUBSET: GDS3257_6\n",
      "04-Jan-2018 22:08:12 DEBUG GEOparse - SUBSET: GDS3257_7\n",
      "04-Jan-2018 22:08:12 DEBUG GEOparse - SUBSET: GDS3257_8\n",
      "04-Jan-2018 22:08:12 DEBUG GEOparse - SUBSET: GDS3257_9\n",
      "04-Jan-2018 22:08:12 DEBUG GEOparse - SUBSET: GDS3257_10\n",
      "04-Jan-2018 22:08:12 DEBUG GEOparse - SUBSET: GDS3257_11\n",
      "04-Jan-2018 22:08:12 DEBUG GEOparse - SUBSET: GDS3257_12\n",
      "04-Jan-2018 22:08:12 DEBUG GEOparse - SUBSET: GDS3257_13\n",
      "04-Jan-2018 22:08:12 DEBUG GEOparse - DATASET: GDS3257\n",
      "/usr/local/lib/python3.5/dist-packages/GEOparse/GEOparse.py:330 \u001b[1;31mFutureWarning\u001b[0m: from_csv is deprecated. Please use read_csv(...) instead. Note that some of the default arguments are different, so please refer to the documentation for from_csv when changing your function calls\n"
     ]
    },
    {
     "name": "stdout",
     "output_type": "stream",
     "text": [
      "GSM254629 added with length 12666\n",
      "GSM254648 added with length 12666\n",
      "GSM254694 added with length 12666\n",
      "GSM254701 added with length 12666\n",
      "GSM254728 added with length 12666\n",
      "GSM254726 added with length 12666\n",
      "GSM254639 added with length 12666\n",
      "GSM254652 added with length 12666\n",
      "GSM254700 added with length 12666\n",
      "GSM254625 added with length 12666\n",
      "GSM254636 added with length 12666\n",
      "GSM254659 added with length 12666\n",
      "GSM254680 added with length 12666\n",
      "GSM254686 added with length 12666\n",
      "GSM254718 added with length 12666\n",
      "GSM254674 added with length 12666\n",
      "GSM254668 added with length 12666\n",
      "GSM254697 added with length 12666\n",
      "GSM254704 added with length 12666\n",
      "GSM254707 added with length 12666\n",
      "GSM254714 added with length 12666\n",
      "GSM254722 added with length 12666\n",
      "GSM254627 added with length 12666\n",
      "GSM254630 added with length 12666\n",
      "GSM254633 added with length 12666\n",
      "GSM254670 added with length 12666\n",
      "GSM254716 added with length 12666\n",
      "GSM254720 added with length 12666\n",
      "GSM254729 added with length 12666\n",
      "GSM254654 added with length 12666\n",
      "GSM254656 added with length 12666\n",
      "GSM254631 added with length 12666\n",
      "GSM254657 added with length 12666\n",
      "GSM254664 added with length 12666\n",
      "GSM254672 added with length 12666\n",
      "GSM254692 added with length 12666\n",
      "GSM254645 added with length 12666\n",
      "GSM254666 added with length 12666\n",
      "GSM254675 added with length 12666\n",
      "GSM254678 added with length 12666\n",
      "GSM254688 added with length 12666\n",
      "GSM254690 added with length 12666\n",
      "GSM254696 added with length 12666\n",
      "GSM254705 added with length 12666\n",
      "GSM254642 added with length 12666\n",
      "GSM254661 added with length 12666\n",
      "GSM254698 added with length 12666\n",
      "GSM254641 added with length 12666\n",
      "GSM254647 added with length 12666\n",
      "GSM254663 added with length 12666\n",
      "GSM254682 added with length 12666\n",
      "GSM254709 added with length 12666\n",
      "GSM254721 added with length 12666\n",
      "GSM254724 added with length 12666\n",
      "GSM254650 added with length 12666\n",
      "GSM254687 added with length 12666\n",
      "GSM254637 added with length 12666\n",
      "GSM254684 added with length 12666\n",
      "GSM254649 added with length 12666\n",
      "GSM254660 added with length 12666\n",
      "GSM254693 added with length 12666\n",
      "GSM254695 added with length 12666\n",
      "GSM254702 added with length 12666\n",
      "GSM254643 added with length 12666\n",
      "GSM254727 added with length 12666\n",
      "GSM254640 added with length 12666\n",
      "GSM254626 added with length 12666\n",
      "GSM254635 added with length 12666\n",
      "GSM254653 added with length 12666\n",
      "GSM254658 added with length 12666\n",
      "GSM254681 added with length 12666\n",
      "GSM254719 added with length 12666\n",
      "GSM254673 added with length 12666\n",
      "GSM254655 added with length 12666\n",
      "GSM254669 added with length 12666\n",
      "GSM254699 added with length 12666\n",
      "GSM254703 added with length 12666\n",
      "GSM254708 added with length 12666\n",
      "GSM254715 added with length 12666\n",
      "GSM254628 added with length 12666\n",
      "GSM254634 added with length 12666\n",
      "GSM254646 added with length 12666\n",
      "GSM254671 added with length 12666\n",
      "GSM254711 added with length 12666\n",
      "GSM254717 added with length 12666\n",
      "GSM254723 added with length 12666\n",
      "GSM254730 added with length 12666\n",
      "GSM254731 added with length 12666\n",
      "GSM254632 added with length 12666\n",
      "GSM254662 added with length 12666\n",
      "GSM254677 added with length 12666\n",
      "GSM254665 added with length 12666\n",
      "GSM254691 added with length 12666\n",
      "GSM254644 added with length 12666\n",
      "GSM254667 added with length 12666\n",
      "GSM254676 added with length 12666\n",
      "GSM254679 added with length 12666\n",
      "GSM254689 added with length 12666\n",
      "GSM254706 added with length 12666\n",
      "GSM254712 added with length 12666\n",
      "GSM254713 added with length 12666\n",
      "GSM254683 added with length 12666\n",
      "GSM254710 added with length 12666\n",
      "GSM254725 added with length 12666\n",
      "GSM254651 added with length 12666\n",
      "GSM254638 added with length 12666\n",
      "GSM254685 added with length 12666\n"
     ]
    }
   ],
   "source": [
    "X_, y_ = parse_database('GDS3257', labels=dict(labels_), n_jobs=-1)"
   ]
  },
  {
   "cell_type": "markdown",
   "metadata": {},
   "source": [
    "### Flux variability analysis"
   ]
  },
  {
   "cell_type": "code",
   "execution_count": null,
   "metadata": {},
   "outputs": [],
   "source": [
    "results = flux_variance_analysis(X_, y_)\n",
    "pickle.dump(results, open(\"../results/lung_cancer_1.results\", \"wb\"))"
   ]
  },
  {
   "cell_type": "code",
   "execution_count": 6,
   "metadata": {},
   "outputs": [],
   "source": [
    "results = pickle.load(open('../results/lung_cancer_1.results','rb'))\n",
    "labels = pickle.load(open('../datasets/lung_cancer_1_y','rb'))\n",
    "\n",
    "X_diff, y = preprocess_results(results, labels, use_diff_score=True, use_pathways=True)"
   ]
  },
  {
   "cell_type": "markdown",
   "metadata": {},
   "source": [
    "### nested-cross validation over best pipeline (using diff-values)"
   ]
  },
  {
   "cell_type": "code",
   "execution_count": 7,
   "metadata": {},
   "outputs": [],
   "source": [
    "classifiers = [\n",
    "    (SVC, {\n",
    "        'C': np.geomspace(1e-6, 1e6, num=10),\n",
    "    })\n",
    "]\n",
    "\n",
    "feature_selection = [\n",
    "    (PCA, {\n",
    "    'n_components': range(3, 81+1, 6)\n",
    "  })\n",
    "]"
   ]
  },
  {
   "cell_type": "code",
   "execution_count": 8,
   "metadata": {},
   "outputs": [
    {
     "name": "stdout",
     "output_type": "stream",
     "text": [
      "Fitting 10 folds for each of 140 candidates, totalling 1400 fits\n"
     ]
    },
    {
     "name": "stderr",
     "output_type": "stream",
     "text": [
      "[Parallel(n_jobs=-1)]: Done 232 tasks      | elapsed:    2.6s\n",
      "[Parallel(n_jobs=-1)]: Done 1400 out of 1400 | elapsed:   12.4s finished\n"
     ]
    },
    {
     "name": "stdout",
     "output_type": "stream",
     "text": [
      "1 trial done\n",
      "----------\n",
      "Fitting 10 folds for each of 140 candidates, totalling 1400 fits\n"
     ]
    },
    {
     "name": "stderr",
     "output_type": "stream",
     "text": [
      "[Parallel(n_jobs=-1)]: Done 196 tasks      | elapsed:    2.9s\n",
      "[Parallel(n_jobs=-1)]: Done 1400 out of 1400 | elapsed:   12.4s finished\n"
     ]
    },
    {
     "name": "stdout",
     "output_type": "stream",
     "text": [
      "2 trial done\n",
      "----------\n",
      "Fitting 10 folds for each of 140 candidates, totalling 1400 fits\n"
     ]
    },
    {
     "name": "stderr",
     "output_type": "stream",
     "text": [
      "[Parallel(n_jobs=-1)]: Done 196 tasks      | elapsed:    3.3s\n",
      "[Parallel(n_jobs=-1)]: Done 1400 out of 1400 | elapsed:   12.6s finished\n"
     ]
    },
    {
     "name": "stdout",
     "output_type": "stream",
     "text": [
      "3 trial done\n",
      "----------\n",
      "Fitting 10 folds for each of 140 candidates, totalling 1400 fits\n"
     ]
    },
    {
     "name": "stderr",
     "output_type": "stream",
     "text": [
      "[Parallel(n_jobs=-1)]: Done 232 tasks      | elapsed:    3.4s\n",
      "[Parallel(n_jobs=-1)]: Done 1400 out of 1400 | elapsed:   11.4s finished\n"
     ]
    },
    {
     "name": "stdout",
     "output_type": "stream",
     "text": [
      "4 trial done\n",
      "----------\n",
      "Fitting 10 folds for each of 140 candidates, totalling 1400 fits\n"
     ]
    },
    {
     "name": "stderr",
     "output_type": "stream",
     "text": [
      "[Parallel(n_jobs=-1)]: Done 124 tasks      | elapsed:    2.5s\n",
      "[Parallel(n_jobs=-1)]: Done 1024 tasks      | elapsed:    9.9s\n",
      "[Parallel(n_jobs=-1)]: Done 1400 out of 1400 | elapsed:   13.0s finished\n"
     ]
    },
    {
     "name": "stdout",
     "output_type": "stream",
     "text": [
      "5 trial done\n",
      "----------\n",
      "Fitting 10 folds for each of 140 candidates, totalling 1400 fits\n"
     ]
    },
    {
     "name": "stderr",
     "output_type": "stream",
     "text": [
      "[Parallel(n_jobs=-1)]: Done 304 tasks      | elapsed:    4.0s\n",
      "[Parallel(n_jobs=-1)]: Done 1400 out of 1400 | elapsed:   12.5s finished\n"
     ]
    },
    {
     "name": "stdout",
     "output_type": "stream",
     "text": [
      "6 trial done\n",
      "----------\n",
      "Fitting 10 folds for each of 140 candidates, totalling 1400 fits\n"
     ]
    },
    {
     "name": "stderr",
     "output_type": "stream",
     "text": [
      "[Parallel(n_jobs=-1)]: Done 124 tasks      | elapsed:    1.9s\n",
      "[Parallel(n_jobs=-1)]: Done 1024 tasks      | elapsed:    9.1s\n",
      "[Parallel(n_jobs=-1)]: Done 1400 out of 1400 | elapsed:   12.3s finished\n"
     ]
    },
    {
     "name": "stdout",
     "output_type": "stream",
     "text": [
      "7 trial done\n",
      "----------\n",
      "Fitting 10 folds for each of 140 candidates, totalling 1400 fits\n"
     ]
    },
    {
     "name": "stderr",
     "output_type": "stream",
     "text": [
      "[Parallel(n_jobs=-1)]: Done 232 tasks      | elapsed:    2.8s\n",
      "[Parallel(n_jobs=-1)]: Done 1400 out of 1400 | elapsed:   11.9s finished\n"
     ]
    },
    {
     "name": "stdout",
     "output_type": "stream",
     "text": [
      "8 trial done\n",
      "----------\n",
      "Fitting 10 folds for each of 140 candidates, totalling 1400 fits\n"
     ]
    },
    {
     "name": "stderr",
     "output_type": "stream",
     "text": [
      "[Parallel(n_jobs=-1)]: Done  88 tasks      | elapsed:    1.3s\n",
      "[Parallel(n_jobs=-1)]: Done 688 tasks      | elapsed:    7.0s\n",
      "[Parallel(n_jobs=-1)]: Done 1400 out of 1400 | elapsed:   12.9s finished\n"
     ]
    },
    {
     "name": "stdout",
     "output_type": "stream",
     "text": [
      "9 trial done\n",
      "----------\n",
      "Fitting 10 folds for each of 140 candidates, totalling 1400 fits\n"
     ]
    },
    {
     "name": "stderr",
     "output_type": "stream",
     "text": [
      "[Parallel(n_jobs=-1)]: Done 124 tasks      | elapsed:    2.3s\n",
      "[Parallel(n_jobs=-1)]: Done 1024 tasks      | elapsed:    8.9s\n"
     ]
    },
    {
     "name": "stdout",
     "output_type": "stream",
     "text": [
      "10 trial done\n",
      "----------\n"
     ]
    },
    {
     "name": "stderr",
     "output_type": "stream",
     "text": [
      "[Parallel(n_jobs=-1)]: Done 1400 out of 1400 | elapsed:   12.0s finished\n"
     ]
    }
   ],
   "source": [
    "trials, stats = nested_cross_validation(X_diff, y, build_pipelines(feature_selection, classifiers))"
   ]
  },
  {
   "cell_type": "code",
   "execution_count": 10,
   "metadata": {},
   "outputs": [
    {
     "data": {
      "text/html": [
       "<div>\n",
       "<style scoped>\n",
       "    .dataframe tbody tr th:only-of-type {\n",
       "        vertical-align: middle;\n",
       "    }\n",
       "\n",
       "    .dataframe tbody tr th {\n",
       "        vertical-align: top;\n",
       "    }\n",
       "\n",
       "    .dataframe thead th {\n",
       "        text-align: right;\n",
       "    }\n",
       "</style>\n",
       "<table border=\"1\" class=\"dataframe\">\n",
       "  <thead>\n",
       "    <tr style=\"text-align: right;\">\n",
       "      <th></th>\n",
       "      <th>fit_time</th>\n",
       "      <th>score_time</th>\n",
       "      <th>test_accuracy</th>\n",
       "      <th>test_f1</th>\n",
       "      <th>test_precision</th>\n",
       "      <th>test_recall</th>\n",
       "    </tr>\n",
       "  </thead>\n",
       "  <tbody>\n",
       "    <tr>\n",
       "      <th>count</th>\n",
       "      <td>10.000000</td>\n",
       "      <td>10.000000</td>\n",
       "      <td>10.000000</td>\n",
       "      <td>10.000000</td>\n",
       "      <td>10.000000</td>\n",
       "      <td>10.000000</td>\n",
       "    </tr>\n",
       "    <tr>\n",
       "      <th>mean</th>\n",
       "      <td>0.006520</td>\n",
       "      <td>0.002288</td>\n",
       "      <td>0.827717</td>\n",
       "      <td>0.830682</td>\n",
       "      <td>0.884762</td>\n",
       "      <td>0.805333</td>\n",
       "    </tr>\n",
       "    <tr>\n",
       "      <th>std</th>\n",
       "      <td>0.001170</td>\n",
       "      <td>0.000064</td>\n",
       "      <td>0.016529</td>\n",
       "      <td>0.014782</td>\n",
       "      <td>0.019649</td>\n",
       "      <td>0.015571</td>\n",
       "    </tr>\n",
       "    <tr>\n",
       "      <th>min</th>\n",
       "      <td>0.005612</td>\n",
       "      <td>0.002202</td>\n",
       "      <td>0.802323</td>\n",
       "      <td>0.804992</td>\n",
       "      <td>0.856429</td>\n",
       "      <td>0.776667</td>\n",
       "    </tr>\n",
       "    <tr>\n",
       "      <th>25%</th>\n",
       "      <td>0.005631</td>\n",
       "      <td>0.002244</td>\n",
       "      <td>0.817626</td>\n",
       "      <td>0.822792</td>\n",
       "      <td>0.874167</td>\n",
       "      <td>0.795000</td>\n",
       "    </tr>\n",
       "    <tr>\n",
       "      <th>50%</th>\n",
       "      <td>0.005827</td>\n",
       "      <td>0.002272</td>\n",
       "      <td>0.827323</td>\n",
       "      <td>0.832343</td>\n",
       "      <td>0.885595</td>\n",
       "      <td>0.808333</td>\n",
       "    </tr>\n",
       "    <tr>\n",
       "      <th>75%</th>\n",
       "      <td>0.007400</td>\n",
       "      <td>0.002331</td>\n",
       "      <td>0.834116</td>\n",
       "      <td>0.837756</td>\n",
       "      <td>0.896369</td>\n",
       "      <td>0.815833</td>\n",
       "    </tr>\n",
       "    <tr>\n",
       "      <th>max</th>\n",
       "      <td>0.008617</td>\n",
       "      <td>0.002387</td>\n",
       "      <td>0.860707</td>\n",
       "      <td>0.858353</td>\n",
       "      <td>0.914762</td>\n",
       "      <td>0.830000</td>\n",
       "    </tr>\n",
       "  </tbody>\n",
       "</table>\n",
       "</div>"
      ],
      "text/plain": [
       "        fit_time  score_time  test_accuracy    test_f1  test_precision  \\\n",
       "count  10.000000   10.000000      10.000000  10.000000       10.000000   \n",
       "mean    0.006520    0.002288       0.827717   0.830682        0.884762   \n",
       "std     0.001170    0.000064       0.016529   0.014782        0.019649   \n",
       "min     0.005612    0.002202       0.802323   0.804992        0.856429   \n",
       "25%     0.005631    0.002244       0.817626   0.822792        0.874167   \n",
       "50%     0.005827    0.002272       0.827323   0.832343        0.885595   \n",
       "75%     0.007400    0.002331       0.834116   0.837756        0.896369   \n",
       "max     0.008617    0.002387       0.860707   0.858353        0.914762   \n",
       "\n",
       "       test_recall  \n",
       "count    10.000000  \n",
       "mean      0.805333  \n",
       "std       0.015571  \n",
       "min       0.776667  \n",
       "25%       0.795000  \n",
       "50%       0.808333  \n",
       "75%       0.815833  \n",
       "max       0.830000  "
      ]
     },
     "execution_count": 10,
     "metadata": {},
     "output_type": "execute_result"
    }
   ],
   "source": [
    "stats.describe()"
   ]
  }
 ],
 "metadata": {
  "kernelspec": {
   "display_name": "Python 3",
   "language": "python",
   "name": "python3"
  },
  "language_info": {
   "codemirror_mode": {
    "name": "ipython",
    "version": 3
   },
   "file_extension": ".py",
   "mimetype": "text/x-python",
   "name": "python",
   "nbconvert_exporter": "python",
   "pygments_lexer": "ipython3",
   "version": "3.5.2"
  }
 },
 "nbformat": 4,
 "nbformat_minor": 2
}
