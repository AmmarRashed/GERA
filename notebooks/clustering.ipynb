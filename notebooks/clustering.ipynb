{
 "cells": [
  {
   "cell_type": "code",
   "execution_count": 2,
   "metadata": {},
   "outputs": [],
   "source": [
    "import sys\n",
    "sys.path.append(\"../classes\")"
   ]
  },
  {
   "cell_type": "code",
   "execution_count": 247,
   "metadata": {},
   "outputs": [],
   "source": [
    "import pickle\n",
    "from sklearn.cluster import KMeans\n",
    "from sklearn.decomposition import PCA\n",
    "from sklearn.manifold import TSNE, Isomap, MDS, SpectralEmbedding\n",
    "\n",
    "import numpy as np, pandas as pd\n",
    "from geno_classifier import *\n",
    "from itertools import starmap, product\n",
    "\n",
    "import GEOparse\n",
    "\n",
    "%matplotlib inline\n",
    "import matplotlib.pyplot as plt\n",
    "import numpy as np"
   ]
  },
  {
   "cell_type": "markdown",
   "metadata": {},
   "source": [
    "### Clustering on diff values"
   ]
  },
  {
   "cell_type": "code",
   "execution_count": 22,
   "metadata": {},
   "outputs": [],
   "source": [
    "change_lable = lambda label, prefix: '{}_{}'.format(prefix, label)"
   ]
  },
  {
   "cell_type": "markdown",
   "metadata": {},
   "source": [
    "### breast-cancer"
   ]
  },
  {
   "cell_type": "code",
   "execution_count": 39,
   "metadata": {},
   "outputs": [
    {
     "data": {
      "text/plain": [
       "176"
      ]
     },
     "execution_count": 39,
     "metadata": {},
     "output_type": "execute_result"
    }
   ],
   "source": [
    "len(list(starmap(change_lable, product(bc_labels_, 'bc'))))"
   ]
  },
  {
   "cell_type": "code",
   "execution_count": 42,
   "metadata": {},
   "outputs": [],
   "source": [
    "bc_results = pickle.load(open('../results/breast_cancer_2.results','rb'))\n",
    "bc_labels_ = pickle.load(open('../datasets/breast_cancer_2_y','rb'))\n",
    "\n",
    "breast_cancer, breast_cancer_labels = preprocess_results(bc_results, bc_labels_, \n",
    "                                                         use_diff_score=True, use_pathways=True, \n",
    "                                                         scale=False, use_one_hot=False)\n",
    "\n",
    "breast_cancer.index = starmap(change_lable, product(bc_labels_, ['bc']))"
   ]
  },
  {
   "cell_type": "code",
   "execution_count": 48,
   "metadata": {},
   "outputs": [
    {
     "data": {
      "text/html": [
       "<div>\n",
       "<style scoped>\n",
       "    .dataframe tbody tr th:only-of-type {\n",
       "        vertical-align: middle;\n",
       "    }\n",
       "\n",
       "    .dataframe tbody tr th {\n",
       "        vertical-align: top;\n",
       "    }\n",
       "\n",
       "    .dataframe thead th {\n",
       "        text-align: right;\n",
       "    }\n",
       "</style>\n",
       "<table border=\"1\" class=\"dataframe\">\n",
       "  <thead>\n",
       "    <tr style=\"text-align: right;\">\n",
       "      <th></th>\n",
       "      <th></th>\n",
       "      <th>Alanine and aspartate metabolism</th>\n",
       "      <th>Alkaloid synthesis</th>\n",
       "      <th>Aminosugar metabolism</th>\n",
       "      <th>Androgen and estrogen synthesis and metabolism</th>\n",
       "    </tr>\n",
       "  </thead>\n",
       "  <tbody>\n",
       "    <tr>\n",
       "      <th>bc_unhealthy</th>\n",
       "      <td>-25.490606</td>\n",
       "      <td>-100.777030</td>\n",
       "      <td>7.129360e-06</td>\n",
       "      <td>-55.414072</td>\n",
       "      <td>0.000007</td>\n",
       "    </tr>\n",
       "    <tr>\n",
       "      <th>bc_unhealthy</th>\n",
       "      <td>-21.389085</td>\n",
       "      <td>96.445184</td>\n",
       "      <td>-1.006312e-06</td>\n",
       "      <td>73.618178</td>\n",
       "      <td>-0.000001</td>\n",
       "    </tr>\n",
       "    <tr>\n",
       "      <th>bc_unhealthy</th>\n",
       "      <td>-29.843938</td>\n",
       "      <td>38.294390</td>\n",
       "      <td>-1.006312e-06</td>\n",
       "      <td>256.413877</td>\n",
       "      <td>-0.000001</td>\n",
       "    </tr>\n",
       "    <tr>\n",
       "      <th>bc_healthy</th>\n",
       "      <td>-14.526884</td>\n",
       "      <td>-100.777037</td>\n",
       "      <td>5.131799e-07</td>\n",
       "      <td>-44.661390</td>\n",
       "      <td>0.000002</td>\n",
       "    </tr>\n",
       "    <tr>\n",
       "      <th>bc_unhealthy</th>\n",
       "      <td>-12.184960</td>\n",
       "      <td>6.018669</td>\n",
       "      <td>5.672039e-06</td>\n",
       "      <td>-55.414075</td>\n",
       "      <td>0.000006</td>\n",
       "    </tr>\n",
       "  </tbody>\n",
       "</table>\n",
       "</div>"
      ],
      "text/plain": [
       "                         Alanine and aspartate metabolism  Alkaloid synthesis  \\\n",
       "bc_unhealthy -25.490606                       -100.777030        7.129360e-06   \n",
       "bc_unhealthy -21.389085                         96.445184       -1.006312e-06   \n",
       "bc_unhealthy -29.843938                         38.294390       -1.006312e-06   \n",
       "bc_healthy   -14.526884                       -100.777037        5.131799e-07   \n",
       "bc_unhealthy -12.184960                          6.018669        5.672039e-06   \n",
       "\n",
       "              Aminosugar metabolism  \\\n",
       "bc_unhealthy             -55.414072   \n",
       "bc_unhealthy              73.618178   \n",
       "bc_unhealthy             256.413877   \n",
       "bc_healthy               -44.661390   \n",
       "bc_unhealthy             -55.414075   \n",
       "\n",
       "              Androgen and estrogen synthesis and metabolism  \n",
       "bc_unhealthy                                        0.000007  \n",
       "bc_unhealthy                                       -0.000001  \n",
       "bc_unhealthy                                       -0.000001  \n",
       "bc_healthy                                          0.000002  \n",
       "bc_unhealthy                                        0.000006  "
      ]
     },
     "execution_count": 48,
     "metadata": {},
     "output_type": "execute_result"
    }
   ],
   "source": [
    "breast_cancer[breast_cancer.columns[:5]].head()"
   ]
  },
  {
   "cell_type": "markdown",
   "metadata": {},
   "source": [
    "### lung-cancer"
   ]
  },
  {
   "cell_type": "code",
   "execution_count": 45,
   "metadata": {},
   "outputs": [],
   "source": [
    "lc_results = pickle.load(open('../results/lung_cancer_1.results','rb'))\n",
    "lc_labels_ = pickle.load(open('../datasets/lung_cancer_1_y','rb'))\n",
    "\n",
    "lung_cancer, lung_cancer_y = preprocess_results(lung_cancer_results, lung_cancer_labels_, \n",
    "                                                use_diff_score=True, use_pathways=True, \n",
    "                                                scale=False, use_one_hot=False)\n",
    "\n",
    "lung_cancer.index = starmap(change_lable, product(lc_labels_, ['lg']))"
   ]
  },
  {
   "cell_type": "code",
   "execution_count": 49,
   "metadata": {},
   "outputs": [
    {
     "data": {
      "text/html": [
       "<div>\n",
       "<style scoped>\n",
       "    .dataframe tbody tr th:only-of-type {\n",
       "        vertical-align: middle;\n",
       "    }\n",
       "\n",
       "    .dataframe tbody tr th {\n",
       "        vertical-align: top;\n",
       "    }\n",
       "\n",
       "    .dataframe thead th {\n",
       "        text-align: right;\n",
       "    }\n",
       "</style>\n",
       "<table border=\"1\" class=\"dataframe\">\n",
       "  <thead>\n",
       "    <tr style=\"text-align: right;\">\n",
       "      <th></th>\n",
       "      <th></th>\n",
       "      <th>Alanine and aspartate metabolism</th>\n",
       "      <th>Alkaloid synthesis</th>\n",
       "      <th>Aminosugar metabolism</th>\n",
       "      <th>Androgen and estrogen synthesis and metabolism</th>\n",
       "    </tr>\n",
       "  </thead>\n",
       "  <tbody>\n",
       "    <tr>\n",
       "      <th>lg_unhealthy</th>\n",
       "      <td>48.843000</td>\n",
       "      <td>138.648466</td>\n",
       "      <td>-0.000006</td>\n",
       "      <td>-82.204632</td>\n",
       "      <td>-0.000011</td>\n",
       "    </tr>\n",
       "    <tr>\n",
       "      <th>lg_unhealthy</th>\n",
       "      <td>2.642386</td>\n",
       "      <td>138.648466</td>\n",
       "      <td>-0.000006</td>\n",
       "      <td>-82.204632</td>\n",
       "      <td>-0.000011</td>\n",
       "    </tr>\n",
       "    <tr>\n",
       "      <th>lg_unhealthy</th>\n",
       "      <td>41.381614</td>\n",
       "      <td>-4.367172</td>\n",
       "      <td>-0.000006</td>\n",
       "      <td>-82.204632</td>\n",
       "      <td>-0.000011</td>\n",
       "    </tr>\n",
       "    <tr>\n",
       "      <th>lg_unhealthy</th>\n",
       "      <td>-3.062908</td>\n",
       "      <td>109.866720</td>\n",
       "      <td>-0.000005</td>\n",
       "      <td>-114.462695</td>\n",
       "      <td>-0.000009</td>\n",
       "    </tr>\n",
       "    <tr>\n",
       "      <th>lg_unhealthy</th>\n",
       "      <td>89.662783</td>\n",
       "      <td>138.648466</td>\n",
       "      <td>-0.000006</td>\n",
       "      <td>-103.710008</td>\n",
       "      <td>-0.000011</td>\n",
       "    </tr>\n",
       "  </tbody>\n",
       "</table>\n",
       "</div>"
      ],
      "text/plain": [
       "                         Alanine and aspartate metabolism  Alkaloid synthesis  \\\n",
       "lg_unhealthy  48.843000                        138.648466           -0.000006   \n",
       "lg_unhealthy   2.642386                        138.648466           -0.000006   \n",
       "lg_unhealthy  41.381614                         -4.367172           -0.000006   \n",
       "lg_unhealthy  -3.062908                        109.866720           -0.000005   \n",
       "lg_unhealthy  89.662783                        138.648466           -0.000006   \n",
       "\n",
       "              Aminosugar metabolism  \\\n",
       "lg_unhealthy             -82.204632   \n",
       "lg_unhealthy             -82.204632   \n",
       "lg_unhealthy             -82.204632   \n",
       "lg_unhealthy            -114.462695   \n",
       "lg_unhealthy            -103.710008   \n",
       "\n",
       "              Androgen and estrogen synthesis and metabolism  \n",
       "lg_unhealthy                                       -0.000011  \n",
       "lg_unhealthy                                       -0.000011  \n",
       "lg_unhealthy                                       -0.000011  \n",
       "lg_unhealthy                                       -0.000009  \n",
       "lg_unhealthy                                       -0.000011  "
      ]
     },
     "execution_count": 49,
     "metadata": {},
     "output_type": "execute_result"
    }
   ],
   "source": [
    "lung_cancer[lung_cancer.columns[:5]].head()"
   ]
  },
  {
   "cell_type": "markdown",
   "metadata": {},
   "source": [
    "### diseases combined"
   ]
  },
  {
   "cell_type": "code",
   "execution_count": 132,
   "metadata": {},
   "outputs": [],
   "source": [
    "classes = {'bc_unhealthy': 0, 'lg_unhealthy': 1, 'healthy': 2}"
   ]
  },
  {
   "cell_type": "code",
   "execution_count": 275,
   "metadata": {},
   "outputs": [],
   "source": [
    "diseases = pd.concat([breast_cancer, lung_cancer])\n",
    "reduced_disseases = PCA(n_components=2).fit_transform(diseases)\n",
    "\n",
    "y = [classes.get(i, 2) for i in np.array(diseases.index)]"
   ]
  },
  {
   "cell_type": "code",
   "execution_count": 276,
   "metadata": {},
   "outputs": [],
   "source": [
    "model = KMeans(n_clusters=3, random_state=42).fit(reduced_diseases)"
   ]
  },
  {
   "cell_type": "markdown",
   "metadata": {},
   "source": [
    "### healthy grey, bc magenta, lg pink"
   ]
  },
  {
   "cell_type": "code",
   "execution_count": 277,
   "metadata": {},
   "outputs": [],
   "source": [
    "colors = {0 : 'darkmagenta', 1 : 'lightpink', 2 : 'grey'}"
   ]
  },
  {
   "cell_type": "code",
   "execution_count": 280,
   "metadata": {},
   "outputs": [
    {
     "data": {
      "text/plain": [
       "<matplotlib.collections.PathCollection at 0x7f3671080048>"
      ]
     },
     "execution_count": 280,
     "metadata": {},
     "output_type": "execute_result"
    },
    {
     "data": {
      "image/png": "[encoded data removed]",
      "text/plain": [
       "<matplotlib.figure.Figure at 0x7f36710e4588>"
      ]
     },
     "metadata": {},
     "output_type": "display_data"
    }
   ],
   "source": [
    "import matplotlib.pyplot as plt\n",
    "\n",
    "plt.figure(figsize=(12, 7))\n",
    "\n",
    "centers = kmeans.cluster_centers_\n",
    "\n",
    "plt.scatter(centers[:, 0], centers[:, 1], c='red', alpha=0.5, s=500)\n",
    "plt.scatter(reduced_disseases[:, 0], reduced_disseases[:, 1], c=[colors[i] for i in y], s=100)"
   ]
  },
  {
   "cell_type": "code",
   "execution_count": 284,
   "metadata": {},
   "outputs": [],
   "source": [
    "from sklearn.metrics import homogeneity_completeness_v_measure"
   ]
  },
  {
   "cell_type": "code",
   "execution_count": 283,
   "metadata": {},
   "outputs": [
    {
     "data": {
      "text/plain": [
       "(0.021014696531589234, 0.024307127572864903, 0.022541321740321568)"
      ]
     },
     "execution_count": 283,
     "metadata": {},
     "output_type": "execute_result"
    }
   ],
   "source": [
    "homogeneity_completeness_v_measure(y, kmeans.labels_)"
   ]
  }
 ],
 "metadata": {
  "kernelspec": {
   "display_name": "Python 3",
   "language": "python",
   "name": "python3"
  },
  "language_info": {
   "codemirror_mode": {
    "name": "ipython",
    "version": 3
   },
   "file_extension": ".py",
   "mimetype": "text/x-python",
   "name": "python",
   "nbconvert_exporter": "python",
   "pygments_lexer": "ipython3",
   "version": "3.5.2"
  }
 },
 "nbformat": 4,
 "nbformat_minor": 2
}
