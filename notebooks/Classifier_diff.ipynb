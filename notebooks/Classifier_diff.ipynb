{
 "cells": [
  {
   "cell_type": "code",
   "execution_count": 2,
   "metadata": {},
   "outputs": [],
   "source": [
    "import pickle\n",
    "\n",
    "from metabolitics.preprocessing import MetaboliticsPipeline\n",
    "\n",
    "from sklearn.pipeline import Pipeline\n",
    "from sklearn.model_selection import train_test_split\n",
    "from sklearn.model_selection import GridSearchCV, cross_val_score\n",
    "\n",
    "from sklearn.neural_network import MLPClassifier\n",
    "from sklearn.svm import SVC\n",
    "from sklearn.linear_model import LogisticRegression, SGDClassifier\n",
    "from sklearn.ensemble import RandomForestClassifier\n",
    "from sklearn.preprocessing import StandardScaler\n",
    "from sklearn.feature_selection import VarianceThreshold, SelectKBest\n",
    "from sklearn.decomposition import PCA, NMF\n",
    "from sklearn.model_selection import GridSearchCV, cross_val_score, cross_validate, StratifiedKFold\n",
    "\n",
    "from sklearn.metrics import precision_score, recall_score, accuracy_score, f1_score, confusion_matrix, make_scorer\n",
    "\n",
    "import numpy as np, pandas as pd\n",
    "from collections import defaultdict, OrderedDict\n",
    "from itertools import chain, starmap\n",
    "from itertools import product"
   ]
  },
  {
   "cell_type": "code",
   "execution_count": 42,
   "metadata": {},
   "outputs": [],
   "source": [
    "results = pickle.load(open('../results/breast_cancer2.results','rb'))\n",
    "labels = pickle.load(open('../datasets/breast_cancer2_y','rb'))"
   ]
  },
  {
   "cell_type": "code",
   "execution_count": 43,
   "metadata": {},
   "outputs": [],
   "source": [
    "pipe = MetaboliticsPipeline(['reaction-diff',\n",
    "                             'pathway_transformer'])\n",
    "\n",
    "pre_processed_results = pipe.fit_transform(results, labels)"
   ]
  },
  {
   "cell_type": "code",
   "execution_count": 44,
   "metadata": {},
   "outputs": [],
   "source": [
    "samples = defaultdict(lambda : [])\n",
    "[\n",
    " samples[key].append(value) for key, value in \n",
    " chain(*map(lambda sample: sample.items(), pre_processed_results))\n",
    "]\n",
    "\n",
    "dataset = pd.DataFrame(samples, index=labels)"
   ]
  },
  {
   "cell_type": "code",
   "execution_count": 45,
   "metadata": {
    "scrolled": true
   },
   "outputs": [
    {
     "data": {
      "text/html": [
       "<div>\n",
       "<style scoped>\n",
       "    .dataframe tbody tr th:only-of-type {\n",
       "        vertical-align: middle;\n",
       "    }\n",
       "\n",
       "    .dataframe tbody tr th {\n",
       "        vertical-align: top;\n",
       "    }\n",
       "\n",
       "    .dataframe thead th {\n",
       "        text-align: right;\n",
       "    }\n",
       "</style>\n",
       "<table border=\"1\" class=\"dataframe\">\n",
       "  <thead>\n",
       "    <tr style=\"text-align: right;\">\n",
       "      <th></th>\n",
       "      <th>unhealthy</th>\n",
       "      <th>unhealthy</th>\n",
       "      <th>unhealthy</th>\n",
       "      <th>healthy</th>\n",
       "      <th>unhealthy</th>\n",
       "      <th>unhealthy</th>\n",
       "      <th>unhealthy</th>\n",
       "      <th>unhealthy</th>\n",
       "      <th>healthy</th>\n",
       "      <th>healthy</th>\n",
       "      <th>...</th>\n",
       "      <th>unhealthy</th>\n",
       "      <th>healthy</th>\n",
       "      <th>healthy</th>\n",
       "      <th>unhealthy</th>\n",
       "      <th>unhealthy</th>\n",
       "      <th>unhealthy</th>\n",
       "      <th>unhealthy</th>\n",
       "      <th>unhealthy</th>\n",
       "      <th>healthy</th>\n",
       "      <th>unhealthy</th>\n",
       "    </tr>\n",
       "  </thead>\n",
       "  <tbody>\n",
       "    <tr>\n",
       "      <th></th>\n",
       "      <td>-25.490606</td>\n",
       "      <td>-21.389085</td>\n",
       "      <td>-29.843938</td>\n",
       "      <td>-1.452688e+01</td>\n",
       "      <td>-12.184960</td>\n",
       "      <td>4.338045</td>\n",
       "      <td>-7.707883</td>\n",
       "      <td>7.645137</td>\n",
       "      <td>99.308536</td>\n",
       "      <td>31.907804</td>\n",
       "      <td>...</td>\n",
       "      <td>-13.039948</td>\n",
       "      <td>-90.031445</td>\n",
       "      <td>-32.690873</td>\n",
       "      <td>-26.580457</td>\n",
       "      <td>-62.169126</td>\n",
       "      <td>-2.229793</td>\n",
       "      <td>-12.184928</td>\n",
       "      <td>-36.717150</td>\n",
       "      <td>-42.234431</td>\n",
       "      <td>42.581163</td>\n",
       "    </tr>\n",
       "    <tr>\n",
       "      <th>Alanine and aspartate metabolism</th>\n",
       "      <td>-100.777030</td>\n",
       "      <td>96.445184</td>\n",
       "      <td>38.294390</td>\n",
       "      <td>-1.007770e+02</td>\n",
       "      <td>6.018669</td>\n",
       "      <td>62.624693</td>\n",
       "      <td>24.222962</td>\n",
       "      <td>-100.777038</td>\n",
       "      <td>147.239393</td>\n",
       "      <td>-100.777038</td>\n",
       "      <td>...</td>\n",
       "      <td>-58.700946</td>\n",
       "      <td>24.222962</td>\n",
       "      <td>35.878663</td>\n",
       "      <td>24.222962</td>\n",
       "      <td>24.222962</td>\n",
       "      <td>24.222962</td>\n",
       "      <td>-100.777000</td>\n",
       "      <td>274.222962</td>\n",
       "      <td>-205.961401</td>\n",
       "      <td>15.846673</td>\n",
       "    </tr>\n",
       "    <tr>\n",
       "      <th>Alkaloid synthesis</th>\n",
       "      <td>0.000007</td>\n",
       "      <td>-0.000001</td>\n",
       "      <td>-0.000001</td>\n",
       "      <td>5.131799e-07</td>\n",
       "      <td>0.000006</td>\n",
       "      <td>-0.000001</td>\n",
       "      <td>-0.000001</td>\n",
       "      <td>-0.000001</td>\n",
       "      <td>-0.000001</td>\n",
       "      <td>-0.000001</td>\n",
       "      <td>...</td>\n",
       "      <td>0.000002</td>\n",
       "      <td>-0.000001</td>\n",
       "      <td>-0.000001</td>\n",
       "      <td>-0.000001</td>\n",
       "      <td>-0.000001</td>\n",
       "      <td>-0.000001</td>\n",
       "      <td>0.000038</td>\n",
       "      <td>-0.000001</td>\n",
       "      <td>-0.000001</td>\n",
       "      <td>-0.000001</td>\n",
       "    </tr>\n",
       "    <tr>\n",
       "      <th>Aminosugar metabolism</th>\n",
       "      <td>-55.414072</td>\n",
       "      <td>73.618178</td>\n",
       "      <td>256.413877</td>\n",
       "      <td>-4.466139e+01</td>\n",
       "      <td>-55.414075</td>\n",
       "      <td>-12.403328</td>\n",
       "      <td>-12.403328</td>\n",
       "      <td>-12.403328</td>\n",
       "      <td>-33.908704</td>\n",
       "      <td>116.628930</td>\n",
       "      <td>...</td>\n",
       "      <td>-55.414077</td>\n",
       "      <td>-55.414080</td>\n",
       "      <td>-12.403328</td>\n",
       "      <td>-55.414080</td>\n",
       "      <td>154.263339</td>\n",
       "      <td>84.370866</td>\n",
       "      <td>-55.414042</td>\n",
       "      <td>-55.414080</td>\n",
       "      <td>-33.908704</td>\n",
       "      <td>-33.908704</td>\n",
       "    </tr>\n",
       "    <tr>\n",
       "      <th>Androgen and estrogen synthesis and metabolism</th>\n",
       "      <td>0.000007</td>\n",
       "      <td>-0.000001</td>\n",
       "      <td>-0.000001</td>\n",
       "      <td>1.983698e-06</td>\n",
       "      <td>0.000006</td>\n",
       "      <td>-0.000001</td>\n",
       "      <td>-0.000001</td>\n",
       "      <td>-0.000001</td>\n",
       "      <td>-0.000001</td>\n",
       "      <td>-0.000001</td>\n",
       "      <td>...</td>\n",
       "      <td>0.000004</td>\n",
       "      <td>-0.000001</td>\n",
       "      <td>-0.000001</td>\n",
       "      <td>-0.000001</td>\n",
       "      <td>-0.000001</td>\n",
       "      <td>-0.000001</td>\n",
       "      <td>0.000038</td>\n",
       "      <td>-0.000001</td>\n",
       "      <td>-0.000001</td>\n",
       "      <td>-0.000001</td>\n",
       "    </tr>\n",
       "  </tbody>\n",
       "</table>\n",
       "<p>5 rows × 88 columns</p>\n",
       "</div>"
      ],
      "text/plain": [
       "                                                 unhealthy  unhealthy  \\\n",
       "                                                -25.490606 -21.389085   \n",
       "Alanine and aspartate metabolism               -100.777030  96.445184   \n",
       "Alkaloid synthesis                                0.000007  -0.000001   \n",
       "Aminosugar metabolism                           -55.414072  73.618178   \n",
       "Androgen and estrogen synthesis and metabolism    0.000007  -0.000001   \n",
       "\n",
       "                                                 unhealthy       healthy  \\\n",
       "                                                -29.843938 -1.452688e+01   \n",
       "Alanine and aspartate metabolism                 38.294390 -1.007770e+02   \n",
       "Alkaloid synthesis                               -0.000001  5.131799e-07   \n",
       "Aminosugar metabolism                           256.413877 -4.466139e+01   \n",
       "Androgen and estrogen synthesis and metabolism   -0.000001  1.983698e-06   \n",
       "\n",
       "                                                unhealthy  unhealthy  \\\n",
       "                                               -12.184960   4.338045   \n",
       "Alanine and aspartate metabolism                 6.018669  62.624693   \n",
       "Alkaloid synthesis                               0.000006  -0.000001   \n",
       "Aminosugar metabolism                          -55.414075 -12.403328   \n",
       "Androgen and estrogen synthesis and metabolism   0.000006  -0.000001   \n",
       "\n",
       "                                                unhealthy   unhealthy  \\\n",
       "                                                -7.707883    7.645137   \n",
       "Alanine and aspartate metabolism                24.222962 -100.777038   \n",
       "Alkaloid synthesis                              -0.000001   -0.000001   \n",
       "Aminosugar metabolism                          -12.403328  -12.403328   \n",
       "Androgen and estrogen synthesis and metabolism  -0.000001   -0.000001   \n",
       "\n",
       "                                                   healthy     healthy  \\\n",
       "                                                 99.308536   31.907804   \n",
       "Alanine and aspartate metabolism                147.239393 -100.777038   \n",
       "Alkaloid synthesis                               -0.000001   -0.000001   \n",
       "Aminosugar metabolism                           -33.908704  116.628930   \n",
       "Androgen and estrogen synthesis and metabolism   -0.000001   -0.000001   \n",
       "\n",
       "                                                  ...      unhealthy  \\\n",
       "                                                  ...     -13.039948   \n",
       "Alanine and aspartate metabolism                  ...     -58.700946   \n",
       "Alkaloid synthesis                                ...       0.000002   \n",
       "Aminosugar metabolism                             ...     -55.414077   \n",
       "Androgen and estrogen synthesis and metabolism    ...       0.000004   \n",
       "\n",
       "                                                  healthy    healthy  \\\n",
       "                                               -90.031445 -32.690873   \n",
       "Alanine and aspartate metabolism                24.222962  35.878663   \n",
       "Alkaloid synthesis                              -0.000001  -0.000001   \n",
       "Aminosugar metabolism                          -55.414080 -12.403328   \n",
       "Androgen and estrogen synthesis and metabolism  -0.000001  -0.000001   \n",
       "\n",
       "                                                unhealthy   unhealthy  \\\n",
       "                                               -26.580457  -62.169126   \n",
       "Alanine and aspartate metabolism                24.222962   24.222962   \n",
       "Alkaloid synthesis                              -0.000001   -0.000001   \n",
       "Aminosugar metabolism                          -55.414080  154.263339   \n",
       "Androgen and estrogen synthesis and metabolism  -0.000001   -0.000001   \n",
       "\n",
       "                                                unhealthy   unhealthy  \\\n",
       "                                                -2.229793  -12.184928   \n",
       "Alanine and aspartate metabolism                24.222962 -100.777000   \n",
       "Alkaloid synthesis                              -0.000001    0.000038   \n",
       "Aminosugar metabolism                           84.370866  -55.414042   \n",
       "Androgen and estrogen synthesis and metabolism  -0.000001    0.000038   \n",
       "\n",
       "                                                 unhealthy     healthy  \\\n",
       "                                                -36.717150  -42.234431   \n",
       "Alanine and aspartate metabolism                274.222962 -205.961401   \n",
       "Alkaloid synthesis                               -0.000001   -0.000001   \n",
       "Aminosugar metabolism                           -55.414080  -33.908704   \n",
       "Androgen and estrogen synthesis and metabolism   -0.000001   -0.000001   \n",
       "\n",
       "                                                unhealthy  \n",
       "                                                42.581163  \n",
       "Alanine and aspartate metabolism                15.846673  \n",
       "Alkaloid synthesis                              -0.000001  \n",
       "Aminosugar metabolism                          -33.908704  \n",
       "Androgen and estrogen synthesis and metabolism  -0.000001  \n",
       "\n",
       "[5 rows x 88 columns]"
      ]
     },
     "execution_count": 45,
     "metadata": {},
     "output_type": "execute_result"
    }
   ],
   "source": [
    "dataset.T.head()"
   ]
  },
  {
   "cell_type": "code",
   "execution_count": 46,
   "metadata": {},
   "outputs": [
    {
     "name": "stdout",
     "output_type": "stream",
     "text": [
      "0.6477272727272727\n"
     ]
    }
   ],
   "source": [
    "balance = labels.count('unhealthy') / len(labels)\n",
    "\n",
    "print(balance)"
   ]
  },
  {
   "cell_type": "code",
   "execution_count": 47,
   "metadata": {},
   "outputs": [],
   "source": [
    "sc = StandardScaler()"
   ]
  },
  {
   "cell_type": "code",
   "execution_count": 48,
   "metadata": {},
   "outputs": [],
   "source": [
    "binarize = lambda ls: np.array([1 if l == 'unhealthy' else 0 for l in ls])\n",
    "\n",
    "X = dataset\n",
    "X = sc.fit_transform(dataset)\n",
    "y = binarize(dataset.index)"
   ]
  },
  {
   "cell_type": "code",
   "execution_count": 49,
   "metadata": {},
   "outputs": [
    {
     "data": {
      "text/plain": [
       "(88, 100)"
      ]
     },
     "execution_count": 49,
     "metadata": {},
     "output_type": "execute_result"
    }
   ],
   "source": [
    "dataset.shape"
   ]
  },
  {
   "cell_type": "code",
   "execution_count": 65,
   "metadata": {},
   "outputs": [],
   "source": [
    "#     (SVC, {\n",
    "#         'kernel':['linear', 'poly', 'rbf', 'sigmoid', 'precomputed'],\n",
    "#         'C': np.geomspace(1e-6, 1e6, num=15),\n",
    "#         'max_iter': range(5, 30+1, 5),\n",
    "#         'degree':range(1,6)\n",
    "#     }),\n",
    "classifiers = [\n",
    "    \n",
    "    (SVC, {\n",
    "        'kernel':['poly', 'rbf', 'sigmoid'],\n",
    "        'C': np.geomspace(1e-6, 1e6, num=10),\n",
    "        'degree':range(1,4)\n",
    "    })\n",
    "]\n",
    "feature_selection = [\n",
    "    (PCA, {\n",
    "    'n_components': range(3, 21+1, 6)\n",
    "  })\n",
    "]"
   ]
  },
  {
   "cell_type": "code",
   "execution_count": 66,
   "metadata": {},
   "outputs": [],
   "source": [
    "def build_pipeline(p):\n",
    "    pipeline, pipeline_params = [], OrderedDict()\n",
    "    \n",
    "    for model, model_params in p:\n",
    "        name = model.__name__\n",
    "        \n",
    "        pipeline.append((name, model()))\n",
    "        pipeline_params.update({'{}__{}'.format(name, param_name) : values \n",
    "                                for param_name, values in model_params.items()})\n",
    "    \n",
    "    return Pipeline(pipeline), pipeline_params"
   ]
  },
  {
   "cell_type": "markdown",
   "metadata": {},
   "source": [
    "### Nested cross-validation over 10 trials"
   ]
  },
  {
   "cell_type": "code",
   "execution_count": 67,
   "metadata": {
    "scrolled": false
   },
   "outputs": [
    {
     "name": "stdout",
     "output_type": "stream",
     "text": [
      "Fitting 10 folds for each of 360 candidates, totalling 3600 fits\n"
     ]
    },
    {
     "name": "stderr",
     "output_type": "stream",
     "text": [
      "[Parallel(n_jobs=-1)]: Done 160 tasks      | elapsed:    2.0s\n",
      "[Parallel(n_jobs=-1)]: Done 867 tasks      | elapsed: 17.3min\n",
      "[Parallel(n_jobs=-1)]: Done 1559 tasks      | elapsed: 21.9min\n",
      "[Parallel(n_jobs=-1)]: Done 2438 tasks      | elapsed: 28.9min\n",
      "[Parallel(n_jobs=-1)]: Done 3259 tasks      | elapsed: 31.2min\n",
      "[Parallel(n_jobs=-1)]: Done 3600 out of 3600 | elapsed: 37.6min finished\n"
     ]
    },
    {
     "name": "stdout",
     "output_type": "stream",
     "text": [
      "1 trial done\n",
      "----------\n",
      "Fitting 10 folds for each of 360 candidates, totalling 3600 fits\n"
     ]
    },
    {
     "name": "stderr",
     "output_type": "stream",
     "text": [
      "[Parallel(n_jobs=-1)]: Done 124 tasks      | elapsed:    1.2s\n",
      "[Parallel(n_jobs=-1)]: Done 792 tasks      | elapsed:  7.5min\n",
      "[Parallel(n_jobs=-1)]: Done 1389 tasks      | elapsed: 21.4min\n",
      "[Parallel(n_jobs=-1)]: Done 1913 tasks      | elapsed: 27.4min\n",
      "[Parallel(n_jobs=-1)]: Done 2685 tasks      | elapsed: 29.9min\n",
      "[Parallel(n_jobs=-1)]: Done 3585 out of 3600 | elapsed: 31.2min remaining:    7.8s\n",
      "[Parallel(n_jobs=-1)]: Done 3600 out of 3600 | elapsed: 35.8min finished\n"
     ]
    },
    {
     "name": "stdout",
     "output_type": "stream",
     "text": [
      "2 trial done\n",
      "----------\n",
      "Fitting 10 folds for each of 360 candidates, totalling 3600 fits\n"
     ]
    },
    {
     "name": "stderr",
     "output_type": "stream",
     "text": [
      "[Parallel(n_jobs=-1)]: Done 196 tasks      | elapsed:    2.5s\n",
      "[Parallel(n_jobs=-1)]: Done 891 tasks      | elapsed: 19.2min\n",
      "[Parallel(n_jobs=-1)]: Done 1495 tasks      | elapsed: 19.6min\n",
      "[Parallel(n_jobs=-1)]: Done 1907 tasks      | elapsed: 23.4min\n",
      "[Parallel(n_jobs=-1)]: Done 2627 tasks      | elapsed: 27.0min\n",
      "[Parallel(n_jobs=-1)]: Done 3585 out of 3600 | elapsed: 28.1min remaining:    7.0s\n",
      "[Parallel(n_jobs=-1)]: Done 3600 out of 3600 | elapsed: 29.5min finished\n"
     ]
    },
    {
     "name": "stdout",
     "output_type": "stream",
     "text": [
      "3 trial done\n",
      "----------\n",
      "Fitting 10 folds for each of 360 candidates, totalling 3600 fits\n"
     ]
    },
    {
     "name": "stderr",
     "output_type": "stream",
     "text": [
      "[Parallel(n_jobs=-1)]: Done 160 tasks      | elapsed:    1.6s\n",
      "[Parallel(n_jobs=-1)]: Done 847 tasks      | elapsed: 13.0min\n",
      "[Parallel(n_jobs=-1)]: Done 1522 tasks      | elapsed: 21.1min\n",
      "[Parallel(n_jobs=-1)]: Done 2160 tasks      | elapsed: 24.2min\n",
      "[Parallel(n_jobs=-1)]: Done 2989 tasks      | elapsed: 29.4min\n",
      "[Parallel(n_jobs=-1)]: Done 3585 out of 3600 | elapsed: 32.5min remaining:    8.2s\n",
      "[Parallel(n_jobs=-1)]: Done 3600 out of 3600 | elapsed: 33.6min finished\n"
     ]
    },
    {
     "name": "stdout",
     "output_type": "stream",
     "text": [
      "4 trial done\n",
      "----------\n",
      "Fitting 10 folds for each of 360 candidates, totalling 3600 fits\n"
     ]
    },
    {
     "name": "stderr",
     "output_type": "stream",
     "text": [
      "[Parallel(n_jobs=-1)]: Done 160 tasks      | elapsed:    2.1s\n",
      "[Parallel(n_jobs=-1)]: Done 861 tasks      | elapsed: 15.5min\n",
      "[Parallel(n_jobs=-1)]: Done 1156 tasks      | elapsed: 22.4min\n",
      "[Parallel(n_jobs=-1)]: Done 1799 tasks      | elapsed: 24.2min\n",
      "[Parallel(n_jobs=-1)]: Done 2573 tasks      | elapsed: 25.4min\n",
      "[Parallel(n_jobs=-1)]: Done 3585 out of 3600 | elapsed: 30.7min remaining:    7.7s\n",
      "[Parallel(n_jobs=-1)]: Done 3600 out of 3600 | elapsed: 34.1min finished\n"
     ]
    },
    {
     "name": "stdout",
     "output_type": "stream",
     "text": [
      "5 trial done\n",
      "----------\n",
      "Fitting 10 folds for each of 360 candidates, totalling 3600 fits\n"
     ]
    },
    {
     "name": "stderr",
     "output_type": "stream",
     "text": [
      "[Parallel(n_jobs=-1)]: Done 196 tasks      | elapsed:    2.4s\n",
      "[Parallel(n_jobs=-1)]: Done 891 tasks      | elapsed: 20.3min\n",
      "[Parallel(n_jobs=-1)]: Done 1346 tasks      | elapsed: 20.5min\n",
      "[Parallel(n_jobs=-1)]: Done 1996 tasks      | elapsed: 27.0min\n",
      "[Parallel(n_jobs=-1)]: Done 2741 tasks      | elapsed: 31.0min\n",
      "[Parallel(n_jobs=-1)]: Done 3600 out of 3600 | elapsed: 36.3min finished\n"
     ]
    },
    {
     "name": "stdout",
     "output_type": "stream",
     "text": [
      "6 trial done\n",
      "----------\n",
      "Fitting 10 folds for each of 360 candidates, totalling 3600 fits\n"
     ]
    },
    {
     "name": "stderr",
     "output_type": "stream",
     "text": [
      "[Parallel(n_jobs=-1)]: Done 196 tasks      | elapsed:    2.6s\n",
      "[Parallel(n_jobs=-1)]: Done 895 tasks      | elapsed: 25.4min\n",
      "[Parallel(n_jobs=-1)]: Done 1707 tasks      | elapsed: 30.3min\n",
      "[Parallel(n_jobs=-1)]: Done 2236 tasks      | elapsed: 31.3min\n",
      "[Parallel(n_jobs=-1)]: Done 3002 tasks      | elapsed: 32.9min\n",
      "[Parallel(n_jobs=-1)]: Done 3585 out of 3600 | elapsed: 35.0min remaining:    8.8s\n",
      "[Parallel(n_jobs=-1)]: Done 3600 out of 3600 | elapsed: 37.2min finished\n"
     ]
    },
    {
     "name": "stdout",
     "output_type": "stream",
     "text": [
      "7 trial done\n",
      "----------\n",
      "Fitting 10 folds for each of 360 candidates, totalling 3600 fits\n"
     ]
    },
    {
     "name": "stderr",
     "output_type": "stream",
     "text": [
      "[Parallel(n_jobs=-1)]: Done 196 tasks      | elapsed:    2.4s\n",
      "[Parallel(n_jobs=-1)]: Done 891 tasks      | elapsed: 16.6min\n",
      "[Parallel(n_jobs=-1)]: Done 1187 tasks      | elapsed: 16.8min\n",
      "[Parallel(n_jobs=-1)]: Done 1827 tasks      | elapsed: 22.8min\n",
      "[Parallel(n_jobs=-1)]: Done 2364 tasks      | elapsed: 23.2min\n",
      "[Parallel(n_jobs=-1)]: Done 3585 out of 3600 | elapsed: 28.8min remaining:    7.2s\n",
      "[Parallel(n_jobs=-1)]: Done 3600 out of 3600 | elapsed: 32.3min finished\n"
     ]
    },
    {
     "name": "stdout",
     "output_type": "stream",
     "text": [
      "8 trial done\n",
      "----------\n",
      "Fitting 10 folds for each of 360 candidates, totalling 3600 fits\n"
     ]
    },
    {
     "name": "stderr",
     "output_type": "stream",
     "text": [
      "[Parallel(n_jobs=-1)]: Done 232 tasks      | elapsed:    2.9s\n",
      "[Parallel(n_jobs=-1)]: Done 1118 tasks      | elapsed: 14.1min\n",
      "[Parallel(n_jobs=-1)]: Done 1728 tasks      | elapsed: 23.4min\n",
      "[Parallel(n_jobs=-1)]: Done 2569 tasks      | elapsed: 24.6min\n",
      "[Parallel(n_jobs=-1)]: Done 3437 tasks      | elapsed: 30.3min\n",
      "[Parallel(n_jobs=-1)]: Done 3600 out of 3600 | elapsed: 40.7min finished\n"
     ]
    },
    {
     "name": "stdout",
     "output_type": "stream",
     "text": [
      "9 trial done\n",
      "----------\n",
      "Fitting 10 folds for each of 360 candidates, totalling 3600 fits\n"
     ]
    },
    {
     "name": "stderr",
     "output_type": "stream",
     "text": [
      "[Parallel(n_jobs=-1)]: Done 124 tasks      | elapsed:    1.6s\n",
      "[Parallel(n_jobs=-1)]: Done 782 tasks      | elapsed:  8.0min\n",
      "[Parallel(n_jobs=-1)]: Done 1102 tasks      | elapsed: 23.3min\n",
      "[Parallel(n_jobs=-1)]: Done 1675 tasks      | elapsed: 24.6min\n",
      "[Parallel(n_jobs=-1)]: Done 2376 tasks      | elapsed: 28.6min\n",
      "[Parallel(n_jobs=-1)]: Done 3197 tasks      | elapsed: 31.6min\n",
      "[Parallel(n_jobs=-1)]: Done 3585 out of 3600 | elapsed: 32.2min remaining:    8.1s\n",
      "[Parallel(n_jobs=-1)]: Done 3600 out of 3600 | elapsed: 34.4min finished\n"
     ]
    },
    {
     "name": "stdout",
     "output_type": "stream",
     "text": [
      "10 trial done\n",
      "----------\n"
     ]
    }
   ],
   "source": [
    "NUM_TRIALS = 10\n",
    "metrics = ['f1', 'recall', 'precision', 'accuracy']\n",
    "trials = []\n",
    "\n",
    "for i in range(NUM_TRIALS):\n",
    "    cv_pipelines = []\n",
    "    inner_cv = StratifiedKFold(n_splits=10, shuffle=True, random_state=i)\n",
    "    outer_cv = StratifiedKFold(n_splits=10, shuffle=True, random_state=i)\n",
    "   \n",
    "    for pipeline, params in map(build_pipeline, product(feature_selection, classifiers)):\n",
    "        cv_pipeline = GridSearchCV(pipeline, params, cv=inner_cv, n_jobs=-1, verbose=1).fit(X, y)\n",
    "        cv_pipelines.append(cv_pipeline)\n",
    "        \n",
    "    best_pipeline = cv_pipelines[np.argmax([i.best_score_ for i in cv_pipelines])]\n",
    "    cv = cross_validate(best_pipeline.best_estimator_, \n",
    "                        X=X, y=y, cv=outer_cv, \n",
    "                        scoring=metrics, \n",
    "                        return_train_score=False)\n",
    "    \n",
    "    trials.append((best_pipeline, cv))\n",
    "    print(\"{} trial done\".format(i+1))\n",
    "    print(\"-\"*10)"
   ]
  },
  {
   "cell_type": "markdown",
   "metadata": {},
   "source": [
    "### Trial params"
   ]
  },
  {
   "cell_type": "code",
   "execution_count": 87,
   "metadata": {},
   "outputs": [
    {
     "name": "stdout",
     "output_type": "stream",
     "text": [
      "pca n_components: 21\n",
      "C: 4.641588833612772\t max_iter: -1\n",
      "\n",
      "pca n_components: 15\n",
      "C: 0.21544346900318823\t max_iter: -1\n",
      "\n",
      "pca n_components: 21\n",
      "C: 100.0\t max_iter: -1\n",
      "\n",
      "pca n_components: 21\n",
      "C: 46415.888336127726\t max_iter: -1\n",
      "\n",
      "pca n_components: 21\n",
      "C: 4.641588833612772\t max_iter: -1\n",
      "\n",
      "pca n_components: 21\n",
      "C: 4.641588833612772\t max_iter: -1\n",
      "\n",
      "pca n_components: 21\n",
      "C: 4.641588833612772\t max_iter: -1\n",
      "\n",
      "pca n_components: 9\n",
      "C: 1000000.0\t max_iter: -1\n",
      "\n",
      "pca n_components: 15\n",
      "C: 100.0\t max_iter: -1\n",
      "\n"
     ]
    }
   ],
   "source": [
    "for model, scores in trials:\n",
    "    try:\n",
    "        n_components = model.best_estimator_.named_steps['PCA']\n",
    "        print('pca n_components: {}'.format(n_components.n_components))\n",
    "    #     except KeyError:\n",
    "    #         n_components = model.best_estimator_.named_steps['SelectKBest']\n",
    "    #         print('kkk n_components: {}'.format(n_components.k))\n",
    "\n",
    "        logistic_regression = model.best_estimator_.named_steps['SVC']\n",
    "        print('C: {}\\t max_iter: {}\\n'.format(logistic_regression.C, logistic_regression.max_iter))\n",
    "    except:\n",
    "        continue"
   ]
  },
  {
   "cell_type": "markdown",
   "metadata": {},
   "source": [
    "### Trials stats!"
   ]
  },
  {
   "cell_type": "code",
   "execution_count": 69,
   "metadata": {},
   "outputs": [],
   "source": [
    "trials_scores = [scores for model.best_estimator_, scores in trials]"
   ]
  },
  {
   "cell_type": "code",
   "execution_count": 70,
   "metadata": {},
   "outputs": [],
   "source": [
    "trials_means = map(lambda trial_scores: {key: value.mean() \n",
    "                                         for key, value in trial_scores.items()}, trials_scores)\n",
    "\n",
    "stats = pd.DataFrame(list(trials_means))"
   ]
  },
  {
   "cell_type": "code",
   "execution_count": 71,
   "metadata": {},
   "outputs": [
    {
     "data": {
      "text/plain": [
       "test_accuracy     0.781167\n",
       "test_f1           0.840115\n",
       "test_precision    0.794667\n",
       "test_recall       0.908667\n",
       "dtype: float64"
      ]
     },
     "execution_count": 71,
     "metadata": {},
     "output_type": "execute_result"
    }
   ],
   "source": [
    "stats.mean()[2:]"
   ]
  },
  {
   "cell_type": "code",
   "execution_count": null,
   "metadata": {},
   "outputs": [],
   "source": []
  },
  {
   "cell_type": "code",
   "execution_count": null,
   "metadata": {},
   "outputs": [],
   "source": []
  }
 ],
 "metadata": {
  "kernelspec": {
   "display_name": "Python 3",
   "language": "python",
   "name": "python3"
  },
  "language_info": {
   "codemirror_mode": {
    "name": "ipython",
    "version": 3
   },
   "file_extension": ".py",
   "mimetype": "text/x-python",
   "name": "python",
   "nbconvert_exporter": "python",
   "pygments_lexer": "ipython3",
   "version": "3.5.2"
  }
 },
 "nbformat": 4,
 "nbformat_minor": 2
}
