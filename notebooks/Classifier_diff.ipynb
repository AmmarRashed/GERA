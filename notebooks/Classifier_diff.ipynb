{
 "cells": [
  {
   "cell_type": "code",
   "execution_count": 148,
   "metadata": {},
   "outputs": [],
   "source": [
    "import pickle\n",
    "\n",
    "from metabolitics.preprocessing import MetaboliticsPipeline\n",
    "\n",
    "from sklearn.pipeline import Pipeline\n",
    "from sklearn.model_selection import train_test_split\n",
    "from sklearn.model_selection import GridSearchCV, cross_val_score\n",
    "\n",
    "from sklearn.svm import SVC\n",
    "from sklearn.linear_model import LogisticRegression, SGDClassifier\n",
    "from sklearn.ensemble import RandomForestClassifier\n",
    "from sklearn.preprocessing import StandardScaler\n",
    "from sklearn.feature_selection import VarianceThreshold, SelectKBest\n",
    "from sklearn.decomposition import PCA, NMF\n",
    "from sklearn.model_selection import GridSearchCV, cross_val_score, cross_validate, StratifiedKFold\n",
    "\n",
    "from sklearn.metrics import precision_score, recall_score, accuracy_score, f1_score, confusion_matrix, make_scorer\n",
    "\n",
    "import numpy as np, pandas as pd\n",
    "from collections import defaultdict, OrderedDict\n",
    "from itertools import chain, starmap\n",
    "from itertools import product\n",
    "\n",
    "import matplotlib.pyplot as plt"
   ]
  },
  {
   "cell_type": "code",
   "execution_count": 3,
   "metadata": {},
   "outputs": [],
   "source": [
    "results = pickle.load(open('../results/breast_cancer2.results','rb'))\n",
    "labels = pickle.load(open('../datasets/breast_cancer2_y','rb'))"
   ]
  },
  {
   "cell_type": "code",
   "execution_count": 4,
   "metadata": {},
   "outputs": [],
   "source": [
    "pipe = MetaboliticsPipeline(['reaction-diff',\n",
    "                             'pathway_transformer'])\n",
    "\n",
    "pre_processed_results = pipe.fit_transform(results, labels)"
   ]
  },
  {
   "cell_type": "code",
   "execution_count": 5,
   "metadata": {},
   "outputs": [],
   "source": [
    "samples = defaultdict(lambda : [])\n",
    "[\n",
    " samples[key].append(value) for key, value in \n",
    " chain(*map(lambda sample: sample.items(), pre_processed_results))\n",
    "]\n",
    "\n",
    "dataset = pd.DataFrame(samples, index=labels)"
   ]
  },
  {
   "cell_type": "code",
   "execution_count": 6,
   "metadata": {
    "scrolled": true
   },
   "outputs": [
    {
     "data": {
      "text/html": [
       "<div>\n",
       "<style scoped>\n",
       "    .dataframe tbody tr th:only-of-type {\n",
       "        vertical-align: middle;\n",
       "    }\n",
       "\n",
       "    .dataframe tbody tr th {\n",
       "        vertical-align: top;\n",
       "    }\n",
       "\n",
       "    .dataframe thead th {\n",
       "        text-align: right;\n",
       "    }\n",
       "</style>\n",
       "<table border=\"1\" class=\"dataframe\">\n",
       "  <thead>\n",
       "    <tr style=\"text-align: right;\">\n",
       "      <th></th>\n",
       "      <th>unhealthy</th>\n",
       "      <th>unhealthy</th>\n",
       "      <th>unhealthy</th>\n",
       "      <th>healthy</th>\n",
       "      <th>unhealthy</th>\n",
       "      <th>unhealthy</th>\n",
       "      <th>unhealthy</th>\n",
       "      <th>unhealthy</th>\n",
       "      <th>healthy</th>\n",
       "      <th>healthy</th>\n",
       "      <th>...</th>\n",
       "      <th>unhealthy</th>\n",
       "      <th>healthy</th>\n",
       "      <th>healthy</th>\n",
       "      <th>unhealthy</th>\n",
       "      <th>unhealthy</th>\n",
       "      <th>unhealthy</th>\n",
       "      <th>unhealthy</th>\n",
       "      <th>unhealthy</th>\n",
       "      <th>healthy</th>\n",
       "      <th>unhealthy</th>\n",
       "    </tr>\n",
       "  </thead>\n",
       "  <tbody>\n",
       "    <tr>\n",
       "      <th></th>\n",
       "      <td>-25.490606</td>\n",
       "      <td>-21.389085</td>\n",
       "      <td>-29.843938</td>\n",
       "      <td>-1.452688e+01</td>\n",
       "      <td>-12.184960</td>\n",
       "      <td>4.338045</td>\n",
       "      <td>-7.707883</td>\n",
       "      <td>7.645137</td>\n",
       "      <td>99.308536</td>\n",
       "      <td>31.907804</td>\n",
       "      <td>...</td>\n",
       "      <td>-13.039948</td>\n",
       "      <td>-90.031445</td>\n",
       "      <td>-32.690873</td>\n",
       "      <td>-26.580457</td>\n",
       "      <td>-62.169126</td>\n",
       "      <td>-2.229793</td>\n",
       "      <td>-12.184928</td>\n",
       "      <td>-36.717150</td>\n",
       "      <td>-42.234431</td>\n",
       "      <td>42.581163</td>\n",
       "    </tr>\n",
       "    <tr>\n",
       "      <th>Alanine and aspartate metabolism</th>\n",
       "      <td>-100.777030</td>\n",
       "      <td>96.445184</td>\n",
       "      <td>38.294390</td>\n",
       "      <td>-1.007770e+02</td>\n",
       "      <td>6.018669</td>\n",
       "      <td>62.624693</td>\n",
       "      <td>24.222962</td>\n",
       "      <td>-100.777038</td>\n",
       "      <td>147.239393</td>\n",
       "      <td>-100.777038</td>\n",
       "      <td>...</td>\n",
       "      <td>-58.700946</td>\n",
       "      <td>24.222962</td>\n",
       "      <td>35.878663</td>\n",
       "      <td>24.222962</td>\n",
       "      <td>24.222962</td>\n",
       "      <td>24.222962</td>\n",
       "      <td>-100.777000</td>\n",
       "      <td>274.222962</td>\n",
       "      <td>-205.961401</td>\n",
       "      <td>15.846673</td>\n",
       "    </tr>\n",
       "    <tr>\n",
       "      <th>Alkaloid synthesis</th>\n",
       "      <td>0.000007</td>\n",
       "      <td>-0.000001</td>\n",
       "      <td>-0.000001</td>\n",
       "      <td>5.131799e-07</td>\n",
       "      <td>0.000006</td>\n",
       "      <td>-0.000001</td>\n",
       "      <td>-0.000001</td>\n",
       "      <td>-0.000001</td>\n",
       "      <td>-0.000001</td>\n",
       "      <td>-0.000001</td>\n",
       "      <td>...</td>\n",
       "      <td>0.000002</td>\n",
       "      <td>-0.000001</td>\n",
       "      <td>-0.000001</td>\n",
       "      <td>-0.000001</td>\n",
       "      <td>-0.000001</td>\n",
       "      <td>-0.000001</td>\n",
       "      <td>0.000038</td>\n",
       "      <td>-0.000001</td>\n",
       "      <td>-0.000001</td>\n",
       "      <td>-0.000001</td>\n",
       "    </tr>\n",
       "    <tr>\n",
       "      <th>Aminosugar metabolism</th>\n",
       "      <td>-55.414072</td>\n",
       "      <td>73.618178</td>\n",
       "      <td>256.413877</td>\n",
       "      <td>-4.466139e+01</td>\n",
       "      <td>-55.414075</td>\n",
       "      <td>-12.403328</td>\n",
       "      <td>-12.403328</td>\n",
       "      <td>-12.403328</td>\n",
       "      <td>-33.908704</td>\n",
       "      <td>116.628930</td>\n",
       "      <td>...</td>\n",
       "      <td>-55.414077</td>\n",
       "      <td>-55.414080</td>\n",
       "      <td>-12.403328</td>\n",
       "      <td>-55.414080</td>\n",
       "      <td>154.263339</td>\n",
       "      <td>84.370866</td>\n",
       "      <td>-55.414042</td>\n",
       "      <td>-55.414080</td>\n",
       "      <td>-33.908704</td>\n",
       "      <td>-33.908704</td>\n",
       "    </tr>\n",
       "    <tr>\n",
       "      <th>Androgen and estrogen synthesis and metabolism</th>\n",
       "      <td>0.000007</td>\n",
       "      <td>-0.000001</td>\n",
       "      <td>-0.000001</td>\n",
       "      <td>1.983698e-06</td>\n",
       "      <td>0.000006</td>\n",
       "      <td>-0.000001</td>\n",
       "      <td>-0.000001</td>\n",
       "      <td>-0.000001</td>\n",
       "      <td>-0.000001</td>\n",
       "      <td>-0.000001</td>\n",
       "      <td>...</td>\n",
       "      <td>0.000004</td>\n",
       "      <td>-0.000001</td>\n",
       "      <td>-0.000001</td>\n",
       "      <td>-0.000001</td>\n",
       "      <td>-0.000001</td>\n",
       "      <td>-0.000001</td>\n",
       "      <td>0.000038</td>\n",
       "      <td>-0.000001</td>\n",
       "      <td>-0.000001</td>\n",
       "      <td>-0.000001</td>\n",
       "    </tr>\n",
       "  </tbody>\n",
       "</table>\n",
       "<p>5 rows × 88 columns</p>\n",
       "</div>"
      ],
      "text/plain": [
       "                                                 unhealthy  unhealthy  \\\n",
       "                                                -25.490606 -21.389085   \n",
       "Alanine and aspartate metabolism               -100.777030  96.445184   \n",
       "Alkaloid synthesis                                0.000007  -0.000001   \n",
       "Aminosugar metabolism                           -55.414072  73.618178   \n",
       "Androgen and estrogen synthesis and metabolism    0.000007  -0.000001   \n",
       "\n",
       "                                                 unhealthy       healthy  \\\n",
       "                                                -29.843938 -1.452688e+01   \n",
       "Alanine and aspartate metabolism                 38.294390 -1.007770e+02   \n",
       "Alkaloid synthesis                               -0.000001  5.131799e-07   \n",
       "Aminosugar metabolism                           256.413877 -4.466139e+01   \n",
       "Androgen and estrogen synthesis and metabolism   -0.000001  1.983698e-06   \n",
       "\n",
       "                                                unhealthy  unhealthy  \\\n",
       "                                               -12.184960   4.338045   \n",
       "Alanine and aspartate metabolism                 6.018669  62.624693   \n",
       "Alkaloid synthesis                               0.000006  -0.000001   \n",
       "Aminosugar metabolism                          -55.414075 -12.403328   \n",
       "Androgen and estrogen synthesis and metabolism   0.000006  -0.000001   \n",
       "\n",
       "                                                unhealthy   unhealthy  \\\n",
       "                                                -7.707883    7.645137   \n",
       "Alanine and aspartate metabolism                24.222962 -100.777038   \n",
       "Alkaloid synthesis                              -0.000001   -0.000001   \n",
       "Aminosugar metabolism                          -12.403328  -12.403328   \n",
       "Androgen and estrogen synthesis and metabolism  -0.000001   -0.000001   \n",
       "\n",
       "                                                   healthy     healthy  \\\n",
       "                                                 99.308536   31.907804   \n",
       "Alanine and aspartate metabolism                147.239393 -100.777038   \n",
       "Alkaloid synthesis                               -0.000001   -0.000001   \n",
       "Aminosugar metabolism                           -33.908704  116.628930   \n",
       "Androgen and estrogen synthesis and metabolism   -0.000001   -0.000001   \n",
       "\n",
       "                                                  ...      unhealthy  \\\n",
       "                                                  ...     -13.039948   \n",
       "Alanine and aspartate metabolism                  ...     -58.700946   \n",
       "Alkaloid synthesis                                ...       0.000002   \n",
       "Aminosugar metabolism                             ...     -55.414077   \n",
       "Androgen and estrogen synthesis and metabolism    ...       0.000004   \n",
       "\n",
       "                                                  healthy    healthy  \\\n",
       "                                               -90.031445 -32.690873   \n",
       "Alanine and aspartate metabolism                24.222962  35.878663   \n",
       "Alkaloid synthesis                              -0.000001  -0.000001   \n",
       "Aminosugar metabolism                          -55.414080 -12.403328   \n",
       "Androgen and estrogen synthesis and metabolism  -0.000001  -0.000001   \n",
       "\n",
       "                                                unhealthy   unhealthy  \\\n",
       "                                               -26.580457  -62.169126   \n",
       "Alanine and aspartate metabolism                24.222962   24.222962   \n",
       "Alkaloid synthesis                              -0.000001   -0.000001   \n",
       "Aminosugar metabolism                          -55.414080  154.263339   \n",
       "Androgen and estrogen synthesis and metabolism  -0.000001   -0.000001   \n",
       "\n",
       "                                                unhealthy   unhealthy  \\\n",
       "                                                -2.229793  -12.184928   \n",
       "Alanine and aspartate metabolism                24.222962 -100.777000   \n",
       "Alkaloid synthesis                              -0.000001    0.000038   \n",
       "Aminosugar metabolism                           84.370866  -55.414042   \n",
       "Androgen and estrogen synthesis and metabolism  -0.000001    0.000038   \n",
       "\n",
       "                                                 unhealthy     healthy  \\\n",
       "                                                -36.717150  -42.234431   \n",
       "Alanine and aspartate metabolism                274.222962 -205.961401   \n",
       "Alkaloid synthesis                               -0.000001   -0.000001   \n",
       "Aminosugar metabolism                           -55.414080  -33.908704   \n",
       "Androgen and estrogen synthesis and metabolism   -0.000001   -0.000001   \n",
       "\n",
       "                                                unhealthy  \n",
       "                                                42.581163  \n",
       "Alanine and aspartate metabolism                15.846673  \n",
       "Alkaloid synthesis                              -0.000001  \n",
       "Aminosugar metabolism                          -33.908704  \n",
       "Androgen and estrogen synthesis and metabolism  -0.000001  \n",
       "\n",
       "[5 rows x 88 columns]"
      ]
     },
     "execution_count": 6,
     "metadata": {},
     "output_type": "execute_result"
    }
   ],
   "source": [
    "dataset.T.head()"
   ]
  },
  {
   "cell_type": "code",
   "execution_count": 8,
   "metadata": {},
   "outputs": [
    {
     "name": "stdout",
     "output_type": "stream",
     "text": [
      "0.6477272727272727\n"
     ]
    }
   ],
   "source": [
    "balance = labels.count('unhealthy') / len(labels)\n",
    "\n",
    "print(balance)"
   ]
  },
  {
   "cell_type": "code",
   "execution_count": 9,
   "metadata": {},
   "outputs": [],
   "source": [
    "binarize = lambda ls: np.array([1 if l == 'unhealthy' else 0 for l in ls])\n",
    "\n",
    "X = dataset\n",
    "y = binarize(dataset.index)"
   ]
  },
  {
   "cell_type": "code",
   "execution_count": 10,
   "metadata": {},
   "outputs": [
    {
     "data": {
      "text/plain": [
       "(88, 100)"
      ]
     },
     "execution_count": 10,
     "metadata": {},
     "output_type": "execute_result"
    }
   ],
   "source": [
    "dataset.shape"
   ]
  },
  {
   "cell_type": "code",
   "execution_count": 70,
   "metadata": {},
   "outputs": [],
   "source": [
    "classifiers = [\n",
    "  (LogisticRegression, {\n",
    "    'C': np.geomspace(1e-6, 1e6, num=15),\n",
    "    'max_iter': range(5, 30+1, 5)\n",
    "  })\n",
    "]\n",
    "\n",
    "feature_selection = [\n",
    "\n",
    "  (PCA, {\n",
    "    'n_components': range(3, 21+1, 3)\n",
    "  })\n",
    "]"
   ]
  },
  {
   "cell_type": "code",
   "execution_count": 71,
   "metadata": {},
   "outputs": [],
   "source": [
    "def build_pipeline(p):\n",
    "    pipeline, pipeline_params = [], OrderedDict()\n",
    "    \n",
    "    for model, model_params in p:\n",
    "        name = model.__name__\n",
    "        \n",
    "        pipeline.append((name, model()))\n",
    "        pipeline_params.update({'{}__{}'.format(name, param_name) : values \n",
    "                                for param_name, values in model_params.items()})\n",
    "    \n",
    "    return Pipeline(pipeline), pipeline_params"
   ]
  },
  {
   "cell_type": "markdown",
   "metadata": {},
   "source": [
    "### Nested cross-validation over 10 trials"
   ]
  },
  {
   "cell_type": "code",
   "execution_count": 120,
   "metadata": {},
   "outputs": [
    {
     "name": "stdout",
     "output_type": "stream",
     "text": [
      "Fitting 10 folds for each of 630 candidates, totalling 6300 fits\n"
     ]
    },
    {
     "name": "stderr",
     "output_type": "stream",
     "text": [
      "[Parallel(n_jobs=-1)]: Done 356 tasks      | elapsed:    3.4s\n",
      "[Parallel(n_jobs=-1)]: Done 1856 tasks      | elapsed:   14.5s\n",
      "[Parallel(n_jobs=-1)]: Done 4356 tasks      | elapsed:   31.3s\n",
      "[Parallel(n_jobs=-1)]: Done 6300 out of 6300 | elapsed:   45.2s finished\n"
     ]
    },
    {
     "name": "stdout",
     "output_type": "stream",
     "text": [
      "Fitting 10 folds for each of 630 candidates, totalling 6300 fits\n"
     ]
    },
    {
     "name": "stderr",
     "output_type": "stream",
     "text": [
      "[Parallel(n_jobs=-1)]: Done 356 tasks      | elapsed:    3.5s\n",
      "[Parallel(n_jobs=-1)]: Done 1856 tasks      | elapsed:   15.4s\n",
      "[Parallel(n_jobs=-1)]: Done 4356 tasks      | elapsed:   33.4s\n",
      "[Parallel(n_jobs=-1)]: Done 6300 out of 6300 | elapsed:   47.0s finished\n"
     ]
    },
    {
     "name": "stdout",
     "output_type": "stream",
     "text": [
      "Fitting 10 folds for each of 630 candidates, totalling 6300 fits\n"
     ]
    },
    {
     "name": "stderr",
     "output_type": "stream",
     "text": [
      "[Parallel(n_jobs=-1)]: Done 160 tasks      | elapsed:    2.7s\n",
      "[Parallel(n_jobs=-1)]: Done 1360 tasks      | elapsed:   12.1s\n",
      "[Parallel(n_jobs=-1)]: Done 3360 tasks      | elapsed:   27.9s\n",
      "[Parallel(n_jobs=-1)]: Done 6160 tasks      | elapsed:   49.8s\n",
      "[Parallel(n_jobs=-1)]: Done 6300 out of 6300 | elapsed:   50.2s finished\n"
     ]
    },
    {
     "name": "stdout",
     "output_type": "stream",
     "text": [
      "Fitting 10 folds for each of 630 candidates, totalling 6300 fits\n"
     ]
    },
    {
     "name": "stderr",
     "output_type": "stream",
     "text": [
      "[Parallel(n_jobs=-1)]: Done 232 tasks      | elapsed:    2.7s\n",
      "[Parallel(n_jobs=-1)]: Done 2032 tasks      | elapsed:   14.6s\n",
      "[Parallel(n_jobs=-1)]: Done 5032 tasks      | elapsed:   35.5s\n",
      "[Parallel(n_jobs=-1)]: Done 6300 out of 6300 | elapsed:   43.1s finished\n"
     ]
    },
    {
     "name": "stdout",
     "output_type": "stream",
     "text": [
      "Fitting 10 folds for each of 630 candidates, totalling 6300 fits\n"
     ]
    },
    {
     "name": "stderr",
     "output_type": "stream",
     "text": [
      "[Parallel(n_jobs=-1)]: Done 196 tasks      | elapsed:    1.9s\n",
      "[Parallel(n_jobs=-1)]: Done 1696 tasks      | elapsed:   12.6s\n",
      "[Parallel(n_jobs=-1)]: Done 4196 tasks      | elapsed:   30.7s\n",
      "[Parallel(n_jobs=-1)]: Done 6300 out of 6300 | elapsed:   47.1s finished\n"
     ]
    },
    {
     "name": "stdout",
     "output_type": "stream",
     "text": [
      "Fitting 10 folds for each of 630 candidates, totalling 6300 fits\n"
     ]
    },
    {
     "name": "stderr",
     "output_type": "stream",
     "text": [
      "[Parallel(n_jobs=-1)]: Done 232 tasks      | elapsed:    3.5s\n",
      "[Parallel(n_jobs=-1)]: Done 2032 tasks      | elapsed:   17.7s\n",
      "[Parallel(n_jobs=-1)]: Done 5032 tasks      | elapsed:   40.6s\n",
      "[Parallel(n_jobs=-1)]: Done 6300 out of 6300 | elapsed:   48.5s finished\n"
     ]
    },
    {
     "name": "stdout",
     "output_type": "stream",
     "text": [
      "Fitting 10 folds for each of 630 candidates, totalling 6300 fits\n"
     ]
    },
    {
     "name": "stderr",
     "output_type": "stream",
     "text": [
      "[Parallel(n_jobs=-1)]: Done 268 tasks      | elapsed:    3.3s\n",
      "[Parallel(n_jobs=-1)]: Done 2368 tasks      | elapsed:   18.4s\n",
      "[Parallel(n_jobs=-1)]: Done 5868 tasks      | elapsed:   43.1s\n",
      "[Parallel(n_jobs=-1)]: Done 6300 out of 6300 | elapsed:   44.4s finished\n"
     ]
    },
    {
     "name": "stdout",
     "output_type": "stream",
     "text": [
      "Fitting 10 folds for each of 630 candidates, totalling 6300 fits\n"
     ]
    },
    {
     "name": "stderr",
     "output_type": "stream",
     "text": [
      "[Parallel(n_jobs=-1)]: Done 268 tasks      | elapsed:    3.0s\n",
      "[Parallel(n_jobs=-1)]: Done 2368 tasks      | elapsed:   17.8s\n",
      "[Parallel(n_jobs=-1)]: Done 4160 tasks      | elapsed:   33.6s\n",
      "[Parallel(n_jobs=-1)]: Done 6300 out of 6300 | elapsed:   52.4s finished\n"
     ]
    },
    {
     "name": "stdout",
     "output_type": "stream",
     "text": [
      "Fitting 10 folds for each of 630 candidates, totalling 6300 fits\n"
     ]
    },
    {
     "name": "stderr",
     "output_type": "stream",
     "text": [
      "[Parallel(n_jobs=-1)]: Done 196 tasks      | elapsed:    1.8s\n",
      "[Parallel(n_jobs=-1)]: Done 1696 tasks      | elapsed:   12.5s\n",
      "[Parallel(n_jobs=-1)]: Done 3856 tasks      | elapsed:   29.4s\n",
      "[Parallel(n_jobs=-1)]: Done 5606 tasks      | elapsed:   44.0s\n",
      "[Parallel(n_jobs=-1)]: Done 6285 out of 6300 | elapsed:   48.7s remaining:    0.1s\n",
      "[Parallel(n_jobs=-1)]: Done 6300 out of 6300 | elapsed:   48.8s finished\n"
     ]
    },
    {
     "name": "stdout",
     "output_type": "stream",
     "text": [
      "Fitting 10 folds for each of 630 candidates, totalling 6300 fits\n"
     ]
    },
    {
     "name": "stderr",
     "output_type": "stream",
     "text": [
      "[Parallel(n_jobs=-1)]: Done 232 tasks      | elapsed:    3.6s\n",
      "[Parallel(n_jobs=-1)]: Done 2032 tasks      | elapsed:   16.5s\n",
      "[Parallel(n_jobs=-1)]: Done 5032 tasks      | elapsed:   33.0s\n",
      "[Parallel(n_jobs=-1)]: Done 6300 out of 6300 | elapsed:   40.2s finished\n"
     ]
    }
   ],
   "source": [
    "NUM_TRIALS = 10\n",
    "metrics = ['f1', 'recall', 'precision', 'accuracy']\n",
    "trials = []\n",
    "\n",
    "for i in range(NUM_TRIALS):\n",
    "    cv_pipelines = []\n",
    "    inner_cv = StratifiedKFold(n_splits=10, shuffle=True, random_state=i)\n",
    "    outer_cv = StratifiedKFold(n_splits=10, shuffle=True, random_state=i)\n",
    "   \n",
    "    for pipeline, params in map(build_pipeline, product(feature_selection, classifiers)):\n",
    "        cv_pipeline = GridSearchCV(pipeline, params, cv=inner_cv, n_jobs=-1, verbose=1).fit(X, y)\n",
    "        cv_pipelines.append(cv_pipeline)\n",
    "        \n",
    "    best_pipeline = cv_pipelines[np.argmax([i.best_score_ for i in cv_pipelines])]\n",
    "    cv = cross_validate(best_pipeline.best_estimator_, \n",
    "                        X=X, y=y, cv=outer_cv, \n",
    "                        scoring=metrics, \n",
    "                        return_train_score=False)\n",
    "    \n",
    "    trials.append((best_pipeline, cv))"
   ]
  },
  {
   "cell_type": "markdown",
   "metadata": {},
   "source": [
    "### Trials stats!"
   ]
  },
  {
   "cell_type": "code",
   "execution_count": 170,
   "metadata": {},
   "outputs": [],
   "source": [
    "trials_scores = [scores for model.best_estimator_, scores in trials]"
   ]
  },
  {
   "cell_type": "code",
   "execution_count": 171,
   "metadata": {},
   "outputs": [],
   "source": [
    "trials_means = map(lambda trial_scores: {key: value.mean() \n",
    "                                         for key, value in trial_scores.items()}, trials_scores)\n",
    "\n",
    "stats = pd.DataFrame(list(trials_means))"
   ]
  },
  {
   "cell_type": "code",
   "execution_count": 173,
   "metadata": {},
   "outputs": [
    {
     "data": {
      "text/plain": [
       "test_accuracy     0.766111\n",
       "test_f1           0.819688\n",
       "test_precision    0.816405\n",
       "test_recall       0.849000\n",
       "dtype: float64"
      ]
     },
     "execution_count": 173,
     "metadata": {},
     "output_type": "execute_result"
    }
   ],
   "source": [
    "stats.mean()[2:]"
   ]
  }
 ],
 "metadata": {
  "kernelspec": {
   "display_name": "Python 3",
   "language": "python",
   "name": "python3"
  },
  "language_info": {
   "codemirror_mode": {
    "name": "ipython",
    "version": 3
   },
   "file_extension": ".py",
   "mimetype": "text/x-python",
   "name": "python",
   "nbconvert_exporter": "python",
   "pygments_lexer": "ipython3",
   "version": "3.5.2"
  }
 },
 "nbformat": 4,
 "nbformat_minor": 2
}
