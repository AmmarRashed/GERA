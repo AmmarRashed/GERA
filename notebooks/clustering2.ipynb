{
 "cells": [
  {
   "cell_type": "code",
   "execution_count": 2,
   "metadata": {},
   "outputs": [],
   "source": [
    "import sys\n",
    "sys.path.append(\"../classes\")"
   ]
  },
  {
   "cell_type": "code",
   "execution_count": 3,
   "metadata": {},
   "outputs": [],
   "source": [
    "import pickle\n",
    "from sklearn.cluster import KMeans\n",
    "from sklearn.decomposition import PCA\n",
    "from sklearn.feature_selection import SelectKBest\n",
    "from sklearn.manifold import TSNE, Isomap, MDS, SpectralEmbedding\n",
    "from sklearn.discriminant_analysis import LinearDiscriminantAnalysis\n",
    "\n",
    "import numpy as np, pandas as pd\n",
    "from scipy.cluster import hierarchy\n",
    "from sklearn.metrics import homogeneity_completeness_v_measure\n",
    "\n",
    "from geno_classifier import *\n",
    "\n",
    "from itertools import starmap, product\n",
    "\n",
    "import GEOparse\n",
    "\n",
    "%matplotlib inline\n",
    "import matplotlib.pyplot as plt\n",
    "from mpl_toolkits.mplot3d import Axes3D\n",
    "\n",
    "import numpy as np"
   ]
  },
  {
   "cell_type": "code",
   "execution_count": 4,
   "metadata": {},
   "outputs": [],
   "source": [
    "results = pickle.load(open('../results/breast_cancer3.results','rb'))\n",
    "labels = pickle.load(open('../datasets/breast_cancer3_y','rb'))\n",
    "\n",
    "X_diff, y = preprocess_results(results, labels, True, True, False, False)\n",
    "X_no_diff, _ = preprocess_results(results, labels, use_diff_score=False, use_pathways=False)"
   ]
  },
  {
   "cell_type": "markdown",
   "metadata": {},
   "source": [
    "    \n",
    "    -breast carcinoma\n",
    "\n",
    "    -breast granular cell tumor\n",
    "\n",
    "    -breast large cell neuroendocrine carcinoma\n",
    "\n",
    "    -breast lymphoma\n",
    "\n",
    "    -breast malignant eccrine spiradenoma\n",
    "\n",
    "    -breast malignant phyllodes tumor\n",
    "\n",
    "    -Spacer breast myoepithelial neoplasm\n",
    "\n",
    "    -Spacer breast sarcoma\n",
    "\n",
    "    -estrogen-receptor negative breast cancer\n",
    "\n",
    "    -estrogen-receptor positive breast cancer\n",
    "\n",
    "    -Spacer female breast cancer\n",
    "\n",
    "    -Her2-receptor negative breast cancer\n",
    "\n",
    "    -Her2-receptor positive breast cancer\n",
    "\n",
    "    -male breast cancer\n",
    "\n",
    "    -malignant breast melanoma\n",
    "\n",
    "    -progesterone-receptor negative breast cancer\n",
    "\n",
    "    -progesterone-receptor positive breast cancer\n",
    "\n",
    "    -triple-receptor negative breast cancer\n",
    "    "
   ]
  },
  {
   "cell_type": "code",
   "execution_count": 5,
   "metadata": {},
   "outputs": [],
   "source": [
    "tsne = TSNE(n_components=2, random_state=42)\n",
    "diseases_reduced_tsne = tsne.fit_transform(X_diff)"
   ]
  },
  {
   "cell_type": "code",
   "execution_count": 6,
   "metadata": {},
   "outputs": [],
   "source": [
    "Z = hierarchy.linkage(diseases_reduced_tsne, method='single')"
   ]
  },
  {
   "cell_type": "code",
   "execution_count": 7,
   "metadata": {},
   "outputs": [],
   "source": [
    "classes = {'unhealthy': 0, 'healthy': 1}\n",
    "colors = {0 : 'darkmagenta', 1 : 'lightpink'}\n",
    "\n",
    "labeled_colors = {k:colors[v] for k,v in classes.items()}"
   ]
  },
  {
   "cell_type": "code",
   "execution_count": 8,
   "metadata": {},
   "outputs": [
    {
     "data": {
      "text/plain": [
       "{'healthy': 'lightpink', 'unhealthy': 'darkmagenta'}"
      ]
     },
     "execution_count": 8,
     "metadata": {},
     "output_type": "execute_result"
    }
   ],
   "source": [
    "labeled_colors"
   ]
  },
  {
   "cell_type": "code",
   "execution_count": 9,
   "metadata": {},
   "outputs": [],
   "source": [
    "def get_color(k, df):\n",
    "    return labeled_colors[y[k-len(df)]]"
   ]
  },
  {
   "cell_type": "code",
   "execution_count": 13,
   "metadata": {},
   "outputs": [
    {
     "data": {
      "image/png": "[encoded data removed]",
      "text/plain": [
       "<matplotlib.figure.Figure at 0x7f9db4c94d68>"
      ]
     },
     "metadata": {},
     "output_type": "display_data"
    }
   ],
   "source": [
    "plt.figure(figsize=(12, 7))\n",
    "dn = hierarchy.dendrogram(Z, p=15, truncate_mode='lastp',\n",
    "                          labels=y, link_color_func=lambda k: get_color(k, diseases_reduced_tsne))"
   ]
  },
  {
   "cell_type": "code",
   "execution_count": null,
   "metadata": {},
   "outputs": [],
   "source": []
  }
 ],
 "metadata": {
  "kernelspec": {
   "display_name": "Python 3",
   "language": "python",
   "name": "python3"
  },
  "language_info": {
   "codemirror_mode": {
    "name": "ipython",
    "version": 3
   },
   "file_extension": ".py",
   "mimetype": "text/x-python",
   "name": "python",
   "nbconvert_exporter": "python",
   "pygments_lexer": "ipython3",
   "version": "3.5.2"
  }
 },
 "nbformat": 4,
 "nbformat_minor": 2
}
