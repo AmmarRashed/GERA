{
 "cells": [
  {
   "cell_type": "code",
   "execution_count": 18,
   "metadata": {},
   "outputs": [],
   "source": [
    "from pybedtools import BedTool\n",
    "\n",
    "dataset = BedTool('datasets/GSE58135_RAW/GSM1401648_SL5421_chimeras.bedpe.gz')"
   ]
  },
  {
   "cell_type": "code",
   "execution_count": 36,
   "metadata": {},
   "outputs": [],
   "source": [
    "def preprocess_dataset(dataset):\n",
    "    df = dataset.to_dataframe()\n",
    "    df.columns = df.iloc[0].values\n",
    "    return df"
   ]
  },
  {
   "cell_type": "code",
   "execution_count": 39,
   "metadata": {},
   "outputs": [
    {
     "name": "stderr",
     "output_type": "stream",
     "text": [
      "/home/abdu/Desktop/virtualenv/GERA/lib/python3.5/site-packages/pybedtools/bedtool.py:3287: UserWarning: Default names for filetype bed are:\n",
      "['chrom', 'start', 'end', 'name', 'score', 'strand', 'thickStart', 'thickEnd', 'itemRgb', 'blockCount', 'blockSizes', 'blockStarts']\n",
      "but file has 23 fields; you can supply custom names with the `names` kwarg\n",
      "  % (self.file_type, _names, self.field_count()))\n"
     ]
    },
    {
     "data": {
      "text/plain": [
       "Index(['#chrom5p', 'start5p', 'end5p', 'chrom3p', 'start3p', 'end3p',\n",
       "       'chimera_cluster_id', 'score', 'strand5p', 'strand3p',\n",
       "       'transcript_ids_5p', 'transcript_ids_3p', 'genes5p', 'genes3p', 'type',\n",
       "       'distance', 'total_frags', 'spanning_frags',\n",
       "       'unique_alignment_positions', 'isoform_fraction_5p',\n",
       "       'isoform_fraction_3p', 'breakpoint_spanning_reads', 'chimera_ids'],\n",
       "      dtype='object')"
      ]
     },
     "execution_count": 39,
     "metadata": {},
     "output_type": "execute_result"
    }
   ],
   "source": [
    "preprocess_dataset(dataset).columns"
   ]
  }
 ],
 "metadata": {
  "kernelspec": {
   "display_name": "Python 3",
   "language": "python",
   "name": "python3"
  },
  "language_info": {
   "codemirror_mode": {
    "name": "ipython",
    "version": 3
   },
   "file_extension": ".py",
   "mimetype": "text/x-python",
   "name": "python",
   "nbconvert_exporter": "python",
   "pygments_lexer": "ipython3",
   "version": "3.5.2"
  }
 },
 "nbformat": 4,
 "nbformat_minor": 2
}
