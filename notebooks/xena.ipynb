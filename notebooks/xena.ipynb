{
 "cells": [
  {
   "cell_type": "code",
   "execution_count": 1,
   "metadata": {},
   "outputs": [],
   "source": [
    "import xenaPython as xena\n",
    "import pickle\n",
    "import sys\n",
    "sys.path.append(\"../classes\")\n",
    "sys.path.append(\"../datasets\")\n",
    "import pandas as pd, numpy as np"
   ]
  },
  {
   "cell_type": "code",
   "execution_count": 13,
   "metadata": {},
   "outputs": [],
   "source": [
    "hub = \"https://tcga.xenahubs.net\"\n",
    "dataset = \"TCGA.BRCA.sampleMap/AgilentG4502A_07_3\"\n",
    "samples = xena.xenaAPI.dataset_samples(hub, dataset)\n",
    "gene_symbols = xena.xenaAPI.dataset_fields(hub, dataset)"
   ]
  },
  {
   "cell_type": "code",
   "execution_count": 14,
   "metadata": {},
   "outputs": [
    {
     "data": {
      "text/plain": [
       "597"
      ]
     },
     "execution_count": 14,
     "metadata": {},
     "output_type": "execute_result"
    }
   ],
   "source": [
    "len(samples)"
   ]
  },
  {
   "cell_type": "code",
   "execution_count": 4,
   "metadata": {},
   "outputs": [
    {
     "data": {
      "text/plain": [
       "17815"
      ]
     },
     "execution_count": 4,
     "metadata": {},
     "output_type": "execute_result"
    }
   ],
   "source": [
    "len(gene_symbols)"
   ]
  },
  {
   "cell_type": "code",
   "execution_count": 15,
   "metadata": {},
   "outputs": [
    {
     "data": {
      "text/plain": [
       "[[0.578]]"
      ]
     },
     "execution_count": 15,
     "metadata": {},
     "output_type": "execute_result"
    }
   ],
   "source": [
    "xena.xenaAPI.Probes_values(hub, dataset, [\"TCGA-A8-A0A7-01\"], [\"DUOXA1\"])"
   ]
  },
  {
   "cell_type": "code",
   "execution_count": 34,
   "metadata": {},
   "outputs": [
    {
     "data": {
      "text/plain": [
       "(17815, 597)"
      ]
     },
     "execution_count": 34,
     "metadata": {},
     "output_type": "execute_result"
    }
   ],
   "source": [
    "data = np.array(xena.xenaAPI.Probes_values(hub, dataset, samples, gene_symbols))\n",
    "data.shape"
   ]
  },
  {
   "cell_type": "code",
   "execution_count": 41,
   "metadata": {},
   "outputs": [
    {
     "data": {
      "text/html": [
       "<div>\n",
       "<style scoped>\n",
       "    .dataframe tbody tr th:only-of-type {\n",
       "        vertical-align: middle;\n",
       "    }\n",
       "\n",
       "    .dataframe tbody tr th {\n",
       "        vertical-align: top;\n",
       "    }\n",
       "\n",
       "    .dataframe thead th {\n",
       "        text-align: right;\n",
       "    }\n",
       "</style>\n",
       "<table border=\"1\" class=\"dataframe\">\n",
       "  <thead>\n",
       "    <tr style=\"text-align: right;\">\n",
       "      <th></th>\n",
       "      <th>index</th>\n",
       "      <th>TCGA-A8-A0A7-01</th>\n",
       "      <th>TCGA-A8-A07G-01</th>\n",
       "      <th>TCGA-A8-A08R-01</th>\n",
       "      <th>TCGA-A8-A06Y-01</th>\n",
       "      <th>TCGA-A8-A08B-01</th>\n",
       "      <th>TCGA-A2-A04T-01</th>\n",
       "      <th>TCGA-A2-A0EQ-01</th>\n",
       "      <th>TCGA-A2-A0CQ-01</th>\n",
       "      <th>TCGA-BH-A0EB-01</th>\n",
       "      <th>...</th>\n",
       "      <th>TCGA-AN-A0XL-01</th>\n",
       "      <th>TCGA-AQ-A04H-01</th>\n",
       "      <th>TCGA-E2-A106-01</th>\n",
       "      <th>TCGA-AO-A12C-01</th>\n",
       "      <th>TCGA-E2-A108-01</th>\n",
       "      <th>TCGA-BH-A0B2-01</th>\n",
       "      <th>TCGA-AO-A12B-01</th>\n",
       "      <th>TCGA-BH-A0B2-11</th>\n",
       "      <th>TCGA-E2-A109-01</th>\n",
       "      <th>TCGA-AO-A128-01</th>\n",
       "    </tr>\n",
       "  </thead>\n",
       "  <tbody>\n",
       "    <tr>\n",
       "      <th>0</th>\n",
       "      <td>15E1.2</td>\n",
       "      <td>-0.697667</td>\n",
       "      <td>-1.588</td>\n",
       "      <td>-1.64925</td>\n",
       "      <td>-0.63725</td>\n",
       "      <td>-0.7945</td>\n",
       "      <td>-1.267</td>\n",
       "      <td>-0.78125</td>\n",
       "      <td>-1.366</td>\n",
       "      <td>-1.58775</td>\n",
       "      <td>...</td>\n",
       "      <td>-1.8715</td>\n",
       "      <td>-1.0935</td>\n",
       "      <td>-1.9735</td>\n",
       "      <td>-1.918</td>\n",
       "      <td>-1.0085</td>\n",
       "      <td>-1.58575</td>\n",
       "      <td>-2.194</td>\n",
       "      <td>-2.12875</td>\n",
       "      <td>-1.1305</td>\n",
       "      <td>-1.00475</td>\n",
       "    </tr>\n",
       "    <tr>\n",
       "      <th>1</th>\n",
       "      <td>2'-PDE</td>\n",
       "      <td>0.100687</td>\n",
       "      <td>-0.166</td>\n",
       "      <td>0.746375</td>\n",
       "      <td>0.79175</td>\n",
       "      <td>-0.0515625</td>\n",
       "      <td>0.229062</td>\n",
       "      <td>0.076875</td>\n",
       "      <td>0.249062</td>\n",
       "      <td>0.691312</td>\n",
       "      <td>...</td>\n",
       "      <td>0.261562</td>\n",
       "      <td>0.963063</td>\n",
       "      <td>0.396375</td>\n",
       "      <td>0.13225</td>\n",
       "      <td>0.382437</td>\n",
       "      <td>0.361375</td>\n",
       "      <td>0.2465</td>\n",
       "      <td>0.28625</td>\n",
       "      <td>0.50625</td>\n",
       "      <td>0.679937</td>\n",
       "    </tr>\n",
       "    <tr>\n",
       "      <th>2</th>\n",
       "      <td>7A5</td>\n",
       "      <td>1.3415</td>\n",
       "      <td>-0.01</td>\n",
       "      <td>-0.8525</td>\n",
       "      <td>1.299</td>\n",
       "      <td>1.5595</td>\n",
       "      <td>1.217</td>\n",
       "      <td>1.1405</td>\n",
       "      <td>2.7065</td>\n",
       "      <td>2.73</td>\n",
       "      <td>...</td>\n",
       "      <td>0.836</td>\n",
       "      <td>-1.308</td>\n",
       "      <td>-0.9375</td>\n",
       "      <td>0.5045</td>\n",
       "      <td>0.3045</td>\n",
       "      <td>2.0635</td>\n",
       "      <td>-1.1355</td>\n",
       "      <td>0.6485</td>\n",
       "      <td>-0.84</td>\n",
       "      <td>-0.5945</td>\n",
       "    </tr>\n",
       "    <tr>\n",
       "      <th>3</th>\n",
       "      <td>A1BG</td>\n",
       "      <td>1.711</td>\n",
       "      <td>0.146667</td>\n",
       "      <td>-0.560667</td>\n",
       "      <td>0.690833</td>\n",
       "      <td>-1.3685</td>\n",
       "      <td>-0.0885</td>\n",
       "      <td>-1.4745</td>\n",
       "      <td>0.305833</td>\n",
       "      <td>-0.01</td>\n",
       "      <td>...</td>\n",
       "      <td>0.3855</td>\n",
       "      <td>0.445833</td>\n",
       "      <td>0.885333</td>\n",
       "      <td>1.905</td>\n",
       "      <td>-0.0383333</td>\n",
       "      <td>-0.0886667</td>\n",
       "      <td>0.576167</td>\n",
       "      <td>-0.182</td>\n",
       "      <td>-0.464</td>\n",
       "      <td>0.578667</td>\n",
       "    </tr>\n",
       "    <tr>\n",
       "      <th>4</th>\n",
       "      <td>A2BP1</td>\n",
       "      <td>-1.58833</td>\n",
       "      <td>-1.20367</td>\n",
       "      <td>-1.19967</td>\n",
       "      <td>-1.69617</td>\n",
       "      <td>-1.26083</td>\n",
       "      <td>-1.39533</td>\n",
       "      <td>-2.06333</td>\n",
       "      <td>-1.8505</td>\n",
       "      <td>-1.49017</td>\n",
       "      <td>...</td>\n",
       "      <td>-1.52617</td>\n",
       "      <td>-1.7045</td>\n",
       "      <td>-1.04533</td>\n",
       "      <td>-0.764833</td>\n",
       "      <td>-0.813</td>\n",
       "      <td>-1.45417</td>\n",
       "      <td>-1.47733</td>\n",
       "      <td>-1.084</td>\n",
       "      <td>-1.42633</td>\n",
       "      <td>-1.117</td>\n",
       "    </tr>\n",
       "  </tbody>\n",
       "</table>\n",
       "<p>5 rows × 598 columns</p>\n",
       "</div>"
      ],
      "text/plain": [
       "    index TCGA-A8-A0A7-01 TCGA-A8-A07G-01 TCGA-A8-A08R-01 TCGA-A8-A06Y-01  \\\n",
       "0  15E1.2       -0.697667          -1.588        -1.64925        -0.63725   \n",
       "1  2'-PDE        0.100687          -0.166        0.746375         0.79175   \n",
       "2     7A5          1.3415           -0.01         -0.8525           1.299   \n",
       "3    A1BG           1.711        0.146667       -0.560667        0.690833   \n",
       "4   A2BP1        -1.58833        -1.20367        -1.19967        -1.69617   \n",
       "\n",
       "  TCGA-A8-A08B-01 TCGA-A2-A04T-01 TCGA-A2-A0EQ-01 TCGA-A2-A0CQ-01  \\\n",
       "0         -0.7945          -1.267        -0.78125          -1.366   \n",
       "1      -0.0515625        0.229062        0.076875        0.249062   \n",
       "2          1.5595           1.217          1.1405          2.7065   \n",
       "3         -1.3685         -0.0885         -1.4745        0.305833   \n",
       "4        -1.26083        -1.39533        -2.06333         -1.8505   \n",
       "\n",
       "  TCGA-BH-A0EB-01       ...       TCGA-AN-A0XL-01 TCGA-AQ-A04H-01  \\\n",
       "0        -1.58775       ...               -1.8715         -1.0935   \n",
       "1        0.691312       ...              0.261562        0.963063   \n",
       "2            2.73       ...                 0.836          -1.308   \n",
       "3           -0.01       ...                0.3855        0.445833   \n",
       "4        -1.49017       ...              -1.52617         -1.7045   \n",
       "\n",
       "  TCGA-E2-A106-01 TCGA-AO-A12C-01 TCGA-E2-A108-01 TCGA-BH-A0B2-01  \\\n",
       "0         -1.9735          -1.918         -1.0085        -1.58575   \n",
       "1        0.396375         0.13225        0.382437        0.361375   \n",
       "2         -0.9375          0.5045          0.3045          2.0635   \n",
       "3        0.885333           1.905      -0.0383333      -0.0886667   \n",
       "4        -1.04533       -0.764833          -0.813        -1.45417   \n",
       "\n",
       "  TCGA-AO-A12B-01 TCGA-BH-A0B2-11 TCGA-E2-A109-01 TCGA-AO-A128-01  \n",
       "0          -2.194        -2.12875         -1.1305        -1.00475  \n",
       "1          0.2465         0.28625         0.50625        0.679937  \n",
       "2         -1.1355          0.6485           -0.84         -0.5945  \n",
       "3        0.576167          -0.182          -0.464        0.578667  \n",
       "4        -1.47733          -1.084        -1.42633          -1.117  \n",
       "\n",
       "[5 rows x 598 columns]"
      ]
     },
     "execution_count": 41,
     "metadata": {},
     "output_type": "execute_result"
    }
   ],
   "source": [
    "df = pd.DataFrame(data,columns=samples, index=gene_symbols)\n",
    "df.reset_index(inplace=True)\n",
    "df.dropna(inplace=True)\n",
    "df.rename({\"index\":\"IDENTIFIER\"})\n",
    "df.head()"
   ]
  },
  {
   "cell_type": "code",
   "execution_count": null,
   "metadata": {},
   "outputs": [],
   "source": [
    "from "
   ]
  }
 ],
 "metadata": {
  "kernelspec": {
   "display_name": "Python 2",
   "language": "python",
   "name": "python2"
  },
  "language_info": {
   "codemirror_mode": {
    "name": "ipython",
    "version": 2
   },
   "file_extension": ".py",
   "mimetype": "text/x-python",
   "name": "python",
   "nbconvert_exporter": "python",
   "pygments_lexer": "ipython2",
   "version": "2.7.12"
  }
 },
 "nbformat": 4,
 "nbformat_minor": 2
}
