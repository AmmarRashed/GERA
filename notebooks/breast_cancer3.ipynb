{
 "cells": [
  {
   "cell_type": "code",
   "execution_count": 1,
   "metadata": {},
   "outputs": [],
   "source": [
    "import sys\n",
    "sys.path.append(\"../classes\")\n",
    "\n",
    "import numpy as np\n",
    "from sklearn.pipeline import Pipeline\n",
    "\n",
    "import GEOparse,  pickle, copy\n",
    "from ParsingDataset import *\n",
    "from sklearn_utils.preprocessing import FoldChangeScaler\n",
    "from metabolitics.preprocessing import MetaboliticsTransformer\n",
    "\n",
    "import pandas as pd\n",
    "import time"
   ]
  },
  {
   "cell_type": "code",
   "execution_count": 2,
   "metadata": {},
   "outputs": [
    {
     "data": {
      "text/html": [
       "<div>\n",
       "<style scoped>\n",
       "    .dataframe tbody tr th:only-of-type {\n",
       "        vertical-align: middle;\n",
       "    }\n",
       "\n",
       "    .dataframe tbody tr th {\n",
       "        vertical-align: top;\n",
       "    }\n",
       "\n",
       "    .dataframe thead th {\n",
       "        text-align: right;\n",
       "    }\n",
       "</style>\n",
       "<table border=\"1\" class=\"dataframe\">\n",
       "  <thead>\n",
       "    <tr style=\"text-align: right;\">\n",
       "      <th></th>\n",
       "      <th>sample</th>\n",
       "      <th>TCGA-A8-A0A7-01</th>\n",
       "      <th>TCGA-A8-A07G-01</th>\n",
       "      <th>TCGA-A8-A08R-01</th>\n",
       "      <th>TCGA-A8-A06Y-01</th>\n",
       "      <th>TCGA-A8-A08B-01</th>\n",
       "      <th>TCGA-A2-A04T-01</th>\n",
       "      <th>TCGA-A2-A0EQ-01</th>\n",
       "      <th>TCGA-A2-A0CQ-01</th>\n",
       "      <th>TCGA-BH-A0EB-01</th>\n",
       "      <th>...</th>\n",
       "      <th>TCGA-AN-A0XL-01</th>\n",
       "      <th>TCGA-AQ-A04H-01</th>\n",
       "      <th>TCGA-E2-A106-01</th>\n",
       "      <th>TCGA-AO-A12C-01</th>\n",
       "      <th>TCGA-E2-A108-01</th>\n",
       "      <th>TCGA-BH-A0B2-01</th>\n",
       "      <th>TCGA-AO-A12B-01</th>\n",
       "      <th>TCGA-BH-A0B2-11</th>\n",
       "      <th>TCGA-E2-A109-01</th>\n",
       "      <th>TCGA-AO-A128-01</th>\n",
       "    </tr>\n",
       "  </thead>\n",
       "  <tbody>\n",
       "    <tr>\n",
       "      <th>0</th>\n",
       "      <td>RNF14</td>\n",
       "      <td>0.496583</td>\n",
       "      <td>1.004500</td>\n",
       "      <td>-0.149417</td>\n",
       "      <td>1.045250</td>\n",
       "      <td>0.174083</td>\n",
       "      <td>-0.20275</td>\n",
       "      <td>0.139917</td>\n",
       "      <td>0.257083</td>\n",
       "      <td>0.313583</td>\n",
       "      <td>...</td>\n",
       "      <td>0.118750</td>\n",
       "      <td>1.231583</td>\n",
       "      <td>1.690833</td>\n",
       "      <td>0.617750</td>\n",
       "      <td>0.697417</td>\n",
       "      <td>0.355417</td>\n",
       "      <td>1.794167</td>\n",
       "      <td>0.228667</td>\n",
       "      <td>0.531917</td>\n",
       "      <td>0.259333</td>\n",
       "    </tr>\n",
       "    <tr>\n",
       "      <th>1</th>\n",
       "      <td>DUOXA1</td>\n",
       "      <td>0.578000</td>\n",
       "      <td>1.695500</td>\n",
       "      <td>0.790000</td>\n",
       "      <td>2.308000</td>\n",
       "      <td>0.955000</td>\n",
       "      <td>1.15350</td>\n",
       "      <td>1.144500</td>\n",
       "      <td>1.928500</td>\n",
       "      <td>1.323500</td>\n",
       "      <td>...</td>\n",
       "      <td>0.418500</td>\n",
       "      <td>-0.050500</td>\n",
       "      <td>0.521000</td>\n",
       "      <td>0.487500</td>\n",
       "      <td>0.757500</td>\n",
       "      <td>0.824500</td>\n",
       "      <td>0.300000</td>\n",
       "      <td>0.652500</td>\n",
       "      <td>0.508500</td>\n",
       "      <td>0.563500</td>\n",
       "    </tr>\n",
       "    <tr>\n",
       "      <th>2</th>\n",
       "      <td>UBE2Q2</td>\n",
       "      <td>0.279500</td>\n",
       "      <td>0.795167</td>\n",
       "      <td>0.829667</td>\n",
       "      <td>0.479333</td>\n",
       "      <td>0.390500</td>\n",
       "      <td>0.02850</td>\n",
       "      <td>-0.092333</td>\n",
       "      <td>-0.826667</td>\n",
       "      <td>0.485667</td>\n",
       "      <td>...</td>\n",
       "      <td>0.961833</td>\n",
       "      <td>0.714000</td>\n",
       "      <td>1.016500</td>\n",
       "      <td>0.701000</td>\n",
       "      <td>0.923000</td>\n",
       "      <td>0.244500</td>\n",
       "      <td>0.455833</td>\n",
       "      <td>0.516500</td>\n",
       "      <td>0.661500</td>\n",
       "      <td>0.047000</td>\n",
       "    </tr>\n",
       "    <tr>\n",
       "      <th>3</th>\n",
       "      <td>RNF10</td>\n",
       "      <td>-0.222250</td>\n",
       "      <td>0.632000</td>\n",
       "      <td>-0.017750</td>\n",
       "      <td>1.457750</td>\n",
       "      <td>-0.278000</td>\n",
       "      <td>-0.31325</td>\n",
       "      <td>0.390375</td>\n",
       "      <td>0.884625</td>\n",
       "      <td>0.706375</td>\n",
       "      <td>...</td>\n",
       "      <td>-0.030375</td>\n",
       "      <td>-0.089000</td>\n",
       "      <td>-0.035375</td>\n",
       "      <td>0.108625</td>\n",
       "      <td>0.017250</td>\n",
       "      <td>0.203375</td>\n",
       "      <td>0.621500</td>\n",
       "      <td>0.042500</td>\n",
       "      <td>0.075250</td>\n",
       "      <td>0.145625</td>\n",
       "    </tr>\n",
       "    <tr>\n",
       "      <th>4</th>\n",
       "      <td>RNF11</td>\n",
       "      <td>1.131750</td>\n",
       "      <td>0.857750</td>\n",
       "      <td>-0.155500</td>\n",
       "      <td>-0.016500</td>\n",
       "      <td>0.053500</td>\n",
       "      <td>0.17025</td>\n",
       "      <td>0.718500</td>\n",
       "      <td>0.309750</td>\n",
       "      <td>0.296750</td>\n",
       "      <td>...</td>\n",
       "      <td>1.181000</td>\n",
       "      <td>0.890500</td>\n",
       "      <td>0.074250</td>\n",
       "      <td>0.521250</td>\n",
       "      <td>0.608250</td>\n",
       "      <td>-0.057250</td>\n",
       "      <td>0.226500</td>\n",
       "      <td>0.666750</td>\n",
       "      <td>0.161500</td>\n",
       "      <td>0.196000</td>\n",
       "    </tr>\n",
       "  </tbody>\n",
       "</table>\n",
       "<p>5 rows × 598 columns</p>\n",
       "</div>"
      ],
      "text/plain": [
       "   sample  TCGA-A8-A0A7-01  TCGA-A8-A07G-01  TCGA-A8-A08R-01  TCGA-A8-A06Y-01  \\\n",
       "0   RNF14         0.496583         1.004500        -0.149417         1.045250   \n",
       "1  DUOXA1         0.578000         1.695500         0.790000         2.308000   \n",
       "2  UBE2Q2         0.279500         0.795167         0.829667         0.479333   \n",
       "3   RNF10        -0.222250         0.632000        -0.017750         1.457750   \n",
       "4   RNF11         1.131750         0.857750        -0.155500        -0.016500   \n",
       "\n",
       "   TCGA-A8-A08B-01  TCGA-A2-A04T-01  TCGA-A2-A0EQ-01  TCGA-A2-A0CQ-01  \\\n",
       "0         0.174083         -0.20275         0.139917         0.257083   \n",
       "1         0.955000          1.15350         1.144500         1.928500   \n",
       "2         0.390500          0.02850        -0.092333        -0.826667   \n",
       "3        -0.278000         -0.31325         0.390375         0.884625   \n",
       "4         0.053500          0.17025         0.718500         0.309750   \n",
       "\n",
       "   TCGA-BH-A0EB-01       ...         TCGA-AN-A0XL-01  TCGA-AQ-A04H-01  \\\n",
       "0         0.313583       ...                0.118750         1.231583   \n",
       "1         1.323500       ...                0.418500        -0.050500   \n",
       "2         0.485667       ...                0.961833         0.714000   \n",
       "3         0.706375       ...               -0.030375        -0.089000   \n",
       "4         0.296750       ...                1.181000         0.890500   \n",
       "\n",
       "   TCGA-E2-A106-01  TCGA-AO-A12C-01  TCGA-E2-A108-01  TCGA-BH-A0B2-01  \\\n",
       "0         1.690833         0.617750         0.697417         0.355417   \n",
       "1         0.521000         0.487500         0.757500         0.824500   \n",
       "2         1.016500         0.701000         0.923000         0.244500   \n",
       "3        -0.035375         0.108625         0.017250         0.203375   \n",
       "4         0.074250         0.521250         0.608250        -0.057250   \n",
       "\n",
       "   TCGA-AO-A12B-01  TCGA-BH-A0B2-11  TCGA-E2-A109-01  TCGA-AO-A128-01  \n",
       "0         1.794167         0.228667         0.531917         0.259333  \n",
       "1         0.300000         0.652500         0.508500         0.563500  \n",
       "2         0.455833         0.516500         0.661500         0.047000  \n",
       "3         0.621500         0.042500         0.075250         0.145625  \n",
       "4         0.226500         0.666750         0.161500         0.196000  \n",
       "\n",
       "[5 rows x 598 columns]"
      ]
     },
     "execution_count": 2,
     "metadata": {},
     "output_type": "execute_result"
    }
   ],
   "source": [
    "breast_cancer_dataset = pd.read_csv(\"../datasets/AgilentG4502A_07_3\",sep=\"\\t\")\n",
    "breast_cancer_dataset.dropna(inplace=True)\n",
    "breast_cancer_dataset.head()"
   ]
  },
  {
   "cell_type": "code",
   "execution_count": 3,
   "metadata": {},
   "outputs": [
    {
     "data": {
      "text/plain": [
       "(17278, 598)"
      ]
     },
     "execution_count": 3,
     "metadata": {},
     "output_type": "execute_result"
    }
   ],
   "source": [
    "breast_cancer_dataset.shape"
   ]
  },
  {
   "cell_type": "code",
   "execution_count": 4,
   "metadata": {},
   "outputs": [
    {
     "name": "stdout",
     "output_type": "stream",
     "text": [
      "63 healthy\n",
      "534 unhealthy\n"
     ]
    }
   ],
   "source": [
    "healthy = dict()\n",
    "unhealthy = dict()\n",
    "for sample in breast_cancer_dataset.columns[1:]:\n",
    "    if sample[-2:]==\"11\":\n",
    "        healthy[sample] = \"healthy\"\n",
    "    else:\n",
    "        unhealthy[sample] = \"unhealthy\"\n",
    "print(\"{} healthy\".format(len(healthy)))\n",
    "print(\"{} unhealthy\".format(len(unhealthy)))"
   ]
  },
  {
   "cell_type": "code",
   "execution_count": 5,
   "metadata": {},
   "outputs": [],
   "source": [
    "labels = copy.deepcopy(healthy)\n",
    "labels.update(unhealthy)"
   ]
  },
  {
   "cell_type": "code",
   "execution_count": null,
   "metadata": {
    "scrolled": true
   },
   "outputs": [],
   "source": [
    "start_time = time.time()\n",
    "Xp, yp = parse_database(breast_cancer_dataset, labels=labels, geo=False, index_column=\"sample\")"
   ]
  },
  {
   "cell_type": "code",
   "execution_count": null,
   "metadata": {},
   "outputs": [],
   "source": [
    "print(\"Parallelized:  %s seconds\" % (time.time() - start_time))"
   ]
  },
  {
   "cell_type": "code",
   "execution_count": null,
   "metadata": {
    "scrolled": true
   },
   "outputs": [],
   "source": [
    "start_time = time.time()\n",
    "X, y = parse_database(breast_cancer_dataset, labels=labels, geo=False, index_column=\"sample\", prallel=False)"
   ]
  },
  {
   "cell_type": "code",
   "execution_count": null,
   "metadata": {},
   "outputs": [],
   "source": [
    "print(\"--- %s seconds ---\" % (time.time() - start_time))"
   ]
  },
  {
   "cell_type": "code",
   "execution_count": null,
   "metadata": {},
   "outputs": [],
   "source": [
    "# pickle.dump(X, open(\"../datasets/breast_cancer3_X\",\"wb\"))\n",
    "# pickle.dump(y, open(\"../datasets/breast_cancer3_y\",\"wb\"))\n",
    "\n",
    "# # pickle.dump(Xp, open(\"../datasets/breast_cancer3_Xp\",\"wb\"))\n",
    "# # pickle.dump(yp, open(\"../datasets/breast_cancer3_yp\",\"wb\"))"
   ]
  },
  {
   "cell_type": "code",
   "execution_count": null,
   "metadata": {},
   "outputs": [],
   "source": [
    "X = pickle.load(open(\"../datasets/breast_cancer3_X\",\"rb\"))"
   ]
  },
  {
   "cell_type": "code",
   "execution_count": null,
   "metadata": {},
   "outputs": [],
   "source": []
  }
 ],
 "metadata": {
  "kernelspec": {
   "display_name": "Python 3",
   "language": "python",
   "name": "python3"
  },
  "language_info": {
   "codemirror_mode": {
    "name": "ipython",
    "version": 3
   },
   "file_extension": ".py",
   "mimetype": "text/x-python",
   "name": "python",
   "nbconvert_exporter": "python",
   "pygments_lexer": "ipython3",
   "version": "3.5.2"
  }
 },
 "nbformat": 4,
 "nbformat_minor": 2
}
