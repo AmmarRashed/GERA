{
 "cells": [
  {
   "cell_type": "code",
   "execution_count": 1,
   "metadata": {},
   "outputs": [],
   "source": [
    "import sys\n",
    "sys.path.append(\"../classes\")"
   ]
  },
  {
   "cell_type": "code",
   "execution_count": 2,
   "metadata": {},
   "outputs": [],
   "source": [
    "import pickle\n",
    "from sklearn.svm import SVC\n",
    "\n",
    "from sklearn.feature_selection import SelectKBest\n",
    "from sklearn.decomposition import PCA\n",
    "\n",
    "import numpy as np, pandas as pd\n",
    "from geno_classifier import *\n",
    "from geno_utils import parse_database\n",
    "from itertools import starmap\n",
    "\n",
    "import GEOparse"
   ]
  },
  {
   "cell_type": "code",
   "execution_count": 4,
   "metadata": {},
   "outputs": [
    {
     "name": "stderr",
     "output_type": "stream",
     "text": [
      "01-Feb-2018 12:55:21 INFO GEOparse - Parsing ../datasets/GDS3782_full.soft: \n",
      "01-Feb-2018 12:55:21 DEBUG GEOparse - DATABASE: Geo\n",
      "01-Feb-2018 12:55:21 DEBUG GEOparse - DATASET: GDS3782\n",
      "01-Feb-2018 12:55:21 DEBUG GEOparse - SUBSET: GDS3782_1\n",
      "01-Feb-2018 12:55:21 DEBUG GEOparse - SUBSET: GDS3782_2\n",
      "01-Feb-2018 12:55:21 DEBUG GEOparse - ANNOTATION: \n",
      "01-Feb-2018 12:55:21 ERROR GEOparse - Cannot recognize type Annotation\n",
      "01-Feb-2018 12:55:21 DEBUG GEOparse - DATASET: GDS3782\n",
      "/usr/local/lib/python3.5/dist-packages/GEOparse/GEOparse.py:330 \u001b[1;31mFutureWarning\u001b[0m: from_csv is deprecated. Please use read_csv(...) instead. Note that some of the default arguments are different, so please refer to the documentation for from_csv when changing your function calls\n",
      "/usr/local/lib/python3.5/dist-packages/GEOparse/GEOparse.py:88 \u001b[1;31mDtypeWarning\u001b[0m: Columns (33) have mixed types. Specify dtype option on import or set low_memory=False.\n"
     ]
    }
   ],
   "source": [
    "diabetes_dataset = GEOparse.get_GEO(filepath='../datasets/GDS3782_full.soft').table"
   ]
  },
  {
   "cell_type": "code",
   "execution_count": 5,
   "metadata": {},
   "outputs": [],
   "source": [
    "healthy_raw = \"\"\"\n",
    "#GSM524151 = Value for GSM524151: beta-cells_non-diabetic condition_donor1; src: human beta-cells_non-diabetic\n",
    "#GSM524152 = Value for GSM524152: beta-cells_non-diabetic condition_donor2; src: human beta-cells_non-diabetic\n",
    "#GSM524153 = Value for GSM524153: beta-cells_non-diabetic condition_donor3; src: human beta-cells_non-diabetic\n",
    "#GSM524154 = Value for GSM524154: beta-cells_non-diabetic condition_donor4; src: human beta-cells_non-diabetic\n",
    "#GSM524155 = Value for GSM524155: beta-cells_non-diabetic condition_donor5; src: human beta-cells_non-diabetic\n",
    "#GSM524156 = Value for GSM524156: beta-cells_non-diabetic condition_donor6; src: human beta-cells_non-diabetic\n",
    "#GSM524157 = Value for GSM524157: beta-cells_non-diabetic condition_donor7; src: human beta-cells_non-diabetic\n",
    "#GSM524158 = Value for GSM524158: beta-cells_non-diabetic condition_donor8; src: human beta-cells_non-diabetic\n",
    "#GSM524159 = Value for GSM524159: beta-cells_non-diabetic condition_donor9; src: human beta-cells_non-diabetic\n",
    "#GSM524160 = Value for GSM524160: beta-cells_non-diabetic condition_donor10; src: human beta-cells_non-diabetic\"\"\""
   ]
  },
  {
   "cell_type": "code",
   "execution_count": 6,
   "metadata": {},
   "outputs": [],
   "source": [
    "unhealthy_raw = \"\"\"\n",
    "#GSM524161 = Value for GSM524161: beta-cells_diabetic condition_donor1; src: human beta-cells_diabetic\n",
    "#GSM524162 = Value for GSM524162: beta-cells_diabetic condition_donor2; src: human beta-cells_diabetic\n",
    "#GSM524163 = Value for GSM524163: beta-cells_diabetic condition_donor3; src: human beta-cells_diabetic\n",
    "#GSM524164 = Value for GSM524164: beta-cells_diabetic condition_donor4; src: human beta-cells_diabetic\n",
    "#GSM524165 = Value for GSM524165: beta-cells_diabetic condition_donor5; src: human beta-cells_diabetic\n",
    "#GSM524166 = Value for GSM524166: beta-cells_diabetic condition_donor6; src: human beta-cells_diabetic\n",
    "#GSM524167 = Value for GSM524167: beta-cells_diabetic condition_donor7; src: human beta-cells_diabetic\n",
    "#GSM524168 = Value for GSM524168: beta-cells_diabetic condition_donor8; src: human beta-cells_diabetic\n",
    "#GSM524169 = Value for GSM524169: beta-cells_diabetic condition_donor9; src: human beta-cells_diabetic\n",
    "#GSM524170 = Value for GSM524170: beta-cells_diabetic condition_donor10; src: human beta-cells_diabetic\n",
    "\"\"\""
   ]
  },
  {
   "cell_type": "code",
   "execution_count": 7,
   "metadata": {},
   "outputs": [],
   "source": [
    "clean = lambda string: string.replace(':', '').split()\n",
    "predicate = lambda word: word.startswith('GSM')\n",
    "\n",
    "healthy = set(filter(predicate, clean(healthy_raw)))\n",
    "unhealthy = set(filter(predicate, clean(unhealthy_raw)))"
   ]
  },
  {
   "cell_type": "code",
   "execution_count": 8,
   "metadata": {},
   "outputs": [
    {
     "data": {
      "text/plain": [
       "(10, 10)"
      ]
     },
     "execution_count": 8,
     "metadata": {},
     "output_type": "execute_result"
    }
   ],
   "source": [
    "len(healthy),len(unhealthy)"
   ]
  },
  {
   "cell_type": "code",
   "execution_count": 9,
   "metadata": {},
   "outputs": [],
   "source": [
    "# healthy = list(healthy)[:16]\n",
    "# unhealthy = list(unhealthy)[:16]\n",
    "\n",
    "# # pickle.dump({\"helthy\":healthy,\n",
    "# #              \"unhealthy\":unhealthy},\n",
    "# #            open(\"colon_cancer_subset\",\"wb\"))"
   ]
  },
  {
   "cell_type": "code",
   "execution_count": 10,
   "metadata": {},
   "outputs": [],
   "source": [
    "healthy = set(healthy)\n",
    "unhealthy = set(unhealthy)"
   ]
  },
  {
   "cell_type": "code",
   "execution_count": 11,
   "metadata": {},
   "outputs": [],
   "source": [
    "sample_columns = list(healthy | unhealthy)"
   ]
  },
  {
   "cell_type": "code",
   "execution_count": 12,
   "metadata": {},
   "outputs": [],
   "source": [
    "cle = diabetes_dataset[[\"ID_REF\",\"IDENTIFIER\"]+sample_columns]"
   ]
  },
  {
   "cell_type": "code",
   "execution_count": 13,
   "metadata": {},
   "outputs": [
    {
     "name": "stderr",
     "output_type": "stream",
     "text": [
      "/usr/local/lib/python3.5/dist-packages/ipykernel_launcher.py:1 \u001b[1;31mSettingWithCopyWarning\u001b[0m: \n",
      "A value is trying to be set on a copy of a slice from a DataFrame\n",
      "\n",
      "See the caveats in the documentation: http://pandas.pydata.org/pandas-docs/stable/indexing.html#indexing-view-versus-copy\n"
     ]
    }
   ],
   "source": [
    "cle.dropna(inplace=True)"
   ]
  },
  {
   "cell_type": "code",
   "execution_count": 14,
   "metadata": {},
   "outputs": [
    {
     "data": {
      "text/html": [
       "<div>\n",
       "<style scoped>\n",
       "    .dataframe tbody tr th:only-of-type {\n",
       "        vertical-align: middle;\n",
       "    }\n",
       "\n",
       "    .dataframe tbody tr th {\n",
       "        vertical-align: top;\n",
       "    }\n",
       "\n",
       "    .dataframe thead th {\n",
       "        text-align: right;\n",
       "    }\n",
       "</style>\n",
       "<table border=\"1\" class=\"dataframe\">\n",
       "  <thead>\n",
       "    <tr style=\"text-align: right;\">\n",
       "      <th></th>\n",
       "      <th>ID_REF</th>\n",
       "      <th>IDENTIFIER</th>\n",
       "      <th>GSM524155</th>\n",
       "      <th>GSM524167</th>\n",
       "      <th>GSM524154</th>\n",
       "    </tr>\n",
       "  </thead>\n",
       "  <tbody>\n",
       "    <tr>\n",
       "      <th>0</th>\n",
       "      <td>1053_3p_at</td>\n",
       "      <td>RFC2</td>\n",
       "      <td>12.06</td>\n",
       "      <td>10.50</td>\n",
       "      <td>3.37</td>\n",
       "    </tr>\n",
       "    <tr>\n",
       "      <th>1</th>\n",
       "      <td>117_3p_at</td>\n",
       "      <td>HSPA6</td>\n",
       "      <td>45.94</td>\n",
       "      <td>42.72</td>\n",
       "      <td>44.11</td>\n",
       "    </tr>\n",
       "    <tr>\n",
       "      <th>2</th>\n",
       "      <td>1494_3p_f_at</td>\n",
       "      <td>CYP2A6</td>\n",
       "      <td>63.53</td>\n",
       "      <td>42.79</td>\n",
       "      <td>61.92</td>\n",
       "    </tr>\n",
       "    <tr>\n",
       "      <th>3</th>\n",
       "      <td>1552275_3p_s_at</td>\n",
       "      <td>PXK</td>\n",
       "      <td>24.16</td>\n",
       "      <td>12.10</td>\n",
       "      <td>24.62</td>\n",
       "    </tr>\n",
       "    <tr>\n",
       "      <th>4</th>\n",
       "      <td>1552281_3p_at</td>\n",
       "      <td>SLC39A5</td>\n",
       "      <td>28.19</td>\n",
       "      <td>43.59</td>\n",
       "      <td>35.96</td>\n",
       "    </tr>\n",
       "  </tbody>\n",
       "</table>\n",
       "</div>"
      ],
      "text/plain": [
       "            ID_REF IDENTIFIER  GSM524155  GSM524167  GSM524154\n",
       "0       1053_3p_at       RFC2      12.06      10.50       3.37\n",
       "1        117_3p_at      HSPA6      45.94      42.72      44.11\n",
       "2     1494_3p_f_at     CYP2A6      63.53      42.79      61.92\n",
       "3  1552275_3p_s_at        PXK      24.16      12.10      24.62\n",
       "4    1552281_3p_at    SLC39A5      28.19      43.59      35.96"
      ]
     },
     "execution_count": 14,
     "metadata": {},
     "output_type": "execute_result"
    }
   ],
   "source": [
    "cle[cle.columns[:5]].head()"
   ]
  },
  {
   "cell_type": "code",
   "execution_count": 15,
   "metadata": {},
   "outputs": [],
   "source": [
    "labels_ = [(h, 'healthy') for h in healthy] + [(d, 'unhealthy') for d in unhealthy]"
   ]
  },
  {
   "cell_type": "code",
   "execution_count": null,
   "metadata": {},
   "outputs": [],
   "source": [
    "X, y = parse_database(diabetes_dataset, healthy_raw, unhealthy_raw, n_jobs=-1)"
   ]
  },
  {
   "cell_type": "code",
   "execution_count": null,
   "metadata": {},
   "outputs": [],
   "source": [
    "pickle.dump({\"X\":X,\"y\":y}, open(\"diabetes_Xy\", \"wb\"))"
   ]
  },
  {
   "cell_type": "markdown",
   "metadata": {},
   "source": [
    "## HBV"
   ]
  },
  {
   "cell_type": "code",
   "execution_count": 16,
   "metadata": {},
   "outputs": [
    {
     "name": "stderr",
     "output_type": "stream",
     "text": [
      "01-Feb-2018 12:55:35 INFO GEOparse - Parsing ../datasets/GDS4387_full.soft: \n",
      "01-Feb-2018 12:55:35 DEBUG GEOparse - DATABASE: Geo\n",
      "01-Feb-2018 12:55:35 DEBUG GEOparse - DATASET: GDS4387\n",
      "01-Feb-2018 12:55:35 DEBUG GEOparse - SUBSET: GDS4387_1\n",
      "01-Feb-2018 12:55:35 DEBUG GEOparse - SUBSET: GDS4387_2\n",
      "01-Feb-2018 12:55:35 DEBUG GEOparse - SUBSET: GDS4387_3\n",
      "01-Feb-2018 12:55:35 DEBUG GEOparse - SUBSET: GDS4387_4\n",
      "01-Feb-2018 12:55:35 DEBUG GEOparse - SUBSET: GDS4387_5\n",
      "01-Feb-2018 12:55:35 DEBUG GEOparse - SUBSET: GDS4387_6\n",
      "01-Feb-2018 12:55:35 DEBUG GEOparse - SUBSET: GDS4387_7\n",
      "01-Feb-2018 12:55:35 DEBUG GEOparse - SUBSET: GDS4387_8\n",
      "01-Feb-2018 12:55:35 DEBUG GEOparse - SUBSET: GDS4387_9\n",
      "01-Feb-2018 12:55:35 DEBUG GEOparse - SUBSET: GDS4387_10\n",
      "01-Feb-2018 12:55:35 DEBUG GEOparse - SUBSET: GDS4387_11\n",
      "01-Feb-2018 12:55:35 DEBUG GEOparse - SUBSET: GDS4387_12\n",
      "01-Feb-2018 12:55:35 DEBUG GEOparse - SUBSET: GDS4387_13\n",
      "01-Feb-2018 12:55:35 DEBUG GEOparse - SUBSET: GDS4387_14\n",
      "01-Feb-2018 12:55:35 DEBUG GEOparse - SUBSET: GDS4387_15\n",
      "01-Feb-2018 12:55:35 DEBUG GEOparse - SUBSET: GDS4387_16\n",
      "01-Feb-2018 12:55:35 DEBUG GEOparse - ANNOTATION: \n",
      "01-Feb-2018 12:55:35 ERROR GEOparse - Cannot recognize type Annotation\n",
      "01-Feb-2018 12:55:35 DEBUG GEOparse - DATASET: GDS4387\n",
      "/usr/local/lib/python3.5/dist-packages/GEOparse/GEOparse.py:330 \u001b[1;31mFutureWarning\u001b[0m: from_csv is deprecated. Please use read_csv(...) instead. Note that some of the default arguments are different, so please refer to the documentation for from_csv when changing your function calls\n",
      "/usr/local/lib/python3.5/dist-packages/GEOparse/GEOparse.py:88 \u001b[1;31mDtypeWarning\u001b[0m: Columns (40) have mixed types. Specify dtype option on import or set low_memory=False.\n"
     ]
    }
   ],
   "source": [
    "HBV_dataset = GEOparse.get_GEO(filepath='../datasets/GDS4387_full.soft').table"
   ]
  },
  {
   "cell_type": "code",
   "execution_count": 17,
   "metadata": {},
   "outputs": [],
   "source": [
    "healthy_raw = \"\"\"#GSM952520 = Value for GSM952520: normal liver from patient 112; src: specimen obtained from explanted liver Patient 112\n",
    "#GSM952519 = Value for GSM952519: normal liver from patient 101; src: specimen obtained from explanted liver Patient 101\n",
    "#GSM952518 = Value for GSM952518: normal liver from patient 62; src: specimen obtained from explanted liver Patient 62\n",
    "#GSM952517 = Value for GSM952517: normal liver from patient 60; src: specimen obtained from explanted liver Patient 60\n",
    "#GSM952516 = Value for GSM952516: normal liver from patient 37; src: specimen obtained from explanted liver Patient 37\n",
    "#GSM952515 = Value for GSM952515: normal liver from patient 29; src: specimen obtained from explanted liver Patient 29\n",
    "#GSM952514 = Value for GSM952514: normal liver from patient 20; src: specimen obtained from explanted liver Patient 20\n",
    "#GSM952513 = Value for GSM952513: normal liver from patient 18; src: specimen obtained from explanted liver Patient 18\n",
    "#GSM952512 = Value for GSM952512: normal liver from patient 16; src: specimen obtained from explanted liver Patient 16\n",
    "#GSM952511 = Value for GSM952511: normal liver from patient 8; src: specimen obtained from explanted liver Patient 8\n",
    "\"\"\""
   ]
  },
  {
   "cell_type": "code",
   "execution_count": 18,
   "metadata": {},
   "outputs": [],
   "source": [
    "unhealthy_raw = \"\"\"#GSM952534 = Value for GSM952534: HBV-associated acute liver failure liver from patient 241-1; src: specimen obtained from explanted liver Patient 241\n",
    "#GSM952535 = Value for GSM952535: HBV-associated acute liver failure liver from patient 241-2; src: specimen obtained from explanted liver Patient 241\n",
    "#GSM952536 = Value for GSM952536: HBV-associated acute liver failure liver from patient 241-3; src: specimen obtained from explanted liver Patient 241\n",
    "#GSM952537 = Value for GSM952537: HBV-associated acute liver failure liver from patient 241-4; src: specimen obtained from explanted liver Patient 241\n",
    "#GSM952529 = Value for GSM952529: HBV-associated acute liver failure liver from patient 219-1; src: specimen obtained from explanted liver Patient 219\n",
    "#GSM952530 = Value for GSM952530: HBV-associated acute liver failure liver from patient 219-2; src: specimen obtained from explanted liver Patient 219\n",
    "#GSM952531 = Value for GSM952531: HBV-associated acute liver failure liver from patient 219-3; src: specimen obtained from explanted liver Patient 219\n",
    "#GSM952532 = Value for GSM952532: HBV-associated acute liver failure liver from patient 219-4; src: specimen obtained from explanted liver Patient 219\n",
    "#GSM952533 = Value for GSM952533: HBV-associated acute liver failure liver from patient 219-5; src: specimen obtained from explanted liver Patient 219\n",
    "#GSM952525 = Value for GSM952525: HBV-associated acute liver failure liver from patient 32-1; src: specimen obtained from explanted liver Patient 32\n",
    "#GSM952526 = Value for GSM952526: HBV-associated acute liver failure liver from patient 32-2; src: specimen obtained from explanted liver Patient 32\n",
    "#GSM952527 = Value for GSM952527: HBV-associated acute liver failure liver from patient 32-3; src: specimen obtained from explanted liver Patient 32\n",
    "#GSM952528 = Value for GSM952528: HBV-associated acute liver failure liver from patient 32-4; src: specimen obtained from explanted liver Patient 32\n",
    "#GSM952521 = Value for GSM952521: HBV-associated acute liver failure liver from patient 31-1; src: specimen obtained from explanted liver Patient 31\n",
    "#GSM952522 = Value for GSM952522: HBV-associated acute liver failure liver from patient 31-2; src: specimen obtained from explanted liver Patient 31\n",
    "#GSM952523 = Value for GSM952523: HBV-associated acute liver failure liver from patient 31-3; src: specimen obtained from explanted liver Patient 31\n",
    "#GSM952524 = Value for GSM952524: HBV-associated acute liver failure liver from patient 31-4; src: specimen obtained from explanted liver Patient 31\n",
    "\"\"\""
   ]
  },
  {
   "cell_type": "code",
   "execution_count": 20,
   "metadata": {},
   "outputs": [
    {
     "name": "stderr",
     "output_type": "stream",
     "text": [
      "../classes/geno_utils.py:49 \u001b[1;31mSettingWithCopyWarning\u001b[0m: \n",
      "A value is trying to be set on a copy of a slice from a DataFrame\n",
      "\n",
      "See the caveats in the documentation: http://pandas.pydata.org/pandas-docs/stable/indexing.html#indexing-view-versus-copy\n",
      "[Parallel(n_jobs=-1)]: Done   2 tasks      | elapsed: 17.4min\n",
      "[Parallel(n_jobs=-1)]: Done   9 tasks      | elapsed: 18.8min\n",
      "[Parallel(n_jobs=-1)]: Done  15 out of  27 | elapsed: 19.1min remaining: 15.3min\n",
      "[Parallel(n_jobs=-1)]: Done  18 out of  27 | elapsed: 21.0min remaining: 10.5min\n",
      "[Parallel(n_jobs=-1)]: Done  21 out of  27 | elapsed: 21.1min remaining:  6.0min\n",
      "[Parallel(n_jobs=-1)]: Done  24 out of  27 | elapsed: 21.2min remaining:  2.6min\n",
      "[Parallel(n_jobs=-1)]: Done  27 out of  27 | elapsed: 21.6min remaining:    0.0s\n",
      "[Parallel(n_jobs=-1)]: Done  27 out of  27 | elapsed: 21.6min finished\n"
     ]
    },
    {
     "name": "stdout",
     "output_type": "stream",
     "text": [
      "GSM952534 added with length 19266\n",
      "GSM952532 added with length 19266\n",
      "GSM952533 added with length 19266\n",
      "GSM952528 added with length 19266\n",
      "GSM952524 added with length 19266\n",
      "GSM952536 added with length 19266\n",
      "GSM952522 added with length 19266\n",
      "GSM952514 added with length 19266\n",
      "GSM952530 added with length 19266\n",
      "GSM952529 added with length 19266\n",
      "GSM952537 added with length 19266\n",
      "GSM952519 added with length 19266\n",
      "GSM952526 added with length 19266\n",
      "GSM952531 added with length 19266\n",
      "GSM952517 added with length 19266\n",
      "GSM952515 added with length 19266\n",
      "GSM952520 added with length 19266\n",
      "GSM952518 added with length 19266\n",
      "GSM952513 added with length 19266\n",
      "GSM952521 added with length 19266\n",
      "GSM952511 added with length 19266\n",
      "GSM952535 added with length 19266\n",
      "GSM952525 added with length 19266\n",
      "GSM952516 added with length 19266\n",
      "GSM952523 added with length 19266\n",
      "GSM952512 added with length 19266\n",
      "GSM952527 added with length 19266\n"
     ]
    }
   ],
   "source": [
    "X, y = parse_database(HBV_dataset, healthy_raw, unhealthy_raw, n_jobs=-1)\n",
    "pickle.dump({\"X\":X,\"y\":y}, open(\"HBV_Xy\", \"wb\"))"
   ]
  },
  {
   "cell_type": "markdown",
   "metadata": {},
   "source": [
    "## Pancreatic Cancer"
   ]
  },
  {
   "cell_type": "code",
   "execution_count": 26,
   "metadata": {},
   "outputs": [
    {
     "name": "stderr",
     "output_type": "stream",
     "text": [
      "01-Feb-2018 13:20:47 INFO GEOparse - Parsing ../datasets/GDS4100_full.soft: \n",
      "01-Feb-2018 13:20:47 DEBUG GEOparse - DATABASE: Geo\n",
      "01-Feb-2018 13:20:47 DEBUG GEOparse - DATASET: GDS4100\n",
      "01-Feb-2018 13:20:47 DEBUG GEOparse - SUBSET: GDS4100_1\n",
      "01-Feb-2018 13:20:47 DEBUG GEOparse - SUBSET: GDS4100_2\n",
      "01-Feb-2018 13:20:47 DEBUG GEOparse - ANNOTATION: \n",
      "01-Feb-2018 13:20:47 ERROR GEOparse - Cannot recognize type Annotation\n",
      "01-Feb-2018 13:20:47 DEBUG GEOparse - DATASET: GDS4100\n",
      "/usr/local/lib/python3.5/dist-packages/GEOparse/GEOparse.py:330 \u001b[1;31mFutureWarning\u001b[0m: from_csv is deprecated. Please use read_csv(...) instead. Note that some of the default arguments are different, so please refer to the documentation for from_csv when changing your function calls\n",
      "/usr/local/lib/python3.5/dist-packages/GEOparse/GEOparse.py:88 \u001b[1;31mDtypeWarning\u001b[0m: Columns (37) have mixed types. Specify dtype option on import or set low_memory=False.\n"
     ]
    }
   ],
   "source": [
    "pancreatic_dataset = GEOparse.get_GEO(filepath='../datasets/GDS4100_full.soft').table"
   ]
  },
  {
   "cell_type": "code",
   "execution_count": 27,
   "metadata": {},
   "outputs": [],
   "source": [
    "healthy_raw = \"\"\"\n",
    "#GSM356808 = Value for GSM356808: Healthy control saliva-1; src: saliva\n",
    "#GSM356809 = Value for GSM356809: Healthy control saliva-2; src: saliva\n",
    "#GSM356810 = Value for GSM356810: Healthy control saliva-3; src: saliva\n",
    "#GSM356811 = Value for GSM356811: Healthy control saliva-4; src: saliva\n",
    "#GSM356812 = Value for GSM356812: Healthy control saliva-5; src: saliva\n",
    "#GSM356813 = Value for GSM356813: Healthy control saliva-6; src: saliva\n",
    "#GSM356814 = Value for GSM356814: Healthy control saliva-7; src: saliva\n",
    "#GSM356815 = Value for GSM356815: Healthy control saliva-8; src: saliva\n",
    "#GSM356816 = Value for GSM356816: Healthy control saliva-9; src: saliva\n",
    "#GSM356817 = Value for GSM356817: Healthy control saliva-10; src: saliva\n",
    "#GSM356818 = Value for GSM356818: Healthy control saliva-11; src: saliva\n",
    "#GSM356819 = Value for GSM356819: Healthy control saliva-12; src: saliva\n",
    "\"\"\""
   ]
  },
  {
   "cell_type": "code",
   "execution_count": 28,
   "metadata": {},
   "outputs": [],
   "source": [
    "unhealthy_raw = \"\"\"\n",
    "#GSM356796 = Value for GSM356796: pancreatic cancer saliva-1; src: saliva\n",
    "#GSM356797 = Value for GSM356797: pancreatic cancer saliva-2; src: saliva\n",
    "#GSM356798 = Value for GSM356798: pancreatic cancer saliva-3; src: saliva\n",
    "#GSM356799 = Value for GSM356799: pancreatic cancer saliva-4; src: saliva\n",
    "#GSM356800 = Value for GSM356800: pancreatic cancer saliva-5; src: saliva\n",
    "#GSM356801 = Value for GSM356801: pancreatic cancer saliva-6; src: saliva\n",
    "#GSM356802 = Value for GSM356802: pancreatic cancer saliva-7; src: saliva\n",
    "#GSM356803 = Value for GSM356803: pancreatic cancer saliva-8; src: saliva\n",
    "#GSM356804 = Value for GSM356804: pancreatic cancer saliva-9; src: saliva\n",
    "#GSM356805 = Value for GSM356805: pancreatic cancer saliva-10; src: saliva\n",
    "#GSM356806 = Value for GSM356806: pancreatic cancer saliva-11; src: saliva\n",
    "#GSM356807 = Value for GSM356807: pancreatic cancer saliva-12; src: saliva\n",
    "\"\"\""
   ]
  },
  {
   "cell_type": "code",
   "execution_count": 29,
   "metadata": {},
   "outputs": [
    {
     "name": "stderr",
     "output_type": "stream",
     "text": [
      "../classes/geno_utils.py:49 \u001b[1;31mSettingWithCopyWarning\u001b[0m: \n",
      "A value is trying to be set on a copy of a slice from a DataFrame\n",
      "\n",
      "See the caveats in the documentation: http://pandas.pydata.org/pandas-docs/stable/indexing.html#indexing-view-versus-copy\n",
      "[Parallel(n_jobs=-1)]: Done   2 tasks      | elapsed:  4.4min\n",
      "[Parallel(n_jobs=-1)]: Done   9 tasks      | elapsed:  4.5min\n",
      "[Parallel(n_jobs=-1)]: Done  12 out of  24 | elapsed:  4.5min remaining:  4.5min\n",
      "[Parallel(n_jobs=-1)]: Done  15 out of  24 | elapsed:  4.6min remaining:  2.7min\n",
      "[Parallel(n_jobs=-1)]: Done  18 out of  24 | elapsed:  4.6min remaining:  1.5min\n",
      "[Parallel(n_jobs=-1)]: Done  21 out of  24 | elapsed:  4.6min remaining:   39.6s\n",
      "[Parallel(n_jobs=-1)]: Done  24 out of  24 | elapsed:  4.6min remaining:    0.0s\n",
      "[Parallel(n_jobs=-1)]: Done  24 out of  24 | elapsed:  4.6min finished\n"
     ]
    },
    {
     "name": "stdout",
     "output_type": "stream",
     "text": [
      "GSM356818 added with length 5777\n",
      "GSM356815 added with length 5777\n",
      "GSM356810 added with length 5777\n",
      "GSM356799 added with length 5777\n",
      "GSM356802 added with length 5777\n",
      "GSM356809 added with length 5777\n",
      "GSM356811 added with length 5777\n",
      "GSM356806 added with length 5777\n",
      "GSM356801 added with length 5777\n",
      "GSM356800 added with length 5777\n",
      "GSM356807 added with length 5777\n",
      "GSM356804 added with length 5777\n",
      "GSM356812 added with length 5777\n",
      "GSM356803 added with length 5777\n",
      "GSM356813 added with length 5777\n",
      "GSM356808 added with length 5777\n",
      "GSM356797 added with length 5777\n",
      "GSM356817 added with length 5777\n",
      "GSM356805 added with length 5777\n",
      "GSM356796 added with length 5777\n",
      "GSM356816 added with length 5777\n",
      "GSM356814 added with length 5777\n",
      "GSM356819 added with length 5777\n",
      "GSM356798 added with length 5777\n"
     ]
    }
   ],
   "source": [
    "X, y = parse_database(pancreatic_dataset, healthy_raw, unhealthy_raw, n_jobs=-1)\n",
    "pickle.dump({\"X\":X,\"y\":y}, open(\"pancreatic_cancer_Xy\", \"wb\"))"
   ]
  },
  {
   "cell_type": "code",
   "execution_count": 30,
   "metadata": {},
   "outputs": [
    {
     "name": "stderr",
     "output_type": "stream",
     "text": [
      "01-Feb-2018 13:26:01 INFO GEOparse - Parsing ../datasets/GDS2881_full.soft: \n",
      "01-Feb-2018 13:26:01 DEBUG GEOparse - DATABASE: Geo\n",
      "01-Feb-2018 13:26:01 DEBUG GEOparse - DATASET: GDS2881\n",
      "01-Feb-2018 13:26:01 DEBUG GEOparse - SUBSET: GDS2881_1\n",
      "01-Feb-2018 13:26:01 DEBUG GEOparse - SUBSET: GDS2881_2\n",
      "01-Feb-2018 13:26:01 DEBUG GEOparse - SUBSET: GDS2881_3\n",
      "01-Feb-2018 13:26:01 DEBUG GEOparse - SUBSET: GDS2881_4\n",
      "01-Feb-2018 13:26:01 DEBUG GEOparse - SUBSET: GDS2881_5\n",
      "01-Feb-2018 13:26:01 DEBUG GEOparse - SUBSET: GDS2881_6\n",
      "01-Feb-2018 13:26:01 DEBUG GEOparse - SUBSET: GDS2881_7\n",
      "01-Feb-2018 13:26:01 DEBUG GEOparse - SUBSET: GDS2881_8\n",
      "01-Feb-2018 13:26:01 DEBUG GEOparse - SUBSET: GDS2881_9\n",
      "01-Feb-2018 13:26:01 DEBUG GEOparse - SUBSET: GDS2881_10\n",
      "01-Feb-2018 13:26:01 DEBUG GEOparse - SUBSET: GDS2881_11\n",
      "01-Feb-2018 13:26:01 DEBUG GEOparse - SUBSET: GDS2881_12\n",
      "01-Feb-2018 13:26:01 DEBUG GEOparse - SUBSET: GDS2881_13\n",
      "01-Feb-2018 13:26:01 DEBUG GEOparse - ANNOTATION: \n",
      "01-Feb-2018 13:26:01 ERROR GEOparse - Cannot recognize type Annotation\n",
      "01-Feb-2018 13:26:01 DEBUG GEOparse - DATASET: GDS2881\n",
      "/usr/local/lib/python3.5/dist-packages/GEOparse/GEOparse.py:330 \u001b[1;31mFutureWarning\u001b[0m: from_csv is deprecated. Please use read_csv(...) instead. Note that some of the default arguments are different, so please refer to the documentation for from_csv when changing your function calls\n",
      "/usr/local/lib/python3.5/dist-packages/GEOparse/GEOparse.py:88 \u001b[1;31mDtypeWarning\u001b[0m: Columns (33) have mixed types. Specify dtype option on import or set low_memory=False.\n"
     ]
    }
   ],
   "source": [
    "renal_carcinoma_dataset = GEOparse.get_GEO(filepath='../datasets/GDS2881_full.soft').table"
   ]
  },
  {
   "cell_type": "code",
   "execution_count": 31,
   "metadata": {},
   "outputs": [],
   "source": [
    "healthy_raw = \"\"\"\n",
    "#GSM146798 = Value for GSM146798: Stage 1, PT#2, Normal (HG-U133B); src: Human Renal Epithelium\n",
    "#GSM146800 = Value for GSM146800: Stage 1, PT#3, Normal (HG-U133B); src: Human Renal Epithelium\n",
    "#GSM146802 = Value for GSM146802: Stage 1, PT#4, Normal (HG-U133B); src: Human Renal Epithelium\n",
    "#GSM146804 = Value for GSM146804: Stage 1, PT#5,Normal (HG-U133B); src: Human Renal Epithelium\n",
    "#GSM146806 = Value for GSM146806: Stage 1, PT#6, Normal (HG-U133B); src: Human Renal Epithelium\n",
    "#GSM146809 = Value for GSM146809: Stage 2, PT#8, Normal (HG-U133B); src: Human Renal Epithelium\n",
    "#GSM146810 = Value for GSM146810: Stage 2, PT#9, Normal (HG-U133B); src: Human Renal Epithelium\n",
    "#GSM146812 = Value for GSM146812: Stage 2, PT#10, Normal (HG-U133B); src: Human Renal Epithelium\n",
    "#GSM146814 = Value for GSM146814: Stage 2, PT#11, Normal (HG-U133B); src: Human Renal Epithelium\n",
    "#GSM146816 = Value for GSM146816: Stage 2, PT#12, Normal (HG-U133B); src: Human Renal Epithelium\n",
    "\"\"\""
   ]
  },
  {
   "cell_type": "code",
   "execution_count": 32,
   "metadata": {},
   "outputs": [],
   "source": [
    "unhealthy_raw = \"\"\"\n",
    "#GSM146799 = Value for GSM146799: Stage 1, PT#2, Tumor (HG-U133B); src: Human Renal Epithelium\n",
    "#GSM146801 = Value for GSM146801: Stage 1, PT#3, Tumor (HG-U133B); src: Human Renal Epithelium\n",
    "#GSM146803 = Value for GSM146803: Stage 1, PT#4,Tumor (HG-U133B); src: Human Renal Epithelium\n",
    "#GSM146805 = Value for GSM146805: Stage 1, PT#5, Tumor (HG-U133B); src: Human Renal Epithelium\n",
    "#GSM146807 = Value for GSM146807: Stage 1, PT#6,Tumor (HG-U133B); src: Human Renal Epithelium\n",
    "#GSM146808 = Value for GSM146808: Stage 2, PT#8, Tumor (HG-U133B); src: Human Renal Epithelium\n",
    "#GSM146811 = Value for GSM146811: Stage 2, PT#9, Tumor (HG-U133B); src: Human Renal Epithelium\n",
    "#GSM146813 = Value for GSM146813: Stage 2, PT#10, Tumor (HG-U133B); src: Human Renal Epithelium\n",
    "#GSM146815 = Value for GSM146815: Stage 2, PT#11, Tumor (HG-U133B); src: Human Renal Epithelium\n",
    "#GSM146817 = Value for GSM146817: Stage 2, PT#12, Tumor (HG-U133B); src: Human Renal Epithelium\"\"\""
   ]
  },
  {
   "cell_type": "code",
   "execution_count": 33,
   "metadata": {},
   "outputs": [
    {
     "name": "stderr",
     "output_type": "stream",
     "text": [
      "../classes/geno_utils.py:49 \u001b[1;31mSettingWithCopyWarning\u001b[0m: \n",
      "A value is trying to be set on a copy of a slice from a DataFrame\n",
      "\n",
      "See the caveats in the documentation: http://pandas.pydata.org/pandas-docs/stable/indexing.html#indexing-view-versus-copy\n",
      "[Parallel(n_jobs=-1)]: Done   2 tasks      | elapsed:  9.3min\n",
      "[Parallel(n_jobs=-1)]: Done   8 out of  20 | elapsed:  9.3min remaining: 14.0min\n",
      "[Parallel(n_jobs=-1)]: Done  11 out of  20 | elapsed:  9.6min remaining:  7.9min\n",
      "[Parallel(n_jobs=-1)]: Done  14 out of  20 | elapsed:  9.7min remaining:  4.1min\n",
      "[Parallel(n_jobs=-1)]: Done  17 out of  20 | elapsed:  9.8min remaining:  1.7min\n",
      "[Parallel(n_jobs=-1)]: Done  20 out of  20 | elapsed:  9.9min remaining:    0.0s\n",
      "[Parallel(n_jobs=-1)]: Done  20 out of  20 | elapsed:  9.9min finished\n"
     ]
    },
    {
     "name": "stdout",
     "output_type": "stream",
     "text": [
      "GSM146816 added with length 9488\n",
      "GSM146799 added with length 9488\n",
      "GSM146812 added with length 9488\n",
      "GSM146803 added with length 9488\n",
      "GSM146810 added with length 9488\n",
      "GSM146809 added with length 9488\n",
      "GSM146817 added with length 9488\n",
      "GSM146805 added with length 9488\n",
      "GSM146815 added with length 9488\n",
      "GSM146804 added with length 9488\n",
      "GSM146811 added with length 9488\n",
      "GSM146807 added with length 9488\n",
      "GSM146802 added with length 9488\n",
      "GSM146800 added with length 9488\n",
      "GSM146808 added with length 9488\n",
      "GSM146806 added with length 9488\n",
      "GSM146814 added with length 9488\n",
      "GSM146798 added with length 9488\n",
      "GSM146813 added with length 9488\n",
      "GSM146801 added with length 9488\n"
     ]
    }
   ],
   "source": [
    "X, y = parse_database(renal_carcinoma_dataset, healthy_raw, unhealthy_raw, n_jobs=-1)\n",
    "pickle.dump({\"X\":X,\"y\":y}, open(\"renal_carcinoma_Xy\", \"wb\"))"
   ]
  },
  {
   "cell_type": "markdown",
   "metadata": {},
   "source": [
    "## Glioma platlets"
   ]
  },
  {
   "cell_type": "code",
   "execution_count": 36,
   "metadata": {},
   "outputs": [
    {
     "name": "stderr",
     "output_type": "stream",
     "text": [
      "01-Feb-2018 13:38:41 INFO GEOparse - Parsing ../datasets/GDS5181_full.soft: \n",
      "01-Feb-2018 13:38:41 DEBUG GEOparse - DATABASE: Geo\n",
      "01-Feb-2018 13:38:41 DEBUG GEOparse - DATASET: GDS5181\n",
      "01-Feb-2018 13:38:41 DEBUG GEOparse - SUBSET: GDS5181_1\n",
      "01-Feb-2018 13:38:41 DEBUG GEOparse - SUBSET: GDS5181_2\n",
      "01-Feb-2018 13:38:41 DEBUG GEOparse - ANNOTATION: \n",
      "01-Feb-2018 13:38:41 ERROR GEOparse - Cannot recognize type Annotation\n",
      "01-Feb-2018 13:38:41 DEBUG GEOparse - DATASET: GDS5181\n",
      "/usr/local/lib/python3.5/dist-packages/GEOparse/GEOparse.py:330 \u001b[1;31mFutureWarning\u001b[0m: from_csv is deprecated. Please use read_csv(...) instead. Note that some of the default arguments are different, so please refer to the documentation for from_csv when changing your function calls\n"
     ]
    }
   ],
   "source": [
    "glioma_dataset = GEOparse.get_GEO(filepath='../datasets/GDS5181_full.soft').table"
   ]
  },
  {
   "cell_type": "code",
   "execution_count": 34,
   "metadata": {},
   "outputs": [],
   "source": [
    "healthy_raw = \"\"\"\n",
    "#GSM769920 = Value for GSM769920: THB_Control_s1; src: THB_Control_s1\n",
    "#GSM769921 = Value for GSM769921: THB_Control_s2; src: THB_Control_s2\n",
    "#GSM769922 = Value for GSM769922: THB_Control_s3; src: THB_Control_s3\n",
    "#GSM769923 = Value for GSM769923: THB_Control_s4; src: THB_Control_s4\n",
    "#GSM769924 = Value for GSM769924: THB_Control_s5; src: THB_Control_s5\n",
    "#GSM769925 = Value for GSM769925: THB_Control_s6; src: THB_Control_s6\n",
    "#GSM769926 = Value for GSM769926: THB_Control_s7; src: THB_Control_s7\n",
    "#GSM769927 = Value for GSM769927: THB_Control_s8; src: THB_Control_s8\n",
    "#GSM769928 = Value for GSM769928: THB_Control_s9; src: THB_Control_s9\n",
    "#GSM769929 = Value for GSM769929: THB_Control_s10; src: THB_Control_s10\n",
    "#GSM769930 = Value for GSM769930: THB_Control_s11; src: THB_Control_s11\n",
    "#GSM769931 = Value for GSM769931: THB_Control_s12; src: THB_Control_s12\n",
    "\"\"\""
   ]
  },
  {
   "cell_type": "code",
   "execution_count": 35,
   "metadata": {},
   "outputs": [],
   "source": [
    "unhealthy_raw =\"\"\"\n",
    "#GSM769932 = Value for GSM769932: THB_Glioma_s1; src: THB_Glioma_s1\n",
    "#GSM769933 = Value for GSM769933: THB_Glioma_s2; src: THB_Glioma_s2\n",
    "#GSM769934 = Value for GSM769934: THB_Glioma_s3; src: THB_Glioma_s3\n",
    "#GSM769935 = Value for GSM769935: THB_Glioma_s4; src: THB_Glioma_s4\n",
    "#GSM769936 = Value for GSM769936: THB_Glioma_s5; src: THB_Glioma_s5\n",
    "#GSM769937 = Value for GSM769937: THB_Glioma_s6; src: THB_Glioma_s6\n",
    "#GSM769938 = Value for GSM769938: THB_Glioma_s7; src: THB_Glioma_s7\n",
    "#GSM769939 = Value for GSM769939: THB_Glioma_s8; src: THB_Glioma_s8\"\"\""
   ]
  },
  {
   "cell_type": "code",
   "execution_count": 37,
   "metadata": {},
   "outputs": [
    {
     "name": "stderr",
     "output_type": "stream",
     "text": [
      "../classes/geno_utils.py:49 \u001b[1;31mSettingWithCopyWarning\u001b[0m: \n",
      "A value is trying to be set on a copy of a slice from a DataFrame\n",
      "\n",
      "See the caveats in the documentation: http://pandas.pydata.org/pandas-docs/stable/indexing.html#indexing-view-versus-copy\n",
      "[Parallel(n_jobs=-1)]: Done   2 tasks      | elapsed: 17.3min\n",
      "[Parallel(n_jobs=-1)]: Done   8 out of  20 | elapsed: 17.5min remaining: 26.3min\n",
      "[Parallel(n_jobs=-1)]: Done  11 out of  20 | elapsed: 18.8min remaining: 15.4min\n",
      "[Parallel(n_jobs=-1)]: Done  14 out of  20 | elapsed: 19.0min remaining:  8.1min\n",
      "[Parallel(n_jobs=-1)]: Done  17 out of  20 | elapsed: 19.8min remaining:  3.5min\n",
      "[Parallel(n_jobs=-1)]: Done  20 out of  20 | elapsed: 19.8min remaining:    0.0s\n",
      "[Parallel(n_jobs=-1)]: Done  20 out of  20 | elapsed: 19.8min finished\n"
     ]
    },
    {
     "name": "stdout",
     "output_type": "stream",
     "text": [
      "GSM769935 added with length 18126\n",
      "GSM769931 added with length 18126\n",
      "GSM769934 added with length 18126\n",
      "GSM769936 added with length 18126\n",
      "GSM769925 added with length 18126\n",
      "GSM769933 added with length 18126\n",
      "GSM769932 added with length 18126\n",
      "GSM769927 added with length 18126\n",
      "GSM769921 added with length 18126\n",
      "GSM769939 added with length 18126\n",
      "GSM769926 added with length 18126\n",
      "GSM769930 added with length 18126\n",
      "GSM769937 added with length 18126\n",
      "GSM769922 added with length 18126\n",
      "GSM769938 added with length 18126\n",
      "GSM769924 added with length 18126\n",
      "GSM769923 added with length 18126\n",
      "GSM769928 added with length 18126\n",
      "GSM769929 added with length 18126\n",
      "GSM769920 added with length 18126\n"
     ]
    }
   ],
   "source": [
    "X, y = parse_database(glioma_dataset, healthy_raw, unhealthy_raw, n_jobs=-1)\n",
    "pickle.dump({\"X\":X,\"y\":y}, open(\"glioma_Xy\", \"wb\"))"
   ]
  },
  {
   "cell_type": "code",
   "execution_count": 38,
   "metadata": {},
   "outputs": [
    {
     "name": "stderr",
     "output_type": "stream",
     "text": [
      "01-Feb-2018 13:58:46 INFO GEOparse - Parsing ../datasets/GDS3838_full.soft: \n",
      "01-Feb-2018 13:58:46 DEBUG GEOparse - DATABASE: Geo\n",
      "01-Feb-2018 13:58:46 DEBUG GEOparse - DATASET: GDS3838\n",
      "01-Feb-2018 13:58:46 DEBUG GEOparse - SUBSET: GDS3838_1\n",
      "01-Feb-2018 13:58:46 DEBUG GEOparse - SUBSET: GDS3838_2\n",
      "01-Feb-2018 13:58:46 DEBUG GEOparse - SUBSET: GDS3838_3\n",
      "01-Feb-2018 13:58:46 DEBUG GEOparse - SUBSET: GDS3838_4\n",
      "01-Feb-2018 13:58:46 DEBUG GEOparse - SUBSET: GDS3838_5\n",
      "01-Feb-2018 13:58:46 DEBUG GEOparse - SUBSET: GDS3838_6\n",
      "01-Feb-2018 13:58:46 DEBUG GEOparse - SUBSET: GDS3838_7\n",
      "01-Feb-2018 13:58:46 DEBUG GEOparse - SUBSET: GDS3838_8\n",
      "01-Feb-2018 13:58:46 DEBUG GEOparse - SUBSET: GDS3838_9\n",
      "01-Feb-2018 13:58:46 DEBUG GEOparse - SUBSET: GDS3838_10\n",
      "01-Feb-2018 13:58:46 DEBUG GEOparse - SUBSET: GDS3838_11\n",
      "01-Feb-2018 13:58:46 DEBUG GEOparse - SUBSET: GDS3838_12\n",
      "01-Feb-2018 13:58:46 DEBUG GEOparse - SUBSET: GDS3838_13\n",
      "01-Feb-2018 13:58:46 DEBUG GEOparse - SUBSET: GDS3838_14\n",
      "01-Feb-2018 13:58:46 DEBUG GEOparse - SUBSET: GDS3838_15\n",
      "01-Feb-2018 13:58:46 DEBUG GEOparse - SUBSET: GDS3838_16\n",
      "01-Feb-2018 13:58:46 DEBUG GEOparse - SUBSET: GDS3838_17\n",
      "01-Feb-2018 13:58:46 DEBUG GEOparse - SUBSET: GDS3838_18\n",
      "01-Feb-2018 13:58:46 DEBUG GEOparse - SUBSET: GDS3838_19\n",
      "01-Feb-2018 13:58:46 DEBUG GEOparse - ANNOTATION: \n",
      "01-Feb-2018 13:58:46 ERROR GEOparse - Cannot recognize type Annotation\n",
      "01-Feb-2018 13:58:46 DEBUG GEOparse - DATASET: GDS3838\n",
      "/usr/local/lib/python3.5/dist-packages/GEOparse/GEOparse.py:330 \u001b[1;31mFutureWarning\u001b[0m: from_csv is deprecated. Please use read_csv(...) instead. Note that some of the default arguments are different, so please refer to the documentation for from_csv when changing your function calls\n",
      "/usr/local/lib/python3.5/dist-packages/GEOparse/GEOparse.py:88 \u001b[1;31mDtypeWarning\u001b[0m: Columns (47) have mixed types. Specify dtype option on import or set low_memory=False.\n"
     ]
    }
   ],
   "source": [
    "esophageal_carcinoma_dataset = GEOparse.get_GEO(filepath='../datasets/GDS3838_full.soft').table"
   ]
  },
  {
   "cell_type": "code",
   "execution_count": 39,
   "metadata": {},
   "outputs": [],
   "source": [
    "healthy_raw = \"\"\"\n",
    "#GSM509787 = Value for GSM509787: normal adjacent esophageal tissue from patient E1507; src: patient E1507\n",
    "#GSM509788 = Value for GSM509788: normal adjacent esophageal tissue from patient E1520; src: patient E1520\n",
    "#GSM509789 = Value for GSM509789: normal adjacent esophageal tissue from patient E1521; src: patient E1521\n",
    "#GSM509790 = Value for GSM509790: normal adjacent esophageal tissue from patient E1532; src: patient E1532\n",
    "#GSM509791 = Value for GSM509791: normal adjacent esophageal tissue from patient E1535; src: patient E1535\n",
    "#GSM509792 = Value for GSM509792: normal adjacent esophageal tissue from patient E1542; src: patient E1542\n",
    "#GSM509793 = Value for GSM509793: normal adjacent esophageal tissue from patient E1546; src: patient E1546\n",
    "#GSM509794 = Value for GSM509794: normal adjacent esophageal tissue from patient E1566; src: patient E1566\n",
    "#GSM509795 = Value for GSM509795: normal adjacent esophageal tissue from patient E1584; src: patient E1584\n",
    "#GSM509796 = Value for GSM509796: normal adjacent esophageal tissue from patient E1589; src: patient E1589\n",
    "\"\"\""
   ]
  },
  {
   "cell_type": "code",
   "execution_count": 42,
   "metadata": {},
   "outputs": [],
   "source": [
    "unhealthy_raw =\"\"\"\n",
    "#GSM509804 = Value for GSM509804: esophageal squamous cell carcinoma from patient E1507; src: patient E1507\n",
    "#GSM509805 = Value for GSM509805: esophageal squamous cell carcinoma from patient E1520; src: patient E1520\n",
    "#GSM509806 = Value for GSM509806: esophageal squamous cell carcinoma from patient E1521; src: patient E1521\n",
    "#GSM509807 = Value for GSM509807: esophageal squamous cell carcinoma from patient E1532; src: patient E1532\n",
    "#GSM509808 = Value for GSM509808: esophageal squamous cell carcinoma from patient E1535; src: patient E1535\n",
    "#GSM509809 = Value for GSM509809: esophageal squamous cell carcinoma from patient E1542; src: patient E1542\n",
    "#GSM509810 = Value for GSM509810: esophageal squamous cell carcinoma from patient E1546; src: patient E1546\n",
    "#GSM509811 = Value for GSM509811: esophageal squamous cell carcinoma from patient E1566; src: patient E1566\n",
    "#GSM509812 = Value for GSM509812: esophageal squamous cell carcinoma from patient E1584; src: patient E1584\n",
    "#GSM509813 = Value for GSM509813: esophageal squamous cell carcinoma from patient E1589; src: patient E1589\n",
    "#GSM509814 = Value for GSM509814: esophageal squamous cell carcinoma from patient E1603; src: patient E1603\n",
    "#GSM509815 = Value for GSM509815: esophageal squamous cell carcinoma from patient E1610; src: patient E1610\n",
    "#GSM509816 = Value for GSM509816: esophageal squamous cell carcinoma from patient E1614; src: patient E1614\n",
    "#GSM509817 = Value for GSM509817: esophageal squamous cell carcinoma from patient E1635; src: patient E1635\n",
    "#GSM509818 = Value for GSM509818: esophageal squamous cell carcinoma from patient E1709; src: patient E1709\n",
    "#GSM509819 = Value for GSM509819: esophageal squamous cell carcinoma from patient E1796; src: patient E1796\n",
    "#GSM509820 = Value for GSM509820: esophageal squamous cell carcinoma from patient E2644; src: patient E2644\"\"\""
   ]
  },
  {
   "cell_type": "code",
   "execution_count": 43,
   "metadata": {},
   "outputs": [
    {
     "name": "stderr",
     "output_type": "stream",
     "text": [
      "../classes/geno_utils.py:49 \u001b[1;31mSettingWithCopyWarning\u001b[0m: \n",
      "A value is trying to be set on a copy of a slice from a DataFrame\n",
      "\n",
      "See the caveats in the documentation: http://pandas.pydata.org/pandas-docs/stable/indexing.html#indexing-view-versus-copy\n",
      "[Parallel(n_jobs=-1)]: Done   2 tasks      | elapsed:  7.2min\n",
      "[Parallel(n_jobs=-1)]: Done   9 tasks      | elapsed:  7.5min\n",
      "[Parallel(n_jobs=-1)]: Done  15 out of  27 | elapsed:  7.5min remaining:  6.0min\n",
      "[Parallel(n_jobs=-1)]: Done  18 out of  27 | elapsed:  7.9min remaining:  3.9min\n",
      "[Parallel(n_jobs=-1)]: Done  21 out of  27 | elapsed:  7.9min remaining:  2.3min\n",
      "[Parallel(n_jobs=-1)]: Done  24 out of  27 | elapsed:  7.9min remaining:   59.2s\n",
      "[Parallel(n_jobs=-1)]: Done  27 out of  27 | elapsed:  8.0min remaining:    0.0s\n",
      "[Parallel(n_jobs=-1)]: Done  27 out of  27 | elapsed:  8.0min finished\n"
     ]
    },
    {
     "name": "stdout",
     "output_type": "stream",
     "text": [
      "GSM509794 added with length 12666\n",
      "GSM509811 added with length 12666\n",
      "GSM509818 added with length 12666\n",
      "GSM509810 added with length 12666\n",
      "GSM509805 added with length 12666\n",
      "GSM509806 added with length 12666\n",
      "GSM509819 added with length 12666\n",
      "GSM509789 added with length 12666\n",
      "GSM509814 added with length 12666\n",
      "GSM509812 added with length 12666\n",
      "GSM509820 added with length 12666\n",
      "GSM509813 added with length 12666\n",
      "GSM509790 added with length 12666\n",
      "GSM509816 added with length 12666\n",
      "GSM509795 added with length 12666\n",
      "GSM509804 added with length 12666\n",
      "GSM509788 added with length 12666\n",
      "GSM509809 added with length 12666\n",
      "GSM509817 added with length 12666\n",
      "GSM509796 added with length 12666\n",
      "GSM509791 added with length 12666\n",
      "GSM509808 added with length 12666\n",
      "GSM509792 added with length 12666\n",
      "GSM509815 added with length 12666\n",
      "GSM509787 added with length 12666\n",
      "GSM509793 added with length 12666\n",
      "GSM509807 added with length 12666\n"
     ]
    }
   ],
   "source": [
    "X, y = parse_database(esophageal_carcinoma_dataset, healthy_raw, unhealthy_raw, n_jobs=-1)\n",
    "pickle.dump({\"X\":X,\"y\":y}, open(\"esophageal_carcinoma_Xy\", \"wb\"))"
   ]
  },
  {
   "cell_type": "markdown",
   "metadata": {},
   "source": [
    "## H1N1"
   ]
  },
  {
   "cell_type": "code",
   "execution_count": 44,
   "metadata": {},
   "outputs": [
    {
     "name": "stderr",
     "output_type": "stream",
     "text": [
      "01-Feb-2018 14:07:14 INFO GEOparse - Parsing ../datasets/GDS4240_full.soft: \n",
      "01-Feb-2018 14:07:14 DEBUG GEOparse - DATABASE: Geo\n",
      "01-Feb-2018 14:07:14 DEBUG GEOparse - DATASET: GDS4240\n",
      "01-Feb-2018 14:07:14 DEBUG GEOparse - SUBSET: GDS4240_1\n",
      "01-Feb-2018 14:07:14 DEBUG GEOparse - SUBSET: GDS4240_2\n",
      "01-Feb-2018 14:07:14 DEBUG GEOparse - SUBSET: GDS4240_3\n",
      "01-Feb-2018 14:07:14 DEBUG GEOparse - SUBSET: GDS4240_4\n",
      "01-Feb-2018 14:07:14 DEBUG GEOparse - SUBSET: GDS4240_5\n",
      "01-Feb-2018 14:07:14 DEBUG GEOparse - SUBSET: GDS4240_6\n",
      "01-Feb-2018 14:07:14 DEBUG GEOparse - SUBSET: GDS4240_7\n",
      "01-Feb-2018 14:07:14 DEBUG GEOparse - SUBSET: GDS4240_8\n",
      "01-Feb-2018 14:07:14 DEBUG GEOparse - SUBSET: GDS4240_9\n",
      "01-Feb-2018 14:07:14 DEBUG GEOparse - SUBSET: GDS4240_10\n",
      "01-Feb-2018 14:07:14 DEBUG GEOparse - SUBSET: GDS4240_11\n",
      "01-Feb-2018 14:07:14 DEBUG GEOparse - SUBSET: GDS4240_12\n",
      "01-Feb-2018 14:07:14 DEBUG GEOparse - SUBSET: GDS4240_13\n",
      "01-Feb-2018 14:07:14 DEBUG GEOparse - SUBSET: GDS4240_14\n",
      "01-Feb-2018 14:07:14 DEBUG GEOparse - SUBSET: GDS4240_15\n",
      "01-Feb-2018 14:07:14 DEBUG GEOparse - SUBSET: GDS4240_16\n",
      "01-Feb-2018 14:07:14 DEBUG GEOparse - SUBSET: GDS4240_17\n",
      "01-Feb-2018 14:07:14 DEBUG GEOparse - ANNOTATION: \n",
      "01-Feb-2018 14:07:14 ERROR GEOparse - Cannot recognize type Annotation\n",
      "01-Feb-2018 14:07:14 DEBUG GEOparse - DATASET: GDS4240\n",
      "/usr/local/lib/python3.5/dist-packages/GEOparse/GEOparse.py:330 \u001b[1;31mFutureWarning\u001b[0m: from_csv is deprecated. Please use read_csv(...) instead. Note that some of the default arguments are different, so please refer to the documentation for from_csv when changing your function calls\n",
      "/usr/local/lib/python3.5/dist-packages/GEOparse/GEOparse.py:88 \u001b[1;31mDtypeWarning\u001b[0m: Columns (23,24,25,26,27,28,29,30,31,35,36,37,38,39,40,41,42) have mixed types. Specify dtype option on import or set low_memory=False.\n"
     ]
    }
   ],
   "source": [
    "H1N1_dataset = GEOparse.get_GEO(filepath='../datasets/GDS4240_full.soft').table"
   ]
  },
  {
   "cell_type": "code",
   "execution_count": 45,
   "metadata": {},
   "outputs": [],
   "source": [
    "healthy_raw = \"\"\"\n",
    "#GSM670463 = Value for GSM670463: Blood_Control 1; src: Blood\n",
    "#GSM670464 = Value for GSM670464: Blood_Control 2; src: Blood\n",
    "#GSM670465 = Value for GSM670465: Blood_Control 3; src: Blood\n",
    "#GSM670466 = Value for GSM670466: Blood_Control 4; src: Blood\n",
    "#GSM670467 = Value for GSM670467: Blood_Control 5; src: Blood\n",
    "#GSM670468 = Value for GSM670468: Blood_Control 6; src: Blood\n",
    "#GSM670469 = Value for GSM670469: Blood_Control 7; src: Blood\n",
    "\"\"\""
   ]
  },
  {
   "cell_type": "code",
   "execution_count": 46,
   "metadata": {},
   "outputs": [],
   "source": [
    "unhealthy_raw = \"\"\"\n",
    "#GSM670449 = Value for GSM670449: blood_day0_patient1; src: Blood\n",
    "#GSM670450 = Value for GSM670450: blood_day6_patient1; src: Blood\n",
    "#GSM670451 = Value for GSM670451: blood_day0_patient2; src: Blood\n",
    "#GSM670452 = Value for GSM670452: blood_day6_patient2; src: Blood\n",
    "#GSM670453 = Value for GSM670453: blood_day0_patient3; src: Blood\n",
    "#GSM670454 = Value for GSM670454: blood_day6_patient3; src: Blood\n",
    "#GSM670455 = Value for GSM670455: blood_day0_patient4; src: Blood\n",
    "#GSM670456 = Value for GSM670456: blood_day6_patient4; src: Blood\n",
    "#GSM670457 = Value for GSM670457: blood_day0_patient5; src: Blood\n",
    "#GSM670458 = Value for GSM670458: blood_day6_patient5; src: Blood\n",
    "#GSM670459 = Value for GSM670459: blood_day0_patient6; src: Blood\n",
    "#GSM670460 = Value for GSM670460: blood_day6_patient6; src: Blood\n",
    "#GSM670461 = Value for GSM670461: blood_day0_patient7; src: Blood\n",
    "#GSM670462 = Value for GSM670462: blood_day6_patient7; src: Blood\n",
    "\"\"\""
   ]
  },
  {
   "cell_type": "code",
   "execution_count": 48,
   "metadata": {},
   "outputs": [
    {
     "name": "stderr",
     "output_type": "stream",
     "text": [
      "../classes/geno_utils.py:49 \u001b[1;31mSettingWithCopyWarning\u001b[0m: \n",
      "A value is trying to be set on a copy of a slice from a DataFrame\n",
      "\n",
      "See the caveats in the documentation: http://pandas.pydata.org/pandas-docs/stable/indexing.html#indexing-view-versus-copy\n",
      "[Parallel(n_jobs=-1)]: Done   2 tasks      | elapsed: 13.7min\n",
      "[Parallel(n_jobs=-1)]: Done   9 out of  21 | elapsed: 14.4min remaining: 19.2min\n",
      "[Parallel(n_jobs=-1)]: Done  12 out of  21 | elapsed: 14.5min remaining: 10.9min\n",
      "[Parallel(n_jobs=-1)]: Done  15 out of  21 | elapsed: 14.6min remaining:  5.8min\n",
      "[Parallel(n_jobs=-1)]: Done  18 out of  21 | elapsed: 14.9min remaining:  2.5min\n",
      "[Parallel(n_jobs=-1)]: Done  21 out of  21 | elapsed: 15.0min remaining:    0.0s\n",
      "[Parallel(n_jobs=-1)]: Done  21 out of  21 | elapsed: 15.0min finished\n"
     ]
    },
    {
     "name": "stdout",
     "output_type": "stream",
     "text": [
      "GSM670466 added with length 19182\n",
      "GSM670468 added with length 19182\n",
      "GSM670450 added with length 19182\n",
      "GSM670455 added with length 19182\n",
      "GSM670463 added with length 19182\n",
      "GSM670457 added with length 19182\n",
      "GSM670465 added with length 19182\n",
      "GSM670458 added with length 19182\n",
      "GSM670449 added with length 19182\n",
      "GSM670464 added with length 19182\n",
      "GSM670460 added with length 19182\n",
      "GSM670461 added with length 19182\n",
      "GSM670454 added with length 19182\n",
      "GSM670462 added with length 19182\n",
      "GSM670456 added with length 19182\n",
      "GSM670452 added with length 19182\n",
      "GSM670451 added with length 19182\n",
      "GSM670467 added with length 19182\n",
      "GSM670459 added with length 19182\n",
      "GSM670453 added with length 19182\n",
      "GSM670469 added with length 19182\n"
     ]
    }
   ],
   "source": [
    "X, y = parse_database(H1N1_dataset, healthy_raw, unhealthy_raw, n_jobs=-1)\n",
    "pickle.dump({\"X\":X,\"y\":y}, open(\"H1N1_Xy\", \"wb\"))"
   ]
  },
  {
   "cell_type": "markdown",
   "metadata": {},
   "source": [
    "## Psoriasis"
   ]
  },
  {
   "cell_type": "code",
   "execution_count": 7,
   "metadata": {},
   "outputs": [
    {
     "name": "stderr",
     "output_type": "stream",
     "text": [
      "05-Feb-2018 23:05:41 INFO GEOparse - Parsing ../datasets/GDS4602_full.soft: \n",
      "05-Feb-2018 23:05:41 DEBUG GEOparse - DATABASE: Geo\n",
      "05-Feb-2018 23:05:41 DEBUG GEOparse - DATASET: GDS4602\n",
      "05-Feb-2018 23:05:41 DEBUG GEOparse - SUBSET: GDS4602_1\n",
      "05-Feb-2018 23:05:41 DEBUG GEOparse - SUBSET: GDS4602_2\n",
      "05-Feb-2018 23:05:41 DEBUG GEOparse - SUBSET: GDS4602_3\n",
      "05-Feb-2018 23:05:41 DEBUG GEOparse - SUBSET: GDS4602_4\n",
      "05-Feb-2018 23:05:41 DEBUG GEOparse - SUBSET: GDS4602_5\n",
      "05-Feb-2018 23:05:41 DEBUG GEOparse - ANNOTATION: \n",
      "05-Feb-2018 23:05:41 ERROR GEOparse - Cannot recognize type Annotation\n",
      "05-Feb-2018 23:05:41 DEBUG GEOparse - DATASET: GDS4602\n",
      "/usr/local/lib/python3.5/dist-packages/GEOparse/GEOparse.py:330 \u001b[1;31mFutureWarning\u001b[0m: from_csv is deprecated. Please use read_csv(...) instead. Note that some of the default arguments are different, so please refer to the documentation for from_csv when changing your function calls\n",
      "/usr/local/lib/python3.5/dist-packages/GEOparse/GEOparse.py:88 \u001b[1;31mDtypeWarning\u001b[0m: Columns (185,186,187,193) have mixed types. Specify dtype option on import or set low_memory=False.\n"
     ]
    }
   ],
   "source": [
    "psoriasis_dataset = GEOparse.get_GEO(filepath='../datasets/GDS4602_full.soft').table"
   ]
  },
  {
   "cell_type": "code",
   "execution_count": 27,
   "metadata": {},
   "outputs": [],
   "source": [
    "unhealthy_raw = \"GSM337261,GSM337262,GSM337263,GSM337264,GSM337265,GSM337266,GSM337267,GSM337268,GSM337269,GSM337270,GSM337271,GSM337272,GSM337273,GSM337274,GSM337275,GSM337276,GSM337277,GSM337278,GSM337279,GSM337280,GSM337281,GSM337282,GSM337283,GSM337284,GSM337285,GSM337286,GSM337287,GSM337288,GSM337289,GSM337290,GSM337291,GSM337292,GSM337293,GSM337294,GSM337295,GSM337296,GSM337297,GSM337298,GSM337299,GSM337300,GSM337301,GSM337302,GSM337303,GSM337304,GSM337305,GSM337306,GSM337307,GSM337308,GSM337309,GSM337310,GSM337311,GSM337312,GSM337313,GSM337314,GSM337315,GSM337316,GSM337317,GSM337318,GSM337319,GSM337320,GSM337321,GSM337322,GSM337323,GSM337324,GSM337325,GSM337326,GSM337327,GSM337328,GSM337329,GSM337330,GSM337331,GSM337332,GSM337333,GSM337334,GSM337335,GSM337336,GSM337337,GSM337338,GSM337339,GSM337340,GSM337341,GSM337342,GSM337343,GSM337344,GSM337345,GSM337346,GSM337347,GSM337348,GSM337349,GSM337350,GSM337351,GSM337352,GSM337353,GSM337354,GSM337355,GSM337356,GSM337357,GSM337358,GSM337359,GSM337360,GSM337361,GSM337362,GSM337363,GSM337364,GSM337365,GSM337366,GSM337367,GSM337368,GSM337369,GSM337370,GSM337371,GSM337372,GSM337373,GSM337374,GSM337375,GSM337376\"\\\n",
    "                        .split(\",\")\n",
    "unhealthy_raw = \"\\n\".join(unhealthy_raw[:min(len(unhealthy_raw), 10)])"
   ]
  },
  {
   "cell_type": "code",
   "execution_count": 28,
   "metadata": {},
   "outputs": [],
   "source": [
    "healthy_raw = \"SM337197,GSM337198,GSM337199,GSM337200,GSM337201,GSM337202,GSM337203,GSM337204,GSM337205,GSM337206,GSM337207,GSM337208,GSM337209,GSM337210,GSM337211,GSM337212,GSM337213,GSM337214,GSM337215,GSM337216,GSM337217,GSM337218,GSM337219,GSM337220,GSM337221,GSM337222,GSM337223,GSM337224,GSM337225,GSM337226,GSM337227,GSM337228,GSM337229,GSM337230,GSM337231,GSM337232,GSM337233,GSM337234,GSM337235,GSM337236,GSM337237,GSM337238,GSM337239,GSM337240,GSM337241,GSM337242,GSM337243,GSM337244,GSM337245,GSM337246,GSM337247,GSM337248,GSM337249,GSM337250,GSM337251,GSM337252,GSM337253,GSM337254,GSM337255,GSM337256,GSM337257,GSM337258,GSM337259,GSM337260\"\\\n",
    "            .split(\",\")\n",
    "healthy_raw = \"\\n\".join(healthy_raw[:min(len(healthy_raw), 10)])"
   ]
  },
  {
   "cell_type": "code",
   "execution_count": 29,
   "metadata": {},
   "outputs": [
    {
     "name": "stderr",
     "output_type": "stream",
     "text": [
      "../classes/geno_utils.py:49 \u001b[1;31mSettingWithCopyWarning\u001b[0m: \n",
      "A value is trying to be set on a copy of a slice from a DataFrame\n",
      "\n",
      "See the caveats in the documentation: http://pandas.pydata.org/pandas-docs/stable/indexing.html#indexing-view-versus-copy\n",
      "[Parallel(n_jobs=-1)]: Done   2 tasks      | elapsed: 17.4min\n",
      "[Parallel(n_jobs=-1)]: Done   6 out of  19 | elapsed: 17.5min remaining: 37.9min\n",
      "[Parallel(n_jobs=-1)]: Done   8 out of  19 | elapsed: 17.7min remaining: 24.3min\n",
      "[Parallel(n_jobs=-1)]: Done  10 out of  19 | elapsed: 19.1min remaining: 17.2min\n",
      "[Parallel(n_jobs=-1)]: Done  12 out of  19 | elapsed: 19.1min remaining: 11.2min\n",
      "[Parallel(n_jobs=-1)]: Done  14 out of  19 | elapsed: 19.2min remaining:  6.8min\n",
      "[Parallel(n_jobs=-1)]: Done  16 out of  19 | elapsed: 19.3min remaining:  3.6min\n",
      "[Parallel(n_jobs=-1)]: Done  19 out of  19 | elapsed: 19.9min finished\n"
     ]
    },
    {
     "name": "stdout",
     "output_type": "stream",
     "text": [
      "GSM337198 added with length 19266\n",
      "GSM337200 added with length 19266\n",
      "GSM337262 added with length 19266\n",
      "GSM337269 added with length 19266\n",
      "GSM337202 added with length 19266\n",
      "GSM337264 added with length 19266\n",
      "GSM337268 added with length 19266\n",
      "GSM337261 added with length 19266\n",
      "GSM337205 added with length 19266\n",
      "GSM337206 added with length 19266\n",
      "GSM337203 added with length 19266\n",
      "GSM337270 added with length 19266\n",
      "GSM337266 added with length 19266\n",
      "GSM337199 added with length 19266\n",
      "GSM337263 added with length 19266\n",
      "GSM337265 added with length 19266\n",
      "GSM337204 added with length 19266\n",
      "GSM337267 added with length 19266\n",
      "GSM337201 added with length 19266\n"
     ]
    }
   ],
   "source": [
    "X, y = parse_database(psoriasis_dataset, healthy_raw, unhealthy_raw, n_jobs=-1)\n",
    "pickle.dump({\"X\":X,\"y\":y}, open(\"psoriasis_Xy\", \"wb\"))"
   ]
  },
  {
   "cell_type": "markdown",
   "metadata": {},
   "source": [
    "## Leukemia"
   ]
  },
  {
   "cell_type": "code",
   "execution_count": 32,
   "metadata": {},
   "outputs": [
    {
     "name": "stderr",
     "output_type": "stream",
     "text": [
      "05-Feb-2018 23:40:48 INFO GEOparse - Parsing ../datasets/GDS3057_full.soft: \n",
      "05-Feb-2018 23:40:48 DEBUG GEOparse - DATABASE: Geo\n",
      "05-Feb-2018 23:40:48 DEBUG GEOparse - DATASET: GDS3057\n",
      "05-Feb-2018 23:40:48 DEBUG GEOparse - SUBSET: GDS3057_1\n",
      "05-Feb-2018 23:40:48 DEBUG GEOparse - SUBSET: GDS3057_2\n",
      "05-Feb-2018 23:40:48 DEBUG GEOparse - SUBSET: GDS3057_3\n",
      "05-Feb-2018 23:40:48 DEBUG GEOparse - SUBSET: GDS3057_4\n",
      "05-Feb-2018 23:40:48 DEBUG GEOparse - SUBSET: GDS3057_5\n",
      "05-Feb-2018 23:40:48 DEBUG GEOparse - SUBSET: GDS3057_6\n",
      "05-Feb-2018 23:40:48 DEBUG GEOparse - ANNOTATION: \n",
      "05-Feb-2018 23:40:48 ERROR GEOparse - Cannot recognize type Annotation\n",
      "05-Feb-2018 23:40:48 DEBUG GEOparse - DATASET: GDS3057\n",
      "/usr/local/lib/python3.5/dist-packages/GEOparse/GEOparse.py:330 \u001b[1;31mFutureWarning\u001b[0m: from_csv is deprecated. Please use read_csv(...) instead. Note that some of the default arguments are different, so please refer to the documentation for from_csv when changing your function calls\n",
      "/usr/local/lib/python3.5/dist-packages/GEOparse/GEOparse.py:88 \u001b[1;31mDtypeWarning\u001b[0m: Columns (69,70,71,77) have mixed types. Specify dtype option on import or set low_memory=False.\n"
     ]
    }
   ],
   "source": [
    "leukemia_dataset = GEOparse.get_GEO(filepath='../datasets/GDS3057_full.soft').table"
   ]
  },
  {
   "cell_type": "code",
   "execution_count": 30,
   "metadata": {},
   "outputs": [],
   "source": [
    "healthy_raw = \"GSM239323,GSM239324,GSM239326,GSM239328,GSM239329,GSM239331,GSM239332,GSM239333,GSM239334,GSM239335,GSM239170,GSM239338,GSM239339,GSM239340,GSM239341,GSM239342,GSM239343,GSM239344,GSM240500,GSM240501,GSM240502,GSM240503,GSM240504,GSM240505,GSM240506,GSM240507,GSM240508,GSM240509,GSM240430,GSM240431,GSM240432,GSM240433,GSM240494,GSM240495,GSM240496,GSM240497,GSM240498,GSM240499\"\\\n",
    ".split(\",\")\n",
    "healthy_raw = \"\\n\".join(healthy_raw[:min(len(healthy_raw), 10)])"
   ]
  },
  {
   "cell_type": "code",
   "execution_count": 31,
   "metadata": {},
   "outputs": [],
   "source": [
    "unhealthy_raw = \"GSM239516,GSM239371,GSM239487,GSM239489,GSM239492,GSM239497,GSM239520,GSM240427,GSM239345,GSM239346,GSM239348,GSM239363,GSM239460,GSM239485,GSM239488,GSM239490,GSM239491,GSM239493,GSM239494,GSM239495,GSM239496,GSM239498,GSM239580,GSM240405,GSM240406,GSM240429\"\\\n",
    ".split(\",\")\n",
    "unhealthy_raw = \"\\n\".join(unhealthy_raw[:min(len(unhealthy_raw), 10)])"
   ]
  },
  {
   "cell_type": "code",
   "execution_count": 33,
   "metadata": {},
   "outputs": [
    {
     "name": "stderr",
     "output_type": "stream",
     "text": [
      "../classes/geno_utils.py:49 \u001b[1;31mSettingWithCopyWarning\u001b[0m: \n",
      "A value is trying to be set on a copy of a slice from a DataFrame\n",
      "\n",
      "See the caveats in the documentation: http://pandas.pydata.org/pandas-docs/stable/indexing.html#indexing-view-versus-copy\n",
      "[Parallel(n_jobs=-1)]: Done   2 tasks      | elapsed:  7.3min\n",
      "[Parallel(n_jobs=-1)]: Done   8 out of  20 | elapsed:  7.5min remaining: 11.2min\n",
      "[Parallel(n_jobs=-1)]: Done  11 out of  20 | elapsed:  7.7min remaining:  6.3min\n",
      "[Parallel(n_jobs=-1)]: Done  14 out of  20 | elapsed:  7.8min remaining:  3.3min\n",
      "[Parallel(n_jobs=-1)]: Done  17 out of  20 | elapsed:  7.9min remaining:  1.4min\n",
      "[Parallel(n_jobs=-1)]: Done  20 out of  20 | elapsed:  7.9min remaining:    0.0s\n",
      "[Parallel(n_jobs=-1)]: Done  20 out of  20 | elapsed:  7.9min finished\n"
     ]
    },
    {
     "name": "stdout",
     "output_type": "stream",
     "text": [
      "GSM239497 added with length 12666\n",
      "GSM239329 added with length 12666\n",
      "GSM239334 added with length 12666\n",
      "GSM239346 added with length 12666\n",
      "GSM239487 added with length 12666\n",
      "GSM239516 added with length 12666\n",
      "GSM239345 added with length 12666\n",
      "GSM239492 added with length 12666\n",
      "GSM239328 added with length 12666\n",
      "GSM240427 added with length 12666\n",
      "GSM239371 added with length 12666\n",
      "GSM239489 added with length 12666\n",
      "GSM239331 added with length 12666\n",
      "GSM239520 added with length 12666\n",
      "GSM239324 added with length 12666\n",
      "GSM239323 added with length 12666\n",
      "GSM239333 added with length 12666\n",
      "GSM239335 added with length 12666\n",
      "GSM239326 added with length 12666\n",
      "GSM239332 added with length 12666\n"
     ]
    }
   ],
   "source": [
    "X, y = parse_database(leukemia_dataset, healthy_raw, unhealthy_raw, n_jobs=-1)\n",
    "pickle.dump({\"X\":X,\"y\":y}, open(\"leukemia_Xy\", \"wb\"))"
   ]
  },
  {
   "cell_type": "markdown",
   "metadata": {},
   "source": [
    "## Autism\n",
    "![title](aut.jpg)"
   ]
  },
  {
   "cell_type": "code",
   "execution_count": 34,
   "metadata": {},
   "outputs": [
    {
     "name": "stderr",
     "output_type": "stream",
     "text": [
      "05-Feb-2018 23:48:43 INFO GEOparse - Parsing ../datasets/GDS4431_full.soft: \n",
      "05-Feb-2018 23:48:43 DEBUG GEOparse - DATABASE: Geo\n",
      "05-Feb-2018 23:48:43 DEBUG GEOparse - DATASET: GDS4431\n",
      "05-Feb-2018 23:48:43 DEBUG GEOparse - SUBSET: GDS4431_1\n",
      "05-Feb-2018 23:48:43 DEBUG GEOparse - SUBSET: GDS4431_2\n",
      "05-Feb-2018 23:48:43 DEBUG GEOparse - SUBSET: GDS4431_3\n",
      "05-Feb-2018 23:48:43 DEBUG GEOparse - SUBSET: GDS4431_4\n",
      "05-Feb-2018 23:48:43 DEBUG GEOparse - SUBSET: GDS4431_5\n",
      "05-Feb-2018 23:48:43 DEBUG GEOparse - SUBSET: GDS4431_6\n",
      "05-Feb-2018 23:48:43 DEBUG GEOparse - SUBSET: GDS4431_7\n",
      "05-Feb-2018 23:48:43 DEBUG GEOparse - SUBSET: GDS4431_8\n",
      "05-Feb-2018 23:48:43 DEBUG GEOparse - SUBSET: GDS4431_9\n",
      "05-Feb-2018 23:48:43 DEBUG GEOparse - SUBSET: GDS4431_10\n",
      "05-Feb-2018 23:48:43 DEBUG GEOparse - SUBSET: GDS4431_11\n",
      "05-Feb-2018 23:48:43 DEBUG GEOparse - SUBSET: GDS4431_12\n",
      "05-Feb-2018 23:48:43 DEBUG GEOparse - SUBSET: GDS4431_13\n",
      "05-Feb-2018 23:48:43 DEBUG GEOparse - SUBSET: GDS4431_14\n",
      "05-Feb-2018 23:48:43 DEBUG GEOparse - SUBSET: GDS4431_15\n",
      "05-Feb-2018 23:48:43 DEBUG GEOparse - SUBSET: GDS4431_16\n",
      "05-Feb-2018 23:48:43 DEBUG GEOparse - SUBSET: GDS4431_17\n",
      "05-Feb-2018 23:48:43 DEBUG GEOparse - SUBSET: GDS4431_18\n",
      "05-Feb-2018 23:48:43 DEBUG GEOparse - SUBSET: GDS4431_19\n",
      "05-Feb-2018 23:48:43 DEBUG GEOparse - SUBSET: GDS4431_20\n",
      "05-Feb-2018 23:48:43 DEBUG GEOparse - SUBSET: GDS4431_21\n",
      "05-Feb-2018 23:48:43 DEBUG GEOparse - SUBSET: GDS4431_22\n",
      "05-Feb-2018 23:48:43 DEBUG GEOparse - SUBSET: GDS4431_23\n",
      "05-Feb-2018 23:48:43 DEBUG GEOparse - SUBSET: GDS4431_24\n",
      "05-Feb-2018 23:48:43 DEBUG GEOparse - SUBSET: GDS4431_25\n",
      "05-Feb-2018 23:48:43 DEBUG GEOparse - SUBSET: GDS4431_26\n",
      "05-Feb-2018 23:48:43 DEBUG GEOparse - SUBSET: GDS4431_27\n",
      "05-Feb-2018 23:48:43 DEBUG GEOparse - SUBSET: GDS4431_28\n",
      "05-Feb-2018 23:48:43 DEBUG GEOparse - SUBSET: GDS4431_29\n",
      "05-Feb-2018 23:48:43 DEBUG GEOparse - SUBSET: GDS4431_30\n",
      "05-Feb-2018 23:48:43 DEBUG GEOparse - SUBSET: GDS4431_31\n",
      "05-Feb-2018 23:48:43 DEBUG GEOparse - SUBSET: GDS4431_32\n",
      "05-Feb-2018 23:48:43 DEBUG GEOparse - SUBSET: GDS4431_33\n",
      "05-Feb-2018 23:48:43 DEBUG GEOparse - SUBSET: GDS4431_34\n",
      "05-Feb-2018 23:48:43 DEBUG GEOparse - ANNOTATION: \n",
      "05-Feb-2018 23:48:43 ERROR GEOparse - Cannot recognize type Annotation\n",
      "05-Feb-2018 23:48:43 DEBUG GEOparse - DATASET: GDS4431\n",
      "/usr/local/lib/python3.5/dist-packages/GEOparse/GEOparse.py:330 \u001b[1;31mFutureWarning\u001b[0m: from_csv is deprecated. Please use read_csv(...) instead. Note that some of the default arguments are different, so please refer to the documentation for from_csv when changing your function calls\n",
      "/usr/local/lib/python3.5/dist-packages/GEOparse/GEOparse.py:88 \u001b[1;31mDtypeWarning\u001b[0m: Columns (151,152,153,159) have mixed types. Specify dtype option on import or set low_memory=False.\n"
     ]
    }
   ],
   "source": [
    "autism_dataset = GEOparse.get_GEO(filepath='../datasets/GDS4431_full.soft').table"
   ]
  },
  {
   "cell_type": "code",
   "execution_count": 35,
   "metadata": {},
   "outputs": [],
   "source": [
    "healthy_raw = \"GSM627071,GSM627072,GSM627073,GSM627074,GSM627075,GSM627076,GSM627077,GSM627078,GSM627079,GSM627080,GSM627081,GSM627082,GSM627083,GSM627084,GSM627085,GSM627086,GSM627087,GSM627088,GSM627089,GSM627090,GSM627091,GSM627092,GSM627093,GSM627094,GSM627095,GSM627096,GSM627097,GSM627098,GSM627099,GSM627100,GSM627101,GSM627102,GSM627103,GSM627104,GSM627105,GSM627106,GSM627107,GSM627108,GSM627109,GSM627110,GSM627111,GSM627112,GSM627113,GSM627114,GSM627115,GSM627116,GSM627117,GSM627118,GSM627119,GSM627120,GSM627121,GSM627122,GSM627123,GSM627124,GSM627125,GSM627126,GSM627127,GSM627128,GSM627129,GSM627130,GSM627131,GSM627132,GSM627133,GSM627134,GSM627136,GSM627137,GSM627148,GSM627174,GSM627177\"\\\n",
    ".split(\",\")\n",
    "healthy_raw = \"\\n\".join(healthy_raw[:min(len(healthy_raw), 10)])"
   ]
  },
  {
   "cell_type": "code",
   "execution_count": 36,
   "metadata": {},
   "outputs": [],
   "source": [
    "unhealthy_raw = \"GSM627135,GSM627138,GSM627139,GSM627140,GSM627141,GSM627142,GSM627143,GSM627144,GSM627145,GSM627146,GSM627147,GSM627149,GSM627150,GSM627151,GSM627152,GSM627153,GSM627154,GSM627155,GSM627156,GSM627157,GSM627158,GSM627159,GSM627160,GSM627161,GSM627162,GSM627163,GSM627164,GSM627165,GSM627166,GSM627167,GSM627168,GSM627169,GSM627170,GSM627171,GSM627172,GSM627173,GSM627175,GSM627176,GSM627178,GSM627179,GSM627180,GSM627181,GSM627182,GSM627183,GSM627184,GSM627185,GSM627186,GSM627187,GSM627188,GSM627189,GSM627190,GSM627191,GSM627192,GSM627193,GSM627194,GSM627195,GSM627196,GSM627197,GSM627198,GSM627199,GSM627200,GSM627201,GSM627202,GSM627203,GSM627204,GSM627205,GSM627206,GSM627207,GSM627208,GSM627209,GSM627210,GSM627211,GSM627212,GSM627213,GSM627214,GSM627215,GSM627216\"\\\n",
    ".split(\",\")\n",
    "unhealthy_raw = \"\\n\".join(unhealthy_raw[:min(len(unhealthy_raw), 10)])"
   ]
  },
  {
   "cell_type": "code",
   "execution_count": 37,
   "metadata": {},
   "outputs": [
    {
     "name": "stderr",
     "output_type": "stream",
     "text": [
      "../classes/geno_utils.py:49 \u001b[1;31mSettingWithCopyWarning\u001b[0m: \n",
      "A value is trying to be set on a copy of a slice from a DataFrame\n",
      "\n",
      "See the caveats in the documentation: http://pandas.pydata.org/pandas-docs/stable/indexing.html#indexing-view-versus-copy\n",
      "[Parallel(n_jobs=-1)]: Done   2 tasks      | elapsed: 16.4min\n",
      "[Parallel(n_jobs=-1)]: Done   8 out of  20 | elapsed: 16.6min remaining: 25.0min\n",
      "[Parallel(n_jobs=-1)]: Done  11 out of  20 | elapsed: 18.0min remaining: 14.8min\n",
      "[Parallel(n_jobs=-1)]: Done  14 out of  20 | elapsed: 18.2min remaining:  7.8min\n",
      "[Parallel(n_jobs=-1)]: Done  17 out of  20 | elapsed: 19.1min remaining:  3.4min\n",
      "[Parallel(n_jobs=-1)]: Done  20 out of  20 | elapsed: 19.1min remaining:    0.0s\n",
      "[Parallel(n_jobs=-1)]: Done  20 out of  20 | elapsed: 19.1min finished\n"
     ]
    },
    {
     "name": "stdout",
     "output_type": "stream",
     "text": [
      "GSM627080 added with length 19266\n",
      "GSM627073 added with length 19266\n",
      "GSM627144 added with length 19266\n",
      "GSM627078 added with length 19266\n",
      "GSM627075 added with length 19266\n",
      "GSM627077 added with length 19266\n",
      "GSM627142 added with length 19266\n",
      "GSM627138 added with length 19266\n",
      "GSM627145 added with length 19266\n",
      "GSM627074 added with length 19266\n",
      "GSM627079 added with length 19266\n",
      "GSM627135 added with length 19266\n",
      "GSM627140 added with length 19266\n",
      "GSM627141 added with length 19266\n",
      "GSM627072 added with length 19266\n",
      "GSM627143 added with length 19266\n",
      "GSM627146 added with length 19266\n",
      "GSM627071 added with length 19266\n",
      "GSM627139 added with length 19266\n",
      "GSM627076 added with length 19266\n"
     ]
    }
   ],
   "source": [
    "X, y = parse_database(autism_dataset, healthy_raw, unhealthy_raw, n_jobs=-1)\n",
    "pickle.dump({\"X\":X,\"y\":y}, open(\"autism_Xy\", \"wb\"))"
   ]
  },
  {
   "cell_type": "markdown",
   "metadata": {},
   "source": [
    "## Endometriosis"
   ]
  },
  {
   "cell_type": "code",
   "execution_count": 38,
   "metadata": {},
   "outputs": [],
   "source": [
    "healthy_raw = \"GSM572761,GSM572752,GSM572753,GSM572754,GSM572755,GSM572756,GSM572762,GSM572764,GSM572757\"\\\n",
    ".split(\",\")\n",
    "healthy_raw = \"\\n\".join(healthy_raw[:min(len(healthy_raw), 10)])"
   ]
  },
  {
   "cell_type": "code",
   "execution_count": 39,
   "metadata": {},
   "outputs": [],
   "source": [
    "unhealthy_raw = \"GSM572765,GSM572747,GSM572748,GSM572749,GSM572750,GSM572751,GSM572763,GSM572758,GSM572759,GSM572760\"\\\n",
    ".split(\",\")\n",
    "unhealthy_raw = \"\\n\".join(unhealthy_raw[:min(len(unhealthy_raw), 10)])"
   ]
  },
  {
   "cell_type": "code",
   "execution_count": 43,
   "metadata": {},
   "outputs": [
    {
     "name": "stderr",
     "output_type": "stream",
     "text": [
      "06-Feb-2018 00:40:07 INFO GEOparse - Parsing ../datasets/GDS3975_full.soft: \n",
      "06-Feb-2018 00:40:07 DEBUG GEOparse - DATABASE: Geo\n",
      "06-Feb-2018 00:40:07 DEBUG GEOparse - DATASET: GDS3975\n",
      "06-Feb-2018 00:40:07 DEBUG GEOparse - SUBSET: GDS3975_1\n",
      "06-Feb-2018 00:40:07 DEBUG GEOparse - SUBSET: GDS3975_2\n",
      "06-Feb-2018 00:40:07 DEBUG GEOparse - ANNOTATION: \n",
      "06-Feb-2018 00:40:07 ERROR GEOparse - Cannot recognize type Annotation\n",
      "06-Feb-2018 00:40:07 DEBUG GEOparse - DATASET: GDS3975\n",
      "/usr/local/lib/python3.5/dist-packages/GEOparse/GEOparse.py:330 \u001b[1;31mFutureWarning\u001b[0m: from_csv is deprecated. Please use read_csv(...) instead. Note that some of the default arguments are different, so please refer to the documentation for from_csv when changing your function calls\n"
     ]
    }
   ],
   "source": [
    "endometriosis_dataset = GEOparse.get_GEO(filepath='../datasets/GDS3975_full.soft').table"
   ]
  },
  {
   "cell_type": "code",
   "execution_count": 41,
   "metadata": {},
   "outputs": [
    {
     "name": "stderr",
     "output_type": "stream",
     "text": [
      "../classes/geno_utils.py:49 \u001b[1;31mSettingWithCopyWarning\u001b[0m: \n",
      "A value is trying to be set on a copy of a slice from a DataFrame\n",
      "\n",
      "See the caveats in the documentation: http://pandas.pydata.org/pandas-docs/stable/indexing.html#indexing-view-versus-copy\n",
      "[Parallel(n_jobs=-1)]: Done   2 tasks      | elapsed: 21.9min\n",
      "[Parallel(n_jobs=-1)]: Done   6 out of  19 | elapsed: 22.2min remaining: 48.2min\n",
      "[Parallel(n_jobs=-1)]: Done   8 out of  19 | elapsed: 22.4min remaining: 30.9min\n",
      "[Parallel(n_jobs=-1)]: Done  10 out of  19 | elapsed: 23.2min remaining: 20.9min\n",
      "[Parallel(n_jobs=-1)]: Done  12 out of  19 | elapsed: 23.5min remaining: 13.7min\n",
      "[Parallel(n_jobs=-1)]: Done  14 out of  19 | elapsed: 23.5min remaining:  8.4min\n",
      "[Parallel(n_jobs=-1)]: Done  16 out of  19 | elapsed: 23.6min remaining:  4.4min\n",
      "[Parallel(n_jobs=-1)]: Done  19 out of  19 | elapsed: 24.2min finished\n"
     ]
    },
    {
     "name": "stdout",
     "output_type": "stream",
     "text": [
      "GSM572755 added with length 18375\n",
      "GSM572750 added with length 18375\n",
      "GSM572759 added with length 18375\n",
      "GSM572747 added with length 18375\n",
      "GSM572749 added with length 18375\n",
      "GSM572748 added with length 18375\n",
      "GSM572762 added with length 18375\n",
      "GSM572765 added with length 18375\n",
      "GSM572753 added with length 18375\n",
      "GSM572758 added with length 18375\n",
      "GSM572751 added with length 18375\n",
      "GSM572761 added with length 18375\n",
      "GSM572752 added with length 18375\n",
      "GSM572757 added with length 18375\n",
      "GSM572754 added with length 18375\n",
      "GSM572764 added with length 18375\n",
      "GSM572760 added with length 18375\n",
      "GSM572763 added with length 18375\n",
      "GSM572756 added with length 18375\n"
     ]
    }
   ],
   "source": [
    "X, y = parse_database(endometriosis_dataset, healthy_raw, unhealthy_raw, n_jobs=-1)\n",
    "pickle.dump({\"X\":X,\"y\":y}, open(\"endometriosis_Xy\", \"wb\"))"
   ]
  },
  {
   "cell_type": "markdown",
   "metadata": {},
   "source": [
    "## Oral Carcinoma"
   ]
  },
  {
   "cell_type": "code",
   "execution_count": 51,
   "metadata": {},
   "outputs": [
    {
     "name": "stderr",
     "output_type": "stream",
     "text": [
      "06-Feb-2018 00:53:36 INFO GEOparse - Parsing ../datasets/GDS1584_full.soft: \n",
      "06-Feb-2018 00:53:36 DEBUG GEOparse - DATABASE: Geo\n",
      "06-Feb-2018 00:53:36 DEBUG GEOparse - DATASET: GDS1584\n",
      "06-Feb-2018 00:53:36 DEBUG GEOparse - SUBSET: GDS1584_1\n",
      "06-Feb-2018 00:53:36 DEBUG GEOparse - SUBSET: GDS1584_2\n",
      "06-Feb-2018 00:53:36 DEBUG GEOparse - SUBSET: GDS1584_3\n",
      "06-Feb-2018 00:53:36 DEBUG GEOparse - SUBSET: GDS1584_4\n",
      "06-Feb-2018 00:53:36 DEBUG GEOparse - SUBSET: GDS1584_5\n",
      "06-Feb-2018 00:53:36 DEBUG GEOparse - SUBSET: GDS1584_6\n",
      "06-Feb-2018 00:53:36 DEBUG GEOparse - SUBSET: GDS1584_7\n",
      "06-Feb-2018 00:53:36 DEBUG GEOparse - SUBSET: GDS1584_8\n",
      "06-Feb-2018 00:53:36 DEBUG GEOparse - SUBSET: GDS1584_9\n",
      "06-Feb-2018 00:53:36 DEBUG GEOparse - SUBSET: GDS1584_10\n",
      "06-Feb-2018 00:53:36 DEBUG GEOparse - SUBSET: GDS1584_11\n",
      "06-Feb-2018 00:53:36 DEBUG GEOparse - ANNOTATION: \n",
      "06-Feb-2018 00:53:36 ERROR GEOparse - Cannot recognize type Annotation\n",
      "06-Feb-2018 00:53:36 DEBUG GEOparse - DATASET: GDS1584\n",
      "/usr/local/lib/python3.5/dist-packages/GEOparse/GEOparse.py:330 \u001b[1;31mFutureWarning\u001b[0m: from_csv is deprecated. Please use read_csv(...) instead. Note that some of the default arguments are different, so please refer to the documentation for from_csv when changing your function calls\n",
      "/usr/local/lib/python3.5/dist-packages/GEOparse/GEOparse.py:88 \u001b[1;31mDtypeWarning\u001b[0m: Columns (33) have mixed types. Specify dtype option on import or set low_memory=False.\n"
     ]
    }
   ],
   "source": [
    "oral_carcinoma_dataset = GEOparse.get_GEO(filepath='../datasets/GDS1584_full.soft').table"
   ]
  },
  {
   "cell_type": "code",
   "execution_count": 46,
   "metadata": {},
   "outputs": [],
   "source": [
    "healthy_raw = \"GSM80476,GSM80477,GSM80520,GSM80521\"\\\n",
    ".split(\",\")\n",
    "healthy_raw = \"\\n\".join(healthy_raw[:min(len(healthy_raw), 10)])"
   ]
  },
  {
   "cell_type": "code",
   "execution_count": 45,
   "metadata": {},
   "outputs": [],
   "source": [
    "unhealthy_raw = \"GSM80460,GSM80461,GSM80462,GSM80463,GSM80464,GSM80465,GSM80466,GSM80467,GSM80468,GSM80469,GSM80470,GSM80471,GSM80472,GSM80473,GSM80474,GSM80475\"\\\n",
    ".replace(\",\",\"\\n\")"
   ]
  },
  {
   "cell_type": "code",
   "execution_count": 48,
   "metadata": {},
   "outputs": [
    {
     "name": "stderr",
     "output_type": "stream",
     "text": [
      "../classes/geno_utils.py:49 \u001b[1;31mSettingWithCopyWarning\u001b[0m: \n",
      "A value is trying to be set on a copy of a slice from a DataFrame\n",
      "\n",
      "See the caveats in the documentation: http://pandas.pydata.org/pandas-docs/stable/indexing.html#indexing-view-versus-copy\n",
      "[Parallel(n_jobs=-1)]: Done   2 tasks      | elapsed:  4.9min\n",
      "[Parallel(n_jobs=-1)]: Done   8 out of  20 | elapsed:  5.1min remaining:  7.6min\n",
      "[Parallel(n_jobs=-1)]: Done  11 out of  20 | elapsed:  5.1min remaining:  4.2min\n",
      "[Parallel(n_jobs=-1)]: Done  14 out of  20 | elapsed:  5.2min remaining:  2.2min\n",
      "[Parallel(n_jobs=-1)]: Done  17 out of  20 | elapsed:  5.2min remaining:   55.3s\n",
      "[Parallel(n_jobs=-1)]: Done  20 out of  20 | elapsed:  5.2min remaining:    0.0s\n",
      "[Parallel(n_jobs=-1)]: Done  20 out of  20 | elapsed:  5.2min finished\n"
     ]
    },
    {
     "name": "stdout",
     "output_type": "stream",
     "text": [
      "GSM80465 added with length 9245\n",
      "GSM80460 added with length 9245\n",
      "GSM80474 added with length 9245\n",
      "GSM80466 added with length 9245\n",
      "GSM80468 added with length 9245\n",
      "GSM80461 added with length 9245\n",
      "GSM80467 added with length 9245\n",
      "GSM80472 added with length 9245\n",
      "GSM80477 added with length 9245\n",
      "GSM80476 added with length 9245\n",
      "GSM80475 added with length 9245\n",
      "GSM80469 added with length 9245\n",
      "GSM80520 added with length 9245\n",
      "GSM80521 added with length 9245\n",
      "GSM80473 added with length 9245\n",
      "GSM80470 added with length 9245\n",
      "GSM80463 added with length 9245\n",
      "GSM80462 added with length 9245\n",
      "GSM80464 added with length 9245\n",
      "GSM80471 added with length 9245\n"
     ]
    }
   ],
   "source": [
    "X, y = parse_database(oral_carcinoma_dataset, healthy_raw, unhealthy_raw, n_jobs=-1)\n",
    "pickle.dump({\"X\":X,\"y\":y}, open(\"oral_carcinoma_Xy\", \"wb\"))"
   ]
  },
  {
   "cell_type": "markdown",
   "metadata": {},
   "source": [
    "## Colorectal Cancer"
   ]
  },
  {
   "cell_type": "code",
   "execution_count": 50,
   "metadata": {},
   "outputs": [
    {
     "name": "stderr",
     "output_type": "stream",
     "text": [
      "06-Feb-2018 00:53:30 INFO GEOparse - Parsing ../datasets/GDS2918_full.soft: \n",
      "06-Feb-2018 00:53:30 DEBUG GEOparse - DATABASE: Geo\n",
      "06-Feb-2018 00:53:30 DEBUG GEOparse - DATASET: GDS2918\n",
      "06-Feb-2018 00:53:30 DEBUG GEOparse - SUBSET: GDS2918_1\n",
      "06-Feb-2018 00:53:30 DEBUG GEOparse - SUBSET: GDS2918_2\n",
      "06-Feb-2018 00:53:30 DEBUG GEOparse - ANNOTATION: \n",
      "06-Feb-2018 00:53:30 ERROR GEOparse - Cannot recognize type Annotation\n",
      "06-Feb-2018 00:53:30 DEBUG GEOparse - DATASET: GDS2918\n",
      "/usr/local/lib/python3.5/dist-packages/GEOparse/GEOparse.py:330 \u001b[1;31mFutureWarning\u001b[0m: from_csv is deprecated. Please use read_csv(...) instead. Note that some of the default arguments are different, so please refer to the documentation for from_csv when changing your function calls\n"
     ]
    }
   ],
   "source": [
    "colorectal_cancer_dataset = GEOparse.get_GEO(filepath='../datasets/GDS2918_full.soft').table"
   ]
  },
  {
   "cell_type": "code",
   "execution_count": 53,
   "metadata": {},
   "outputs": [],
   "source": [
    "healthy_raw = \"GSM112309,GSM112310,GSM112311,GSM112312,GSM112313,GSM112314,GSM112315,GSM112316\"\\\n",
    ".split(\",\")\n",
    "healthy_raw = \"\\n\".join(healthy_raw[:min(len(healthy_raw), 10)])"
   ]
  },
  {
   "cell_type": "code",
   "execution_count": 54,
   "metadata": {},
   "outputs": [],
   "source": [
    "unhealthy_raw = \"GSM112207,GSM112208,GSM112299,GSM112300,GSM112301,GSM112302,GSM112303,GSM112304,GSM112305,GSM112306,GSM112307,GSM112308\"\\\n",
    ".replace(\",\",\"\\n\")"
   ]
  },
  {
   "cell_type": "code",
   "execution_count": 55,
   "metadata": {},
   "outputs": [
    {
     "name": "stderr",
     "output_type": "stream",
     "text": [
      "../classes/geno_utils.py:49 \u001b[1;31mSettingWithCopyWarning\u001b[0m: \n",
      "A value is trying to be set on a copy of a slice from a DataFrame\n",
      "\n",
      "See the caveats in the documentation: http://pandas.pydata.org/pandas-docs/stable/indexing.html#indexing-view-versus-copy\n",
      "[Parallel(n_jobs=-1)]: Done   2 tasks      | elapsed:  6.4min\n",
      "[Parallel(n_jobs=-1)]: Done   8 out of  20 | elapsed:  6.5min remaining:  9.8min\n",
      "[Parallel(n_jobs=-1)]: Done  11 out of  20 | elapsed:  6.5min remaining:  5.3min\n",
      "[Parallel(n_jobs=-1)]: Done  14 out of  20 | elapsed:  6.6min remaining:  2.8min\n",
      "[Parallel(n_jobs=-1)]: Done  17 out of  20 | elapsed:  6.6min remaining:  1.2min\n",
      "[Parallel(n_jobs=-1)]: Done  20 out of  20 | elapsed:  6.6min remaining:    0.0s\n",
      "[Parallel(n_jobs=-1)]: Done  20 out of  20 | elapsed:  6.6min finished\n"
     ]
    },
    {
     "name": "stdout",
     "output_type": "stream",
     "text": [
      "GSM112303 added with length 4805\n",
      "GSM112313 added with length 4805\n",
      "GSM112316 added with length 4805\n",
      "GSM112302 added with length 4805\n",
      "GSM112304 added with length 4805\n",
      "GSM112309 added with length 4805\n",
      "GSM112208 added with length 4805\n",
      "GSM112299 added with length 4805\n",
      "GSM112312 added with length 4805\n",
      "GSM112306 added with length 4805\n",
      "GSM112307 added with length 4805\n",
      "GSM112315 added with length 4805\n",
      "GSM112207 added with length 4805\n",
      "GSM112300 added with length 4805\n",
      "GSM112314 added with length 4805\n",
      "GSM112310 added with length 4805\n",
      "GSM112308 added with length 4805\n",
      "GSM112305 added with length 4805\n",
      "GSM112311 added with length 4805\n",
      "GSM112301 added with length 4805\n"
     ]
    }
   ],
   "source": [
    "X, y = parse_database(colorectal_cancer_dataset, healthy_raw, unhealthy_raw, n_jobs=-1)\n",
    "pickle.dump({\"X\":X,\"y\":y}, open(\"colorectal_cancer_Xy\", \"wb\"))"
   ]
  },
  {
   "cell_type": "markdown",
   "metadata": {},
   "source": [
    "## Cervical Cancer"
   ]
  },
  {
   "cell_type": "code",
   "execution_count": 56,
   "metadata": {},
   "outputs": [
    {
     "name": "stderr",
     "output_type": "stream",
     "text": [
      "06-Feb-2018 01:02:40 INFO GEOparse - Parsing ../datasets/GDS470_full.soft: \n",
      "06-Feb-2018 01:02:40 DEBUG GEOparse - DATABASE: Geo\n",
      "06-Feb-2018 01:02:40 DEBUG GEOparse - DATASET: GDS470\n",
      "06-Feb-2018 01:02:40 DEBUG GEOparse - SUBSET: GDS470_1\n",
      "06-Feb-2018 01:02:40 DEBUG GEOparse - SUBSET: GDS470_2\n",
      "06-Feb-2018 01:02:40 DEBUG GEOparse - SUBSET: GDS470_3\n",
      "06-Feb-2018 01:02:40 DEBUG GEOparse - SUBSET: GDS470_4\n",
      "06-Feb-2018 01:02:40 DEBUG GEOparse - SUBSET: GDS470_5\n",
      "06-Feb-2018 01:02:40 DEBUG GEOparse - ANNOTATION: \n",
      "06-Feb-2018 01:02:40 ERROR GEOparse - Cannot recognize type Annotation\n",
      "06-Feb-2018 01:02:40 DEBUG GEOparse - DATASET: GDS470\n",
      "/usr/local/lib/python3.5/dist-packages/GEOparse/GEOparse.py:330 \u001b[1;31mFutureWarning\u001b[0m: from_csv is deprecated. Please use read_csv(...) instead. Note that some of the default arguments are different, so please refer to the documentation for from_csv when changing your function calls\n"
     ]
    }
   ],
   "source": [
    "cervical_cancer_dataset = GEOparse.get_GEO(filepath='../datasets/GDS470_full.soft').table"
   ]
  },
  {
   "cell_type": "code",
   "execution_count": 57,
   "metadata": {},
   "outputs": [],
   "source": [
    "healthy_raw = \"\"\"\n",
    "#GSM7841 = Value for GSM7841: Normal Cervix N10; src: Normal Cervix\n",
    "#GSM7842 = Value for GSM7842: Normal Cervix N13; src: Normal Cervix\n",
    "#GSM7843 = Value for GSM7843: Normal Cervix N14; src: Normal Cervix\n",
    "#GSM7844 = Value for GSM7844: Normal Cervix N17; src: Normal Cervix\n",
    "#GSM7845 = Value for GSM7845: Normal Cervix N5; src: Normal Cervix\n",
    "#GSM7846 = Value for GSM7846: Normal Cervix N6; src: Normal Cervix\n",
    "#GSM7847 = Value for GSM7847: Normal Cervix N8; src: Normal Cervix\n",
    "#GSM7848 = Value for GSM7848: Normal Cervix N9; src: Normal Cervix\n",
    "\"\"\""
   ]
  },
  {
   "cell_type": "code",
   "execution_count": 59,
   "metadata": {},
   "outputs": [],
   "source": [
    "unhealthy_raw = \"\"\"\n",
    "#GSM7828 = Value for GSM7828: Cervical Cancer C482; src: Cervical cancer tissue\n",
    "#GSM7830 = Value for GSM7830: Cervical Cancer C494; src: Cervical cancer tissue\n",
    "#GSM7834 = Value for GSM7834: Cervical Cancer C502; src: Cervical cancer tissue\n",
    "#GSM7836 = Value for GSM7836: Cervical Cancer C517; src: Cervical cancer tissue\n",
    "#GSM7837 = Value for GSM7837: Cervical Cancer C524; src: Cervical cancer tissue\n",
    "#GSM7838 = Value for GSM7838: Cervical Cancer C525; src: Cervical cancer tissue\n",
    "#GSM7840 = Value for GSM7840: Cervical Cancer C540; src: Cervical cancer tissue\n",
    "#GSM7854 = Value for GSM7854: Cervical Cancer C542; src: Cervical cancer tissue\n",
    "#GSM7855 = Value for GSM7855: Cervical Cancer C555; src: Cervical cancer tissue\n",
    "#GSM7856 = Value for GSM7856: Cervical Cancer C564; src: Cervical cancer tissue\n",
    "#GSM7824 = Value for GSM7824: Cervical Cancer C437; src: Cervical cancer tissue\n",
    "#GSM7827 = Value for GSM7827: Cervical Cancer C477; src: Cervical cancer tissue\n",
    "\"\"\""
   ]
  },
  {
   "cell_type": "code",
   "execution_count": 61,
   "metadata": {},
   "outputs": [
    {
     "name": "stderr",
     "output_type": "stream",
     "text": [
      "../classes/geno_utils.py:49 \u001b[1;31mSettingWithCopyWarning\u001b[0m: \n",
      "A value is trying to be set on a copy of a slice from a DataFrame\n",
      "\n",
      "See the caveats in the documentation: http://pandas.pydata.org/pandas-docs/stable/indexing.html#indexing-view-versus-copy\n",
      "[Parallel(n_jobs=-1)]: Done   2 tasks      | elapsed:  1.4min\n",
      "[Parallel(n_jobs=-1)]: Done   8 out of  20 | elapsed:  1.4min remaining:  2.1min\n",
      "[Parallel(n_jobs=-1)]: Done  11 out of  20 | elapsed:  1.4min remaining:  1.1min\n",
      "[Parallel(n_jobs=-1)]: Done  14 out of  20 | elapsed:  1.4min remaining:   36.2s\n",
      "[Parallel(n_jobs=-1)]: Done  17 out of  20 | elapsed:  1.4min remaining:   14.9s\n"
     ]
    },
    {
     "name": "stdout",
     "output_type": "stream",
     "text": [
      "GSM7844 added with length 1227\n",
      "GSM7830 added with length 1227\n",
      "GSM7845 added with length 1227\n",
      "GSM7854 added with length 1227\n",
      "GSM7846 added with length 1227\n",
      "GSM7838 added with length 1227\n",
      "GSM7824 added with length 1227\n",
      "GSM7847 added with length 1227\n",
      "GSM7848 added with length 1227\n",
      "GSM7836 added with length 1227\n",
      "GSM7827 added with length 1227\n",
      "GSM7828 added with length 1227\n",
      "GSM7837 added with length 1227\n",
      "GSM7856 added with length 1227\n",
      "GSM7840 added with length 1227\n",
      "GSM7834 added with length 1227\n",
      "GSM7841 added with length 1227\n",
      "GSM7842 added with length 1227\n",
      "GSM7855 added with length 1227\n",
      "GSM7843 added with length 1227\n"
     ]
    },
    {
     "name": "stderr",
     "output_type": "stream",
     "text": [
      "[Parallel(n_jobs=-1)]: Done  20 out of  20 | elapsed:  1.4min remaining:    0.0s\n",
      "[Parallel(n_jobs=-1)]: Done  20 out of  20 | elapsed:  1.4min finished\n"
     ]
    }
   ],
   "source": [
    "X, y = parse_database(cervical_cancer_dataset, healthy_raw, unhealthy_raw, n_jobs=-1)\n",
    "pickle.dump({\"X\":X,\"y\":y}, open(\"cervical_cancer_Xy\", \"wb\"))"
   ]
  },
  {
   "cell_type": "markdown",
   "metadata": {},
   "source": [
    "## Brain Tumours"
   ]
  },
  {
   "cell_type": "code",
   "execution_count": 62,
   "metadata": {},
   "outputs": [
    {
     "name": "stderr",
     "output_type": "stream",
     "text": [
      "06-Feb-2018 01:32:56 INFO GEOparse - Parsing ../datasets/GDS4467_full.soft: \n",
      "06-Feb-2018 01:32:56 DEBUG GEOparse - DATABASE: Geo\n",
      "06-Feb-2018 01:32:56 DEBUG GEOparse - DATASET: GDS4467\n",
      "06-Feb-2018 01:32:56 DEBUG GEOparse - SUBSET: GDS4467_1\n",
      "06-Feb-2018 01:32:56 DEBUG GEOparse - SUBSET: GDS4467_2\n",
      "06-Feb-2018 01:32:56 DEBUG GEOparse - SUBSET: GDS4467_3\n",
      "06-Feb-2018 01:32:56 DEBUG GEOparse - SUBSET: GDS4467_4\n",
      "06-Feb-2018 01:32:56 DEBUG GEOparse - SUBSET: GDS4467_5\n",
      "06-Feb-2018 01:32:56 DEBUG GEOparse - SUBSET: GDS4467_6\n",
      "06-Feb-2018 01:32:56 DEBUG GEOparse - SUBSET: GDS4467_7\n",
      "06-Feb-2018 01:32:56 DEBUG GEOparse - SUBSET: GDS4467_8\n",
      "06-Feb-2018 01:32:56 DEBUG GEOparse - SUBSET: GDS4467_9\n",
      "06-Feb-2018 01:32:56 DEBUG GEOparse - SUBSET: GDS4467_10\n",
      "06-Feb-2018 01:32:56 DEBUG GEOparse - SUBSET: GDS4467_11\n",
      "06-Feb-2018 01:32:56 DEBUG GEOparse - SUBSET: GDS4467_12\n",
      "06-Feb-2018 01:32:56 DEBUG GEOparse - SUBSET: GDS4467_13\n",
      "06-Feb-2018 01:32:56 DEBUG GEOparse - SUBSET: GDS4467_14\n",
      "06-Feb-2018 01:32:56 DEBUG GEOparse - SUBSET: GDS4467_15\n",
      "06-Feb-2018 01:32:56 DEBUG GEOparse - SUBSET: GDS4467_16\n",
      "06-Feb-2018 01:32:56 DEBUG GEOparse - ANNOTATION: \n",
      "06-Feb-2018 01:32:56 ERROR GEOparse - Cannot recognize type Annotation\n",
      "06-Feb-2018 01:32:56 DEBUG GEOparse - DATASET: GDS4467\n",
      "/usr/local/lib/python3.5/dist-packages/GEOparse/GEOparse.py:330 \u001b[1;31mFutureWarning\u001b[0m: from_csv is deprecated. Please use read_csv(...) instead. Note that some of the default arguments are different, so please refer to the documentation for from_csv when changing your function calls\n",
      "/usr/local/lib/python3.5/dist-packages/GEOparse/GEOparse.py:88 \u001b[1;31mDtypeWarning\u001b[0m: Columns (48) have mixed types. Specify dtype option on import or set low_memory=False.\n"
     ]
    }
   ],
   "source": [
    "brain_dataset = GEOparse.get_GEO(filepath='../datasets/GDS4467_full.soft').table"
   ]
  },
  {
   "cell_type": "code",
   "execution_count": 66,
   "metadata": {},
   "outputs": [],
   "source": [
    "unhealthy_raw = \"\"\"\n",
    "#GSM397648 = Value for GSM397648: Oligodendrioglioma_3; src: brain tumor tissue\n",
    "#GSM397649 = Value for GSM397649: Oligodendrioglioma_4; src: brain tumor tissue\n",
    "#GSM397652 = Value for GSM397652: Oligodendrioglioma_7; src: brain tumor tissue\n",
    "#GSM397639 = Value for GSM397639: Astrocytoma_2; src: brain tumor tissue\n",
    "#GSM397640 = Value for GSM397640: Astrocytoma_3; src: brain tumor tissue\n",
    "#GSM397642 = Value for GSM397642: Astrocytoma_5; src: brain tumor tissue\n",
    "#GSM397645 = Value for GSM397645: Astrocytoma_8; src: brain tumor tissue\n",
    "#GSM397633 = Value for GSM397633: Glioblastoma_8; src: brain tumor tissue\n",
    "#GSM397634 = Value for GSM397634: Glioblastoma_9; src: brain tumor tissue\n",
    "#GSM397635 = Value for GSM397635: Glioblastoma_10; src: brain tumor tissue\n",
    "#GSM397636 = Value for GSM397636: Glioblastoma_11; src: brain tumor tissue\n",
    "#GSM397637 = Value for GSM397637: Glioblastoma_12; src: brain tumor tissue\n",
    "#GSM397653 = Value for GSM397653: secondary glioblastoma_1; src: brain tumor tissue\n",
    "#GSM397654 = Value for GSM397654: secondary glioblastoma_2; src: brain tumor tissue\n",
    "#GSM397655 = Value for GSM397655: secondary glioblastoma_3; src: brain tumor tissue\n",
    "\"\"\""
   ]
  },
  {
   "cell_type": "code",
   "execution_count": 67,
   "metadata": {},
   "outputs": [],
   "source": [
    "healthy_raw = \"\"\"\n",
    "#GSM397656 = Value for GSM397656: normal astrocytes_1; src: normal astrocytes\n",
    "#GSM397657 = Value for GSM397657: normal astrocytes_2; src: normal astrocytes\n",
    "#GSM397658 = Value for GSM397658: normal astrocytes_3; src: normal astrocytes\n",
    "#GSM397659 = Value for GSM397659: normal brain_1; src: normal brain tissue\n",
    "#GSM397660 = Value for GSM397660: normal brain_2; src: normal brain tissue\"\"\""
   ]
  },
  {
   "cell_type": "code",
   "execution_count": 68,
   "metadata": {},
   "outputs": [
    {
     "name": "stderr",
     "output_type": "stream",
     "text": [
      "../classes/geno_utils.py:49 \u001b[1;31mSettingWithCopyWarning\u001b[0m: \n",
      "A value is trying to be set on a copy of a slice from a DataFrame\n",
      "\n",
      "See the caveats in the documentation: http://pandas.pydata.org/pandas-docs/stable/indexing.html#indexing-view-versus-copy\n",
      "[Parallel(n_jobs=-1)]: Done   2 tasks      | elapsed: 16.6min\n",
      "[Parallel(n_jobs=-1)]: Done   8 out of  20 | elapsed: 16.9min remaining: 25.3min\n",
      "[Parallel(n_jobs=-1)]: Done  11 out of  20 | elapsed: 18.2min remaining: 14.9min\n",
      "[Parallel(n_jobs=-1)]: Done  14 out of  20 | elapsed: 18.4min remaining:  7.9min\n",
      "[Parallel(n_jobs=-1)]: Done  17 out of  20 | elapsed: 19.3min remaining:  3.4min\n",
      "[Parallel(n_jobs=-1)]: Done  20 out of  20 | elapsed: 19.3min remaining:    0.0s\n",
      "[Parallel(n_jobs=-1)]: Done  20 out of  20 | elapsed: 19.3min finished\n"
     ]
    },
    {
     "name": "stdout",
     "output_type": "stream",
     "text": [
      "GSM397645 added with length 19266\n",
      "GSM397652 added with length 19266\n",
      "GSM397655 added with length 19266\n",
      "GSM397639 added with length 19266\n",
      "GSM397660 added with length 19266\n",
      "GSM397656 added with length 19266\n",
      "GSM397654 added with length 19266\n",
      "GSM397649 added with length 19266\n",
      "GSM397634 added with length 19266\n",
      "GSM397657 added with length 19266\n",
      "GSM397636 added with length 19266\n",
      "GSM397659 added with length 19266\n",
      "GSM397635 added with length 19266\n",
      "GSM397640 added with length 19266\n",
      "GSM397633 added with length 19266\n",
      "GSM397653 added with length 19266\n",
      "GSM397642 added with length 19266\n",
      "GSM397648 added with length 19266\n",
      "GSM397658 added with length 19266\n",
      "GSM397637 added with length 19266\n"
     ]
    }
   ],
   "source": [
    "X, y = parse_database(brain_dataset, healthy_raw, unhealthy_raw, n_jobs=-1)\n",
    "pickle.dump({\"X\":X,\"y\":y}, open(\"brain_cancer_Xy\", \"wb\"))"
   ]
  },
  {
   "cell_type": "code",
   "execution_count": null,
   "metadata": {},
   "outputs": [],
   "source": []
  }
 ],
 "metadata": {
  "kernelspec": {
   "display_name": "Python 3",
   "language": "python",
   "name": "python3"
  },
  "language_info": {
   "codemirror_mode": {
    "name": "ipython",
    "version": 3
   },
   "file_extension": ".py",
   "mimetype": "text/x-python",
   "name": "python",
   "nbconvert_exporter": "python",
   "pygments_lexer": "ipython3",
   "version": "3.5.2"
  }
 },
 "nbformat": 4,
 "nbformat_minor": 2
}
