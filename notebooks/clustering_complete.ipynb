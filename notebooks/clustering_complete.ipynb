{
 "cells": [
  {
   "cell_type": "code",
   "execution_count": 1,
   "metadata": {},
   "outputs": [],
   "source": [
    "import sys\n",
    "sys.path.append(\"../classes\")\n",
    "import pickle\n",
    "from sklearn.cluster import KMeans\n",
    "from sklearn.decomposition import PCA\n",
    "from sklearn.feature_selection import SelectKBest\n",
    "from sklearn.manifold import TSNE, Isomap, MDS, SpectralEmbedding\n",
    "from sklearn.discriminant_analysis import LinearDiscriminantAnalysis\n",
    "\n",
    "import numpy as np, pandas as pd\n",
    "from scipy.cluster import hierarchy\n",
    "from sklearn.metrics import homogeneity_completeness_v_measure\n",
    "\n",
    "from geno_classifier import *\n",
    "\n",
    "from itertools import starmap, product\n",
    "\n",
    "import GEOparse\n",
    "\n",
    "%matplotlib inline\n",
    "import matplotlib.pyplot as plt\n",
    "from mpl_toolkits.mplot3d import Axes3D\n",
    "\n",
    "import numpy as np"
   ]
  },
  {
   "cell_type": "code",
   "execution_count": 2,
   "metadata": {},
   "outputs": [],
   "source": [
    "diseases = ['leukemia',\n",
    "            'glioma',\n",
    "            'cervical_cancer',\n",
    "            'pancreatic_cancer',\n",
    "            'endometriosis',\n",
    "            'breast_cancer_2',\n",
    "            'colon_cancer',\n",
    "            'prostate_cancer',\n",
    "            'colorectal_cancer',\n",
    "            'oral_carcinoma',\n",
    "            'brain_cancer',\n",
    "            'renal_carcinoma',\n",
    "            'esophageal_carcinoma',\n",
    "            'autism',\n",
    "            'diabetes',\n",
    "            'psoriasis',\n",
    "            'lung_cancer_1',\n",
    "            'H1N1',\n",
    "            'HBV']"
   ]
  },
  {
   "cell_type": "code",
   "execution_count": 3,
   "metadata": {},
   "outputs": [],
   "source": [
    "X_diffs, y_diffs = dict(), dict()\n",
    "X_nodiffs, y_nodiffs = dict(), dict()\n",
    "for disease in diseases:\n",
    "    results = pickle.load(open('../results/'+disease+'.results','rb'))\n",
    "    try:\n",
    "        labels = pickle.load(open('../datasets/'+disease+'_Xy','rb'))[\"y\"]\n",
    "    except FileNotFoundError:\n",
    "        labels = pickle.load(open('../datasets/'+disease+'_y','rb'))\n",
    "    X_diff, y = preprocess_results(results, labels, True, True, False, False)\n",
    "    X_diffs[disease] = X_diff\n",
    "    y_diffs[disease] = y\n",
    "    \n",
    "    X_nodiff, y_nodiff = preprocess_results(results, labels, use_diff_score=False, use_pathways=False)\n",
    "    X_nodiffs[disease] = X_nodiff\n",
    "    y_nodiffs[disease] = y_nodiff\n",
    "    "
   ]
  },
  {
   "cell_type": "code",
   "execution_count": 4,
   "metadata": {},
   "outputs": [],
   "source": [
    "pickle.dump({\"X\":X_diffs, \"y\":y_diffs}, open(\"../datasets/Xy_diffs\", 'wb'))\n",
    "pickle.dump({\"X\":X_nodiffs, \"y\":y_nodiffs}, open(\"../datasets/Xy_nodiffs\", 'wb'))"
   ]
  },
  {
   "cell_type": "code",
   "execution_count": 5,
   "metadata": {},
   "outputs": [
    {
     "data": {
      "text/plain": [
       "(19, 19, 19)"
      ]
     },
     "execution_count": 5,
     "metadata": {},
     "output_type": "execute_result"
    }
   ],
   "source": [
    "len(diseases), len(X_diffs), len(X_nodiffs)"
   ]
  },
  {
   "cell_type": "code",
   "execution_count": null,
   "metadata": {},
   "outputs": [],
   "source": []
  }
 ],
 "metadata": {
  "kernelspec": {
   "display_name": "Python 3",
   "language": "python",
   "name": "python3"
  },
  "language_info": {
   "codemirror_mode": {
    "name": "ipython",
    "version": 3
   },
   "file_extension": ".py",
   "mimetype": "text/x-python",
   "name": "python",
   "nbconvert_exporter": "python",
   "pygments_lexer": "ipython3",
   "version": "3.5.2"
  }
 },
 "nbformat": 4,
 "nbformat_minor": 2
}
