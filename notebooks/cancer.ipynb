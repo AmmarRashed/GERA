{
 "cells": [
  {
   "cell_type": "code",
   "execution_count": 1,
   "metadata": {},
   "outputs": [],
   "source": [
    "import sys\n",
    "sys.path.append(\"../classes\")"
   ]
  },
  {
   "cell_type": "code",
   "execution_count": 2,
   "metadata": {},
   "outputs": [],
   "source": [
    "import pickle\n",
    "from sklearn.svm import SVC\n",
    "\n",
    "from sklearn.feature_selection import SelectKBest\n",
    "from sklearn.decomposition import PCA\n",
    "\n",
    "import numpy as np, pandas as pd\n",
    "from geno_classifier import *\n",
    "from geno_utils import parse_database\n",
    "from itertools import starmap\n",
    "\n",
    "import GEOparse"
   ]
  },
  {
   "cell_type": "markdown",
   "metadata": {},
   "source": [
    "(\"Neoplasms by site\"[MeSH Terms]) AND normal[Subset Description] "
   ]
  },
  {
   "cell_type": "markdown",
   "metadata": {},
   "source": [
    "# uterine smooth muscle tumors"
   ]
  },
  {
   "cell_type": "code",
   "execution_count": 3,
   "metadata": {},
   "outputs": [
    {
     "name": "stderr",
     "output_type": "stream",
     "text": [
      "25-Apr-2018 09:58:58 INFO GEOparse - Parsing ../GDS533_full.soft.gz: \n",
      "25-Apr-2018 09:58:58 DEBUG GEOparse - DATABASE: Geo\n",
      "25-Apr-2018 09:58:58 DEBUG GEOparse - DATASET: GDS533\n",
      "25-Apr-2018 09:58:58 DEBUG GEOparse - SUBSET: GDS533_1\n",
      "25-Apr-2018 09:58:58 DEBUG GEOparse - SUBSET: GDS533_2\n",
      "25-Apr-2018 09:58:58 DEBUG GEOparse - SUBSET: GDS533_3\n",
      "25-Apr-2018 09:58:59 DEBUG GEOparse - SUBSET: GDS533_4\n",
      "25-Apr-2018 09:58:59 DEBUG GEOparse - ANNOTATION: \n",
      "25-Apr-2018 09:58:59 ERROR GEOparse - Cannot recognize type Annotation\n",
      "25-Apr-2018 09:58:59 DEBUG GEOparse - DATASET: GDS533\n",
      "/home/abdu/Desktop/genobolitics/venv/lib/python3.5/site-packages/GEOparse/GEOparse.py:332 \u001b[1;31mFutureWarning\u001b[0m: from_csv is deprecated. Please use read_csv(...) instead. Note that some of the default arguments are different, so please refer to the documentation for from_csv when changing your function calls\n"
     ]
    }
   ],
   "source": [
    "uterine = GEOparse.get_GEO(filepath='../GDS533_full.soft.gz').table"
   ]
  },
  {
   "cell_type": "code",
   "execution_count": 4,
   "metadata": {},
   "outputs": [],
   "source": [
    "healthy_raw = \"\"\"\n",
    "#GSM11625 = Value for GSM11625: Myo43; src: myomtrium\n",
    "#GSM11757 = Value for GSM11757: Myo243; src: myomtrium\n",
    "#GSM11758 = Value for GSM11758: Myo44; src: myomtrium\n",
    "#GSM11759 = Value for GSM11759: Myo220; src: myomtrium\n",
    "#GSM11761 = Value for GSM11761: Leio216; src: uterine leiomyoma\n",
    "#GSM11762 = Value for GSM11762: Leio217; src: uterine leiomyoma\n",
    "#GSM11763 = Value for GSM11763: Leio218; src: uterine leiomyoma\n",
    "#GSM11764 = Value for GSM11764: Leio219; src: uterine leiomyoma\n",
    "#GSM11765 = Value for GSM11765: Leio240; src: uterine leiomyoma\n",
    "#GSM11766 = Value for GSM11766: Leio241; src: uterine leiomyoma\n",
    "#GSM11767 = Value for GSM11767: Leio242; src: uterine leiomyoma\"\"\""
   ]
  },
  {
   "cell_type": "code",
   "execution_count": 5,
   "metadata": {},
   "outputs": [],
   "source": [
    "unhealthy_raw = \"\"\"\n",
    "#GSM11760 = Value for GSM11760: LMS19825; src: uterine leiomyosarcoma\n",
    "#GSM11768 = Value for GSM11768: LMS278; src: uterine leiomyosarcoma\n",
    "#GSM11769 = Value for GSM11769: LMS818; src: uterine leiomyosarcoma\n",
    "#GSM11770 = Value for GSM11770: LMS906; src: uterine leiomyosarcoma\n",
    "#GSM11771 = Value for GSM11771: LMS1775; src: uterine leiomyosarcoma\n",
    "#GSM11772 = Value for GSM11772: LMS2103; src: uterine leiomyosarcoma\n",
    "#GSM11773 = Value for GSM11773: LMS4578; src: uterine leiomyosarcoma\n",
    "#GSM11774 = Value for GSM11774: LMS11987; src: uterine leiomyosarcoma\n",
    "#GSM11775 = Value for GSM11775: LMS19597; src: uterine leiomyosarcoma\n",
    "#GSM11776 = Value for GSM11776: exULMS2906; src: extra-uterine leiomyosarcoma\n",
    "#GSM11777 = Value for GSM11777: exULMS91; src: extra-uterine leiomyosarcoma\n",
    "#GSM11778 = Value for GSM11778: exULMS92; src: extra-uterine leiomyosarcoma\n",
    "#GSM11779 = Value for GSM11779: exULMS781; src: extra-uterine leiomyosarcoma\"\"\""
   ]
  },
  {
   "cell_type": "code",
   "execution_count": 6,
   "metadata": {},
   "outputs": [],
   "source": [
    "clean = lambda string: string.replace(':', '').split()\n",
    "predicate = lambda word: word.startswith('GSM')\n",
    "\n",
    "healthy1 = set(filter(predicate, clean(healthy_raw)))\n",
    "unhealthy1 = set(filter(predicate, clean(unhealthy_raw)))"
   ]
  },
  {
   "cell_type": "code",
   "execution_count": 7,
   "metadata": {},
   "outputs": [
    {
     "data": {
      "text/plain": [
       "(11, 13)"
      ]
     },
     "execution_count": 7,
     "metadata": {},
     "output_type": "execute_result"
    }
   ],
   "source": [
    "len(healthy1),len(unhealthy1)"
   ]
  },
  {
   "cell_type": "markdown",
   "metadata": {},
   "source": [
    "# tongue cancer"
   ]
  },
  {
   "cell_type": "code",
   "execution_count": 8,
   "metadata": {},
   "outputs": [
    {
     "name": "stderr",
     "output_type": "stream",
     "text": [
      "25-Apr-2018 09:58:59 INFO GEOparse - Parsing ../GDS4562_full.soft.gz: \n",
      "25-Apr-2018 09:58:59 DEBUG GEOparse - DATABASE: Geo\n",
      "25-Apr-2018 09:58:59 DEBUG GEOparse - DATASET: GDS4562\n",
      "25-Apr-2018 09:58:59 DEBUG GEOparse - SUBSET: GDS4562_1\n",
      "25-Apr-2018 09:58:59 DEBUG GEOparse - SUBSET: GDS4562_2\n",
      "25-Apr-2018 09:58:59 DEBUG GEOparse - SUBSET: GDS4562_3\n",
      "25-Apr-2018 09:58:59 DEBUG GEOparse - SUBSET: GDS4562_4\n",
      "25-Apr-2018 09:58:59 DEBUG GEOparse - SUBSET: GDS4562_5\n",
      "25-Apr-2018 09:58:59 DEBUG GEOparse - SUBSET: GDS4562_6\n",
      "25-Apr-2018 09:58:59 DEBUG GEOparse - SUBSET: GDS4562_7\n",
      "25-Apr-2018 09:58:59 DEBUG GEOparse - SUBSET: GDS4562_8\n",
      "25-Apr-2018 09:58:59 DEBUG GEOparse - SUBSET: GDS4562_9\n",
      "25-Apr-2018 09:58:59 DEBUG GEOparse - SUBSET: GDS4562_10\n",
      "25-Apr-2018 09:58:59 DEBUG GEOparse - SUBSET: GDS4562_11\n",
      "25-Apr-2018 09:58:59 DEBUG GEOparse - SUBSET: GDS4562_12\n",
      "25-Apr-2018 09:58:59 DEBUG GEOparse - SUBSET: GDS4562_13\n",
      "25-Apr-2018 09:58:59 DEBUG GEOparse - SUBSET: GDS4562_14\n",
      "25-Apr-2018 09:58:59 DEBUG GEOparse - SUBSET: GDS4562_15\n",
      "25-Apr-2018 09:58:59 DEBUG GEOparse - SUBSET: GDS4562_16\n",
      "25-Apr-2018 09:58:59 DEBUG GEOparse - SUBSET: GDS4562_17\n",
      "25-Apr-2018 09:58:59 DEBUG GEOparse - SUBSET: GDS4562_18\n",
      "25-Apr-2018 09:58:59 DEBUG GEOparse - SUBSET: GDS4562_19\n",
      "25-Apr-2018 09:58:59 DEBUG GEOparse - SUBSET: GDS4562_20\n",
      "25-Apr-2018 09:58:59 DEBUG GEOparse - SUBSET: GDS4562_21\n",
      "25-Apr-2018 09:58:59 DEBUG GEOparse - SUBSET: GDS4562_22\n",
      "25-Apr-2018 09:58:59 DEBUG GEOparse - SUBSET: GDS4562_23\n",
      "25-Apr-2018 09:58:59 DEBUG GEOparse - SUBSET: GDS4562_24\n",
      "25-Apr-2018 09:58:59 DEBUG GEOparse - SUBSET: GDS4562_25\n",
      "25-Apr-2018 09:58:59 DEBUG GEOparse - SUBSET: GDS4562_26\n",
      "25-Apr-2018 09:58:59 DEBUG GEOparse - SUBSET: GDS4562_27\n",
      "25-Apr-2018 09:58:59 DEBUG GEOparse - SUBSET: GDS4562_28\n",
      "25-Apr-2018 09:58:59 DEBUG GEOparse - SUBSET: GDS4562_29\n",
      "25-Apr-2018 09:58:59 DEBUG GEOparse - SUBSET: GDS4562_30\n",
      "25-Apr-2018 09:58:59 DEBUG GEOparse - SUBSET: GDS4562_31\n",
      "25-Apr-2018 09:58:59 DEBUG GEOparse - SUBSET: GDS4562_32\n",
      "25-Apr-2018 09:58:59 DEBUG GEOparse - SUBSET: GDS4562_33\n",
      "25-Apr-2018 09:58:59 DEBUG GEOparse - SUBSET: GDS4562_34\n",
      "25-Apr-2018 09:58:59 DEBUG GEOparse - SUBSET: GDS4562_35\n",
      "25-Apr-2018 09:58:59 DEBUG GEOparse - SUBSET: GDS4562_36\n",
      "25-Apr-2018 09:58:59 DEBUG GEOparse - SUBSET: GDS4562_37\n",
      "25-Apr-2018 09:58:59 DEBUG GEOparse - SUBSET: GDS4562_38\n",
      "25-Apr-2018 09:58:59 DEBUG GEOparse - SUBSET: GDS4562_39\n",
      "25-Apr-2018 09:58:59 DEBUG GEOparse - SUBSET: GDS4562_40\n",
      "25-Apr-2018 09:58:59 DEBUG GEOparse - SUBSET: GDS4562_41\n",
      "25-Apr-2018 09:58:59 DEBUG GEOparse - SUBSET: GDS4562_42\n",
      "25-Apr-2018 09:58:59 DEBUG GEOparse - SUBSET: GDS4562_43\n",
      "25-Apr-2018 09:58:59 DEBUG GEOparse - SUBSET: GDS4562_44\n",
      "25-Apr-2018 09:58:59 DEBUG GEOparse - SUBSET: GDS4562_45\n",
      "25-Apr-2018 09:58:59 DEBUG GEOparse - SUBSET: GDS4562_46\n",
      "25-Apr-2018 09:58:59 DEBUG GEOparse - SUBSET: GDS4562_47\n",
      "25-Apr-2018 09:58:59 DEBUG GEOparse - SUBSET: GDS4562_48\n",
      "25-Apr-2018 09:58:59 DEBUG GEOparse - ANNOTATION: \n",
      "25-Apr-2018 09:58:59 ERROR GEOparse - Cannot recognize type Annotation\n",
      "25-Apr-2018 09:58:59 DEBUG GEOparse - DATASET: GDS4562\n",
      "/home/abdu/Desktop/genobolitics/venv/lib/python3.5/site-packages/GEOparse/GEOparse.py:332 \u001b[1;31mFutureWarning\u001b[0m: from_csv is deprecated. Please use read_csv(...) instead. Note that some of the default arguments are different, so please refer to the documentation for from_csv when changing your function calls\n",
      "/home/abdu/Desktop/genobolitics/venv/lib/python3.5/site-packages/GEOparse/GEOparse.py:88 \u001b[1;31mDtypeWarning\u001b[0m: Columns (109) have mixed types. Specify dtype option on import or set low_memory=False.\n"
     ]
    }
   ],
   "source": [
    "tongue = GEOparse.get_GEO(filepath='../GDS4562_full.soft.gz').table"
   ]
  },
  {
   "cell_type": "code",
   "execution_count": 9,
   "metadata": {},
   "outputs": [],
   "source": [
    "healthy_raw2 = \"\"\"\n",
    "#GSM771246 = Value for GSM771246: HN07.356N; src: Normal\n",
    "#GSM771169 = Value for GSM771169: HN08.383N; src: Normal\n",
    "#GSM771172 = Value for GSM771172: HN08.424N; src: Normal\n",
    "#GSM771176 = Value for GSM771176: HN08.429N; src: Normal\n",
    "#GSM771179 = Value for GSM771179: HN08.433; src: Normal\n",
    "#GSM771182 = Value for GSM771182: HN04.33N; src: Normal\n",
    "#GSM771186 = Value for GSM771186: HN04.93N; src: Normal\n",
    "#GSM771189 = Value for GSM771189: HN05.180N; src: Normal\n",
    "#GSM771200 = Value for GSM771200: HN05.213N; src: Normal\n",
    "#GSM771209 = Value for GSM771209: HN02.162N; src: Normal\n",
    "#GSM771212 = Value for GSM771212: HN02.174N; src: Normal\n",
    "#GSM771214 = Value for GSM771214: HN04.65N; src: Normal\n",
    "#GSM771222 = Value for GSM771222: HN04.84N; src: Normal\n",
    "#GSM771225 = Value for GSM771225: HN04.104N; src: Normal\n",
    "#GSM771232 = Value for GSM771232: HN04.172N; src: Normal\n",
    "#GSM771239 = Value for GSM771239: HN04.19N; src: Normal tongue\n",
    "#GSM771195 = Value for GSM771195: HN05.191N; src: Normal\n",
    "#GSM771205 = Value for GSM771205: HN02.135N; src: Normal\n",
    "#GSM771227 = Value for GSM771227: HN04.137N; src: Normal\n",
    "#GSM771236 = Value for GSM771236: HN07.342N; src: Normal\n",
    "#GSM771152 = Value for GSM771152: HNO2-19916N; src: Normal\n",
    "#GSM771155 = Value for GSM771155: HNO4-87N; src: Normal\n",
    "#GSM771159 = Value for GSM771159: HNO4-104N; src: Normal\n",
    "#GSM771163 = Value for GSM771163: HNO5-137N; src: Normal\n",
    "\"\"\""
   ]
  },
  {
   "cell_type": "code",
   "execution_count": 10,
   "metadata": {},
   "outputs": [],
   "source": [
    "unhealthy_raw2 = \"\"\"\n",
    "#GSM771244 = Value for GSM771244: HN07.354T; src: FOM tumor\n",
    "#GSM771170 = Value for GSM771170: HN08.384T; src: Tumor\n",
    "#GSM771173 = Value for GSM771173: HN08.425T; src: Tumor\n",
    "#GSM771177 = Value for GSM771177: HN08.430T; src: Tumor\n",
    "#GSM771180 = Value for GSM771180: HN08.434; src: Tumor\n",
    "#GSM771183 = Value for GSM771183: HN04.34T; src: Tumor\n",
    "#GSM771187 = Value for GSM771187: HN04.94T; src: Tumor\n",
    "#GSM771190 = Value for GSM771190: HN05.181T; src: Tumor\n",
    "#GSM771201 = Value for GSM771201: HN05.214T; src: Tumor\n",
    "#GSM771210 = Value for GSM771210: HN02.171T; src: Tumor\n",
    "#GSM771215 = Value for GSM771215: HN04.66T; src: Tumor\n",
    "#GSM771221 = Value for GSM771221: HN04.83T; src: Tumor\n",
    "#GSM771224 = Value for GSM771224: HN04.103T; src: Tumor\n",
    "#GSM771233 = Value for GSM771233: HN04.173T; src: Tumor\n",
    "#GSM771243 = Value for GSM771243: HN04.24T; src: Tongue tumor\n",
    "#GSM771196 = Value for GSM771196: HN05.192T; src: Tumor\n",
    "#GSM771203 = Value for GSM771203: HN02.129T; src: Tumor\n",
    "#GSM771228 = Value for GSM771228: HN04.138T; src: Tumor\n",
    "#GSM771237 = Value for GSM771237: HN07.343T; src: Tumor\n",
    "#GSM771153 = Value for GSM771153: HNO2-19916T; src: Tumor\n",
    "#GSM771158 = Value for GSM771158: HNO4-86T; src: Tumor\n",
    "#GSM771162 = Value for GSM771162: HNO4-107T; src: Tumor\n",
    "#GSM771164 = Value for GSM771164: HNO5-138T; src: Tumor\n",
    "\"\"\""
   ]
  },
  {
   "cell_type": "code",
   "execution_count": 11,
   "metadata": {},
   "outputs": [],
   "source": [
    "clean = lambda string: string.replace(':', '').split()\n",
    "predicate = lambda word: word.startswith('GSM')\n",
    "\n",
    "healthy2 = set(filter(predicate, clean(healthy_raw2)))\n",
    "unhealthy2 = set(filter(predicate, clean(unhealthy_raw2)))"
   ]
  },
  {
   "cell_type": "code",
   "execution_count": 12,
   "metadata": {},
   "outputs": [
    {
     "name": "stdout",
     "output_type": "stream",
     "text": [
      "24 23\n"
     ]
    }
   ],
   "source": [
    "print(len(healthy2), len(unhealthy2))"
   ]
  },
  {
   "cell_type": "code",
   "execution_count": 13,
   "metadata": {},
   "outputs": [],
   "source": [
    "labels1 = [(h, 'healthy') for h in healthy1] + [(d, 'unhealthy') for d in unhealthy1]\n",
    "labels2 = [(h, 'healthy') for h in healthy2] + [(d, 'unhealthy') for d in unhealthy2]"
   ]
  },
  {
   "cell_type": "code",
   "execution_count": 14,
   "metadata": {},
   "outputs": [
    {
     "name": "stderr",
     "output_type": "stream",
     "text": [
      "[Parallel(n_jobs=-1)]: Done   2 tasks      | elapsed:  4.1min\n",
      "[Parallel(n_jobs=-1)]: Done   9 tasks      | elapsed:  4.1min\n",
      "[Parallel(n_jobs=-1)]: Done  12 out of  24 | elapsed:  4.2min remaining:  4.2min\n",
      "[Parallel(n_jobs=-1)]: Done  15 out of  24 | elapsed:  4.2min remaining:  2.5min\n",
      "[Parallel(n_jobs=-1)]: Done  18 out of  24 | elapsed:  4.2min remaining:  1.4min\n",
      "[Parallel(n_jobs=-1)]: Done  21 out of  24 | elapsed:  4.2min remaining:   36.3s\n",
      "[Parallel(n_jobs=-1)]: Done  24 out of  24 | elapsed:  4.3min remaining:    0.0s\n",
      "[Parallel(n_jobs=-1)]: Done  24 out of  24 | elapsed:  4.3min finished\n"
     ]
    },
    {
     "name": "stdout",
     "output_type": "stream",
     "text": [
      "GSM11767 added with length 5431\n",
      "GSM11762 added with length 5431\n",
      "GSM11761 added with length 5431\n",
      "GSM11772 added with length 5431\n",
      "GSM11757 added with length 5431\n",
      "GSM11777 added with length 5431\n",
      "GSM11760 added with length 5431\n",
      "GSM11625 added with length 5431\n",
      "GSM11765 added with length 5431\n",
      "GSM11769 added with length 5431\n",
      "GSM11779 added with length 5431\n",
      "GSM11766 added with length 5431\n",
      "GSM11775 added with length 5431\n",
      "GSM11778 added with length 5431\n",
      "GSM11759 added with length 5431\n",
      "GSM11774 added with length 5431\n",
      "GSM11773 added with length 5431\n",
      "GSM11771 added with length 5431\n",
      "GSM11758 added with length 5431\n",
      "GSM11776 added with length 5431\n",
      "GSM11768 added with length 5431\n",
      "GSM11770 added with length 5431\n",
      "GSM11763 added with length 5431\n",
      "GSM11764 added with length 5431\n"
     ]
    },
    {
     "name": "stderr",
     "output_type": "stream",
     "text": [
      "[Parallel(n_jobs=-1)]: Done   2 tasks      | elapsed: 11.1min\n",
      "[Parallel(n_jobs=-1)]: Done   9 tasks      | elapsed: 11.4min\n",
      "[Parallel(n_jobs=-1)]: Done  16 tasks      | elapsed: 11.7min\n",
      "[Parallel(n_jobs=-1)]: Done  25 tasks      | elapsed: 12.2min\n",
      "[Parallel(n_jobs=-1)]: Done  37 out of  47 | elapsed: 12.8min remaining:  3.5min\n",
      "[Parallel(n_jobs=-1)]: Done  42 out of  47 | elapsed: 13.0min remaining:  1.5min\n"
     ]
    },
    {
     "name": "stdout",
     "output_type": "stream",
     "text": [
      "GSM771227 added with length 16913\n",
      "GSM771243 added with length 16913\n",
      "GSM771179 added with length 16913\n",
      "GSM771187 added with length 16913\n",
      "GSM771158 added with length 16913\n",
      "GSM771214 added with length 16913\n",
      "GSM771222 added with length 16913\n",
      "GSM771221 added with length 16913\n",
      "GSM771209 added with length 16913\n",
      "GSM771233 added with length 16913\n",
      "GSM771215 added with length 16913\n",
      "GSM771246 added with length 16913\n",
      "GSM771196 added with length 16913\n",
      "GSM771212 added with length 16913\n",
      "GSM771173 added with length 16913\n",
      "GSM771159 added with length 16913\n",
      "GSM771183 added with length 16913\n",
      "GSM771162 added with length 16913\n",
      "GSM771205 added with length 16913\n",
      "GSM771232 added with length 16913\n",
      "GSM771200 added with length 16913\n",
      "GSM771237 added with length 16913\n",
      "GSM771163 added with length 16913\n",
      "GSM771225 added with length 16913\n",
      "GSM771195 added with length 16913\n",
      "GSM771210 added with length 16913\n",
      "GSM771203 added with length 16913\n",
      "GSM771180 added with length 16913\n",
      "GSM771172 added with length 16913\n",
      "GSM771201 added with length 16913\n",
      "GSM771152 added with length 16913\n",
      "GSM771176 added with length 16913\n",
      "GSM771177 added with length 16913\n",
      "GSM771228 added with length 16913\n",
      "GSM771224 added with length 16913\n",
      "GSM771236 added with length 16913\n",
      "GSM771155 added with length 16913\n",
      "GSM771170 added with length 16913\n",
      "GSM771186 added with length 16913\n",
      "GSM771169 added with length 16913\n",
      "GSM771182 added with length 16913\n",
      "GSM771244 added with length 16913\n",
      "GSM771239 added with length 16913\n",
      "GSM771190 added with length 16913\n",
      "GSM771164 added with length 16913\n",
      "GSM771189 added with length 16913\n",
      "GSM771153 added with length 16913\n"
     ]
    },
    {
     "name": "stderr",
     "output_type": "stream",
     "text": [
      "[Parallel(n_jobs=-1)]: Done  47 out of  47 | elapsed: 13.2min remaining:    0.0s\n",
      "[Parallel(n_jobs=-1)]: Done  47 out of  47 | elapsed: 13.2min finished\n"
     ]
    }
   ],
   "source": [
    "X1, y1 = parse_database(uterine, labels=dict(labels1), n_jobs=-1)\n",
    "X2, y2 = parse_database(tongue, labels=dict(labels2), n_jobs=-1)"
   ]
  },
  {
   "cell_type": "code",
   "execution_count": 18,
   "metadata": {},
   "outputs": [],
   "source": [
    "pickle.dump(X1, open('../datasets/uterineX', 'wb'))\n",
    "pickle.dump(y1, open('../datasets/uteriney', 'wb'))\n",
    "\n",
    "pickle.dump(X2, open('../datasets/tongueX', 'wb'))\n",
    "pickle.dump(y2, open('../datasets/tonguey', 'wb'))"
   ]
  },
  {
   "cell_type": "code",
   "execution_count": null,
   "metadata": {},
   "outputs": [],
   "source": []
  }
 ],
 "metadata": {
  "kernelspec": {
   "display_name": "Python 3",
   "language": "python",
   "name": "python3"
  },
  "language_info": {
   "codemirror_mode": {
    "name": "ipython",
    "version": 3
   },
   "file_extension": ".py",
   "mimetype": "text/x-python",
   "name": "python",
   "nbconvert_exporter": "python",
   "pygments_lexer": "ipython3",
   "version": "3.5.2"
  }
 },
 "nbformat": 4,
 "nbformat_minor": 2
}
