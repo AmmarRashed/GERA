{
 "cells": [
  {
   "cell_type": "code",
   "execution_count": 4,
   "metadata": {},
   "outputs": [],
   "source": [
    "import sys\n",
    "sys.path.append(\"../classes\")"
   ]
  },
  {
   "cell_type": "code",
   "execution_count": 5,
   "metadata": {},
   "outputs": [],
   "source": [
    "import pickle\n",
    "from sklearn.svm import SVC\n",
    "\n",
    "from sklearn.feature_selection import SelectKBest\n",
    "from sklearn.decomposition import PCA\n",
    "\n",
    "import numpy as np, pandas as pd\n",
    "from geno_classifier import *\n",
    "from geno_utils import parse_database\n",
    "from itertools import starmap\n",
    "\n",
    "import GEOparse"
   ]
  },
  {
   "cell_type": "code",
   "execution_count": 8,
   "metadata": {},
   "outputs": [
    {
     "name": "stderr",
     "output_type": "stream",
     "text": [
      "01-Feb-2018 12:18:12 INFO GEOparse - Parsing ../datasets/GDS3782_full.soft: \n",
      "01-Feb-2018 12:18:12 DEBUG GEOparse - DATABASE: Geo\n",
      "01-Feb-2018 12:18:12 DEBUG GEOparse - DATASET: GDS3782\n",
      "01-Feb-2018 12:18:12 DEBUG GEOparse - SUBSET: GDS3782_1\n",
      "01-Feb-2018 12:18:12 DEBUG GEOparse - SUBSET: GDS3782_2\n",
      "01-Feb-2018 12:18:12 DEBUG GEOparse - ANNOTATION: \n",
      "01-Feb-2018 12:18:12 ERROR GEOparse - Cannot recognize type Annotation\n",
      "01-Feb-2018 12:18:12 DEBUG GEOparse - DATASET: GDS3782\n",
      "/usr/local/lib/python3.5/dist-packages/GEOparse/GEOparse.py:330 \u001b[1;31mFutureWarning\u001b[0m: from_csv is deprecated. Please use read_csv(...) instead. Note that some of the default arguments are different, so please refer to the documentation for from_csv when changing your function calls\n",
      "/usr/local/lib/python3.5/dist-packages/GEOparse/GEOparse.py:88 \u001b[1;31mDtypeWarning\u001b[0m: Columns (33) have mixed types. Specify dtype option on import or set low_memory=False.\n"
     ]
    }
   ],
   "source": [
    "diabetes_dataset = GEOparse.get_GEO(filepath='../datasets/GDS3782_full.soft').table"
   ]
  },
  {
   "cell_type": "code",
   "execution_count": 9,
   "metadata": {},
   "outputs": [],
   "source": [
    "healthy_raw = \"\"\"\n",
    "#GSM524151 = Value for GSM524151: beta-cells_non-diabetic condition_donor1; src: human beta-cells_non-diabetic\n",
    "#GSM524152 = Value for GSM524152: beta-cells_non-diabetic condition_donor2; src: human beta-cells_non-diabetic\n",
    "#GSM524153 = Value for GSM524153: beta-cells_non-diabetic condition_donor3; src: human beta-cells_non-diabetic\n",
    "#GSM524154 = Value for GSM524154: beta-cells_non-diabetic condition_donor4; src: human beta-cells_non-diabetic\n",
    "#GSM524155 = Value for GSM524155: beta-cells_non-diabetic condition_donor5; src: human beta-cells_non-diabetic\n",
    "#GSM524156 = Value for GSM524156: beta-cells_non-diabetic condition_donor6; src: human beta-cells_non-diabetic\n",
    "#GSM524157 = Value for GSM524157: beta-cells_non-diabetic condition_donor7; src: human beta-cells_non-diabetic\n",
    "#GSM524158 = Value for GSM524158: beta-cells_non-diabetic condition_donor8; src: human beta-cells_non-diabetic\n",
    "#GSM524159 = Value for GSM524159: beta-cells_non-diabetic condition_donor9; src: human beta-cells_non-diabetic\n",
    "#GSM524160 = Value for GSM524160: beta-cells_non-diabetic condition_donor10; src: human beta-cells_non-diabetic\"\"\""
   ]
  },
  {
   "cell_type": "code",
   "execution_count": 10,
   "metadata": {},
   "outputs": [],
   "source": [
    "unhealthy_raw = \"\"\"\n",
    "#GSM524161 = Value for GSM524161: beta-cells_diabetic condition_donor1; src: human beta-cells_diabetic\n",
    "#GSM524162 = Value for GSM524162: beta-cells_diabetic condition_donor2; src: human beta-cells_diabetic\n",
    "#GSM524163 = Value for GSM524163: beta-cells_diabetic condition_donor3; src: human beta-cells_diabetic\n",
    "#GSM524164 = Value for GSM524164: beta-cells_diabetic condition_donor4; src: human beta-cells_diabetic\n",
    "#GSM524165 = Value for GSM524165: beta-cells_diabetic condition_donor5; src: human beta-cells_diabetic\n",
    "#GSM524166 = Value for GSM524166: beta-cells_diabetic condition_donor6; src: human beta-cells_diabetic\n",
    "#GSM524167 = Value for GSM524167: beta-cells_diabetic condition_donor7; src: human beta-cells_diabetic\n",
    "#GSM524168 = Value for GSM524168: beta-cells_diabetic condition_donor8; src: human beta-cells_diabetic\n",
    "#GSM524169 = Value for GSM524169: beta-cells_diabetic condition_donor9; src: human beta-cells_diabetic\n",
    "#GSM524170 = Value for GSM524170: beta-cells_diabetic condition_donor10; src: human beta-cells_diabetic\n",
    "\"\"\""
   ]
  },
  {
   "cell_type": "code",
   "execution_count": 11,
   "metadata": {},
   "outputs": [],
   "source": [
    "clean = lambda string: string.replace(':', '').split()\n",
    "predicate = lambda word: word.startswith('GSM')\n",
    "\n",
    "healthy = set(filter(predicate, clean(healthy_raw)))\n",
    "unhealthy = set(filter(predicate, clean(unhealthy_raw)))"
   ]
  },
  {
   "cell_type": "code",
   "execution_count": 12,
   "metadata": {},
   "outputs": [
    {
     "data": {
      "text/plain": [
       "(10, 10)"
      ]
     },
     "execution_count": 12,
     "metadata": {},
     "output_type": "execute_result"
    }
   ],
   "source": [
    "len(healthy),len(unhealthy)"
   ]
  },
  {
   "cell_type": "code",
   "execution_count": 13,
   "metadata": {},
   "outputs": [],
   "source": [
    "# healthy = list(healthy)[:16]\n",
    "# unhealthy = list(unhealthy)[:16]\n",
    "\n",
    "# # pickle.dump({\"helthy\":healthy,\n",
    "# #              \"unhealthy\":unhealthy},\n",
    "# #            open(\"colon_cancer_subset\",\"wb\"))"
   ]
  },
  {
   "cell_type": "code",
   "execution_count": 14,
   "metadata": {},
   "outputs": [],
   "source": [
    "healthy = set(healthy)\n",
    "unhealthy = set(unhealthy)"
   ]
  },
  {
   "cell_type": "code",
   "execution_count": 15,
   "metadata": {},
   "outputs": [],
   "source": [
    "sample_columns = list(healthy | unhealthy)"
   ]
  },
  {
   "cell_type": "code",
   "execution_count": 16,
   "metadata": {},
   "outputs": [],
   "source": [
    "cle = diabetes_dataset[[\"ID_REF\",\"IDENTIFIER\"]+sample_columns]"
   ]
  },
  {
   "cell_type": "code",
   "execution_count": 17,
   "metadata": {},
   "outputs": [
    {
     "name": "stderr",
     "output_type": "stream",
     "text": [
      "/usr/local/lib/python3.5/dist-packages/ipykernel_launcher.py:1 \u001b[1;31mSettingWithCopyWarning\u001b[0m: \n",
      "A value is trying to be set on a copy of a slice from a DataFrame\n",
      "\n",
      "See the caveats in the documentation: http://pandas.pydata.org/pandas-docs/stable/indexing.html#indexing-view-versus-copy\n"
     ]
    }
   ],
   "source": [
    "cle.dropna(inplace=True)"
   ]
  },
  {
   "cell_type": "code",
   "execution_count": 18,
   "metadata": {},
   "outputs": [
    {
     "data": {
      "text/html": [
       "<div>\n",
       "<style scoped>\n",
       "    .dataframe tbody tr th:only-of-type {\n",
       "        vertical-align: middle;\n",
       "    }\n",
       "\n",
       "    .dataframe tbody tr th {\n",
       "        vertical-align: top;\n",
       "    }\n",
       "\n",
       "    .dataframe thead th {\n",
       "        text-align: right;\n",
       "    }\n",
       "</style>\n",
       "<table border=\"1\" class=\"dataframe\">\n",
       "  <thead>\n",
       "    <tr style=\"text-align: right;\">\n",
       "      <th></th>\n",
       "      <th>ID_REF</th>\n",
       "      <th>IDENTIFIER</th>\n",
       "      <th>GSM524166</th>\n",
       "      <th>GSM524158</th>\n",
       "      <th>GSM524163</th>\n",
       "    </tr>\n",
       "  </thead>\n",
       "  <tbody>\n",
       "    <tr>\n",
       "      <th>0</th>\n",
       "      <td>1053_3p_at</td>\n",
       "      <td>RFC2</td>\n",
       "      <td>11.77</td>\n",
       "      <td>2.41</td>\n",
       "      <td>6.66</td>\n",
       "    </tr>\n",
       "    <tr>\n",
       "      <th>1</th>\n",
       "      <td>117_3p_at</td>\n",
       "      <td>HSPA6</td>\n",
       "      <td>48.63</td>\n",
       "      <td>37.28</td>\n",
       "      <td>50.87</td>\n",
       "    </tr>\n",
       "    <tr>\n",
       "      <th>2</th>\n",
       "      <td>1494_3p_f_at</td>\n",
       "      <td>CYP2A6</td>\n",
       "      <td>52.95</td>\n",
       "      <td>59.12</td>\n",
       "      <td>62.74</td>\n",
       "    </tr>\n",
       "    <tr>\n",
       "      <th>3</th>\n",
       "      <td>1552275_3p_s_at</td>\n",
       "      <td>PXK</td>\n",
       "      <td>17.09</td>\n",
       "      <td>6.56</td>\n",
       "      <td>7.17</td>\n",
       "    </tr>\n",
       "    <tr>\n",
       "      <th>4</th>\n",
       "      <td>1552281_3p_at</td>\n",
       "      <td>SLC39A5</td>\n",
       "      <td>49.57</td>\n",
       "      <td>32.01</td>\n",
       "      <td>67.00</td>\n",
       "    </tr>\n",
       "  </tbody>\n",
       "</table>\n",
       "</div>"
      ],
      "text/plain": [
       "            ID_REF IDENTIFIER  GSM524166  GSM524158  GSM524163\n",
       "0       1053_3p_at       RFC2      11.77       2.41       6.66\n",
       "1        117_3p_at      HSPA6      48.63      37.28      50.87\n",
       "2     1494_3p_f_at     CYP2A6      52.95      59.12      62.74\n",
       "3  1552275_3p_s_at        PXK      17.09       6.56       7.17\n",
       "4    1552281_3p_at    SLC39A5      49.57      32.01      67.00"
      ]
     },
     "execution_count": 18,
     "metadata": {},
     "output_type": "execute_result"
    }
   ],
   "source": [
    "cle[cle.columns[:5]].head()"
   ]
  },
  {
   "cell_type": "code",
   "execution_count": 19,
   "metadata": {},
   "outputs": [],
   "source": [
    "labels_ = [(h, 'healthy') for h in healthy] + [(d, 'unhealthy') for d in unhealthy]"
   ]
  },
  {
   "cell_type": "code",
   "execution_count": 21,
   "metadata": {},
   "outputs": [],
   "source": [
    "X, y = parse_database(cle, labels=dict(labels_), n_jobs=-1)"
   ]
  },
  {
   "cell_type": "code",
   "execution_count": null,
   "metadata": {},
   "outputs": [],
   "source": [
    "pickle.dump({\"X\":X,\"y\":y}, open(\"diabetes_Xy\", \"wb\"))"
   ]
  },
  {
   "cell_type": "code",
   "execution_count": null,
   "metadata": {},
   "outputs": [],
   "source": [
    "coca = pickle.load(open(\"colon_cancer_Xy\", \"rb\"))\n",
    "X = coca[\"X\"]\n",
    "y = coca[\"y\"]"
   ]
  },
  {
   "cell_type": "markdown",
   "metadata": {},
   "source": [
    "## FVA"
   ]
  },
  {
   "cell_type": "code",
   "execution_count": 6,
   "metadata": {
    "scrolled": true
   },
   "outputs": [
    {
     "name": "stderr",
     "output_type": "stream",
     "text": [
      "../classes/genobolitics.py:72 \u001b[1;31mUserWarning\u001b[0m: model returned the empty string as reaction rule!\n",
      "../classes/genobolitics.py:36 \u001b[1;31mUserWarning\u001b[0m: some operands are missing from logical expression!\n",
      "../classes/genobolitics.py:56 \u001b[1;31mUserWarning\u001b[0m: could not evaluate boolean expression, objective-coeff is set to ZERO!\n",
      "../classes/genobolitics.py:72 \u001b[1;31mUserWarning\u001b[0m: model returned the empty string as reaction rule!\n",
      "../classes/genobolitics.py:56 \u001b[1;31mUserWarning\u001b[0m: could not evaluate boolean expression, objective-coeff is set to ZERO!\n",
      "../classes/genobolitics.py:36 \u001b[1;31mUserWarning\u001b[0m: some operands are missing from logical expression!\n",
      "../classes/genobolitics.py:72 \u001b[1;31mUserWarning\u001b[0m: model returned the empty string as reaction rule!\n",
      "../classes/genobolitics.py:56 \u001b[1;31mUserWarning\u001b[0m: could not evaluate boolean expression, objective-coeff is set to ZERO!\n",
      "../classes/genobolitics.py:36 \u001b[1;31mUserWarning\u001b[0m: some operands are missing from logical expression!\n",
      "../classes/genobolitics.py:72 \u001b[1;31mUserWarning\u001b[0m: model returned the empty string as reaction rule!\n",
      "../classes/genobolitics.py:56 \u001b[1;31mUserWarning\u001b[0m: could not evaluate boolean expression, objective-coeff is set to ZERO!\n",
      "../classes/genobolitics.py:36 \u001b[1;31mUserWarning\u001b[0m: some operands are missing from logical expression!\n",
      "../classes/genobolitics.py:72 \u001b[1;31mUserWarning\u001b[0m: model returned the empty string as reaction rule!\n",
      "../classes/genobolitics.py:56 \u001b[1;31mUserWarning\u001b[0m: could not evaluate boolean expression, objective-coeff is set to ZERO!\n",
      "../classes/genobolitics.py:36 \u001b[1;31mUserWarning\u001b[0m: some operands are missing from logical expression!\n",
      "../classes/genobolitics.py:72 \u001b[1;31mUserWarning\u001b[0m: model returned the empty string as reaction rule!\n",
      "../classes/genobolitics.py:56 \u001b[1;31mUserWarning\u001b[0m: could not evaluate boolean expression, objective-coeff is set to ZERO!\n",
      "../classes/genobolitics.py:36 \u001b[1;31mUserWarning\u001b[0m: some operands are missing from logical expression!\n",
      "../classes/genobolitics.py:72 \u001b[1;31mUserWarning\u001b[0m: model returned the empty string as reaction rule!\n",
      "../classes/genobolitics.py:56 \u001b[1;31mUserWarning\u001b[0m: could not evaluate boolean expression, objective-coeff is set to ZERO!\n",
      "../classes/genobolitics.py:36 \u001b[1;31mUserWarning\u001b[0m: some operands are missing from logical expression!\n",
      "../classes/genobolitics.py:72 \u001b[1;31mUserWarning\u001b[0m: model returned the empty string as reaction rule!\n",
      "../classes/genobolitics.py:56 \u001b[1;31mUserWarning\u001b[0m: could not evaluate boolean expression, objective-coeff is set to ZERO!\n",
      "../classes/genobolitics.py:36 \u001b[1;31mUserWarning\u001b[0m: some operands are missing from logical expression!\n",
      "/usr/local/lib/python3.5/dist-packages/optlang/cplex_interface.py:459 \u001b[1;31mDeprecationWarning\u001b[0m: The 'warn' method is deprecated, use 'warning' instead\n",
      "/usr/local/lib/python3.5/dist-packages/optlang/cplex_interface.py:459 \u001b[1;31mDeprecationWarning\u001b[0m: The 'warn' method is deprecated, use 'warning' instead\n",
      "/usr/local/lib/python3.5/dist-packages/optlang/cplex_interface.py:459 \u001b[1;31mDeprecationWarning\u001b[0m: The 'warn' method is deprecated, use 'warning' instead\n",
      "/usr/local/lib/python3.5/dist-packages/optlang/cplex_interface.py:459 \u001b[1;31mDeprecationWarning\u001b[0m: The 'warn' method is deprecated, use 'warning' instead\n",
      "/usr/local/lib/python3.5/dist-packages/optlang/cplex_interface.py:459 \u001b[1;31mDeprecationWarning\u001b[0m: The 'warn' method is deprecated, use 'warning' instead\n",
      "/usr/local/lib/python3.5/dist-packages/optlang/cplex_interface.py:459 \u001b[1;31mDeprecationWarning\u001b[0m: The 'warn' method is deprecated, use 'warning' instead\n",
      "/usr/local/lib/python3.5/dist-packages/optlang/cplex_interface.py:459 \u001b[1;31mDeprecationWarning\u001b[0m: The 'warn' method is deprecated, use 'warning' instead\n",
      "/usr/local/lib/python3.5/dist-packages/optlang/cplex_interface.py:459 \u001b[1;31mDeprecationWarning\u001b[0m: The 'warn' method is deprecated, use 'warning' instead\n",
      "cobra/util/solver.py:403 \u001b[1;31mUserWarning\u001b[0m: solver status is 'infeasible'\n",
      "cobra/util/solver.py:403 \u001b[1;31mUserWarning\u001b[0m: solver status is 'infeasible'\n",
      "cobra/util/solver.py:403 \u001b[1;31mUserWarning\u001b[0m: solver status is 'infeasible'\n",
      "cobra/util/solver.py:403 \u001b[1;31mUserWarning\u001b[0m: solver status is 'infeasible'\n",
      "cobra/util/solver.py:403 \u001b[1;31mUserWarning\u001b[0m: solver status is 'infeasible'\n",
      "../classes/genobolitics.py:72 \u001b[1;31mUserWarning\u001b[0m: model returned the empty string as reaction rule!\n",
      "../classes/genobolitics.py:56 \u001b[1;31mUserWarning\u001b[0m: could not evaluate boolean expression, objective-coeff is set to ZERO!\n",
      "../classes/genobolitics.py:36 \u001b[1;31mUserWarning\u001b[0m: some operands are missing from logical expression!\n",
      "/usr/local/lib/python3.5/dist-packages/optlang/cplex_interface.py:459 \u001b[1;31mDeprecationWarning\u001b[0m: The 'warn' method is deprecated, use 'warning' instead\n",
      "../classes/genobolitics.py:72 \u001b[1;31mUserWarning\u001b[0m: model returned the empty string as reaction rule!\n",
      "../classes/genobolitics.py:56 \u001b[1;31mUserWarning\u001b[0m: could not evaluate boolean expression, objective-coeff is set to ZERO!\n",
      "../classes/genobolitics.py:36 \u001b[1;31mUserWarning\u001b[0m: some operands are missing from logical expression!\n",
      "../classes/genobolitics.py:72 \u001b[1;31mUserWarning\u001b[0m: model returned the empty string as reaction rule!\n",
      "../classes/genobolitics.py:56 \u001b[1;31mUserWarning\u001b[0m: could not evaluate boolean expression, objective-coeff is set to ZERO!\n",
      "../classes/genobolitics.py:36 \u001b[1;31mUserWarning\u001b[0m: some operands are missing from logical expression!\n",
      "../classes/genobolitics.py:72 \u001b[1;31mUserWarning\u001b[0m: model returned the empty string as reaction rule!\n",
      "../classes/genobolitics.py:56 \u001b[1;31mUserWarning\u001b[0m: could not evaluate boolean expression, objective-coeff is set to ZERO!\n",
      "../classes/genobolitics.py:36 \u001b[1;31mUserWarning\u001b[0m: some operands are missing from logical expression!\n",
      "../classes/genobolitics.py:72 \u001b[1;31mUserWarning\u001b[0m: model returned the empty string as reaction rule!\n",
      "../classes/genobolitics.py:56 \u001b[1;31mUserWarning\u001b[0m: could not evaluate boolean expression, objective-coeff is set to ZERO!\n",
      "../classes/genobolitics.py:36 \u001b[1;31mUserWarning\u001b[0m: some operands are missing from logical expression!\n",
      "../classes/genobolitics.py:72 \u001b[1;31mUserWarning\u001b[0m: model returned the empty string as reaction rule!\n",
      "../classes/genobolitics.py:56 \u001b[1;31mUserWarning\u001b[0m: could not evaluate boolean expression, objective-coeff is set to ZERO!\n",
      "../classes/genobolitics.py:36 \u001b[1;31mUserWarning\u001b[0m: some operands are missing from logical expression!\n",
      "../classes/genobolitics.py:72 \u001b[1;31mUserWarning\u001b[0m: model returned the empty string as reaction rule!\n",
      "../classes/genobolitics.py:56 \u001b[1;31mUserWarning\u001b[0m: could not evaluate boolean expression, objective-coeff is set to ZERO!\n",
      "../classes/genobolitics.py:36 \u001b[1;31mUserWarning\u001b[0m: some operands are missing from logical expression!\n",
      "../classes/genobolitics.py:72 \u001b[1;31mUserWarning\u001b[0m: model returned the empty string as reaction rule!\n",
      "../classes/genobolitics.py:56 \u001b[1;31mUserWarning\u001b[0m: could not evaluate boolean expression, objective-coeff is set to ZERO!\n",
      "../classes/genobolitics.py:36 \u001b[1;31mUserWarning\u001b[0m: some operands are missing from logical expression!\n",
      "/usr/local/lib/python3.5/dist-packages/optlang/cplex_interface.py:459 \u001b[1;31mDeprecationWarning\u001b[0m: The 'warn' method is deprecated, use 'warning' instead\n",
      "/usr/local/lib/python3.5/dist-packages/optlang/cplex_interface.py:459 \u001b[1;31mDeprecationWarning\u001b[0m: The 'warn' method is deprecated, use 'warning' instead\n",
      "/usr/local/lib/python3.5/dist-packages/optlang/cplex_interface.py:459 \u001b[1;31mDeprecationWarning\u001b[0m: The 'warn' method is deprecated, use 'warning' instead\n",
      "cobra/util/solver.py:403 \u001b[1;31mUserWarning\u001b[0m: solver status is 'infeasible'\n",
      "cobra/util/solver.py:403 \u001b[1;31mUserWarning\u001b[0m: solver status is 'infeasible'\n",
      "/usr/local/lib/python3.5/dist-packages/optlang/cplex_interface.py:459 \u001b[1;31mDeprecationWarning\u001b[0m: The 'warn' method is deprecated, use 'warning' instead\n",
      "../classes/genobolitics.py:72 \u001b[1;31mUserWarning\u001b[0m: model returned the empty string as reaction rule!\n",
      "../classes/genobolitics.py:56 \u001b[1;31mUserWarning\u001b[0m: could not evaluate boolean expression, objective-coeff is set to ZERO!\n",
      "../classes/genobolitics.py:36 \u001b[1;31mUserWarning\u001b[0m: some operands are missing from logical expression!\n"
     ]
    },
    {
     "name": "stderr",
     "output_type": "stream",
     "text": [
      "cobra/util/solver.py:403 \u001b[1;31mUserWarning\u001b[0m: solver status is 'infeasible'\n",
      "../classes/genobolitics.py:72 \u001b[1;31mUserWarning\u001b[0m: model returned the empty string as reaction rule!\n",
      "../classes/genobolitics.py:56 \u001b[1;31mUserWarning\u001b[0m: could not evaluate boolean expression, objective-coeff is set to ZERO!\n",
      "../classes/genobolitics.py:36 \u001b[1;31mUserWarning\u001b[0m: some operands are missing from logical expression!\n",
      "/usr/local/lib/python3.5/dist-packages/optlang/cplex_interface.py:459 \u001b[1;31mDeprecationWarning\u001b[0m: The 'warn' method is deprecated, use 'warning' instead\n",
      "../classes/genobolitics.py:72 \u001b[1;31mUserWarning\u001b[0m: model returned the empty string as reaction rule!\n",
      "../classes/genobolitics.py:56 \u001b[1;31mUserWarning\u001b[0m: could not evaluate boolean expression, objective-coeff is set to ZERO!\n",
      "../classes/genobolitics.py:36 \u001b[1;31mUserWarning\u001b[0m: some operands are missing from logical expression!\n",
      "/usr/local/lib/python3.5/dist-packages/optlang/cplex_interface.py:459 \u001b[1;31mDeprecationWarning\u001b[0m: The 'warn' method is deprecated, use 'warning' instead\n",
      "../classes/genobolitics.py:72 \u001b[1;31mUserWarning\u001b[0m: model returned the empty string as reaction rule!\n",
      "../classes/genobolitics.py:56 \u001b[1;31mUserWarning\u001b[0m: could not evaluate boolean expression, objective-coeff is set to ZERO!\n",
      "../classes/genobolitics.py:36 \u001b[1;31mUserWarning\u001b[0m: some operands are missing from logical expression!\n",
      "/usr/local/lib/python3.5/dist-packages/optlang/cplex_interface.py:459 \u001b[1;31mDeprecationWarning\u001b[0m: The 'warn' method is deprecated, use 'warning' instead\n",
      "/usr/local/lib/python3.5/dist-packages/optlang/cplex_interface.py:459 \u001b[1;31mDeprecationWarning\u001b[0m: The 'warn' method is deprecated, use 'warning' instead\n",
      "../classes/genobolitics.py:72 \u001b[1;31mUserWarning\u001b[0m: model returned the empty string as reaction rule!\n",
      "../classes/genobolitics.py:56 \u001b[1;31mUserWarning\u001b[0m: could not evaluate boolean expression, objective-coeff is set to ZERO!\n",
      "../classes/genobolitics.py:36 \u001b[1;31mUserWarning\u001b[0m: some operands are missing from logical expression!\n",
      "../classes/genobolitics.py:72 \u001b[1;31mUserWarning\u001b[0m: model returned the empty string as reaction rule!\n",
      "../classes/genobolitics.py:56 \u001b[1;31mUserWarning\u001b[0m: could not evaluate boolean expression, objective-coeff is set to ZERO!\n",
      "../classes/genobolitics.py:36 \u001b[1;31mUserWarning\u001b[0m: some operands are missing from logical expression!\n",
      "/usr/local/lib/python3.5/dist-packages/optlang/cplex_interface.py:459 \u001b[1;31mDeprecationWarning\u001b[0m: The 'warn' method is deprecated, use 'warning' instead\n",
      "../classes/genobolitics.py:72 \u001b[1;31mUserWarning\u001b[0m: model returned the empty string as reaction rule!\n",
      "../classes/genobolitics.py:56 \u001b[1;31mUserWarning\u001b[0m: could not evaluate boolean expression, objective-coeff is set to ZERO!\n",
      "../classes/genobolitics.py:36 \u001b[1;31mUserWarning\u001b[0m: some operands are missing from logical expression!\n",
      "../classes/genobolitics.py:72 \u001b[1;31mUserWarning\u001b[0m: model returned the empty string as reaction rule!\n",
      "../classes/genobolitics.py:56 \u001b[1;31mUserWarning\u001b[0m: could not evaluate boolean expression, objective-coeff is set to ZERO!\n",
      "../classes/genobolitics.py:36 \u001b[1;31mUserWarning\u001b[0m: some operands are missing from logical expression!\n",
      "/usr/local/lib/python3.5/dist-packages/optlang/cplex_interface.py:459 \u001b[1;31mDeprecationWarning\u001b[0m: The 'warn' method is deprecated, use 'warning' instead\n",
      "/usr/local/lib/python3.5/dist-packages/optlang/cplex_interface.py:459 \u001b[1;31mDeprecationWarning\u001b[0m: The 'warn' method is deprecated, use 'warning' instead\n",
      "/usr/local/lib/python3.5/dist-packages/optlang/cplex_interface.py:459 \u001b[1;31mDeprecationWarning\u001b[0m: The 'warn' method is deprecated, use 'warning' instead\n",
      "cobra/util/solver.py:403 \u001b[1;31mUserWarning\u001b[0m: solver status is 'infeasible'\n",
      "cobra/util/solver.py:403 \u001b[1;31mUserWarning\u001b[0m: solver status is 'infeasible'\n",
      "cobra/util/solver.py:403 \u001b[1;31mUserWarning\u001b[0m: solver status is 'infeasible'\n",
      "/usr/local/lib/python3.5/dist-packages/optlang/cplex_interface.py:459 \u001b[1;31mDeprecationWarning\u001b[0m: The 'warn' method is deprecated, use 'warning' instead\n",
      "../classes/genobolitics.py:72 \u001b[1;31mUserWarning\u001b[0m: model returned the empty string as reaction rule!\n",
      "../classes/genobolitics.py:56 \u001b[1;31mUserWarning\u001b[0m: could not evaluate boolean expression, objective-coeff is set to ZERO!\n",
      "../classes/genobolitics.py:36 \u001b[1;31mUserWarning\u001b[0m: some operands are missing from logical expression!\n",
      "cobra/util/solver.py:403 \u001b[1;31mUserWarning\u001b[0m: solver status is 'infeasible'\n",
      "/usr/local/lib/python3.5/dist-packages/optlang/cplex_interface.py:459 \u001b[1;31mDeprecationWarning\u001b[0m: The 'warn' method is deprecated, use 'warning' instead\n",
      "../classes/genobolitics.py:72 \u001b[1;31mUserWarning\u001b[0m: model returned the empty string as reaction rule!\n",
      "../classes/genobolitics.py:56 \u001b[1;31mUserWarning\u001b[0m: could not evaluate boolean expression, objective-coeff is set to ZERO!\n",
      "../classes/genobolitics.py:36 \u001b[1;31mUserWarning\u001b[0m: some operands are missing from logical expression!\n",
      "/usr/local/lib/python3.5/dist-packages/optlang/cplex_interface.py:459 \u001b[1;31mDeprecationWarning\u001b[0m: The 'warn' method is deprecated, use 'warning' instead\n",
      "../classes/genobolitics.py:72 \u001b[1;31mUserWarning\u001b[0m: model returned the empty string as reaction rule!\n",
      "../classes/genobolitics.py:56 \u001b[1;31mUserWarning\u001b[0m: could not evaluate boolean expression, objective-coeff is set to ZERO!\n",
      "../classes/genobolitics.py:36 \u001b[1;31mUserWarning\u001b[0m: some operands are missing from logical expression!\n",
      "../classes/genobolitics.py:72 \u001b[1;31mUserWarning\u001b[0m: model returned the empty string as reaction rule!\n",
      "../classes/genobolitics.py:56 \u001b[1;31mUserWarning\u001b[0m: could not evaluate boolean expression, objective-coeff is set to ZERO!\n",
      "../classes/genobolitics.py:36 \u001b[1;31mUserWarning\u001b[0m: some operands are missing from logical expression!\n",
      "/usr/local/lib/python3.5/dist-packages/optlang/cplex_interface.py:459 \u001b[1;31mDeprecationWarning\u001b[0m: The 'warn' method is deprecated, use 'warning' instead\n",
      "/usr/local/lib/python3.5/dist-packages/optlang/cplex_interface.py:459 \u001b[1;31mDeprecationWarning\u001b[0m: The 'warn' method is deprecated, use 'warning' instead\n",
      "/usr/local/lib/python3.5/dist-packages/optlang/cplex_interface.py:459 \u001b[1;31mDeprecationWarning\u001b[0m: The 'warn' method is deprecated, use 'warning' instead\n",
      "../classes/genobolitics.py:72 \u001b[1;31mUserWarning\u001b[0m: model returned the empty string as reaction rule!\n",
      "../classes/genobolitics.py:56 \u001b[1;31mUserWarning\u001b[0m: could not evaluate boolean expression, objective-coeff is set to ZERO!\n",
      "../classes/genobolitics.py:36 \u001b[1;31mUserWarning\u001b[0m: some operands are missing from logical expression!\n",
      "/usr/local/lib/python3.5/dist-packages/optlang/cplex_interface.py:459 \u001b[1;31mDeprecationWarning\u001b[0m: The 'warn' method is deprecated, use 'warning' instead\n",
      "/usr/local/lib/python3.5/dist-packages/optlang/cplex_interface.py:459 \u001b[1;31mDeprecationWarning\u001b[0m: The 'warn' method is deprecated, use 'warning' instead\n",
      "cobra/util/solver.py:403 \u001b[1;31mUserWarning\u001b[0m: solver status is 'infeasible'\n",
      "cobra/util/solver.py:403 \u001b[1;31mUserWarning\u001b[0m: solver status is 'infeasible'\n",
      "../classes/genobolitics.py:72 \u001b[1;31mUserWarning\u001b[0m: model returned the empty string as reaction rule!\n",
      "../classes/genobolitics.py:56 \u001b[1;31mUserWarning\u001b[0m: could not evaluate boolean expression, objective-coeff is set to ZERO!\n",
      "../classes/genobolitics.py:36 \u001b[1;31mUserWarning\u001b[0m: some operands are missing from logical expression!\n",
      "../classes/genobolitics.py:72 \u001b[1;31mUserWarning\u001b[0m: model returned the empty string as reaction rule!\n",
      "../classes/genobolitics.py:56 \u001b[1;31mUserWarning\u001b[0m: could not evaluate boolean expression, objective-coeff is set to ZERO!\n",
      "../classes/genobolitics.py:36 \u001b[1;31mUserWarning\u001b[0m: some operands are missing from logical expression!\n",
      "/usr/local/lib/python3.5/dist-packages/optlang/cplex_interface.py:459 \u001b[1;31mDeprecationWarning\u001b[0m: The 'warn' method is deprecated, use 'warning' instead\n",
      "../classes/genobolitics.py:72 \u001b[1;31mUserWarning\u001b[0m: model returned the empty string as reaction rule!\n",
      "../classes/genobolitics.py:56 \u001b[1;31mUserWarning\u001b[0m: could not evaluate boolean expression, objective-coeff is set to ZERO!\n",
      "../classes/genobolitics.py:36 \u001b[1;31mUserWarning\u001b[0m: some operands are missing from logical expression!\n"
     ]
    },
    {
     "name": "stderr",
     "output_type": "stream",
     "text": [
      "/usr/local/lib/python3.5/dist-packages/optlang/cplex_interface.py:459 \u001b[1;31mDeprecationWarning\u001b[0m: The 'warn' method is deprecated, use 'warning' instead\n",
      "cobra/util/solver.py:403 \u001b[1;31mUserWarning\u001b[0m: solver status is 'infeasible'\n"
     ]
    }
   ],
   "source": [
    "results = flux_variance_analysis(X, y)\n",
    "pickle.dump(results, open(\"diabetes.results\", \"wb\"))"
   ]
  },
  {
   "cell_type": "code",
   "execution_count": null,
   "metadata": {},
   "outputs": [],
   "source": []
  }
 ],
 "metadata": {
  "kernelspec": {
   "display_name": "Python 3",
   "language": "python",
   "name": "python3"
  },
  "language_info": {
   "codemirror_mode": {
    "name": "ipython",
    "version": 3
   },
   "file_extension": ".py",
   "mimetype": "text/x-python",
   "name": "python",
   "nbconvert_exporter": "python",
   "pygments_lexer": "ipython3",
   "version": "3.5.2"
  }
 },
 "nbformat": 4,
 "nbformat_minor": 2
}
