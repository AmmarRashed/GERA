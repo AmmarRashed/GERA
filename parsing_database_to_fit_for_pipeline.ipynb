{
 "cells": [
  {
   "cell_type": "code",
   "execution_count": null,
   "metadata": {},
   "outputs": [],
   "source": [
    "import pandas as pd, numpy as np\n",
    "\n",
    "import GEOparse, pyhgnc, pickle, copy"
   ]
  },
  {
   "cell_type": "code",
   "execution_count": 4,
   "metadata": {},
   "outputs": [],
   "source": [
    "def get_gene_fc_dict(gene_fc_dataframe_, sample_name, duplicate_handler=np.mean, hgnc=True, hgnc_path=\"\", query=None):\n",
    "    gene_fc_dataframe = copy.deepcopy(gene_fc_dataframe_)[[sample_name]]\n",
    "    gene_fc_dict = dict()\n",
    "    geo_hgnc_ = False\n",
    "    try:\n",
    "        geo_hgnc_dict = pickle.load(open(\"datasets/geo_to_hgnc_ids\",\"rb\"))\n",
    "    except FileNotFoundError:\n",
    "        geo_hgnc_ = True\n",
    "        geo_hgnc_dict = dict()\n",
    "    for row in gene_fc_dataframe.iterrows():\n",
    "        gene_symbol = row[0]\n",
    "        if hgnc:\n",
    "            try:\n",
    "                if geo_hgnc_:\n",
    "                    geo_hgnc_dict[gene_symbol] = \"HGNC:{}\".format(query.hgnc(symbol=gene_symbol)[0].identifier)\n",
    "                gene_symbol = geo_hgnc_dict[gene_symbol]\n",
    "            except (KeyError, IndexError) as e:\n",
    "                continue\n",
    "        gene_fc = row[1]\n",
    "        gene_fc_dict.setdefault(gene_symbol, [])\n",
    "        gene_fc_dict[gene_symbol].append(gene_fc)\n",
    "    for gene in gene_fc_dict:\n",
    "        gene_fc_dict[gene] = duplicate_handler(gene_fc_dict[gene])\n",
    "    if geo_hgnc_ and hgnc_path:\n",
    "        with open(\"datasets/geo_to_hgnc_ids\",\"wb\") as f:\n",
    "            pickle.dump(geo_hgnc_dict, f)\n",
    "    print (\"Dict for {} addedd successfully with {} samples\".format(sample_name, len(gene_fc_dict)))\n",
    "    return gene_fc_dict"
   ]
  },
  {
   "cell_type": "code",
   "execution_count": 8,
   "metadata": {},
   "outputs": [],
   "source": [
    "def parse_database(geo_database_name, index_column=\"IDENTIFIER\", hgnc_path=\"\", labels={}):\n",
    "    geo_df = GEOparse.get_GEO(geo=geo_database_name)\\\n",
    "                                .table\\\n",
    "                                .set_index(index_column).dropna()\n",
    "    geo_df = geo_df[[col for col in geo_df.columns if \"GSM\" in col]]\n",
    "    query = pyhgnc.query()\n",
    "    X = list()\n",
    "    y = list()\n",
    "    for sample in geo_df.columns:\n",
    "        if sample in labels:\n",
    "            X.append(get_gene_fc_dict(geo_df, sample, query=query, hgnc_path=hgnc_path))\n",
    "            y.append(labels[sample])\n",
    "    return X,y\n",
    "    "
   ]
  },
  {
   "cell_type": "code",
   "execution_count": 9,
   "metadata": {},
   "outputs": [],
   "source": [
    "labels = {}\n",
    "hs = \"GSM1599181,GSM1599182,GSM1599183\".split(',')\n",
    "bcs = \"GSM1599177,GSM1599178,GSM1599179,GSM1599180\".split(',')\n",
    "for s in hs:\n",
    "    labels[s] = \"healthy\"\n",
    "for b in bcs:\n",
    "    labels[b] = \"bc\""
   ]
  },
  {
   "cell_type": "code",
   "execution_count": 10,
   "metadata": {
    "scrolled": true
   },
   "outputs": [
    {
     "name": "stderr",
     "output_type": "stream",
     "text": [
      "27-Dec-2017 17:29:36 INFO GEOparse - File already exist: using local version.\n",
      "27-Dec-2017 17:29:36 INFO GEOparse - Parsing ./GDS5819.soft.gz: \n",
      "27-Dec-2017 17:29:36 DEBUG GEOparse - DATABASE: Geo\n",
      "27-Dec-2017 17:29:36 DEBUG GEOparse - DATASET: GDS5819\n",
      "27-Dec-2017 17:29:36 DEBUG GEOparse - SUBSET: GDS5819_1\n",
      "27-Dec-2017 17:29:36 DEBUG GEOparse - SUBSET: GDS5819_2\n",
      "27-Dec-2017 17:29:36 DEBUG GEOparse - SUBSET: GDS5819_3\n",
      "27-Dec-2017 17:29:36 DEBUG GEOparse - SUBSET: GDS5819_4\n",
      "27-Dec-2017 17:29:36 DEBUG GEOparse - DATASET: GDS5819\n",
      "/usr/local/lib/python3.5/dist-packages/GEOparse/GEOparse.py:330: FutureWarning: from_csv is deprecated. Please use read_csv(...) instead. Note that some of the default arguments are different, so please refer to the documentation for from_csv when changing your function calls\n",
      "  return DataFrame.from_csv(StringIO(data), index_col=None, sep=\"\\t\")\n"
     ]
    },
    {
     "name": "stdout",
     "output_type": "stream",
     "text": [
      "Dict for GSM1599177 addedd successfully with 9745 samples\n",
      "Dict for GSM1599178 addedd successfully with 9745 samples\n",
      "Dict for GSM1599179 addedd successfully with 9745 samples\n",
      "Dict for GSM1599180 addedd successfully with 9745 samples\n",
      "Dict for GSM1599181 addedd successfully with 9745 samples\n",
      "Dict for GSM1599182 addedd successfully with 9745 samples\n",
      "Dict for GSM1599183 addedd successfully with 9745 samples\n"
     ]
    }
   ],
   "source": [
    "gene_data, labels = parse_database(\"GDS5819\",hgnc_path=\"datasets/geo_to_hgnc_ids\", labels=labels)"
   ]
  },
  {
   "cell_type": "code",
   "execution_count": 11,
   "metadata": {},
   "outputs": [],
   "source": [
    "pickle.dump(gene_data, open(\"datasets/gene_data_X\",\"wb\"))\n",
    "pickle.dump(labels, open(\"datasets/gene_data_y\",\"wb\"))"
   ]
  },
  {
   "cell_type": "code",
   "execution_count": null,
   "metadata": {},
   "outputs": [],
   "source": []
  }
 ],
 "metadata": {
  "kernelspec": {
   "display_name": "Python 3",
   "language": "python",
   "name": "python3"
  },
  "language_info": {
   "codemirror_mode": {
    "name": "ipython",
    "version": 3
   },
   "file_extension": ".py",
   "mimetype": "text/x-python",
   "name": "python",
   "nbconvert_exporter": "python",
   "pygments_lexer": "ipython3",
   "version": "3.5.2"
  }
 },
 "nbformat": 4,
 "nbformat_minor": 2
}
