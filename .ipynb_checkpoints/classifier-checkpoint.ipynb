{
 "cells": [
  {
   "cell_type": "code",
   "execution_count": 5,
   "metadata": {},
   "outputs": [],
   "source": [
    "import pickle\n",
    "from sklearn.model_selection import GridSearchCV\n",
    "from sklearn.linear_model import LogisticRegression\n",
    "from sklearn.svm import SVC\n",
    "from sklearn.ensemble import RandomForestClassifier\n",
    "\n",
    "import numpy as np"
   ]
  },
  {
   "cell_type": "code",
   "execution_count": 16,
   "metadata": {},
   "outputs": [],
   "source": [
    "X_ = pickle.load(open(\"results2.pickl\", \"rb\"))\n",
    "y = pickle.load(open(\"datasets/gene_data_y\",\"rb\"))"
   ]
  },
  {
   "cell_type": "code",
   "execution_count": 23,
   "metadata": {},
   "outputs": [
    {
     "data": {
      "text/plain": [
       "(7, 19)"
      ]
     },
     "execution_count": 23,
     "metadata": {},
     "output_type": "execute_result"
    }
   ],
   "source": [
    "X = [list(dic.values()) for dic in X_]\n",
    "np.array(X).shape"
   ]
  },
  {
   "cell_type": "code",
   "execution_count": 32,
   "metadata": {},
   "outputs": [
    {
     "name": "stdout",
     "output_type": "stream",
     "text": [
      "{'max_iter': range(200, 1001, 100), 'C': array([  1.00000000e-04,   7.74263683e-04,   5.99484250e-03,\n",
      "         4.64158883e-02,   3.59381366e-01,   2.78255940e+00,\n",
      "         2.15443469e+01,   1.66810054e+02,   1.29154967e+03,\n",
      "         1.00000000e+04])}\n",
      "{'max_iter': range(200, 1001, 100), 'C': array([  1.00000000e-04,   7.74263683e-04,   5.99484250e-03,\n",
      "         4.64158883e-02,   3.59381366e-01,   2.78255940e+00,\n",
      "         2.15443469e+01,   1.66810054e+02,   1.29154967e+03,\n",
      "         1.00000000e+04]), 'kernel': ['rbf', 'poly', 'linear', 'sigmoid']}\n",
      "{'n_estimators': range(1, 8), 'max_depth': range(10, 20)}\n"
     ]
    }
   ],
   "source": [
    "models = [(LogisticRegression, {'C': np.geomspace(1e-4, 1e4, num=10), 'max_iter':range(200, 1000+1, 100)}),\n",
    "           (SVC, {'C': np.geomspace(1e-4, 1e4, num=10), \n",
    "                  'max_iter':range(200, 1000+1, 100), 'kernel':['rbf', 'poly', 'linear', 'sigmoid']}),\n",
    "           (RandomForestClassifier, {'max_depth': range(10, 20), 'n_estimators':range(1,8)})]\n",
    "\n",
    "results = []\n",
    "cv_estimators = []\n",
    "for model, params in models:\n",
    "    print(params)\n",
    "    result = GridSearchCV(model(random_state=42), params).fit(X, y)\n",
    "    results.append(result.best_score_)\n",
    "    cv_estimators.append(result)\n",
    "    \n",
    "best_model = cv_estimators[np.argmax(results)].best_estimator_\n",
    "score = cv_estimators[np.argmax(results)].best_score_"
   ]
  },
  {
   "cell_type": "code",
   "execution_count": 31,
   "metadata": {},
   "outputs": [
    {
     "data": {
      "text/plain": [
       "SVC(C=0.0001, cache_size=200, class_weight=None, coef0=0.0,\n",
       "  decision_function_shape='ovr', degree=3, gamma='auto', kernel='linear',\n",
       "  max_iter=200, probability=False, random_state=42, shrinking=True,\n",
       "  tol=0.001, verbose=False)"
      ]
     },
     "execution_count": 31,
     "metadata": {},
     "output_type": "execute_result"
    }
   ],
   "source": [
    "best_model"
   ]
  },
  {
   "cell_type": "code",
   "execution_count": 33,
   "metadata": {},
   "outputs": [
    {
     "data": {
      "text/plain": [
       "1.0"
      ]
     },
     "execution_count": 33,
     "metadata": {},
     "output_type": "execute_result"
    }
   ],
   "source": [
    "score"
   ]
  },
  {
   "cell_type": "code",
   "execution_count": null,
   "metadata": {},
   "outputs": [],
   "source": []
  }
 ],
 "metadata": {
  "kernelspec": {
   "display_name": "Python 3",
   "language": "python",
   "name": "python3"
  },
  "language_info": {
   "codemirror_mode": {
    "name": "ipython",
    "version": 3
   },
   "file_extension": ".py",
   "mimetype": "text/x-python",
   "name": "python",
   "nbconvert_exporter": "python",
   "pygments_lexer": "ipython3",
   "version": "3.5.2"
  }
 },
 "nbformat": 4,
 "nbformat_minor": 2
}
