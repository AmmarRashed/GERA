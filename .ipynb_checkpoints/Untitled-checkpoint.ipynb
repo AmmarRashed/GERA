{
 "cells": [
  {
   "cell_type": "code",
   "execution_count": 4,
   "metadata": {},
   "outputs": [],
   "source": [
    "import pickle\n",
    "from Genobolitics import *\n",
    "from metabolitics.preprocessing import MetaboliticsTransformer"
   ]
  },
  {
   "cell_type": "code",
   "execution_count": 5,
   "metadata": {},
   "outputs": [],
   "source": [
    "results = pickle.load(open(\"results1.pickl\", \"rb\"))"
   ]
  },
  {
   "cell_type": "code",
   "execution_count": 6,
   "metadata": {},
   "outputs": [],
   "source": [
    "cols = {}\n",
    "hs = \"GSM1599181,GSM1599182,GSM1599183\".split(',')\n",
    "bcs = \"GSM1599177,GSM1599178,GSM1599179,GSM1599180\".split(',')\n",
    "for s in hs:\n",
    "    cols[s] = \"healthy\"\n",
    "for b in bcs:\n",
    "    cols[b] = \"bc\""
   ]
  },
  {
   "cell_type": "code",
   "execution_count": 8,
   "metadata": {},
   "outputs": [],
   "source": [
    "X = list()\n",
    "y = list()\n",
    "raw_labels = [\"GSM1599177\",\"GSM1599178\",\"GSM1599179\",\"GSM1599180\",\"GSM1599181\",\"GSM1599182\",\"GSM1599183\",\"GSM1599184\",\"GSM1599185\",\"GSM1599186\",\"GSM1599187\",\"GSM1599188\",\"GSM1599189\"]\n",
    "for i in range(len(results)):\n",
    "    if raw_labels[i] in cols:\n",
    "        X.append(results[i])\n",
    "        y.append(cols[raw_labels[i]])\n",
    "        "
   ]
  },
  {
   "cell_type": "code",
   "execution_count": 9,
   "metadata": {},
   "outputs": [],
   "source": [
    "from sklearn_utils.preprocessing import FoldChangeScaler, FeatureRenaming\n",
    "from sklearn.pipeline import Pipeline"
   ]
  },
  {
   "cell_type": "code",
   "execution_count": null,
   "metadata": {},
   "outputs": [],
   "source": []
  },
  {
   "cell_type": "code",
   "execution_count": 14,
   "metadata": {},
   "outputs": [],
   "source": [
    "pipe = Pipeline([\n",
    "    ('naming', FeatureRenaming(cols)),\n",
    "    ('scaling', FoldChangeScaler(reference_label='healthy'))\n",
    "    ])"
   ]
  },
  {
   "cell_type": "code",
   "execution_count": 15,
   "metadata": {},
   "outputs": [
    {
     "data": {
      "text/plain": [
       "[{}, {}, {}, {}, {}, {}, {}, {}, {}, {}, {}, {}, {}]"
      ]
     },
     "execution_count": 15,
     "metadata": {},
     "output_type": "execute_result"
    }
   ],
   "source": []
  },
  {
   "cell_type": "code",
   "execution_count": null,
   "metadata": {},
   "outputs": [],
   "source": []
  }
 ],
 "metadata": {
  "kernelspec": {
   "display_name": "Python 3",
   "language": "python",
   "name": "python3"
  },
  "language_info": {
   "codemirror_mode": {
    "name": "ipython",
    "version": 3
   },
   "file_extension": ".py",
   "mimetype": "text/x-python",
   "name": "python",
   "nbconvert_exporter": "python",
   "pygments_lexer": "ipython3",
   "version": "3.5.2"
  }
 },
 "nbformat": 4,
 "nbformat_minor": 2
}
