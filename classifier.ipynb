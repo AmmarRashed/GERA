{
 "cells": [
  {
   "cell_type": "code",
   "execution_count": 1,
   "metadata": {},
   "outputs": [],
   "source": [
    "from GenoClassifier import *"
   ]
  },
  {
   "cell_type": "code",
   "execution_count": 2,
   "metadata": {},
   "outputs": [],
   "source": [
    "gc = GenoClassifier('results/breast_cancer2.results', 'datasets/breast_cancer2_y', diff=True)"
   ]
  },
  {
   "cell_type": "code",
   "execution_count": 3,
   "metadata": {},
   "outputs": [],
   "source": [
    "clf_diff = MLPClassifier(random_state=42, max_iter=1000, activation='logistic')"
   ]
  },
  {
   "cell_type": "code",
   "execution_count": 4,
   "metadata": {},
   "outputs": [
    {
     "name": "stdout",
     "output_type": "stream",
     "text": [
      "accuracy 0.752777777778\n",
      "recall 0.772857142857\n",
      "f1 0.820889110889\n",
      "precision 0.900476190476\n"
     ]
    }
   ],
   "source": [
    "for metric, score in gc.classify(k=10, model=clf_diff).items():\n",
    "    print(metric, score)"
   ]
  },
  {
   "cell_type": "code",
   "execution_count": 5,
   "metadata": {},
   "outputs": [],
   "source": [
    "gc_raw = GenoClassifier('results/breast_cancer2.results', 'datasets/breast_cancer2_y', diff=False, select_features=True)"
   ]
  },
  {
   "cell_type": "code",
   "execution_count": 6,
   "metadata": {},
   "outputs": [],
   "source": [
    "clf_raw = LogisticRegression(random_state=42, C=3e-6)"
   ]
  },
  {
   "cell_type": "code",
   "execution_count": 7,
   "metadata": {},
   "outputs": [
    {
     "name": "stdout",
     "output_type": "stream",
     "text": [
      "accuracy 0.748611111111\n",
      "recall 0.823452380952\n",
      "f1 0.800426240426\n",
      "precision 0.834761904762\n"
     ]
    }
   ],
   "source": [
    "for metric, score in gc_raw.classify(k=10, model=clf_raw).items():\n",
    "    print(metric, score)"
   ]
  },
  {
   "cell_type": "code",
   "execution_count": null,
   "metadata": {},
   "outputs": [],
   "source": []
  }
 ],
 "metadata": {
  "kernelspec": {
   "display_name": "Python 3",
   "language": "python",
   "name": "python3"
  },
  "language_info": {
   "codemirror_mode": {
    "name": "ipython",
    "version": 3
   },
   "file_extension": ".py",
   "mimetype": "text/x-python",
   "name": "python",
   "nbconvert_exporter": "python",
   "pygments_lexer": "ipython3",
   "version": "3.5.2"
  }
 },
 "nbformat": 4,
 "nbformat_minor": 2
}
