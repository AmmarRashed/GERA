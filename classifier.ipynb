{
 "cells": [
  {
   "cell_type": "code",
   "execution_count": 1,
   "metadata": {},
   "outputs": [],
   "source": [
    "from GenoClassifier import *\n",
    "from sklearn.ensemble import VotingClassifier\n",
    "from sklearn.ensemble import BaggingClassifier"
   ]
  },
  {
   "cell_type": "code",
   "execution_count": 2,
   "metadata": {},
   "outputs": [],
   "source": [
    "log_clf = LogisticRegression(random_state=42, C=3e-6)\n",
    "rnd_clf = RandomForestClassifier(random_state=42)\n",
    "svm_clf = SVC(random_state=42, max_iter=1000)\n",
    "# mlp_clf = MLPClassifier(random_state=42, max_iter=1000, activation='logistic')\n",
    "# mods = {\"Logistic Regression\":log_clf,\"Random Forests\": rnd_clf,\"SVM\": svm_clf,\"MLP\": mlp_clf}\n",
    "mods = {\"Logistic Regression\":log_clf,\"Random Forests\": rnd_clf,\"SVM\": svm_clf}\n",
    "bags = dict()\n",
    "estimators = list()\n",
    "for name, mod in mods.items():\n",
    "    bag = BaggingClassifier(mod, n_estimators=100,\n",
    "                            max_samples=50, bootstrap=True, n_jobs=-1, random_state=42)\n",
    "    bags[name] = bag\n",
    "    estimators.append((name, ))\n",
    "voting_clf = VotingClassifier(\n",
    "    estimators=estimators,\n",
    "    voting='hard')"
   ]
  },
  {
   "cell_type": "markdown",
   "metadata": {},
   "source": [
    "# Using Diff Values"
   ]
  },
  {
   "cell_type": "code",
   "execution_count": 3,
   "metadata": {},
   "outputs": [],
   "source": [
    "gc = GenoClassifier('results/breast_cancer2.results', 'datasets/breast_cancer2_y', diff=True, select_features=True, dim_reduct=True)"
   ]
  },
  {
   "cell_type": "markdown",
   "metadata": {},
   "source": [
    "### Using bagging with 10-folds"
   ]
  },
  {
   "cell_type": "code",
   "execution_count": 4,
   "metadata": {},
   "outputs": [
    {
     "name": "stdout",
     "output_type": "stream",
     "text": [
      "Using bag of  Logistic Regression\n",
      "accuracy 0.613055555556\n",
      "recall 0.748095238095\n",
      "f1 0.652702297702\n",
      "precision 0.61\n",
      "----------\n",
      "Using bag of  SVM\n",
      "accuracy 0.6475\n",
      "recall 0.6475\n",
      "f1 0.785769230769\n",
      "precision 1.0\n",
      "----------\n",
      "Using bag of  Random Forests\n",
      "accuracy 0.740833333333\n",
      "recall 0.733928571429\n",
      "f1 0.835018315018\n",
      "precision 0.983333333333\n",
      "----------\n"
     ]
    }
   ],
   "source": [
    "for name, bag in bags.items():\n",
    "    print(\"Using bag of \",name)\n",
    "    for metric, score in gc.classify(k=10, model=bag).items():\n",
    "        print(metric, score)\n",
    "    print(\"-\"*10)"
   ]
  },
  {
   "cell_type": "markdown",
   "metadata": {},
   "source": [
    "### Using bagging with 10-random-folds"
   ]
  },
  {
   "cell_type": "code",
   "execution_count": 5,
   "metadata": {},
   "outputs": [
    {
     "name": "stdout",
     "output_type": "stream",
     "text": [
      "Using bag of  Logistic Regression\n",
      "accuracy 0.627777777778\n",
      "recall 0.709296259296\n",
      "f1 0.67806993007\n",
      "precision 0.67203962704\n",
      "----------\n",
      "Using bag of  SVM\n",
      "accuracy 0.661111111111\n",
      "recall 0.661111111111\n",
      "f1 0.793989750516\n",
      "precision 1.0\n",
      "----------\n",
      "Using bag of  Random Forests\n",
      "accuracy 0.705555555556\n",
      "recall 0.715776143791\n",
      "f1 0.813555240685\n",
      "precision 0.964331501832\n",
      "----------\n"
     ]
    }
   ],
   "source": [
    "for name, bag in bags.items():\n",
    "    print(\"Using bag of \",name)\n",
    "    for metric, score in gc.classify(k=10, model=bag, random_sampling=True, test_size=0.20).items():\n",
    "        print(metric, score)\n",
    "    print(\"-\"*10)"
   ]
  },
  {
   "cell_type": "markdown",
   "metadata": {},
   "source": [
    "### Only bagging without K-folds"
   ]
  },
  {
   "cell_type": "code",
   "execution_count": 7,
   "metadata": {},
   "outputs": [
    {
     "name": "stdout",
     "output_type": "stream",
     "text": [
      "Using bag of  Logistic Regression\n",
      "accuracy -0.555555555556\n",
      "recall -0.692307692308\n",
      "f1 -0.692307692308\n",
      "precision -0.692307692308\n",
      "----------\n",
      "Using bag of  SVM\n",
      "accuracy -0.722222222222\n",
      "recall -0.722222222222\n",
      "f1 -0.838709677419\n",
      "precision -1.0\n",
      "----------\n",
      "Using bag of  Random Forests\n",
      "accuracy -0.722222222222\n",
      "recall -0.722222222222\n",
      "f1 -0.838709677419\n",
      "precision -1.0\n",
      "----------\n"
     ]
    }
   ],
   "source": [
    "for name, bag in bags.items():\n",
    "    print(\"Using bag of \",name)\n",
    "    for metric, score in gc.classify(k=-1, model=bag, test_size=0.20).items():\n",
    "        print(metric, score)\n",
    "    print(\"-\"*10)"
   ]
  },
  {
   "cell_type": "markdown",
   "metadata": {},
   "source": [
    "# Using no Diff values"
   ]
  },
  {
   "cell_type": "code",
   "execution_count": null,
   "metadata": {},
   "outputs": [],
   "source": [
    "gc_raw = GenoClassifier('results/breast_cancer2.results', 'datasets/breast_cancer2_y', diff=False, select_features=True, dim_reduct=True, scale=True)"
   ]
  },
  {
   "cell_type": "code",
   "execution_count": null,
   "metadata": {},
   "outputs": [
    {
     "name": "stdout",
     "output_type": "stream",
     "text": [
      "Using bag of  Logistic Regression\n"
     ]
    },
    {
     "name": "stderr",
     "output_type": "stream",
     "text": [
      "/usr/local/lib/python3.5/dist-packages/sklearn/feature_selection/univariate_selection.py:113 \u001b[1;31mUserWarning\u001b[0m: Features [ 41 107 111 113 115 117 129 131 143 145] are constant.\n",
      "/usr/local/lib/python3.5/dist-packages/sklearn/feature_selection/univariate_selection.py:114 \u001b[1;31mRuntimeWarning\u001b[0m: invalid value encountered in true_divide\n"
     ]
    },
    {
     "name": "stdout",
     "output_type": "stream",
     "text": [
      "accuracy 0.688888888889\n",
      "recall 0.795476190476\n",
      "f1 0.740388500389\n",
      "precision 0.71\n",
      "----------\n",
      "Using bag of  SVM\n"
     ]
    }
   ],
   "source": [
    "for name, bag in bags.items():\n",
    "    print(\"Using bag of \",name)\n",
    "    for metric, score in gc_raw.classify(k=10, model=bag).items():\n",
    "        print(metric, score)\n",
    "    print(\"-\"*10)"
   ]
  },
  {
   "cell_type": "code",
   "execution_count": null,
   "metadata": {},
   "outputs": [],
   "source": [
    "for name, bag in bags.items():\n",
    "    print(\"Using bag of \",name)\n",
    "    for metric, score in gc_raw.classify(k=10, model=bag, random_sampling=True).items():\n",
    "        print(metric, score)\n",
    "    print(\"-\"*10)"
   ]
  },
  {
   "cell_type": "code",
   "execution_count": null,
   "metadata": {},
   "outputs": [],
   "source": [
    "for name, bag in bags.items():\n",
    "    print(\"Using bag of \",name)\n",
    "    for metric, score in gc_raw.classify(k=-1, model=bag).items():\n",
    "        print(metric, score)\n",
    "    print(\"-\"*10)"
   ]
  },
  {
   "cell_type": "code",
   "execution_count": null,
   "metadata": {},
   "outputs": [],
   "source": []
  }
 ],
 "metadata": {
  "kernelspec": {
   "display_name": "Python 3",
   "language": "python",
   "name": "python3"
  },
  "language_info": {
   "codemirror_mode": {
    "name": "ipython",
    "version": 3
   },
   "file_extension": ".py",
   "mimetype": "text/x-python",
   "name": "python",
   "nbconvert_exporter": "python",
   "pygments_lexer": "ipython3",
   "version": "3.5.2"
  }
 },
 "nbformat": 4,
 "nbformat_minor": 2
}
