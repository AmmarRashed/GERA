{
 "cells": [
  {
   "cell_type": "code",
   "execution_count": 1,
   "metadata": {},
   "outputs": [],
   "source": [
    "import pandas as pd, numpy as np\n",
    "\n",
    "import GEOparse, pyhgnc, pickle\n",
    "\n",
    "\n",
    "\n",
    "from metabolitics.utils import load_network_model\n",
    "from metabolitics.analysis import MetaboliticsAnalysis\n",
    "\n",
    "from sklearn_utils.utils import SkUtilsIO\n",
    "from sklearn_utils.preprocessing import FoldChangeScaler\n",
    "\n",
    "from functools import reduce"
   ]
  },
  {
   "cell_type": "code",
   "execution_count": 2,
   "metadata": {},
   "outputs": [],
   "source": [
    "class FoldChange:\n",
    "    def __init__(self, fold_change):\n",
    "        self.fold_change = fold_change\n",
    "\n",
    "    # OR IS MAX, MAX IS PLUS, THUS OR IS PLUS\n",
    "    def __add__(self, other):\n",
    "        return max(self.fold_change, other.fold_change)\n",
    "    \n",
    "    # AND IS MIN, MIN IS MINUS, THUS AND IS MINUS\n",
    "    def __sub__(self, other):\n",
    "        return min(self.fold_change, other.fold_change)"
   ]
  },
  {
   "cell_type": "code",
   "execution_count": 3,
   "metadata": {},
   "outputs": [],
   "source": [
    "class Genobolitics(MetaboliticsAnalysis):\n",
    "    \n",
    "    def set_objective(self, geo_utils):    \n",
    "        self.clean_objective()\n",
    "        for r in geo_utils.get_all_reactions():\n",
    "            r.objective_coefficient = geo_utils.get_reaction_fold_change(r, nan_strategy=np.mean)\n",
    "            "
   ]
  },
  {
   "cell_type": "code",
   "execution_count": 4,
   "metadata": {},
   "outputs": [],
   "source": [
    "class GEOUtils:\n",
    "    def __init__(self, geo_database_name, model, sample_name):\n",
    "        self.database = GEOparse.get_GEO(geo=geo_database_name, destdir=\"./\")\\\n",
    "                                .table.set_index(\"IDENTIFIER\")[[sample_name]]\n",
    "        self.database = self.clean_database()\n",
    "        self.model = load_network_model(model)    \n",
    "        self.genes = self.get_genes()\n",
    "        self.reactions = self.get_all_reactions()\n",
    "    \n",
    "    def clean_database(self):\n",
    "        ## TODO:Clean the database!\n",
    "        ## TODO: handle NaNs more Hasanly\n",
    "        return self.database.dropna()\n",
    "    \n",
    "    \n",
    "    def get_genes(self):\n",
    "        # use pyhgnc\n",
    "        query = pyhgnc.query()\n",
    "        genes_dict = dict()\n",
    "        for symbol in self.database.index:\n",
    "            try:\n",
    "                genes_dict[symbol] = \"HGNC:{}\".format(query.hgnc(symbol=symbol)[0].identifier)\n",
    "            except IndexError:\n",
    "                continue\n",
    "        return genes_dict.values()\n",
    "        \n",
    "    \n",
    "    def get_reaction_fold_change(self, reaction):\n",
    "        op = [('or', '+'), ('and', '-')]\n",
    "        genes = [(gene, 'FoldChange({})'.format(\n",
    "                self.get_gene_fold_change(gene))) for gene in self.get_reaction_genes(reaction)]\n",
    "        \n",
    "        return eval(reduce(lambda x, y: x.replace(*y), op + genes, reaction.gene_reaction_rule))\n",
    "    \n",
    "    def get_gene_fold_change(self, gene, nan_strategy=np.mean):\n",
    "        return nan_stratgey(self.database.loc[gene])\n",
    "    \n",
    "    def get_all_reactions(self):\n",
    "        return self.model.reactions\n",
    "    \n",
    "    def get_reaction_genes(self, reaction):\n",
    "        return reaction.get_genes()"
   ]
  }
 ],
 "metadata": {
  "kernelspec": {
   "display_name": "Python 3",
   "language": "python",
   "name": "python3"
  },
  "language_info": {
   "codemirror_mode": {
    "name": "ipython",
    "version": 3
   },
   "file_extension": ".py",
   "mimetype": "text/x-python",
   "name": "python",
   "nbconvert_exporter": "python",
   "pygments_lexer": "ipython3",
   "version": "3.5.2"
  }
 },
 "nbformat": 4,
 "nbformat_minor": 2
}
