{
 "cells": [
  {
   "cell_type": "code",
   "execution_count": 1,
   "metadata": {},
   "outputs": [],
   "source": [
    "import pandas as pd, numpy as np\n",
    "\n",
    "import GEOparse, pyhgnc, pickle\n",
    "\n",
    "\n",
    "\n",
    "from metabolitics.utils import load_network_model\n",
    "from metabolitics.analysis import MetaboliticsAnalysis\n",
    "\n",
    "from sklearn_utils.utils import SkUtilsIO\n",
    "from sklearn_utils.preprocessing import FoldChangeScaler\n",
    "\n",
    "from functools import reduce"
   ]
  },
  {
   "cell_type": "code",
   "execution_count": 2,
   "metadata": {},
   "outputs": [],
   "source": [
    "class FoldChange:\n",
    "    def __init__(self, fold_change):\n",
    "        self.fold_change = fold_change\n",
    "\n",
    "    # OR IS MAX, MAX IS PLUS, THUS OR IS PLUS\n",
    "    def __add__(self, other):\n",
    "        return max(self.fold_change, other.fold_change)\n",
    "    \n",
    "    # AND IS MIN, MIN IS MINUS, THUS AND IS MINUS\n",
    "    def __sub__(self, other):\n",
    "        return min(self.fold_change, other.fold_change)"
   ]
  },
  {
   "cell_type": "code",
   "execution_count": 3,
   "metadata": {},
   "outputs": [],
   "source": [
    "class Genobolitics(MetaboliticsAnalysis):\n",
    "    \n",
    "    def set_objective(self, measured_genes):    \n",
    "        self.clean_objective()\n",
    "        for r in self.model.reactions:\n",
    "            r.objective_coefficient = self.get_reaction_fold_change(r, nan_strategy=np.mean)\n",
    "    \n",
    "    def get_reaction_fold_change(self, reaction):\n",
    "        op = [('or', '+'), ('and', '-')]\n",
    "        genes = [(gene, 'FoldChange({})'.format(\n",
    "                self.get_gene_fold_change(gene))) for gene in reaction.get_genes()]\n",
    "        \n",
    "        return eval(reduce(lambda x, y: x.replace(*y), op + genes, reaction.gene_reaction_rule))\n",
    "    \n",
    "    def get_gene_fold_change(self, gene, nan_strategy=np.mean):\n",
    "        return nan_stratgey(self.database.loc[gene])"
   ]
  }
 ],
 "metadata": {
  "kernelspec": {
   "display_name": "Python 3",
   "language": "python",
   "name": "python3"
  },
  "language_info": {
   "codemirror_mode": {
    "name": "ipython",
    "version": 3
   },
   "file_extension": ".py",
   "mimetype": "text/x-python",
   "name": "python",
   "nbconvert_exporter": "python",
   "pygments_lexer": "ipython3",
   "version": "3.5.2"
  }
 },
 "nbformat": 4,
 "nbformat_minor": 2
}
