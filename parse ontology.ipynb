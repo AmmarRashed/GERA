{
 "cells": [
  {
   "cell_type": "code",
   "execution_count": 47,
   "metadata": {
    "collapsed": true
   },
   "outputs": [],
   "source": [
    "from operator import methodcaller\n",
    "from functional import seq\n",
    "from parse import Result, parse\n",
    "from typing import Iterable\n",
    "from operator import itemgetter\n",
    "from Bio import Entrez"
   ]
  },
  {
   "cell_type": "markdown",
   "metadata": {},
   "source": [
    "## Parse MeSH Tree"
   ]
  },
  {
   "cell_type": "code",
   "execution_count": 85,
   "metadata": {
    "collapsed": true
   },
   "outputs": [],
   "source": [
    "def parse_mesh(path: str) -> seq:\n",
    "    return seq(open(path, 'rb'))\\\n",
    "            .map(methodcaller('decode', 'utf-8'))\\\n",
    "            .map(methodcaller('rstrip', '\\n'))\\\n",
    "            .map(methodcaller('lower'))\n",
    "\n",
    "def search(tree: Iterable, term: str) -> seq:\n",
    "    return seq(tree).filter(lambda item: term.lower() in item)\n",
    "\n",
    "def parse_entry(entry: str) -> Result:\n",
    "    return parse('{term};{tag}.{children}', entry)\n",
    "\n",
    "def get_children(tree: Iterable, tag: str, at_level: int = 1):\n",
    "    return seq(search(tree, tag)).map(methodcaller('split', '.')).filter(lambda item: len(item) == at_level)"
   ]
  },
  {
   "cell_type": "code",
   "execution_count": 86,
   "metadata": {
    "collapsed": true
   },
   "outputs": [],
   "source": [
    "# @hidden_cell\n",
    "Entrez.email = \"talaataboudakika@std.sehir.edu.tr\""
   ]
  },
  {
   "cell_type": "code",
   "execution_count": 87,
   "metadata": {},
   "outputs": [
    {
     "name": "stdout",
     "output_type": "stream",
     "text": [
      "mtrees2017.bin\r\n"
     ]
    }
   ],
   "source": [
    "%ls *.bin"
   ]
  },
  {
   "cell_type": "code",
   "execution_count": 88,
   "metadata": {
    "collapsed": true
   },
   "outputs": [],
   "source": [
    "tree = parse_mesh('mtrees2017.bin').to_list()"
   ]
  },
  {
   "cell_type": "code",
   "execution_count": 99,
   "metadata": {
    "collapsed": true
   },
   "outputs": [],
   "source": [
    "result = get_children(tree, 'c04', 2)"
   ]
  },
  {
   "cell_type": "code",
   "execution_count": 100,
   "metadata": {
    "collapsed": true
   },
   "outputs": [],
   "source": [
    "base_query = \"\"\"{disease}[MeSH Terms] AND normal[Subset Description] AND Homo sapiens [Organism] AND \"Expression profiling by array\"[Filter] AND \"attribute name tissue\"[Filter] AND (\"20\"[n_samples] : \"10000\"[n_samples]))\"\"\""
   ]
  },
  {
   "cell_type": "code",
   "execution_count": 101,
   "metadata": {
    "collapsed": true
   },
   "outputs": [],
   "source": [
    "records = []\n",
    "\n",
    "for i,_ in result:\n",
    "    handle = Entrez.esearch(db=\"gds\", field='title', term=base_query.format(base_query, disease=i.split(';')[0]))\n",
    "    records.append(Entrez.read(handle))\n",
    "    handle.close()"
   ]
  },
  {
   "cell_type": "code",
   "execution_count": 102,
   "metadata": {
    "collapsed": true
   },
   "outputs": [],
   "source": [
    "found = seq(records).filter(lambda item: int(item['Count'])).map(itemgetter('Count', 'QueryTranslation'))"
   ]
  },
  {
   "cell_type": "markdown",
   "metadata": {},
   "source": [
    "### Sibilings of neoplasms by site and their datasets counts\n",
    "\n",
    "datasets with less than 20 samples or no healthy samplesare discarded!!"
   ]
  },
  {
   "cell_type": "code",
   "execution_count": 103,
   "metadata": {},
   "outputs": [
    {
     "data": {
      "text/html": [
       "<table>\n",
       "<tbody>\n",
       "<tr><td>neoplasms by histologic type    </td><td style=\"text-align: right;\">21</td></tr>\n",
       "<tr><td>neoplasms by site               </td><td style=\"text-align: right;\">24</td></tr>\n",
       "<tr><td>neoplastic processes            </td><td style=\"text-align: right;\"> 7</td></tr>\n",
       "<tr><td>neoplastic syndromes, hereditary</td><td style=\"text-align: right;\"> 1</td></tr>\n",
       "<tr><td>precancerous conditions         </td><td style=\"text-align: right;\"> 1</td></tr>\n",
       "</tbody>\n",
       "</table>"
      ],
      "text/plain": [
       "[('neoplasms by histologic type', '21'), ('neoplasms by site', '24'), ('neoplastic processes', '7'), ('neoplastic syndromes, hereditary', '1'), ('precancerous conditions', '1')]"
      ]
     },
     "execution_count": 103,
     "metadata": {},
     "output_type": "execute_result"
    }
   ],
   "source": [
    "found.map(lambda item: (parse('\"{keyword}\"{}', item[1])['keyword'], item[0]))"
   ]
  }
 ],
 "metadata": {
  "kernelspec": {
   "display_name": "Python 3",
   "language": "python",
   "name": "python3"
  },
  "language_info": {
   "codemirror_mode": {
    "name": "ipython",
    "version": 3
   },
   "file_extension": ".py",
   "mimetype": "text/x-python",
   "name": "python",
   "nbconvert_exporter": "python",
   "pygments_lexer": "ipython3",
   "version": "3.6.3"
  }
 },
 "nbformat": 4,
 "nbformat_minor": 2
}
