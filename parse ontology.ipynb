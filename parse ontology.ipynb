{
 "cells": [
  {
   "cell_type": "code",
   "execution_count": 2,
   "metadata": {
    "collapsed": true
   },
   "outputs": [],
   "source": [
    "from operator import methodcaller\n",
    "from functional import seq, pseq\n",
    "from functools import partial, reduce\n",
    "from parse import Result, parse\n",
    "from typing import Iterable\n",
    "from operator import itemgetter, concat\n",
    "from Bio import Entrez\n",
    "\n",
    "import pandas as pd\n",
    "import time\n",
    "import re"
   ]
  },
  {
   "cell_type": "code",
   "execution_count": 3,
   "metadata": {
    "collapsed": true
   },
   "outputs": [],
   "source": [
    "base_query = \"\"\"{disease}[MeSH Terms] AND normal[Subset Description] AND Homo sapiens [Organism] AND \"Expression profiling by array\"[Filter] AND \"attribute name tissue\"[Filter] AND (\"20\"[n_samples] : \"10000\"[n_samples]))\"\"\""
   ]
  },
  {
   "cell_type": "markdown",
   "metadata": {},
   "source": [
    "## Parse MeSH Tree"
   ]
  },
  {
   "cell_type": "code",
   "execution_count": 4,
   "metadata": {},
   "outputs": [],
   "source": [
    "def parse_mesh(path: str) -> seq:\n",
    "    return seq(open(path, 'rb'))\\\n",
    "            .map(methodcaller('decode', 'utf-8'))\\\n",
    "            .map(methodcaller('rstrip', '\\n'))\\\n",
    "            .map(methodcaller('lower'))\n",
    "\n",
    "def search(tree: Iterable, term: str) -> seq:\n",
    "    return seq(tree).filter(lambda item: term.lower() in item)\n",
    "\n",
    "def parse_entry(entry: str) -> Result:\n",
    "    return parse('{term};{tag}.{children}', entry)\n",
    "\n",
    "def get_children(tree: Iterable, tag: str, level=None):\n",
    "    return seq(search(tree, tag))\\\n",
    "            .filter(lambda item: len(item.split('.')) == level if level else len(item) > 1)\\\n",
    "            .map(lambda item: item.split(';')[0:2][::-1])\n",
    "        \n",
    "def until(tag: str, level: int) -> str:\n",
    "    return '.'.join(tag.split('.')[:level])\n",
    "\n",
    "def query(q: str):\n",
    "    handle = Entrez.esearch(db=\"gds\", field='title', term=q)\n",
    "    result = None\n",
    "    \n",
    "    try:\n",
    "        result = Entrez.read(handle)\n",
    "    \n",
    "    except Exception as e:\n",
    "        print(time.sleep(5.0) or e)\n",
    "        result = query(q)\n",
    "    \n",
    "    finally:\n",
    "        handle.close()\n",
    "        return result"
   ]
  },
  {
   "cell_type": "code",
   "execution_count": 5,
   "metadata": {
    "collapsed": true
   },
   "outputs": [],
   "source": [
    "# @hidden_cell\n",
    "Entrez.email = \"talaataboudakika@std.sehir.edu.tr\""
   ]
  },
  {
   "cell_type": "code",
   "execution_count": 6,
   "metadata": {
    "collapsed": true
   },
   "outputs": [],
   "source": [
    "tree = parse_mesh('mtrees2017.bin').to_list()"
   ]
  },
  {
   "cell_type": "code",
   "execution_count": 7,
   "metadata": {},
   "outputs": [],
   "source": [
    "result = seq(map(partial(get_children, tree, 'c04'), range(2, 10))).flatten()\\\n",
    "            .map(lambda item: (until(item[0], 2), item[1]))\\\n",
    "            .group_by_key().map(lambda item: (item[0], item[1][0], item[1][1:]))"
   ]
  },
  {
   "cell_type": "code",
   "execution_count": 14,
   "metadata": {},
   "outputs": [],
   "source": [
    "df = result.to_pandas(columns=['tag', 'term', 'children'])"
   ]
  },
  {
   "cell_type": "code",
   "execution_count": 9,
   "metadata": {},
   "outputs": [],
   "source": [
    "records = result.map(lambda x: (x[0], seq(x[2] + [x[1]])\n",
    "                                .map(lambda child: query(base_query.format(disease=child)))))"
   ]
  },
  {
   "cell_type": "code",
   "execution_count": 10,
   "metadata": {},
   "outputs": [],
   "source": [
    "counts = records.map(lambda x: (x[0], x[1].map(itemgetter('IdList'))\\\n",
    "                                           .reduce(lambda y, z: y + z))).map(lambda x: (x[0], len(set(x[1]))))"
   ]
  },
  {
   "cell_type": "code",
   "execution_count": 21,
   "metadata": {},
   "outputs": [
    {
     "data": {
      "text/html": [
       "<div>\n",
       "<style>\n",
       "    .dataframe thead tr:only-child th {\n",
       "        text-align: right;\n",
       "    }\n",
       "\n",
       "    .dataframe thead th {\n",
       "        text-align: left;\n",
       "    }\n",
       "\n",
       "    .dataframe tbody tr th {\n",
       "        vertical-align: top;\n",
       "    }\n",
       "</style>\n",
       "<table border=\"1\" class=\"dataframe\">\n",
       "  <thead>\n",
       "    <tr style=\"text-align: right;\">\n",
       "      <th></th>\n",
       "      <th>term</th>\n",
       "      <th>count</th>\n",
       "    </tr>\n",
       "  </thead>\n",
       "  <tbody>\n",
       "    <tr>\n",
       "      <th>3</th>\n",
       "      <td>neoplasms by site</td>\n",
       "      <td>25</td>\n",
       "    </tr>\n",
       "    <tr>\n",
       "      <th>2</th>\n",
       "      <td>neoplasms by histologic type</td>\n",
       "      <td>21</td>\n",
       "    </tr>\n",
       "    <tr>\n",
       "      <th>10</th>\n",
       "      <td>neoplastic processes</td>\n",
       "      <td>7</td>\n",
       "    </tr>\n",
       "    <tr>\n",
       "      <th>11</th>\n",
       "      <td>neoplastic syndromes, hereditary</td>\n",
       "      <td>1</td>\n",
       "    </tr>\n",
       "    <tr>\n",
       "      <th>13</th>\n",
       "      <td>precancerous conditions</td>\n",
       "      <td>1</td>\n",
       "    </tr>\n",
       "    <tr>\n",
       "      <th>0</th>\n",
       "      <td>cysts</td>\n",
       "      <td>0</td>\n",
       "    </tr>\n",
       "    <tr>\n",
       "      <th>1</th>\n",
       "      <td>hamartoma</td>\n",
       "      <td>0</td>\n",
       "    </tr>\n",
       "    <tr>\n",
       "      <th>4</th>\n",
       "      <td>neoplasms, experimental</td>\n",
       "      <td>0</td>\n",
       "    </tr>\n",
       "    <tr>\n",
       "      <th>5</th>\n",
       "      <td>neoplasms, hormone-dependent</td>\n",
       "      <td>0</td>\n",
       "    </tr>\n",
       "    <tr>\n",
       "      <th>6</th>\n",
       "      <td>neoplasms, multiple primary</td>\n",
       "      <td>0</td>\n",
       "    </tr>\n",
       "    <tr>\n",
       "      <th>7</th>\n",
       "      <td>neoplasms, post-traumatic</td>\n",
       "      <td>0</td>\n",
       "    </tr>\n",
       "    <tr>\n",
       "      <th>8</th>\n",
       "      <td>neoplasms, radiation-induced</td>\n",
       "      <td>0</td>\n",
       "    </tr>\n",
       "    <tr>\n",
       "      <th>9</th>\n",
       "      <td>neoplasms, second primary</td>\n",
       "      <td>0</td>\n",
       "    </tr>\n",
       "    <tr>\n",
       "      <th>12</th>\n",
       "      <td>paraneoplastic syndromes</td>\n",
       "      <td>0</td>\n",
       "    </tr>\n",
       "    <tr>\n",
       "      <th>14</th>\n",
       "      <td>pregnancy complications, neoplastic</td>\n",
       "      <td>0</td>\n",
       "    </tr>\n",
       "  </tbody>\n",
       "</table>\n",
       "</div>"
      ],
      "text/plain": [
       "                                   term  count\n",
       "3                     neoplasms by site     25\n",
       "2          neoplasms by histologic type     21\n",
       "10                 neoplastic processes      7\n",
       "11     neoplastic syndromes, hereditary      1\n",
       "13              precancerous conditions      1\n",
       "0                                 cysts      0\n",
       "1                             hamartoma      0\n",
       "4               neoplasms, experimental      0\n",
       "5          neoplasms, hormone-dependent      0\n",
       "6           neoplasms, multiple primary      0\n",
       "7             neoplasms, post-traumatic      0\n",
       "8          neoplasms, radiation-induced      0\n",
       "9             neoplasms, second primary      0\n",
       "12             paraneoplastic syndromes      0\n",
       "14  pregnancy complications, neoplastic      0"
      ]
     },
     "execution_count": 21,
     "metadata": {},
     "output_type": "execute_result"
    }
   ],
   "source": [
    "counts.to_pandas(columns=['tag', 'count']).merge(df)[['term', 'count']].sort_values('count', ascending=False)"
   ]
  }
 ],
 "metadata": {
  "kernelspec": {
   "display_name": "Python 3",
   "language": "python",
   "name": "python3"
  },
  "language_info": {
   "codemirror_mode": {
    "name": "ipython",
    "version": 3
   },
   "file_extension": ".py",
   "mimetype": "text/x-python",
   "name": "python",
   "nbconvert_exporter": "python",
   "pygments_lexer": "ipython3",
   "version": "3.6.3"
  }
 },
 "nbformat": 4,
 "nbformat_minor": 2
}
