{
 "cells": [
  {
   "cell_type": "code",
   "execution_count": 367,
   "metadata": {},
   "outputs": [],
   "source": [
    "from operator import methodcaller\n",
    "from functional import seq\n",
    "from parse import Result, parse\n",
    "from typing import Iterable\n",
    "from operator import itemgetter\n",
    "from Bio import Entrez"
   ]
  },
  {
   "cell_type": "markdown",
   "metadata": {},
   "source": [
    "## Parse MeSH Tree"
   ]
  },
  {
   "cell_type": "code",
   "execution_count": 426,
   "metadata": {
    "collapsed": true
   },
   "outputs": [],
   "source": [
    "def parse_mesh(path: str) -> seq:\n",
    "    return seq(open(path, 'rb'))\\\n",
    "            .map(methodcaller('decode', 'utf-8'))\\\n",
    "            .map(methodcaller('rstrip', '\\n'))\\\n",
    "            .map(methodcaller('lower'))\n",
    "\n",
    "def search(tree: Iterable, term: str) -> seq:\n",
    "    return seq(tree).filter(lambda item: term.lower() in item)\n",
    "\n",
    "def parse_entry(entry: str) -> Result:\n",
    "    return parse('{term};{tag}.{children}', entry)\n",
    "\n",
    "def get_children(tree: Iterable, tag: str, at_level: int = 1):\n",
    "    return seq(search(tree, tag)).map(methodcaller('split', '.'))\\\n",
    "            .filter(lambda item: len(item) == at_level)"
   ]
  },
  {
   "cell_type": "code",
   "execution_count": 244,
   "metadata": {
    "collapsed": true
   },
   "outputs": [],
   "source": [
    "# @hidden_cell\n",
    "Entrez.email = \"talaataboudakika@std.sehir.edu.tr\""
   ]
  },
  {
   "cell_type": "code",
   "execution_count": 226,
   "metadata": {},
   "outputs": [
    {
     "name": "stdout",
     "output_type": "stream",
     "text": [
      "mtrees2017.bin\r\n"
     ]
    }
   ],
   "source": [
    "%ls *.bin"
   ]
  },
  {
   "cell_type": "code",
   "execution_count": 227,
   "metadata": {},
   "outputs": [],
   "source": [
    "tree = parse_mesh('mtrees2017.bin').to_list()"
   ]
  },
  {
   "cell_type": "code",
   "execution_count": 424,
   "metadata": {},
   "outputs": [],
   "source": [
    "result = get_children(tree, 'neoplasms', 2)"
   ]
  },
  {
   "cell_type": "code",
   "execution_count": 254,
   "metadata": {},
   "outputs": [
    {
     "data": {
      "text/plain": [
       "17"
      ]
     },
     "execution_count": 254,
     "metadata": {},
     "output_type": "execute_result"
    }
   ],
   "source": [
    "result.size()"
   ]
  },
  {
   "cell_type": "code",
   "execution_count": 350,
   "metadata": {},
   "outputs": [],
   "source": [
    "base_query = \"\"\"{disease}[MeSH Terms] AND normal[Subset Description] AND Homo sapiens [Organism] AND \"Expression profiling by array\"[Filter] AND \"attribute name tissue\"[Filter] AND (\"20\"[n_samples] : \"10000\"[n_samples]))\"\"\""
   ]
  },
  {
   "cell_type": "code",
   "execution_count": 429,
   "metadata": {},
   "outputs": [],
   "source": [
    "records = []\n",
    "\n",
    "for i,_ in result:\n",
    "    handle = Entrez.esearch(db=\"gds\", field='title', term=base_query.format(base_query, disease=i.split(';')[0]))\n",
    "    records.append(Entrez.read(handle))\n",
    "    handle.close()"
   ]
  },
  {
   "cell_type": "code",
   "execution_count": 430,
   "metadata": {},
   "outputs": [],
   "source": [
    "found = seq(records).filter(lambda item: int(item['Count'])).map(itemgetter('Count', 'QueryTranslation'))"
   ]
  },
  {
   "cell_type": "markdown",
   "metadata": {},
   "source": [
    "### Sibilings of neoplasms by site and their datasets counts\n",
    "\n",
    "datasets with less than 20 samples or no healthy samplesare discarded!!"
   ]
  },
  {
   "cell_type": "code",
   "execution_count": 431,
   "metadata": {},
   "outputs": [
    {
     "data": {
      "text/html": [
       "<table>\n",
       "<tbody>\n",
       "<tr><td>neoplasms by histologic type</td><td style=\"text-align: right;\">21</td></tr>\n",
       "<tr><td>neoplasms by site           </td><td style=\"text-align: right;\">24</td></tr>\n",
       "<tr><td>digestive system neoplasms  </td><td style=\"text-align: right;\">11</td></tr>\n",
       "<tr><td>respiratory tract neoplasms </td><td style=\"text-align: right;\"> 4</td></tr>\n",
       "<tr><td>nervous system neoplasms    </td><td style=\"text-align: right;\"> 1</td></tr>\n",
       "<tr><td>urogenital neoplasms        </td><td style=\"text-align: right;\"> 6</td></tr>\n",
       "<tr><td>endocrine gland neoplasms   </td><td style=\"text-align: right;\"> 3</td></tr>\n",
       "</tbody>\n",
       "</table>"
      ],
      "text/plain": [
       "[('neoplasms by histologic type', '21'), ('neoplasms by site', '24'), ('digestive system neoplasms', '11'), ('respiratory tract neoplasms', '4'), ('nervous system neoplasms', '1'), ('urogenital neoplasms', '6'), ('endocrine gland neoplasms', '3')]"
      ]
     },
     "execution_count": 431,
     "metadata": {},
     "output_type": "execute_result"
    }
   ],
   "source": [
    "found.map(lambda item: (parse('\"{keyword}\"{}', item[1])['keyword'], item[0]))"
   ]
  },
  {
   "cell_type": "code",
   "execution_count": null,
   "metadata": {
    "collapsed": true
   },
   "outputs": [],
   "source": []
  }
 ],
 "metadata": {
  "kernelspec": {
   "display_name": "Python 3",
   "language": "python",
   "name": "python3"
  },
  "language_info": {
   "codemirror_mode": {
    "name": "ipython",
    "version": 3
   },
   "file_extension": ".py",
   "mimetype": "text/x-python",
   "name": "python",
   "nbconvert_exporter": "python",
   "pygments_lexer": "ipython3",
   "version": "3.6.3"
  }
 },
 "nbformat": 4,
 "nbformat_minor": 2
}
