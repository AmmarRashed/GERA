{
 "cells": [
  {
   "cell_type": "code",
   "execution_count": 3,
   "metadata": {},
   "outputs": [],
   "source": [
    "import numpy as np\n",
    "from sklearn.pipeline import Pipeline\n",
    "\n",
    "import GEOparse\n",
    "from Genobolitics import *\n",
    "from sklearn_utils.preprocessing import FoldChangeScaler\n",
    "from metabolitics.preprocessing import MetaboliticsTransformer, MetaboliticsPipeline\n",
    "\n",
    "import pickle"
   ]
  },
  {
   "cell_type": "code",
   "execution_count": 2,
   "metadata": {},
   "outputs": [
    {
     "name": "stderr",
     "output_type": "stream",
     "text": [
      "05-Jan-2018 15:28:01 INFO GEOparse - Downloading ftp://ftp.ncbi.nlm.nih.gov/geo/datasets/GDS3nnn/GDS3952/soft/GDS3952.soft.gz to ./GDS3952.soft.gz\n",
      "05-Jan-2018 15:28:01 INFO utils - Downloading ftp://ftp.ncbi.nlm.nih.gov/geo/datasets/GDS3nnn/GDS3952/soft/GDS3952.soft.gz to ./GDS3952.soft.gz\n",
      "\n"
     ]
    },
    {
     "name": "stdout",
     "output_type": "stream",
     "text": [
      "D: 100% - 13.0MiB  / 13.0MiB  eta 0:00:00\r"
     ]
    },
    {
     "name": "stderr",
     "output_type": "stream",
     "text": [
      "05-Jan-2018 15:28:18 INFO GEOparse - Parsing ./GDS3952.soft.gz: \n",
      "05-Jan-2018 15:28:18 DEBUG GEOparse - DATABASE: Geo\n",
      "05-Jan-2018 15:28:18 DEBUG GEOparse - DATASET: GDS3952\n",
      "05-Jan-2018 15:28:18 DEBUG GEOparse - SUBSET: GDS3952_1\n",
      "05-Jan-2018 15:28:18 DEBUG GEOparse - SUBSET: GDS3952_2\n",
      "05-Jan-2018 15:28:18 DEBUG GEOparse - SUBSET: GDS3952_3\n",
      "05-Jan-2018 15:28:18 DEBUG GEOparse - SUBSET: GDS3952_4\n",
      "05-Jan-2018 15:28:18 DEBUG GEOparse - SUBSET: GDS3952_5\n",
      "05-Jan-2018 15:28:18 DEBUG GEOparse - SUBSET: GDS3952_6\n",
      "05-Jan-2018 15:28:18 DEBUG GEOparse - SUBSET: GDS3952_7\n",
      "05-Jan-2018 15:28:18 DEBUG GEOparse - SUBSET: GDS3952_8\n",
      "05-Jan-2018 15:28:18 DEBUG GEOparse - DATASET: GDS3952\n"
     ]
    },
    {
     "name": "stdout",
     "output_type": "stream",
     "text": [
      "\n"
     ]
    },
    {
     "name": "stderr",
     "output_type": "stream",
     "text": [
      "/home/abdu/Desktop/virtualenv/GERA/lib/python3.5/site-packages/GEOparse/GEOparse.py:330 \u001b[1;31mFutureWarning\u001b[0m: from_csv is deprecated. Please use read_csv(...) instead. Note that some of the default arguments are different, so please refer to the documentation for from_csv when changing your function calls\n"
     ]
    }
   ],
   "source": [
    "breast_cancer_dataset = GEOparse.get_GEO('GDS3952').table"
   ]
  },
  {
   "cell_type": "code",
   "execution_count": 7,
   "metadata": {},
   "outputs": [],
   "source": [
    "unhealthy_raw = '\\\n",
    "#GSM681992 = Value for GSM681992: PBMC_malignant_training_1; src: PBMCs from patients with diagnosis of invasive breast cancer, confirmed by diagnostic biopsy\\\n",
    "#GSM681993 = Value for GSM681993: PBMC_malignant_training_2; src: PBMCs from patients with diagnosis of invasive breast cancer, confirmed by diagnostic biopsy\\\n",
    "#GSM681994 = Value for GSM681994: PBMC_malignant_training_3; src: PBMCs from patients with diagnosis of invasive breast cancer, confirmed by diagnostic biopsy\\\n",
    "#GSM681995 = Value for GSM681995: PBMC_malignant_training_4; src: PBMCs from patients with diagnosis of invasive breast cancer, confirmed by diagnostic biopsy\\\n",
    "#GSM681996 = Value for GSM681996: PBMC_malignant_training_5; src: PBMCs from patients with diagnosis of invasive breast cancer, confirmed by diagnostic biopsy\\\n",
    "#GSM681997 = Value for GSM681997: PBMC_malignant_training_6; src: PBMCs from patients with diagnosis of invasive breast cancer, confirmed by diagnostic biopsy\\\n",
    "#GSM681998 = Value for GSM681998: PBMC_malignant_training_7; src: PBMCs from patients with diagnosis of invasive breast cancer, confirmed by diagnostic biopsy\\\n",
    "#GSM681999 = Value for GSM681999: PBMC_malignant_training_8; src: PBMCs from patients with diagnosis of invasive breast cancer, confirmed by diagnostic biopsy\\\n",
    "#GSM682000 = Value for GSM682000: PBMC_malignant_training_9; src: PBMCs from patients with diagnosis of invasive breast cancer, confirmed by diagnostic biopsy\\\n",
    "#GSM682001 = Value for GSM682001: PBMC_malignant_training_10; src: PBMCs from patients with diagnosis of invasive breast cancer, confirmed by diagnostic biopsy\\\n",
    "#GSM682055 = Value for GSM682055: PBMC_malignant_validation_1; src: PBMCs from patients with diagnosis of invasive breast cancer, confirmed by diagnostic biopsy\\\n",
    "#GSM682056 = Value for GSM682056: PBMC_malignant_validation_2; src: PBMCs from patients with diagnosis of invasive breast cancer, confirmed by diagnostic biopsy\\\n",
    "#GSM682057 = Value for GSM682057: PBMC_malignant_validation_3; src: PBMCs from patients with diagnosis of invasive breast cancer, confirmed by diagnostic biopsy\\\n",
    "#GSM682058 = Value for GSM682058: PBMC_malignant_validation_4; src: PBMCs from patients with diagnosis of invasive breast cancer, confirmed by diagnostic biopsy\\\n",
    "#GSM682059 = Value for GSM682059: PBMC_malignant_validation_5; src: PBMCs from patients with diagnosis of invasive breast cancer, confirmed by diagnostic biopsy\\\n",
    "#GSM682060 = Value for GSM682060: PBMC_malignant_validation_6; src: PBMCs from patients with diagnosis of invasive breast cancer, confirmed by diagnostic biopsy\\\n",
    "#GSM682061 = Value for GSM682061: PBMC_malignant_validation_7; src: PBMCs from patients with diagnosis of invasive breast cancer, confirmed by diagnostic biopsy\\\n",
    "#GSM682062 = Value for GSM682062: PBMC_malignant_validation_8; src: PBMCs from patients with diagnosis of invasive breast cancer, confirmed by diagnostic biopsy\\\n",
    "#GSM682063 = Value for GSM682063: PBMC_malignant_validation_9; src: PBMCs from patients with diagnosis of invasive breast cancer, confirmed by diagnostic biopsy\\\n",
    "#GSM682064 = Value for GSM682064: PBMC_malignant_validation_10; src: PBMCs from patients with diagnosis of invasive breast cancer, confirmed by diagnostic biopsy\\\n",
    "#GSM682065 = Value for GSM682065: PBMC_malignant_validation_11; src: PBMCs from patients with diagnosis of invasive breast cancer, confirmed by diagnostic biopsy\\\n",
    "#GSM682066 = Value for GSM682066: PBMC_malignant_validation_12; src: PBMCs from patients with diagnosis of invasive breast cancer, confirmed by diagnostic biopsy\\\n",
    "#GSM682067 = Value for GSM682067: PBMC_malignant_validation_13; src: PBMCs from patients with diagnosis of invasive breast cancer, confirmed by diagnostic biopsy\\\n",
    "#GSM682068 = Value for GSM682068: PBMC_malignant_validation_14; src: PBMCs from patients with diagnosis of invasive breast cancer, confirmed by diagnostic biopsy\\\n",
    "#GSM682069 = Value for GSM682069: PBMC_malignant_validation_15; src: PBMCs from patients with diagnosis of invasive breast cancer, confirmed by diagnostic biopsy\\\n",
    "#GSM682070 = Value for GSM682070: PBMC_malignant_validation_16; src: PBMCs from patients with diagnosis of invasive breast cancer, confirmed by diagnostic biopsy\\\n",
    "#GSM682071 = Value for GSM682071: PBMC_malignant_validation_17; src: PBMCs from patients with diagnosis of invasive breast cancer, confirmed by diagnostic biopsy\\\n",
    "#GSM682072 = Value for GSM682072: PBMC_malignant_validation_18; src: PBMCs from patients with diagnosis of invasive breast cancer, confirmed by diagnostic biopsy\\\n",
    "#GSM682073 = Value for GSM682073: PBMC_malignant_validation_19; src: PBMCs from patients with diagnosis of invasive breast cancer, confirmed by diagnostic biopsy\\\n",
    "#GSM682074 = Value for GSM682074: PBMC_malignant_validation_20; src: PBMCs from patients with diagnosis of invasive breast cancer, confirmed by diagnostic biopsy\\\n",
    "#GSM682075 = Value for GSM682075: PBMC_malignant_validation_21; src: PBMCs from patients with diagnosis of invasive breast cancer, confirmed by diagnostic biopsy\\\n",
    "#GSM682076 = Value for GSM682076: PBMC_malignant_validation_22; src: PBMCs from patients with diagnosis of invasive breast cancer, confirmed by diagnostic biopsy\\\n",
    "#GSM682077 = Value for GSM682077: PBMC_malignant_validation_23; src: PBMCs from patients with diagnosis of invasive breast cancer, confirmed by diagnostic biopsy\\\n",
    "#GSM682078 = Value for GSM682078: PBMC_malignant_validation_24; src: PBMCs from patients with diagnosis of invasive breast cancer, confirmed by diagnostic biopsy\\\n",
    "#GSM682079 = Value for GSM682079: PBMC_malignant_validation_25; src: PBMCs from patients with diagnosis of invasive breast cancer, confirmed by diagnostic biopsy\\\n",
    "#GSM682080 = Value for GSM682080: PBMC_malignant_validation_26; src: PBMCs from patients with diagnosis of invasive breast cancer, confirmed by diagnostic biopsy\\\n",
    "#GSM682081 = Value for GSM682081: PBMC_malignant_validation_27; src: PBMCs from patients with diagnosis of invasive breast cancer, confirmed by diagnostic biopsy\\\n",
    "#GSM682082 = Value for GSM682082: PBMC_malignant_validation_28; src: PBMCs from patients with diagnosis of invasive breast cancer, confirmed by diagnostic biopsy\\\n",
    "#GSM682083 = Value for GSM682083: PBMC_malignant_validation_29; src: PBMCs from patients with diagnosis of invasive breast cancer, confirmed by diagnostic biopsy\\\n",
    "#GSM682084 = Value for GSM682084: PBMC_malignant_validation_30; src: PBMCs from patients with diagnosis of invasive breast cancer, confirmed by diagnostic biopsy\\\n",
    "#GSM682085 = Value for GSM682085: PBMC_malignant_validation_31; src: PBMCs from patients with diagnosis of invasive breast cancer, confirmed by diagnostic biopsy\\\n",
    "#GSM682086 = Value for GSM682086: PBMC_malignant_validation_32; src: PBMCs from patients with diagnosis of invasive breast cancer, confirmed by diagnostic biopsy\\\n",
    "#GSM682087 = Value for GSM682087: PBMC_malignant_validation_33; src: PBMCs from patients with diagnosis of invasive breast cancer, confirmed by diagnostic biopsy\\\n",
    "#GSM682088 = Value for GSM682088: PBMC_malignant_validation_34; src: PBMCs from patients with diagnosis of invasive breast cancer, confirmed by diagnostic biopsy\\\n",
    "#GSM682089 = Value for GSM682089: PBMC_malignant_validation_35; src: PBMCs from patients with diagnosis of invasive breast cancer, confirmed by diagnostic biopsy\\\n",
    "#GSM682090 = Value for GSM682090: PBMC_malignant_validation_36; src: PBMCs from patients with diagnosis of invasive breast cancer, confirmed by diagnostic biopsy\\\n",
    "#GSM682091 = Value for GSM682091: PBMC_malignant_validation_37; src: PBMCs from patients with diagnosis of invasive breast cancer, confirmed by diagnostic biopsy\\\n",
    "#GSM682092 = Value for GSM682092: PBMC_malignant_validation_38; src: PBMCs from patients with diagnosis of invasive breast cancer, confirmed by diagnostic biopsy\\\n",
    "#GSM682093 = Value for GSM682093: PBMC_malignant_validation_39; src: PBMCs from patients with diagnosis of invasive breast cancer, confirmed by diagnostic biopsy\\\n",
    "#GSM682094 = Value for GSM682094: PBMC_malignant_validation_40; src: PBMCs from patients with diagnosis of invasive breast cancer, confirmed by diagnostic biopsy\\\n",
    "#GSM682095 = Value for GSM682095: PBMC_malignant_validation_41; src: PBMCs from patients with diagnosis of invasive breast cancer, confirmed by diagnostic biopsy\\\n",
    "#GSM682123 = Value for GSM682123: PBMC_malignant_validation_42; src: PBMCs from patients with diagnosis of invasive breast cancer, confirmed by diagnostic biopsy\\\n",
    "#GSM682124 = Value for GSM682124: PBMC_malignant_validation_43; src: PBMCs from patients with diagnosis of invasive breast cancer, confirmed by diagnostic biopsy\\\n",
    "#GSM682125 = Value for GSM682125: PBMC_malignant_validation_44; src: PBMCs from patients with diagnosis of invasive breast cancer, confirmed by diagnostic biopsy\\\n",
    "#GSM682126 = Value for GSM682126: PBMC_malignant_validation_45; src: PBMCs from patients with diagnosis of invasive breast cancer, confirmed by diagnostic biopsy\\\n",
    "#GSM682127 = Value for GSM682127: PBMC_malignant_validation_46; src: PBMCs from patients with diagnosis of invasive breast cancer, confirmed by diagnostic biopsy\\\n",
    "#GSM682128 = Value for GSM682128: PBMC_malignant_validation_47; src: PBMCs from patients with diagnosis of invasive breast cancer, confirmed by diagnostic biopsy'"
   ]
  },
  {
   "cell_type": "code",
   "execution_count": 5,
   "metadata": {},
   "outputs": [],
   "source": [
    "healthy_raw = '\\\n",
    "#GSM681982 = Value for GSM681982: PBMC_normal_training_1; src: PBMCs from patients with normal mammogram\\\n",
    "#GSM681983 = Value for GSM681983: PBMC_normal_training_2; src: PBMCs from patients with normal mammogram\\\n",
    "#GSM681984 = Value for GSM681984: PBMC_normal_training_3; src: PBMCs from patients with normal mammogram\\\n",
    "#GSM681985 = Value for GSM681985: PBMC_normal_training_4; src: PBMCs from patients with normal mammogram\\\n",
    "#GSM681986 = Value for GSM681986: PBMC_normal_training_5; src: PBMCs from patients with normal mammogram\\\n",
    "#GSM681987 = Value for GSM681987: PBMC_normal_training_6; src: PBMCs from patients with normal mammogram\\\n",
    "#GSM681988 = Value for GSM681988: PBMC_normal_training_7; src: PBMCs from patients with normal mammogram\\\n",
    "#GSM681989 = Value for GSM681989: PBMC_normal_training_8; src: PBMCs from patients with normal mammogram\\\n",
    "#GSM681990 = Value for GSM681990: PBMC_normal_training_9; src: PBMCs from patients with normal mammogram\\\n",
    "#GSM681991 = Value for GSM681991: PBMC_normal_training_10; src: PBMCs from patients with normal mammogram\\\n",
    "#GSM682034 = Value for GSM682034: PBMC_normal_validation_1; src: PBMCs from patients with normal mammogram\\\n",
    "#GSM682035 = Value for GSM682035: PBMC_normal_validation_2; src: PBMCs from patients with normal mammogram\\\n",
    "#GSM682036 = Value for GSM682036: PBMC_normal_validation_3; src: PBMCs from patients with normal mammogram\\\n",
    "#GSM682037 = Value for GSM682037: PBMC_normal_validation_4; src: PBMCs from patients with normal mammogram\\\n",
    "#GSM682038 = Value for GSM682038: PBMC_normal_validation_5; src: PBMCs from patients with normal mammogram\\\n",
    "#GSM682039 = Value for GSM682039: PBMC_normal_validation_6; src: PBMCs from patients with normal mammogram\\\n",
    "#GSM682040 = Value for GSM682040: PBMC_normal_validation_7; src: PBMCs from patients with normal mammogram\\\n",
    "#GSM682041 = Value for GSM682041: PBMC_normal_validation_8; src: PBMCs from patients with normal mammogram\\\n",
    "#GSM682042 = Value for GSM682042: PBMC_normal_validation_9; src: PBMCs from patients with normal mammogram\\\n",
    "#GSM682043 = Value for GSM682043: PBMC_normal_validation_10; src: PBMCs from patients with normal mammogram\\\n",
    "#GSM682044 = Value for GSM682044: PBMC_normal_validation_11; src: PBMCs from patients with normal mammogram\\\n",
    "#GSM682045 = Value for GSM682045: PBMC_normal_validation_12; src: PBMCs from patients with normal mammogram\\\n",
    "#GSM682046 = Value for GSM682046: PBMC_normal_validation_13; src: PBMCs from patients with normal mammogram\\\n",
    "#GSM682047 = Value for GSM682047: PBMC_normal_validation_14; src: PBMCs from patients with normal mammogram\\\n",
    "#GSM682048 = Value for GSM682048: PBMC_normal_validation_15; src: PBMCs from patients with normal mammogram\\\n",
    "#GSM682049 = Value for GSM682049: PBMC_normal_validation_16; src: PBMCs from patients with normal mammogram\\\n",
    "#GSM682050 = Value for GSM682050: PBMC_normal_validation_17; src: PBMCs from patients with normal mammogram\\\n",
    "#GSM682051 = Value for GSM682051: PBMC_normal_validation_18; src: PBMCs from patients with normal mammogram\\\n",
    "#GSM682052 = Value for GSM682052: PBMC_normal_validation_19; src: PBMCs from patients with normal mammogram\\\n",
    "#GSM682053 = Value for GSM682053: PBMC_normal_validation_20; src: PBMCs from patients with normal mammogram\\\n",
    "#GSM682054 = Value for GSM682054: PBMC_normal_validation_21; src: PBMCs from patients with normal mammogram'"
   ]
  },
  {
   "cell_type": "code",
   "execution_count": 8,
   "metadata": {},
   "outputs": [],
   "source": [
    "clean = lambda string: string.replace(':', '').split()\n",
    "predicate = lambda word: word.startswith('GSM')\n",
    "\n",
    "healthy = set(filter(predicate, clean(healthy_raw)))\n",
    "unhealthy = set(filter(predicate, clean(unhealthy_raw)))"
   ]
  },
  {
   "cell_type": "code",
   "execution_count": 9,
   "metadata": {},
   "outputs": [
    {
     "name": "stdout",
     "output_type": "stream",
     "text": [
      "31 57\n"
     ]
    }
   ],
   "source": [
    "print(len(healthy), len(unhealthy))"
   ]
  },
  {
   "cell_type": "code",
   "execution_count": 10,
   "metadata": {},
   "outputs": [
    {
     "data": {
      "text/plain": [
       "set()"
      ]
     },
     "execution_count": 10,
     "metadata": {},
     "output_type": "execute_result"
    }
   ],
   "source": [
    "healthy & unhealthy"
   ]
  },
  {
   "cell_type": "code",
   "execution_count": 11,
   "metadata": {},
   "outputs": [
    {
     "data": {
      "text/html": [
       "<div>\n",
       "<style scoped>\n",
       "    .dataframe tbody tr th:only-of-type {\n",
       "        vertical-align: middle;\n",
       "    }\n",
       "\n",
       "    .dataframe tbody tr th {\n",
       "        vertical-align: top;\n",
       "    }\n",
       "\n",
       "    .dataframe thead th {\n",
       "        text-align: right;\n",
       "    }\n",
       "</style>\n",
       "<table border=\"1\" class=\"dataframe\">\n",
       "  <thead>\n",
       "    <tr style=\"text-align: right;\">\n",
       "      <th></th>\n",
       "      <th>ID_REF</th>\n",
       "      <th>IDENTIFIER</th>\n",
       "      <th>GSM682002</th>\n",
       "      <th>GSM682003</th>\n",
       "      <th>GSM682004</th>\n",
       "    </tr>\n",
       "  </thead>\n",
       "  <tbody>\n",
       "    <tr>\n",
       "      <th>0</th>\n",
       "      <td>1007_s_at</td>\n",
       "      <td>MIR4640</td>\n",
       "      <td>5.66</td>\n",
       "      <td>5.43</td>\n",
       "      <td>5.88</td>\n",
       "    </tr>\n",
       "    <tr>\n",
       "      <th>1</th>\n",
       "      <td>1053_at</td>\n",
       "      <td>RFC2</td>\n",
       "      <td>7.01</td>\n",
       "      <td>6.37</td>\n",
       "      <td>6.20</td>\n",
       "    </tr>\n",
       "    <tr>\n",
       "      <th>2</th>\n",
       "      <td>117_at</td>\n",
       "      <td>HSPA6</td>\n",
       "      <td>6.13</td>\n",
       "      <td>6.51</td>\n",
       "      <td>6.41</td>\n",
       "    </tr>\n",
       "    <tr>\n",
       "      <th>3</th>\n",
       "      <td>121_at</td>\n",
       "      <td>PAX8</td>\n",
       "      <td>6.79</td>\n",
       "      <td>6.93</td>\n",
       "      <td>6.40</td>\n",
       "    </tr>\n",
       "    <tr>\n",
       "      <th>4</th>\n",
       "      <td>1255_g_at</td>\n",
       "      <td>GUCA1A</td>\n",
       "      <td>2.11</td>\n",
       "      <td>2.11</td>\n",
       "      <td>2.07</td>\n",
       "    </tr>\n",
       "  </tbody>\n",
       "</table>\n",
       "</div>"
      ],
      "text/plain": [
       "      ID_REF IDENTIFIER  GSM682002  GSM682003  GSM682004\n",
       "0  1007_s_at    MIR4640       5.66       5.43       5.88\n",
       "1    1053_at       RFC2       7.01       6.37       6.20\n",
       "2     117_at      HSPA6       6.13       6.51       6.41\n",
       "3     121_at       PAX8       6.79       6.93       6.40\n",
       "4  1255_g_at     GUCA1A       2.11       2.11       2.07"
      ]
     },
     "execution_count": 11,
     "metadata": {},
     "output_type": "execute_result"
    }
   ],
   "source": [
    "breast_cancer_dataset[breast_cancer_dataset.columns[:5]].head()"
   ]
  },
  {
   "cell_type": "code",
   "execution_count": 12,
   "metadata": {},
   "outputs": [],
   "source": [
    "labels_ = [(h, 'healthy') for h in healthy] + [(d, 'unhealthy') for d in unhealthy]"
   ]
  },
  {
   "cell_type": "code",
   "execution_count": 13,
   "metadata": {
    "scrolled": true
   },
   "outputs": [
    {
     "name": "stderr",
     "output_type": "stream",
     "text": [
      "05-Jan-2018 15:41:19 INFO GEOparse - File already exist: using local version.\n",
      "05-Jan-2018 15:41:19 INFO GEOparse - Parsing ./GDS3952.soft.gz: \n",
      "05-Jan-2018 15:41:19 DEBUG GEOparse - DATABASE: Geo\n",
      "05-Jan-2018 15:41:19 DEBUG GEOparse - DATASET: GDS3952\n",
      "05-Jan-2018 15:41:19 DEBUG GEOparse - SUBSET: GDS3952_1\n",
      "05-Jan-2018 15:41:19 DEBUG GEOparse - SUBSET: GDS3952_2\n",
      "05-Jan-2018 15:41:19 DEBUG GEOparse - SUBSET: GDS3952_3\n",
      "05-Jan-2018 15:41:19 DEBUG GEOparse - SUBSET: GDS3952_4\n",
      "05-Jan-2018 15:41:19 DEBUG GEOparse - SUBSET: GDS3952_5\n",
      "05-Jan-2018 15:41:19 DEBUG GEOparse - SUBSET: GDS3952_6\n",
      "05-Jan-2018 15:41:19 DEBUG GEOparse - SUBSET: GDS3952_7\n",
      "05-Jan-2018 15:41:19 DEBUG GEOparse - SUBSET: GDS3952_8\n",
      "05-Jan-2018 15:41:19 DEBUG GEOparse - DATASET: GDS3952\n",
      "/home/abdu/Desktop/virtualenv/GERA/lib/python3.5/site-packages/GEOparse/GEOparse.py:330 \u001b[1;31mFutureWarning\u001b[0m: from_csv is deprecated. Please use read_csv(...) instead. Note that some of the default arguments are different, so please refer to the documentation for from_csv when changing your function calls\n"
     ]
    },
    {
     "name": "stdout",
     "output_type": "stream",
     "text": [
      "GSM682076 added with length 19266\n",
      "GSM682056 added with length 19266\n",
      "GSM682092 added with length 19266\n",
      "GSM682036 added with length 19266\n",
      "GSM682088 added with length 19266\n",
      "GSM682074 added with length 19266\n",
      "GSM682090 added with length 19266\n",
      "GSM682061 added with length 19266\n",
      "GSM682052 added with length 19266\n",
      "GSM682042 added with length 19266\n",
      "GSM682058 added with length 19266\n",
      "GSM682043 added with length 19266\n",
      "GSM682059 added with length 19266\n",
      "GSM682046 added with length 19266\n",
      "GSM681999 added with length 19266\n",
      "GSM682079 added with length 19266\n",
      "GSM681992 added with length 19266\n",
      "GSM681983 added with length 19266\n",
      "GSM682087 added with length 19266\n",
      "GSM681998 added with length 19266\n",
      "GSM682037 added with length 19266\n",
      "GSM682054 added with length 19266\n",
      "GSM682089 added with length 19266\n",
      "GSM682041 added with length 19266\n",
      "GSM682045 added with length 19266\n",
      "GSM682127 added with length 19266\n",
      "GSM682080 added with length 19266\n",
      "GSM682051 added with length 19266\n",
      "GSM681982 added with length 19266\n",
      "GSM682053 added with length 19266\n",
      "GSM682094 added with length 19266\n",
      "GSM682082 added with length 19266\n",
      "GSM681990 added with length 19266\n",
      "GSM681984 added with length 19266\n",
      "GSM681996 added with length 19266\n",
      "GSM682001 added with length 19266\n",
      "GSM682084 added with length 19266\n",
      "GSM681987 added with length 19266\n",
      "GSM682075 added with length 19266\n",
      "GSM682047 added with length 19266\n",
      "GSM682034 added with length 19266\n",
      "GSM682060 added with length 19266\n",
      "GSM681989 added with length 19266\n",
      "GSM682073 added with length 19266\n",
      "GSM682085 added with length 19266\n",
      "GSM682064 added with length 19266\n",
      "GSM682044 added with length 19266\n",
      "GSM681991 added with length 19266\n",
      "GSM682081 added with length 19266\n",
      "GSM682077 added with length 19266\n",
      "GSM682123 added with length 19266\n",
      "GSM682124 added with length 19266\n",
      "GSM682038 added with length 19266\n",
      "GSM681997 added with length 19266\n",
      "GSM681994 added with length 19266\n",
      "GSM682069 added with length 19266\n",
      "GSM682068 added with length 19266\n",
      "GSM682039 added with length 19266\n",
      "GSM682093 added with length 19266\n",
      "GSM681986 added with length 19266\n",
      "GSM682126 added with length 19266\n",
      "GSM682063 added with length 19266\n",
      "GSM682050 added with length 19266\n",
      "GSM682078 added with length 19266\n",
      "GSM682055 added with length 19266\n",
      "GSM682083 added with length 19266\n",
      "GSM681995 added with length 19266\n",
      "GSM682128 added with length 19266\n",
      "GSM682048 added with length 19266\n",
      "GSM682057 added with length 19266\n",
      "GSM682040 added with length 19266\n",
      "GSM682066 added with length 19266\n",
      "GSM682072 added with length 19266\n",
      "GSM682070 added with length 19266\n",
      "GSM682086 added with length 19266\n",
      "GSM682071 added with length 19266\n",
      "GSM682049 added with length 19266\n",
      "GSM682000 added with length 19266\n",
      "GSM682095 added with length 19266\n",
      "GSM682035 added with length 19266\n",
      "GSM681985 added with length 19266\n",
      "GSM682065 added with length 19266\n",
      "GSM682062 added with length 19266\n",
      "GSM682125 added with length 19266\n",
      "GSM682091 added with length 19266\n",
      "GSM682067 added with length 19266\n",
      "GSM681988 added with length 19266\n",
      "GSM681993 added with length 19266\n"
     ]
    }
   ],
   "source": [
    "X, y = parse_database('GDS3952', labels=dict(labels_))"
   ]
  },
  {
   "cell_type": "code",
   "execution_count": 14,
   "metadata": {},
   "outputs": [],
   "source": [
    "# pickle.dump(X, open(\"datasets/breast_cancer2_X\",\"wb\"))\n",
    "# pickle.dump(y, open(\"datasets/breast_cancer2_y\",\"wb\"))"
   ]
  },
  {
   "cell_type": "markdown",
   "metadata": {},
   "source": [
    "## Loading the data and running the model"
   ]
  },
  {
   "cell_type": "code",
   "execution_count": 2,
   "metadata": {},
   "outputs": [],
   "source": [
    "X = pickle.load(open(\"datasets/breast_cancer2_X\",\"rb\"))\n",
    "y = pickle.load(open(\"datasets/breast_cancer2_y\",\"rb\"))"
   ]
  },
  {
   "cell_type": "code",
   "execution_count": 4,
   "metadata": {},
   "outputs": [],
   "source": [
    "genobolitics_transformer = MetaboliticsTransformer()\n",
    "genobolitics_transformer.analyzer = Genobolitics(\"recon2\")\n",
    "\n",
    "pipeline = Pipeline([('scaling', FoldChangeScaler(reference_label='healthy')),\n",
    "                     ('LP_FVA', genobolitics_transformer)])\n",
    "\n",
    "results = pipeline.fit_transform(X, y)\n",
    "\n",
    "pickle.dump(results, open(\"results/breast_cancer2.results\", \"wb\"))"
   ]
  }
 ],
 "metadata": {
  "kernelspec": {
   "display_name": "Python 3",
   "language": "python",
   "name": "python3"
  },
  "language_info": {
   "codemirror_mode": {
    "name": "ipython",
    "version": 3
   },
   "file_extension": ".py",
   "mimetype": "text/x-python",
   "name": "python",
   "nbconvert_exporter": "python",
   "pygments_lexer": "ipython3",
   "version": "3.5.2"
  }
 },
 "nbformat": 4,
 "nbformat_minor": 2
}
