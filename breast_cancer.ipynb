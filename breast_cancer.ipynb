{
 "cells": [
  {
   "cell_type": "code",
   "execution_count": 2,
   "metadata": {},
   "outputs": [],
   "source": [
    "import numpy as np\n",
    "from sklearn.pipeline import Pipeline\n",
    "\n",
    "import GEOparse\n",
    "from Genobolitics import *\n",
    "from sklearn_utils.preprocessing import FoldChangeScaler\n",
    "from metabolitics.preprocessing import MetaboliticsTransformer, MetaboliticsPipeline\n",
    "\n",
    "import pickle"
   ]
  },
  {
   "cell_type": "code",
   "execution_count": 3,
   "metadata": {},
   "outputs": [
    {
     "data": {
      "text/plain": [
       "['',\n",
       " '/home/abdu/Desktop/virtualenv/GERA/lib/python35.zip',\n",
       " '/home/abdu/Desktop/virtualenv/GERA/lib/python3.5',\n",
       " '/home/abdu/Desktop/virtualenv/GERA/lib/python3.5/plat-x86_64-linux-gnu',\n",
       " '/home/abdu/Desktop/virtualenv/GERA/lib/python3.5/lib-dynload',\n",
       " '/usr/lib/python3.5',\n",
       " '/usr/lib/python3.5/plat-x86_64-linux-gnu',\n",
       " '/home/abdu/Desktop/virtualenv/GERA/lib/python3.5/site-packages',\n",
       " '/home/abdu/Desktop/virtualenv/GERA/lib/python3.5/site-packages/IPython/extensions',\n",
       " '/home/abdu/.ipython']"
      ]
     },
     "execution_count": 3,
     "metadata": {},
     "output_type": "execute_result"
    }
   ],
   "source": [
    "import sys, cplex\n",
    "\n",
    "sys.path"
   ]
  },
  {
   "cell_type": "code",
   "execution_count": 5,
   "metadata": {},
   "outputs": [
    {
     "name": "stderr",
     "output_type": "stream",
     "text": [
      "05-Jan-2018 11:51:12 INFO GEOparse - File already exist: using local version.\n",
      "05-Jan-2018 11:51:12 INFO GEOparse - Parsing ./GDS5819.soft.gz: \n",
      "05-Jan-2018 11:51:12 DEBUG GEOparse - DATABASE: Geo\n",
      "05-Jan-2018 11:51:12 DEBUG GEOparse - DATASET: GDS5819\n",
      "05-Jan-2018 11:51:12 DEBUG GEOparse - SUBSET: GDS5819_1\n",
      "05-Jan-2018 11:51:12 DEBUG GEOparse - SUBSET: GDS5819_2\n",
      "05-Jan-2018 11:51:12 DEBUG GEOparse - SUBSET: GDS5819_3\n",
      "05-Jan-2018 11:51:12 DEBUG GEOparse - SUBSET: GDS5819_4\n",
      "05-Jan-2018 11:51:12 DEBUG GEOparse - DATASET: GDS5819\n",
      "/home/abdu/Desktop/virtualenv/GERA/lib/python3.5/site-packages/GEOparse/GEOparse.py:330 \u001b[1;31mFutureWarning\u001b[0m: from_csv is deprecated. Please use read_csv(...) instead. Note that some of the default arguments are different, so please refer to the documentation for from_csv when changing your function calls\n"
     ]
    }
   ],
   "source": [
    "breast_cancer_dataset = GEOparse.get_GEO('GDS5819').table"
   ]
  },
  {
   "cell_type": "code",
   "execution_count": 6,
   "metadata": {},
   "outputs": [],
   "source": [
    "unhealthy_raw='\\\n",
    "#GSM1599177 = Value for GSM1599177: Primary human monocytes from patient with metastatic breast cancer #1; src: Primary human monocytes\\\n",
    "#GSM1599178 = Value for GSM1599178: Primary human monocytes from patient with metastatic breast cancer #2; src: Primary human monocytes\\\n",
    "#GSM1599179 = Value for GSM1599179: Primary human monocytes from patient with metastatic breast cancer #3; src: Primary human monocytes\\\n",
    "#GSM1599180 = Value for GSM1599180: Primary human monocytes from patient with metastatic breast cancer #4; src: Primary human monocytes'"
   ]
  },
  {
   "cell_type": "code",
   "execution_count": 7,
   "metadata": {},
   "outputs": [],
   "source": [
    "healthy_raw='\\\n",
    "#GSM1599181 = Value for GSM1599181: Primary human monocytes from healthy control #1; src: Primary human monocytes\\\n",
    "#GSM1599182 = Value for GSM1599182: Primary human monocytes from healthy control #2; src: Primary human monocytes\\\n",
    "#GSM1599183 = Value for GSM1599183: Primary human monocytes from healthy control #3; src: Primary human monocytes'"
   ]
  },
  {
   "cell_type": "code",
   "execution_count": 8,
   "metadata": {},
   "outputs": [],
   "source": [
    "clean = lambda string: string.replace(':', '').split()\n",
    "predicate = lambda word: word.startswith('GSM')\n",
    "\n",
    "healthy = set(filter(predicate, clean(healthy_raw)))\n",
    "unhealthy = set(filter(predicate, clean(unhealthy_raw)))"
   ]
  },
  {
   "cell_type": "code",
   "execution_count": 9,
   "metadata": {},
   "outputs": [
    {
     "name": "stdout",
     "output_type": "stream",
     "text": [
      "3 4\n"
     ]
    }
   ],
   "source": [
    "print(len(healthy), len(unhealthy))"
   ]
  },
  {
   "cell_type": "code",
   "execution_count": 10,
   "metadata": {},
   "outputs": [
    {
     "data": {
      "text/plain": [
       "set()"
      ]
     },
     "execution_count": 10,
     "metadata": {},
     "output_type": "execute_result"
    }
   ],
   "source": [
    "healthy & unhealthy"
   ]
  },
  {
   "cell_type": "code",
   "execution_count": 8,
   "metadata": {},
   "outputs": [
    {
     "data": {
      "text/html": [
       "<div>\n",
       "<style scoped>\n",
       "    .dataframe tbody tr th:only-of-type {\n",
       "        vertical-align: middle;\n",
       "    }\n",
       "\n",
       "    .dataframe tbody tr th {\n",
       "        vertical-align: top;\n",
       "    }\n",
       "\n",
       "    .dataframe thead th {\n",
       "        text-align: right;\n",
       "    }\n",
       "</style>\n",
       "<table border=\"1\" class=\"dataframe\">\n",
       "  <thead>\n",
       "    <tr style=\"text-align: right;\">\n",
       "      <th></th>\n",
       "      <th>ID_REF</th>\n",
       "      <th>IDENTIFIER</th>\n",
       "      <th>GSM1599177</th>\n",
       "      <th>GSM1599178</th>\n",
       "      <th>GSM1599179</th>\n",
       "    </tr>\n",
       "  </thead>\n",
       "  <tbody>\n",
       "    <tr>\n",
       "      <th>0</th>\n",
       "      <td>ILMN_1343048</td>\n",
       "      <td>ILMN_1343048</td>\n",
       "      <td>NaN</td>\n",
       "      <td>NaN</td>\n",
       "      <td>NaN</td>\n",
       "    </tr>\n",
       "    <tr>\n",
       "      <th>1</th>\n",
       "      <td>ILMN_1343049</td>\n",
       "      <td>ILMN_1343049</td>\n",
       "      <td>NaN</td>\n",
       "      <td>NaN</td>\n",
       "      <td>NaN</td>\n",
       "    </tr>\n",
       "    <tr>\n",
       "      <th>2</th>\n",
       "      <td>ILMN_1343050</td>\n",
       "      <td>ILMN_1343050</td>\n",
       "      <td>NaN</td>\n",
       "      <td>NaN</td>\n",
       "      <td>NaN</td>\n",
       "    </tr>\n",
       "    <tr>\n",
       "      <th>3</th>\n",
       "      <td>ILMN_1343052</td>\n",
       "      <td>ILMN_1343052</td>\n",
       "      <td>NaN</td>\n",
       "      <td>NaN</td>\n",
       "      <td>NaN</td>\n",
       "    </tr>\n",
       "    <tr>\n",
       "      <th>4</th>\n",
       "      <td>ILMN_1343059</td>\n",
       "      <td>ILMN_1343059</td>\n",
       "      <td>NaN</td>\n",
       "      <td>NaN</td>\n",
       "      <td>NaN</td>\n",
       "    </tr>\n",
       "  </tbody>\n",
       "</table>\n",
       "</div>"
      ],
      "text/plain": [
       "         ID_REF    IDENTIFIER  GSM1599177  GSM1599178  GSM1599179\n",
       "0  ILMN_1343048  ILMN_1343048         NaN         NaN         NaN\n",
       "1  ILMN_1343049  ILMN_1343049         NaN         NaN         NaN\n",
       "2  ILMN_1343050  ILMN_1343050         NaN         NaN         NaN\n",
       "3  ILMN_1343052  ILMN_1343052         NaN         NaN         NaN\n",
       "4  ILMN_1343059  ILMN_1343059         NaN         NaN         NaN"
      ]
     },
     "execution_count": 8,
     "metadata": {},
     "output_type": "execute_result"
    }
   ],
   "source": [
    "breast_cancer_dataset[breast_cancer_dataset.columns[:5]].head()"
   ]
  },
  {
   "cell_type": "code",
   "execution_count": 9,
   "metadata": {},
   "outputs": [],
   "source": [
    "labels_ = [(h, 'healthy') for h in healthy] + [(d, 'unhealthy') for d in unhealthy]"
   ]
  },
  {
   "cell_type": "code",
   "execution_count": 10,
   "metadata": {
    "scrolled": true
   },
   "outputs": [
    {
     "name": "stderr",
     "output_type": "stream",
     "text": [
      "04-Jan-2018 23:50:32 INFO GEOparse - File already exist: using local version.\n",
      "04-Jan-2018 23:50:32 INFO GEOparse - Parsing ./GDS5819.soft.gz: \n",
      "04-Jan-2018 23:50:32 DEBUG GEOparse - DATABASE: Geo\n",
      "04-Jan-2018 23:50:32 DEBUG GEOparse - DATASET: GDS5819\n",
      "04-Jan-2018 23:50:32 DEBUG GEOparse - SUBSET: GDS5819_1\n",
      "04-Jan-2018 23:50:32 DEBUG GEOparse - SUBSET: GDS5819_2\n",
      "04-Jan-2018 23:50:32 DEBUG GEOparse - SUBSET: GDS5819_3\n",
      "04-Jan-2018 23:50:32 DEBUG GEOparse - SUBSET: GDS5819_4\n",
      "04-Jan-2018 23:50:32 DEBUG GEOparse - DATASET: GDS5819\n",
      "/usr/local/lib/python3.5/dist-packages/GEOparse/GEOparse.py:330 \u001b[1;31mFutureWarning\u001b[0m: from_csv is deprecated. Please use read_csv(...) instead. Note that some of the default arguments are different, so please refer to the documentation for from_csv when changing your function calls\n"
     ]
    },
    {
     "name": "stdout",
     "output_type": "stream",
     "text": [
      "GSM1599180 added with length 9745\n",
      "GSM1599182 added with length 9745\n",
      "GSM1599177 added with length 9745\n",
      "GSM1599179 added with length 9745\n",
      "GSM1599178 added with length 9745\n",
      "GSM1599183 added with length 9745\n",
      "GSM1599181 added with length 9745\n"
     ]
    }
   ],
   "source": [
    "X, y = parse_database('GDS5819', labels=dict(labels_))"
   ]
  },
  {
   "cell_type": "code",
   "execution_count": 11,
   "metadata": {},
   "outputs": [],
   "source": [
    "pickle.dump(X, open(\"datasets/breast_cancer_X\",\"wb\"))\n",
    "pickle.dump(y, open(\"datasets/breast_cancer_y\",\"wb\"))"
   ]
  },
  {
   "cell_type": "code",
   "execution_count": 5,
   "metadata": {},
   "outputs": [],
   "source": [
    "X = pickle.load(open(\"datasets/breast_cancer_X\",\"rb\"))\n",
    "y = pickle.load(open(\"datasets/breast_cancer_y\",\"rb\"))"
   ]
  },
  {
   "cell_type": "code",
   "execution_count": null,
   "metadata": {},
   "outputs": [
    {
     "name": "stderr",
     "output_type": "stream",
     "text": [
      "/home/abdu/Desktop/GERA/Genobolitics.py:36 \u001b[1;31mUserWarning\u001b[0m: some reaction genes fold changes were not found, reaction is discarded!\n",
      "/home/abdu/Desktop/GERA/Genobolitics.py:36 \u001b[1;31mUserWarning\u001b[0m: some reaction genes fold changes were not found, reaction is discarded!\n",
      "/home/abdu/Desktop/GERA/Genobolitics.py:36 \u001b[1;31mUserWarning\u001b[0m: some reaction genes fold changes were not found, reaction is discarded!\n",
      "/home/abdu/Desktop/GERA/Genobolitics.py:36 \u001b[1;31mUserWarning\u001b[0m: some reaction genes fold changes were not found, reaction is discarded!\n",
      "/home/abdu/Desktop/GERA/Genobolitics.py:36 \u001b[1;31mUserWarning\u001b[0m: some reaction genes fold changes were not found, reaction is discarded!\n",
      "/home/abdu/Desktop/GERA/Genobolitics.py:36 \u001b[1;31mUserWarning\u001b[0m: some reaction genes fold changes were not found, reaction is discarded!\n",
      "/home/abdu/Desktop/GERA/Genobolitics.py:36 \u001b[1;31mUserWarning\u001b[0m: some reaction genes fold changes were not found, reaction is discarded!\n"
     ]
    }
   ],
   "source": [
    "genobolitics_transformer = MetaboliticsTransformer()\n",
    "genobolitics_transformer.analyzer = Genobolitics(\"recon2\")\n",
    "\n",
    "pipeline = Pipeline([('scaling', FoldChangeScaler(reference_label='healthy')),\n",
    "                     ('LP_FVA', genobolitics_transformer)])\n",
    "\n",
    "results = pipeline.fit_transform(X, y)\n",
    "\n",
    "pickle.dump(results, open(\"breast_cancer.results\", \"wb\"))"
   ]
  }
 ],
 "metadata": {
  "kernelspec": {
   "display_name": "Python 3",
   "language": "python",
   "name": "python3"
  },
  "language_info": {
   "codemirror_mode": {
    "name": "ipython",
    "version": 3
   },
   "file_extension": ".py",
   "mimetype": "text/x-python",
   "name": "python",
   "nbconvert_exporter": "python",
   "pygments_lexer": "ipython3",
   "version": "3.5.2"
  }
 },
 "nbformat": 4,
 "nbformat_minor": 2
}
